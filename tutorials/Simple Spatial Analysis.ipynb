{
 "cells": [
  {
   "cell_type": "code",
   "execution_count": null,
   "id": "3cd172d3",
   "metadata": {},
   "outputs": [],
   "source": [
    "\"\"\"\n",
    "Created on Mon May 16 19:00:32 2022\n",
    "@author: Ajit Johnson Nirmal\n",
    "SCIMAP tutorial May 2022\n",
    "\"\"\""
   ]
  },
  {
   "cell_type": "code",
   "execution_count": null,
   "id": "7a1c1cc4",
   "metadata": {},
   "outputs": [],
   "source": [
    "# load packages\n",
    "import scimap as sm\n",
    "import scanpy as sc\n",
    "import pandas as pd\n",
    "import anndata as ad"
   ]
  },
  {
   "cell_type": "code",
   "execution_count": null,
   "id": "e2f30407",
   "metadata": {},
   "outputs": [],
   "source": [
    "#common_path = \"/Users/aj/Dropbox (Partners HealthCare)/conferences/scimap_tutorial/may_2022_tutorial/\"\n",
    "common_path = \"C:/Users/ajn16/Dropbox (Partners HealthCare)/conferences/scimap_tutorial/may_2022_tutorial/\""
   ]
  },
  {
   "cell_type": "code",
   "execution_count": null,
   "id": "ecd0fb93",
   "metadata": {},
   "outputs": [],
   "source": [
    "# load data\n",
    "#adata = sm.pp.mcmicro_to_scimap (image_path= str(common_path) + 'exemplar_001/quantification/unmicst-exemplar-001_cell.csv')\n",
    "#manual_gate = pd.read_csv(str(common_path) + 'manual_gates.csv')\n",
    "#adata = sm.pp.rescale (adata, gate=manual_gate)\n",
    "#phenotype = pd.read_csv(str(common_path) + 'phenotype_workflow.csv')\n",
    "#adata = sm.tl.phenotype_cells (adata, phenotype=phenotype, label=\"phenotype\") \n",
    "# add user defined ROI's before proceeding"
   ]
  },
  {
   "cell_type": "code",
   "execution_count": null,
   "id": "07ff51f6",
   "metadata": {},
   "outputs": [],
   "source": [
    "# load saved anndata object\n",
    "adata = ad.read(str(common_path) + 'may2022_tutorial.h5ad')"
   ]
  },
  {
   "cell_type": "code",
   "execution_count": null,
   "id": "7d29c09d",
   "metadata": {},
   "outputs": [],
   "source": []
  },
  {
   "cell_type": "markdown",
   "id": "70ab53eb",
   "metadata": {},
   "source": [
    "### Calculate distances between cell types"
   ]
  },
  {
   "cell_type": "markdown",
   "id": "254b7397",
   "metadata": {},
   "source": [
    "`sm.tl.spatial_distance`: The function allows users to calculate the average shortest between phenotypes or clusters of interest (3D data supported)."
   ]
  },
  {
   "cell_type": "code",
   "execution_count": null,
   "id": "972d9c83",
   "metadata": {},
   "outputs": [],
   "source": [
    "adata = sm.tl.spatial_distance (adata, \n",
    "                               x_coordinate='X_centroid', y_coordinate='Y_centroid', \n",
    "                               z_coordinate=None, \n",
    "                               phenotype='phenotype', \n",
    "                               subset=None, \n",
    "                               imageid='imageid', \n",
    "                               label='spatial_distance')"
   ]
  },
  {
   "cell_type": "code",
   "execution_count": null,
   "id": "1a560920",
   "metadata": {},
   "outputs": [],
   "source": [
    "adata.uns['spatial_distance']"
   ]
  },
  {
   "cell_type": "code",
   "execution_count": null,
   "id": "19a92100",
   "metadata": {},
   "outputs": [],
   "source": [
    "# summary heatmap\n",
    "plt.rcParams['figure.figsize'] = [3, 1]\n",
    "sm.pl.spatial_distance (adata)"
   ]
  },
  {
   "cell_type": "code",
   "execution_count": null,
   "id": "175c004d",
   "metadata": {},
   "outputs": [],
   "source": [
    "# Heatmap without summarizing the individual images\n",
    "sm.pl.spatial_distance (adata, heatmap_summarize=False)"
   ]
  },
  {
   "cell_type": "code",
   "execution_count": null,
   "id": "f74d5c85",
   "metadata": {},
   "outputs": [],
   "source": [
    "sm.pl.spatial_distance (adata, heatmap_summarize=False, imageid='ROI_individual')"
   ]
  },
  {
   "cell_type": "code",
   "execution_count": null,
   "id": "40e912dd",
   "metadata": {},
   "outputs": [],
   "source": [
    "# Numeric plot of shortest distance of phenotypes \n",
    "# from tumor cells\n",
    "sm.pl.spatial_distance (adata, method='numeric',distance_from='Tumor')"
   ]
  },
  {
   "cell_type": "code",
   "execution_count": null,
   "id": "046bf7e9",
   "metadata": {},
   "outputs": [],
   "source": [
    "# plot for each ROI seperately\n",
    "sm.pl.spatial_distance (adata, method='numeric',distance_from='Tumor', imageid='ROI')"
   ]
  },
  {
   "cell_type": "code",
   "execution_count": null,
   "id": "d9608971",
   "metadata": {},
   "outputs": [],
   "source": [
    "sm.pl.spatial_distance (adata, method='numeric',distance_from='Tumor', imageid='ROI', log=True)"
   ]
  },
  {
   "cell_type": "code",
   "execution_count": null,
   "id": "3eb4b346",
   "metadata": {},
   "outputs": [],
   "source": [
    "# Distribution plot of shortest distance of phenotypes from Tumor cells\n",
    "sm.pl.spatial_distance (adata, method='distribution',distance_from='Tumor',distance_to = 'ASMA+ cells',\n",
    "    imageid='ROI_individual', log=True)"
   ]
  },
  {
   "cell_type": "code",
   "execution_count": null,
   "id": "b1233bba",
   "metadata": {},
   "outputs": [],
   "source": []
  },
  {
   "cell_type": "markdown",
   "id": "43efeb0e",
   "metadata": {},
   "source": [
    "### Spatial co-occurance analysis"
   ]
  },
  {
   "cell_type": "markdown",
   "id": "bf9ea09d",
   "metadata": {},
   "source": [
    "`sm.tl.spatial_interaction`: The function allows users to computes how likely celltypes are found next to each another compared to random background (3D data supported)."
   ]
  },
  {
   "cell_type": "code",
   "execution_count": null,
   "id": "d55298b5",
   "metadata": {},
   "outputs": [],
   "source": [
    "# Using the radius method to identify local neighbours compute P-values\n",
    "adata = sm.tl.spatial_interaction (adata, \n",
    "                                  method='radius', \n",
    "                                  radius=30, \n",
    "                                  label='spatial_interaction_radius')"
   ]
  },
  {
   "cell_type": "code",
   "execution_count": null,
   "id": "cd3035ee",
   "metadata": {},
   "outputs": [],
   "source": [
    "# Using the KNN method to identify local neighbours \n",
    "adata = sm.tl.spatial_interaction(adata, \n",
    "                                  method='knn', \n",
    "                                  knn=10, \n",
    "                                  label='spatial_interaction_knn')"
   ]
  },
  {
   "cell_type": "code",
   "execution_count": null,
   "id": "bf2605f3",
   "metadata": {},
   "outputs": [],
   "source": [
    "# view results\n",
    "# spatial_interaction heatmap for a single image\n",
    "sm.pl.spatial_interaction(adata, \n",
    "                          summarize_plot=True, \n",
    "                          spatial_interaction='spatial_interaction_radius',\n",
    "                          row_cluster=True, linewidths=0.75, linecolor='black')\n"
   ]
  },
  {
   "cell_type": "code",
   "execution_count": null,
   "id": "a7142f29",
   "metadata": {},
   "outputs": [],
   "source": [
    "# spatial_interaction heatmap for a single image\n",
    "sm.pl.spatial_interaction(adata, \n",
    "                          summarize_plot=True, \n",
    "                          spatial_interaction='spatial_interaction_knn',\n",
    "                          row_cluster=True, linewidths=0.75, linecolor='black')"
   ]
  },
  {
   "cell_type": "code",
   "execution_count": null,
   "id": "fab97ef6",
   "metadata": {},
   "outputs": [],
   "source": [
    "# Pass the ROI's as different images\n",
    "adata = sm.tl.spatial_interaction(adata, \n",
    "                                  method='radius', \n",
    "                                  imageid = 'ROI_individual',\n",
    "                                  radius=30, \n",
    "                                  label='spatial_interaction_radius_roi')"
   ]
  },
  {
   "cell_type": "code",
   "execution_count": null,
   "id": "50d5dcf2",
   "metadata": {},
   "outputs": [],
   "source": [
    "# spatial_interaction heatmap\n",
    "sm.pl.spatial_interaction(adata, \n",
    "                          summarize_plot=True, \n",
    "                          spatial_interaction='spatial_interaction_radius_roi',\n",
    "                          row_cluster=True, linewidths=0.75, linecolor='black')"
   ]
  },
  {
   "cell_type": "code",
   "execution_count": null,
   "id": "1d230133",
   "metadata": {},
   "outputs": [],
   "source": [
    "# spatial_interaction heatmap\n",
    "sm.pl.spatial_interaction(adata, \n",
    "                          summarize_plot=False, \n",
    "                          spatial_interaction='spatial_interaction_radius_roi',\n",
    "                          yticklabels=True,\n",
    "                          row_cluster=True, linewidths=0.75, linecolor='black')"
   ]
  },
  {
   "cell_type": "code",
   "execution_count": null,
   "id": "47d5cb9e",
   "metadata": {},
   "outputs": [],
   "source": []
  },
  {
   "cell_type": "markdown",
   "id": "8e0cb28b",
   "metadata": {},
   "source": [
    "### Quantifying the proximity score"
   ]
  },
  {
   "cell_type": "markdown",
   "id": "665ba18e",
   "metadata": {},
   "source": [
    "`sm.tl.spatial_pscore`: A scoring system to evaluate user defined proximity between cell types.  \n",
    "\n",
    "The function generates two scores and saved at adata.uns:  \n",
    "- Proximity Density: Total number of interactions identified divided by the total number of cells of the cell-types that were used for interaction analysis.  \n",
    "- Proximity Volume: Total number of interactions identified divided by the total number of all cells in the data.\n",
    "The interaction sites are also recorded and saved in adata.obs"
   ]
  },
  {
   "cell_type": "code",
   "execution_count": null,
   "id": "3e871ebc",
   "metadata": {},
   "outputs": [],
   "source": [
    "# Calculate the score for proximity between `Tumor CD30+` cells and `M2 Macrophages`\n",
    "adata =  sm.tl.spatial_pscore (adata,proximity= ['Tumor', 'NK cells'],\n",
    "                               score_by = 'ROI_individual',\n",
    "                               phenotype='phenotype',\n",
    "                               method='radius',\n",
    "                               radius=20,\n",
    "                               subset=None, \n",
    "                               label='spatial_pscore')"
   ]
  },
  {
   "cell_type": "code",
   "execution_count": null,
   "id": "ce247aed",
   "metadata": {},
   "outputs": [],
   "source": [
    "# Plot only `Proximity Volume` scores\n",
    "plt.figure(figsize=(10, 5))\n",
    "sm.pl.spatial_pscore (adata, color='Black', plot_score='Proximity Volume')"
   ]
  },
  {
   "cell_type": "code",
   "execution_count": null,
   "id": "c0a1458d",
   "metadata": {},
   "outputs": [],
   "source": [
    "# Plot only `Proximity Density` scores\n",
    "plt.figure(figsize=(10, 5))\n",
    "sm.pl.spatial_pscore (adata, color='Black', plot_score='Proximity Density')"
   ]
  },
  {
   "cell_type": "code",
   "execution_count": null,
   "id": "868b046d",
   "metadata": {
    "scrolled": true
   },
   "outputs": [],
   "source": [
    "# voronoi plot\n",
    "plt.rcParams['figure.figsize'] = [15, 10]\n",
    "sm.pl.voronoi(adata, color_by='spatial_pscore', \n",
    "                 voronoi_edge_color = 'black',\n",
    "                 voronoi_line_width = 0.3, \n",
    "                 voronoi_alpha = 0.8, \n",
    "                 size_max=5000,\n",
    "                 overlay_points=None, \n",
    "                 plot_legend=True, \n",
    "                 legend_size=6)"
   ]
  },
  {
   "cell_type": "code",
   "execution_count": null,
   "id": "6ce6b18b",
   "metadata": {},
   "outputs": [],
   "source": [
    "# save adata\n",
    "adata.write(str(common_path) + 'may2022_tutorial.h5ad')"
   ]
  },
  {
   "cell_type": "markdown",
   "id": "332c5439",
   "metadata": {},
   "source": [
    "This concludes this tutorial"
   ]
  }
 ],
 "metadata": {
  "kernelspec": {
   "display_name": "Python 3 (ipykernel)",
   "language": "python",
   "name": "python3"
  },
  "language_info": {
   "codemirror_mode": {
    "name": "ipython",
    "version": 3
   },
   "file_extension": ".py",
   "mimetype": "text/x-python",
   "name": "python",
   "nbconvert_exporter": "python",
   "pygments_lexer": "ipython3",
   "version": "3.8.12"
  }
 },
 "nbformat": 4,
 "nbformat_minor": 5
}
