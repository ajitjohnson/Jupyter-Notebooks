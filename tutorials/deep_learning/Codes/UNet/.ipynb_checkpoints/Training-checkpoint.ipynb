{
 "cells": [
  {
   "cell_type": "markdown",
   "metadata": {},
   "source": [
    "## Loading\n",
    "\n",
    "The first step is to load the libraries and functions we need."
   ]
  },
  {
   "cell_type": "code",
   "execution_count": 1,
   "metadata": {},
   "outputs": [
    {
     "name": "stderr",
     "output_type": "stream",
     "text": [
      "Using TensorFlow backend.\n"
     ]
    }
   ],
   "source": [
    "from utils import training_parameters_interface, training\n",
    "%load_ext tensorboard"
   ]
  },
  {
   "cell_type": "markdown",
   "metadata": {},
   "source": [
    "## Setting parameters\n",
    "\n",
    "The second step is to define all parameters needed for training(s)."
   ]
  },
  {
   "cell_type": "code",
   "execution_count": 2,
   "metadata": {
    "scrolled": false
   },
   "outputs": [
    {
     "name": "stdout",
     "output_type": "stream",
     "text": [
      "\u001b[1mTraining directory\n"
     ]
    },
    {
     "data": {
      "application/vnd.jupyter.widget-view+json": {
       "model_id": "70cc092abb744d9e86a2dd50be7b5ad4",
       "version_major": 2,
       "version_minor": 0
      },
      "text/plain": [
       "FileChooser(path='./datasets', filename='', title='HTML(value='', layout=Layout(display='none'))', show_hidden…"
      ]
     },
     "metadata": {},
     "output_type": "display_data"
    },
    {
     "name": "stdout",
     "output_type": "stream",
     "text": [
      "\u001b[1mValidation directory\n"
     ]
    },
    {
     "data": {
      "application/vnd.jupyter.widget-view+json": {
       "model_id": "5063914d930246a7bebdbdd8253a4687",
       "version_major": 2,
       "version_minor": 0
      },
      "text/plain": [
       "FileChooser(path='./datasets', filename='', title='HTML(value='', layout=Layout(display='none'))', show_hidden…"
      ]
     },
     "metadata": {},
     "output_type": "display_data"
    },
    {
     "name": "stdout",
     "output_type": "stream",
     "text": [
      "\u001b[1mOutput directory\n"
     ]
    },
    {
     "data": {
      "application/vnd.jupyter.widget-view+json": {
       "model_id": "1ac22ab3e5924880bd50e0f4867b630b",
       "version_major": 2,
       "version_minor": 0
      },
      "text/plain": [
       "FileChooser(path='./trainedClassifiers', filename='', title='HTML(value='', layout=Layout(display='none'))', s…"
      ]
     },
     "metadata": {},
     "output_type": "display_data"
    },
    {
     "data": {
      "application/vnd.jupyter.widget-view+json": {
       "model_id": "5d4ea941dd654a4e94910dabab44bd4c",
       "version_major": 2,
       "version_minor": 0
      },
      "text/plain": [
       "HBox(children=(Label(value='Number of channels:', layout=Layout(height='30px', width='180px')), IntText(value=…"
      ]
     },
     "metadata": {},
     "output_type": "display_data"
    },
    {
     "data": {
      "application/vnd.jupyter.widget-view+json": {
       "model_id": "6eb614e64f9643d4a8284944672aa978",
       "version_major": 2,
       "version_minor": 0
      },
      "text/plain": [
       "HBox(children=(Label(value='Number of classes:', layout=Layout(height='30px', width='180px')), IntText(value=3…"
      ]
     },
     "metadata": {},
     "output_type": "display_data"
    },
    {
     "data": {
      "application/vnd.jupyter.widget-view+json": {
       "model_id": "b42ed30df4eb4c3997eda5c1a2a7bc49",
       "version_major": 2,
       "version_minor": 0
      },
      "text/plain": [
       "HBox(children=(Label(value='Imaging field in x:', layout=Layout(height='30px', width='180px')), IntText(value=…"
      ]
     },
     "metadata": {},
     "output_type": "display_data"
    },
    {
     "data": {
      "application/vnd.jupyter.widget-view+json": {
       "model_id": "3dbdd38f726b4d3bbe353e76f30982e9",
       "version_major": 2,
       "version_minor": 0
      },
      "text/plain": [
       "HBox(children=(Label(value='Imaging field in y:', layout=Layout(height='30px', width='180px')), IntText(value=…"
      ]
     },
     "metadata": {},
     "output_type": "display_data"
    },
    {
     "data": {
      "application/vnd.jupyter.widget-view+json": {
       "model_id": "1e4e1623dbc34987b2489bebd2dc6acd",
       "version_major": 2,
       "version_minor": 0
      },
      "text/plain": [
       "HBox(children=(Label(value='Learning rate:', layout=Layout(height='30px', width='180px')), FloatText(value=0.0…"
      ]
     },
     "metadata": {},
     "output_type": "display_data"
    },
    {
     "data": {
      "application/vnd.jupyter.widget-view+json": {
       "model_id": "60f73feb15cd4b64a1fccc694cd1d7c3",
       "version_major": 2,
       "version_minor": 0
      },
      "text/plain": [
       "HBox(children=(Label(value='Number of epochs:', layout=Layout(height='30px', width='180px')), IntText(value=10…"
      ]
     },
     "metadata": {},
     "output_type": "display_data"
    },
    {
     "data": {
      "application/vnd.jupyter.widget-view+json": {
       "model_id": "14e58c11e874442ca62c1c22285d0d34",
       "version_major": 2,
       "version_minor": 0
      },
      "text/plain": [
       "HBox(children=(Label(value='Number of augmentations:', layout=Layout(height='30px', width='180px')), IntText(v…"
      ]
     },
     "metadata": {},
     "output_type": "display_data"
    },
    {
     "data": {
      "application/vnd.jupyter.widget-view+json": {
       "model_id": "6907d50869b94d6689a4b7ceafa13021",
       "version_major": 2,
       "version_minor": 0
      },
      "text/plain": [
       "HBox(children=(Label(value='Batch size:', layout=Layout(height='30px', width='180px')), IntText(value=1)))"
      ]
     },
     "metadata": {},
     "output_type": "display_data"
    },
    {
     "data": {
      "application/vnd.jupyter.widget-view+json": {
       "model_id": "abc7c7593d8b40a3993a8fee97a0b4af",
       "version_major": 2,
       "version_minor": 0
      },
      "text/plain": [
       "HBox(children=(Label(value='Ratio of training in validation:', layout=Layout(height='30px', width='180px')), B…"
      ]
     },
     "metadata": {},
     "output_type": "display_data"
    }
   ],
   "source": [
    "nb_trainings = 1\n",
    "\n",
    "parameters = training_parameters_interface(nb_trainings)"
   ]
  },
  {
   "cell_type": "markdown",
   "metadata": {},
   "source": [
    "## Training U-Net\n",
    "\n",
    "Now, the training can start."
   ]
  },
  {
   "cell_type": "code",
   "execution_count": 3,
   "metadata": {
    "scrolled": false
   },
   "outputs": [
    {
     "name": "stdout",
     "output_type": "stream",
     "text": [
      "WARNING:tensorflow:From c:\\users\\ajn16\\.conda\\envs\\deep_learning\\lib\\site-packages\\keras\\backend\\tensorflow_backend.py:74: The name tf.get_default_graph is deprecated. Please use tf.compat.v1.get_default_graph instead.\n",
      "\n",
      "WARNING:tensorflow:From c:\\users\\ajn16\\.conda\\envs\\deep_learning\\lib\\site-packages\\keras\\backend\\tensorflow_backend.py:517: The name tf.placeholder is deprecated. Please use tf.compat.v1.placeholder instead.\n",
      "\n",
      "WARNING:tensorflow:From c:\\users\\ajn16\\.conda\\envs\\deep_learning\\lib\\site-packages\\keras\\backend\\tensorflow_backend.py:4138: The name tf.random_uniform is deprecated. Please use tf.random.uniform instead.\n",
      "\n",
      "WARNING:tensorflow:From c:\\users\\ajn16\\.conda\\envs\\deep_learning\\lib\\site-packages\\keras\\backend\\tensorflow_backend.py:174: The name tf.get_default_session is deprecated. Please use tf.compat.v1.get_default_session instead.\n",
      "\n",
      "WARNING:tensorflow:From c:\\users\\ajn16\\.conda\\envs\\deep_learning\\lib\\site-packages\\keras\\backend\\tensorflow_backend.py:181: The name tf.ConfigProto is deprecated. Please use tf.compat.v1.ConfigProto instead.\n",
      "\n",
      "WARNING:tensorflow:From c:\\users\\ajn16\\.conda\\envs\\deep_learning\\lib\\site-packages\\keras\\backend\\tensorflow_backend.py:1834: The name tf.nn.fused_batch_norm is deprecated. Please use tf.compat.v1.nn.fused_batch_norm instead.\n",
      "\n",
      "WARNING:tensorflow:From c:\\users\\ajn16\\.conda\\envs\\deep_learning\\lib\\site-packages\\keras\\backend\\tensorflow_backend.py:3976: The name tf.nn.max_pool is deprecated. Please use tf.nn.max_pool2d instead.\n",
      "\n",
      "WARNING:tensorflow:From c:\\users\\ajn16\\.conda\\envs\\deep_learning\\lib\\site-packages\\keras\\backend\\tensorflow_backend.py:2018: The name tf.image.resize_nearest_neighbor is deprecated. Please use tf.compat.v1.image.resize_nearest_neighbor instead.\n",
      "\n",
      "3 training images\n",
      "1 validation images\n",
      "WARNING:tensorflow:From c:\\users\\ajn16\\.conda\\envs\\deep_learning\\lib\\site-packages\\keras\\optimizers.py:790: The name tf.train.Optimizer is deprecated. Please use tf.compat.v1.train.Optimizer instead.\n",
      "\n",
      "WARNING:tensorflow:From c:\\users\\ajn16\\.conda\\envs\\deep_learning\\lib\\site-packages\\keras\\callbacks.py:850: The name tf.summary.merge_all is deprecated. Please use tf.compat.v1.summary.merge_all instead.\n",
      "\n",
      "WARNING:tensorflow:From c:\\users\\ajn16\\.conda\\envs\\deep_learning\\lib\\site-packages\\keras\\callbacks.py:853: The name tf.summary.FileWriter is deprecated. Please use tf.compat.v1.summary.FileWriter instead.\n",
      "\n",
      "Epoch 1/100\n",
      "3/3 [==============================] - 4s 1s/step - loss: 1.7894 - acc: 0.6489 - val_loss: 1.9697 - val_acc: 0.6002\n",
      "Epoch 2/100\n",
      "3/3 [==============================] - 1s 187ms/step - loss: 1.8021 - acc: 0.6322 - val_loss: 1.9000 - val_acc: 0.6098\n",
      "Epoch 3/100\n",
      "3/3 [==============================] - 1s 188ms/step - loss: 1.4858 - acc: 0.7812 - val_loss: 1.9269 - val_acc: 0.6688\n",
      "Epoch 4/100\n",
      "3/3 [==============================] - 1s 186ms/step - loss: 1.6422 - acc: 0.6960 - val_loss: 1.8869 - val_acc: 0.6539\n",
      "Epoch 5/100\n",
      "3/3 [==============================] - 1s 193ms/step - loss: 1.5464 - acc: 0.7658 - val_loss: 1.8464 - val_acc: 0.6454\n",
      "Epoch 6/100\n",
      "3/3 [==============================] - 1s 187ms/step - loss: 1.4310 - acc: 0.7866 - val_loss: 1.8412 - val_acc: 0.6719\n",
      "Epoch 7/100\n",
      "3/3 [==============================] - 1s 187ms/step - loss: 1.4108 - acc: 0.7774 - val_loss: 1.8296 - val_acc: 0.6615\n",
      "Epoch 8/100\n",
      "3/3 [==============================] - 1s 193ms/step - loss: 1.6377 - acc: 0.7559 - val_loss: 1.8406 - val_acc: 0.6886\n",
      "Epoch 9/100\n",
      "3/3 [==============================] - 1s 190ms/step - loss: 1.5081 - acc: 0.7592 - val_loss: 1.8520 - val_acc: 0.6904\n",
      "Epoch 10/100\n",
      "3/3 [==============================] - 1s 186ms/step - loss: 1.6894 - acc: 0.7457 - val_loss: 1.8201 - val_acc: 0.6899\n",
      "Epoch 11/100\n",
      "3/3 [==============================] - 1s 193ms/step - loss: 1.6742 - acc: 0.7442 - val_loss: 1.8378 - val_acc: 0.7032\n",
      "Epoch 12/100\n",
      "3/3 [==============================] - 1s 190ms/step - loss: 1.4240 - acc: 0.7752 - val_loss: 1.8420 - val_acc: 0.7144\n",
      "Epoch 13/100\n",
      "3/3 [==============================] - 1s 191ms/step - loss: 1.4234 - acc: 0.7905 - val_loss: 1.8080 - val_acc: 0.7013\n",
      "Epoch 14/100\n",
      "3/3 [==============================] - 1s 187ms/step - loss: 1.9787 - acc: 0.6913 - val_loss: 1.8613 - val_acc: 0.7100\n",
      "Epoch 15/100\n",
      "3/3 [==============================] - 1s 190ms/step - loss: 1.2742 - acc: 0.7874 - val_loss: 1.8029 - val_acc: 0.7156\n",
      "Epoch 16/100\n",
      "3/3 [==============================] - 1s 192ms/step - loss: 1.2936 - acc: 0.8080 - val_loss: 1.7701 - val_acc: 0.6870\n",
      "Epoch 17/100\n",
      "3/3 [==============================] - 1s 191ms/step - loss: 1.9432 - acc: 0.6936 - val_loss: 1.8109 - val_acc: 0.7138\n",
      "Epoch 18/100\n",
      "3/3 [==============================] - 1s 190ms/step - loss: 1.4919 - acc: 0.7802 - val_loss: 1.7911 - val_acc: 0.7138\n",
      "Epoch 19/100\n",
      "3/3 [==============================] - 1s 186ms/step - loss: 1.4872 - acc: 0.7684 - val_loss: 1.7897 - val_acc: 0.7209\n",
      "Epoch 20/100\n",
      "3/3 [==============================] - 1s 190ms/step - loss: 1.5172 - acc: 0.7750 - val_loss: 1.7848 - val_acc: 0.7241\n",
      "Epoch 21/100\n",
      "3/3 [==============================] - 1s 187ms/step - loss: 1.6306 - acc: 0.7601 - val_loss: 1.8192 - val_acc: 0.7251\n",
      "Epoch 22/100\n",
      "3/3 [==============================] - 1s 188ms/step - loss: 1.7892 - acc: 0.7354 - val_loss: 1.8228 - val_acc: 0.7248\n",
      "Epoch 23/100\n",
      "3/3 [==============================] - 1s 189ms/step - loss: 1.4154 - acc: 0.7804 - val_loss: 1.7946 - val_acc: 0.7287\n",
      "Epoch 24/100\n",
      "3/3 [==============================] - 1s 193ms/step - loss: 1.5806 - acc: 0.7661 - val_loss: 1.7940 - val_acc: 0.7312\n",
      "Epoch 25/100\n",
      "3/3 [==============================] - 1s 186ms/step - loss: 1.3461 - acc: 0.8038 - val_loss: 1.7782 - val_acc: 0.7337\n",
      "Epoch 26/100\n",
      "3/3 [==============================] - 1s 187ms/step - loss: 1.6804 - acc: 0.7452 - val_loss: 1.7838 - val_acc: 0.7341\n",
      "Epoch 27/100\n",
      "3/3 [==============================] - 1s 190ms/step - loss: 1.3493 - acc: 0.7878 - val_loss: 1.7743 - val_acc: 0.7318\n",
      "Epoch 28/100\n",
      "3/3 [==============================] - 1s 189ms/step - loss: 1.5020 - acc: 0.7857 - val_loss: 1.7624 - val_acc: 0.7319\n",
      "Epoch 29/100\n",
      "3/3 [==============================] - 1s 188ms/step - loss: 1.3147 - acc: 0.7968 - val_loss: 1.7728 - val_acc: 0.7325\n",
      "Epoch 30/100\n",
      "3/3 [==============================] - 1s 189ms/step - loss: 1.5413 - acc: 0.7790 - val_loss: 1.7706 - val_acc: 0.7300\n",
      "Epoch 31/100\n",
      "3/3 [==============================] - 1s 188ms/step - loss: 1.3733 - acc: 0.7959 - val_loss: 1.7544 - val_acc: 0.7271\n",
      "Epoch 32/100\n",
      "3/3 [==============================] - 1s 188ms/step - loss: 1.6093 - acc: 0.7658 - val_loss: 1.7589 - val_acc: 0.7291\n",
      "Epoch 33/100\n",
      "3/3 [==============================] - 1s 191ms/step - loss: 1.2956 - acc: 0.8038 - val_loss: 1.7664 - val_acc: 0.7297\n",
      "Epoch 34/100\n",
      "3/3 [==============================] - 1s 185ms/step - loss: 1.4458 - acc: 0.7919 - val_loss: 1.7583 - val_acc: 0.7291\n",
      "Epoch 35/100\n",
      "3/3 [==============================] - 1s 187ms/step - loss: 1.3721 - acc: 0.8004 - val_loss: 1.7749 - val_acc: 0.7316\n",
      "Epoch 36/100\n",
      "3/3 [==============================] - 1s 187ms/step - loss: 1.5363 - acc: 0.7778 - val_loss: 1.7686 - val_acc: 0.7304\n",
      "Epoch 37/100\n",
      "3/3 [==============================] - 1s 188ms/step - loss: 1.7277 - acc: 0.7314 - val_loss: 1.7703 - val_acc: 0.7296\n",
      "Epoch 38/100\n",
      "3/3 [==============================] - 1s 189ms/step - loss: 1.3943 - acc: 0.8006 - val_loss: 1.7645 - val_acc: 0.7292\n",
      "Epoch 39/100\n",
      "3/3 [==============================] - 1s 189ms/step - loss: 1.2692 - acc: 0.8141 - val_loss: 1.7611 - val_acc: 0.7283\n",
      "Epoch 40/100\n",
      "3/3 [==============================] - 1s 185ms/step - loss: 1.3925 - acc: 0.8045 - val_loss: 1.7544 - val_acc: 0.7282\n",
      "Epoch 41/100\n",
      "3/3 [==============================] - 1s 186ms/step - loss: 1.6841 - acc: 0.7609 - val_loss: 1.7595 - val_acc: 0.7282\n",
      "Epoch 42/100\n",
      "3/3 [==============================] - 1s 188ms/step - loss: 1.7030 - acc: 0.7561 - val_loss: 1.7688 - val_acc: 0.7306\n",
      "Epoch 43/100\n",
      "3/3 [==============================] - 1s 189ms/step - loss: 1.2221 - acc: 0.8196 - val_loss: 1.7595 - val_acc: 0.7343\n",
      "Epoch 44/100\n",
      "3/3 [==============================] - 1s 198ms/step - loss: 1.7221 - acc: 0.7476 - val_loss: 1.7672 - val_acc: 0.7358\n",
      "Epoch 45/100\n"
     ]
    },
    {
     "name": "stdout",
     "output_type": "stream",
     "text": [
      "3/3 [==============================] - 1s 195ms/step - loss: 1.5703 - acc: 0.7783 - val_loss: 1.7672 - val_acc: 0.7364\n",
      "Epoch 46/100\n",
      "3/3 [==============================] - 1s 194ms/step - loss: 1.4628 - acc: 0.7765 - val_loss: 1.7635 - val_acc: 0.7370\n",
      "Epoch 47/100\n",
      "3/3 [==============================] - 1s 193ms/step - loss: 1.4323 - acc: 0.7929 - val_loss: 1.7615 - val_acc: 0.7360\n",
      "Epoch 48/100\n",
      "3/3 [==============================] - 1s 192ms/step - loss: 1.6650 - acc: 0.7636 - val_loss: 1.7593 - val_acc: 0.7388\n",
      "Epoch 49/100\n",
      "3/3 [==============================] - 1s 190ms/step - loss: 1.4855 - acc: 0.7754 - val_loss: 1.7581 - val_acc: 0.7369\n",
      "Epoch 50/100\n",
      "3/3 [==============================] - 1s 190ms/step - loss: 1.5996 - acc: 0.7595 - val_loss: 1.7596 - val_acc: 0.7355\n",
      "Epoch 51/100\n",
      "3/3 [==============================] - 1s 190ms/step - loss: 1.7263 - acc: 0.7549 - val_loss: 1.7586 - val_acc: 0.7373\n",
      "Epoch 52/100\n",
      "3/3 [==============================] - 1s 189ms/step - loss: 1.6080 - acc: 0.7684 - val_loss: 1.7598 - val_acc: 0.7374\n",
      "Epoch 53/100\n",
      "3/3 [==============================] - 1s 193ms/step - loss: 1.4074 - acc: 0.7907 - val_loss: 1.7538 - val_acc: 0.7376\n",
      "Epoch 54/100\n",
      "3/3 [==============================] - 1s 193ms/step - loss: 1.5394 - acc: 0.7725 - val_loss: 1.7535 - val_acc: 0.7383\n",
      "Epoch 55/100\n",
      "3/3 [==============================] - 1s 194ms/step - loss: 1.4097 - acc: 0.8013 - val_loss: 1.7538 - val_acc: 0.7381\n",
      "Epoch 56/100\n",
      "3/3 [==============================] - 1s 184ms/step - loss: 1.1917 - acc: 0.8285 - val_loss: 1.7517 - val_acc: 0.7380\n",
      "Epoch 57/100\n",
      "3/3 [==============================] - 1s 190ms/step - loss: 1.4013 - acc: 0.7943 - val_loss: 1.7524 - val_acc: 0.7395\n",
      "Epoch 58/100\n",
      "3/3 [==============================] - 1s 188ms/step - loss: 1.3345 - acc: 0.8166 - val_loss: 1.7492 - val_acc: 0.7381\n",
      "Epoch 59/100\n",
      "3/3 [==============================] - 1s 194ms/step - loss: 1.5612 - acc: 0.7822 - val_loss: 1.7501 - val_acc: 0.7390\n",
      "Epoch 60/100\n",
      "3/3 [==============================] - 1s 191ms/step - loss: 1.4213 - acc: 0.7840 - val_loss: 1.7464 - val_acc: 0.7385\n",
      "Epoch 61/100\n",
      "3/3 [==============================] - 1s 196ms/step - loss: 1.1852 - acc: 0.8328 - val_loss: 1.7455 - val_acc: 0.7380\n",
      "Epoch 62/100\n",
      "3/3 [==============================] - 1s 205ms/step - loss: 1.1940 - acc: 0.8264 - val_loss: 1.7487 - val_acc: 0.7374\n",
      "Epoch 63/100\n",
      "3/3 [==============================] - 1s 199ms/step - loss: 1.5538 - acc: 0.7760 - val_loss: 1.7482 - val_acc: 0.7367\n",
      "Epoch 64/100\n",
      "3/3 [==============================] - 1s 202ms/step - loss: 1.3092 - acc: 0.8049 - val_loss: 1.7502 - val_acc: 0.7363\n",
      "Epoch 65/100\n",
      "3/3 [==============================] - 1s 196ms/step - loss: 1.8308 - acc: 0.7358 - val_loss: 1.7506 - val_acc: 0.7387\n",
      "Epoch 66/100\n",
      "3/3 [==============================] - 1s 190ms/step - loss: 1.6597 - acc: 0.7620 - val_loss: 1.7481 - val_acc: 0.7387\n",
      "Epoch 67/100\n",
      "3/3 [==============================] - 1s 192ms/step - loss: 1.5749 - acc: 0.7743 - val_loss: 1.7479 - val_acc: 0.7384\n",
      "Epoch 68/100\n",
      "3/3 [==============================] - 1s 191ms/step - loss: 1.5892 - acc: 0.7729 - val_loss: 1.7471 - val_acc: 0.7389\n",
      "Epoch 69/100\n",
      "3/3 [==============================] - 1s 194ms/step - loss: 1.2674 - acc: 0.8200 - val_loss: 1.7439 - val_acc: 0.7364\n",
      "Epoch 70/100\n",
      "3/3 [==============================] - 1s 193ms/step - loss: 1.3241 - acc: 0.8033 - val_loss: 1.7439 - val_acc: 0.7360\n",
      "Epoch 71/100\n",
      "3/3 [==============================] - 1s 190ms/step - loss: 1.6452 - acc: 0.7607 - val_loss: 1.7447 - val_acc: 0.7381\n",
      "Epoch 72/100\n",
      "3/3 [==============================] - 1s 190ms/step - loss: 1.3863 - acc: 0.8133 - val_loss: 1.7428 - val_acc: 0.7367\n",
      "Epoch 73/100\n",
      "3/3 [==============================] - 1s 192ms/step - loss: 1.4971 - acc: 0.7846 - val_loss: 1.7419 - val_acc: 0.7359\n",
      "Epoch 74/100\n",
      "3/3 [==============================] - 1s 192ms/step - loss: 1.5781 - acc: 0.7746 - val_loss: 1.7413 - val_acc: 0.7359\n",
      "Epoch 75/100\n",
      "3/3 [==============================] - 1s 188ms/step - loss: 1.2945 - acc: 0.8141 - val_loss: 1.7419 - val_acc: 0.7364\n",
      "Epoch 76/100\n",
      "3/3 [==============================] - 1s 188ms/step - loss: 2.0220 - acc: 0.7019 - val_loss: 1.7436 - val_acc: 0.7397\n",
      "Epoch 77/100\n",
      "3/3 [==============================] - 1s 189ms/step - loss: 1.4819 - acc: 0.7825 - val_loss: 1.7442 - val_acc: 0.7402\n",
      "Epoch 78/100\n",
      "3/3 [==============================] - 1s 190ms/step - loss: 1.2467 - acc: 0.8258 - val_loss: 1.7438 - val_acc: 0.7394\n",
      "Epoch 79/100\n",
      "3/3 [==============================] - 1s 190ms/step - loss: 1.4193 - acc: 0.7994 - val_loss: 1.7426 - val_acc: 0.7388\n",
      "Epoch 80/100\n",
      "3/3 [==============================] - 1s 191ms/step - loss: 1.1080 - acc: 0.8564 - val_loss: 1.7427 - val_acc: 0.7373\n",
      "Epoch 81/100\n",
      "3/3 [==============================] - 1s 186ms/step - loss: 1.2726 - acc: 0.8225 - val_loss: 1.7431 - val_acc: 0.7367\n",
      "Epoch 82/100\n",
      "3/3 [==============================] - 1s 187ms/step - loss: 1.3759 - acc: 0.8110 - val_loss: 1.7423 - val_acc: 0.7365\n",
      "Epoch 83/100\n",
      "3/3 [==============================] - 1s 188ms/step - loss: 1.7709 - acc: 0.7444 - val_loss: 1.7430 - val_acc: 0.7379\n",
      "Epoch 84/100\n",
      "3/3 [==============================] - 1s 189ms/step - loss: 1.4468 - acc: 0.8005 - val_loss: 1.7421 - val_acc: 0.7370\n",
      "Epoch 85/100\n",
      "3/3 [==============================] - 1s 190ms/step - loss: 1.4380 - acc: 0.7929 - val_loss: 1.7426 - val_acc: 0.7368\n",
      "Epoch 86/100\n",
      "3/3 [==============================] - 1s 186ms/step - loss: 1.2477 - acc: 0.8230 - val_loss: 1.7411 - val_acc: 0.7348\n",
      "Epoch 87/100\n",
      "3/3 [==============================] - 1s 188ms/step - loss: 1.6351 - acc: 0.7570 - val_loss: 1.7421 - val_acc: 0.7354\n",
      "Epoch 88/100\n",
      "3/3 [==============================] - 1s 188ms/step - loss: 1.8487 - acc: 0.7250 - val_loss: 1.7416 - val_acc: 0.7372\n",
      "Epoch 89/100\n",
      "3/3 [==============================] - 1s 188ms/step - loss: 1.4881 - acc: 0.7856 - val_loss: 1.7420 - val_acc: 0.7375\n",
      "Epoch 90/100\n",
      "3/3 [==============================] - 1s 189ms/step - loss: 1.4143 - acc: 0.8023 - val_loss: 1.7418 - val_acc: 0.7371\n",
      "Epoch 91/100\n",
      "3/3 [==============================] - 1s 189ms/step - loss: 1.3394 - acc: 0.8007 - val_loss: 1.7417 - val_acc: 0.7362\n",
      "Epoch 92/100\n",
      "3/3 [==============================] - 1s 192ms/step - loss: 1.4614 - acc: 0.7906 - val_loss: 1.7418 - val_acc: 0.7359\n",
      "Epoch 93/100\n",
      "3/3 [==============================] - 1s 189ms/step - loss: 1.3696 - acc: 0.7941 - val_loss: 1.7413 - val_acc: 0.7354\n",
      "Epoch 94/100\n",
      "3/3 [==============================] - 1s 188ms/step - loss: 1.3992 - acc: 0.7962 - val_loss: 1.7412 - val_acc: 0.7354\n",
      "Epoch 95/100\n",
      "3/3 [==============================] - 1s 185ms/step - loss: 1.9827 - acc: 0.7044 - val_loss: 1.7417 - val_acc: 0.7387\n",
      "Epoch 96/100\n",
      "3/3 [==============================] - 1s 187ms/step - loss: 1.3366 - acc: 0.8168 - val_loss: 1.7416 - val_acc: 0.7384\n",
      "Epoch 97/100\n",
      "3/3 [==============================] - 1s 187ms/step - loss: 1.5031 - acc: 0.7861 - val_loss: 1.7410 - val_acc: 0.7384\n",
      "Epoch 98/100\n",
      "3/3 [==============================] - 1s 193ms/step - loss: 1.1636 - acc: 0.8510 - val_loss: 1.7402 - val_acc: 0.7363\n",
      "Epoch 99/100\n",
      "3/3 [==============================] - 1s 193ms/step - loss: 1.7576 - acc: 0.7394 - val_loss: 1.7402 - val_acc: 0.7382\n",
      "Epoch 100/100\n",
      "3/3 [==============================] - 1s 186ms/step - loss: 1.3492 - acc: 0.8020 - val_loss: 1.7398 - val_acc: 0.7373\n"
     ]
    }
   ],
   "source": [
    "training(nb_trainings, parameters)"
   ]
  },
  {
   "cell_type": "markdown",
   "metadata": {},
   "source": [
    "## Showing loss and accuracy with TensorBoard"
   ]
  },
  {
   "cell_type": "code",
   "execution_count": 4,
   "metadata": {},
   "outputs": [
    {
     "data": {
      "text/plain": [
       "Reusing TensorBoard on port 6006 (pid 20852), started 3:32:24 ago. (Use '!kill 20852' to kill it.)"
      ]
     },
     "metadata": {},
     "output_type": "display_data"
    },
    {
     "data": {
      "text/html": [
       "\n",
       "        <iframe\n",
       "            width=\"100%\"\n",
       "            height=\"800\"\n",
       "            src=\"http://localhost:6006\"\n",
       "            frameborder=\"0\"\n",
       "            allowfullscreen\n",
       "        ></iframe>\n",
       "        "
      ],
      "text/plain": [
       "<IPython.lib.display.IFrame at 0x20442180488>"
      ]
     },
     "metadata": {},
     "output_type": "display_data"
    }
   ],
   "source": [
    "%tensorboard --logdir {\"./logs\"} --host=127.0.0.1"
   ]
  },
  {
   "cell_type": "code",
   "execution_count": 6,
   "metadata": {},
   "outputs": [
    {
     "ename": "SyntaxError",
     "evalue": "invalid syntax (<ipython-input-6-d71e56de5f7f>, line 1)",
     "output_type": "error",
     "traceback": [
      "\u001b[1;36m  File \u001b[1;32m\"<ipython-input-6-d71e56de5f7f>\"\u001b[1;36m, line \u001b[1;32m1\u001b[0m\n\u001b[1;33m    kill 20852\u001b[0m\n\u001b[1;37m             ^\u001b[0m\n\u001b[1;31mSyntaxError\u001b[0m\u001b[1;31m:\u001b[0m invalid syntax\n"
     ]
    }
   ],
   "source": [
    "kill 20852"
   ]
  },
  {
   "cell_type": "code",
   "execution_count": null,
   "metadata": {},
   "outputs": [],
   "source": []
  }
 ],
 "metadata": {
  "kernelspec": {
   "display_name": "Python 3",
   "language": "python",
   "name": "python3"
  },
  "language_info": {
   "codemirror_mode": {
    "name": "ipython",
    "version": 3
   },
   "file_extension": ".py",
   "mimetype": "text/x-python",
   "name": "python",
   "nbconvert_exporter": "python",
   "pygments_lexer": "ipython3",
   "version": "3.7.9"
  }
 },
 "nbformat": 4,
 "nbformat_minor": 1
}
