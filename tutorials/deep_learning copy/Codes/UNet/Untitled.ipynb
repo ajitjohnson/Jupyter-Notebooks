{
 "cells": [
  {
   "cell_type": "code",
   "execution_count": null,
   "id": "trained-instrumentation",
   "metadata": {},
   "outputs": [],
   "source": [
    "\n",
    "import numpy as np\n",
    "import tensorflow as tf\n",
    "import skimage\n",
    "\n",
    "import sys\n",
    "import os\n",
    "from scipy import ndimage\n",
    "from scipy.misc import bytescale\n",
    "import threading\n",
    "from threading import Thread, Lock\n",
    "import h5py\n",
    "\n",
    "from skimage.io import imread, imsave\n",
    "import skimage as sk\n",
    "import tifffile as tiff\n",
    "\n",
    "import imgaug\n",
    "import imgaug.augmenters as iaa\n",
    "from imgaug.augmentables.segmaps import SegmentationMapsOnImage\n",
    "import random\n",
    "\n",
    "from keras import backend as K\n",
    "from keras.callbacks import ModelCheckpoint, LearningRateScheduler, TensorBoard\n",
    "from keras.optimizers import SGD, RMSprop\n",
    "    \n",
    "import datetime\n",
    "\n",
    "import ipywidgets as widgets\n",
    "import ipyfilechooser\n",
    "from ipyfilechooser import FileChooser\n",
    "from ipywidgets import HBox, Label, Layout\n",
    "\n",
    "from models import unet as unet"
   ]
  },
  {
   "cell_type": "code",
   "execution_count": null,
   "id": "designing-finding",
   "metadata": {},
   "outputs": [],
   "source": [
    "import tensorflow as tf"
   ]
  },
  {
   "cell_type": "code",
   "execution_count": null,
   "id": "buried-blond",
   "metadata": {},
   "outputs": [],
   "source": []
  }
 ],
 "metadata": {
  "kernelspec": {
   "display_name": "Python 3",
   "language": "python",
   "name": "python3"
  },
  "language_info": {
   "codemirror_mode": {
    "name": "ipython",
    "version": 3
   },
   "file_extension": ".py",
   "mimetype": "text/x-python",
   "name": "python",
   "nbconvert_exporter": "python",
   "pygments_lexer": "ipython3",
   "version": "3.7.9"
  }
 },
 "nbformat": 4,
 "nbformat_minor": 5
}
