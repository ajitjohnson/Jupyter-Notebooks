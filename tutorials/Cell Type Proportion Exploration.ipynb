{
 "cells": [
  {
   "cell_type": "code",
   "execution_count": null,
   "id": "3cd172d3",
   "metadata": {},
   "outputs": [],
   "source": [
    "\"\"\"\n",
    "Created on Mon May 16 19:00:32 2022\n",
    "@author: Ajit Johnson Nirmal\n",
    "SCIMAP tutorial May 2022\n",
    "\"\"\""
   ]
  },
  {
   "cell_type": "code",
   "execution_count": null,
   "id": "7a1c1cc4",
   "metadata": {},
   "outputs": [],
   "source": [
    "# load packages\n",
    "import scimap as sm\n",
    "import scanpy as sc\n",
    "import pandas as pd\n",
    "import anndata as ad"
   ]
  },
  {
   "cell_type": "code",
   "execution_count": null,
   "id": "e2f30407",
   "metadata": {},
   "outputs": [],
   "source": [
    "#common_path = \"/Users/aj/Dropbox (Partners HealthCare)/conferences/scimap_tutorial/may_2022_tutorial/\"\n",
    "common_path = \"C:/Users/ajn16/Dropbox (Partners HealthCare)/conferences/scimap_tutorial/may_2022_tutorial/\""
   ]
  },
  {
   "cell_type": "code",
   "execution_count": null,
   "id": "ecd0fb93",
   "metadata": {},
   "outputs": [],
   "source": [
    "# load data\n",
    "#adata = sm.pp.mcmicro_to_scimap (image_path= str(common_path) + 'exemplar_001/quantification/unmicst-exemplar-001_cell.csv')\n",
    "#manual_gate = pd.read_csv(str(common_path) + 'manual_gates.csv')\n",
    "#adata = sm.pp.rescale (adata, gate=manual_gate)\n",
    "#phenotype = pd.read_csv(str(common_path) + 'phenotype_workflow.csv')\n",
    "#adata = sm.tl.phenotype_cells (adata, phenotype=phenotype, label=\"phenotype\") \n",
    "# add user defined ROI's before proceeding"
   ]
  },
  {
   "cell_type": "code",
   "execution_count": null,
   "id": "360428e4",
   "metadata": {},
   "outputs": [],
   "source": [
    "# load saved anndata object\n",
    "adata = ad.read(str(common_path) + 'may2022_tutorial.h5ad')"
   ]
  },
  {
   "cell_type": "code",
   "execution_count": null,
   "id": "59758fee",
   "metadata": {},
   "outputs": [],
   "source": []
  },
  {
   "cell_type": "markdown",
   "id": "ad48620c",
   "metadata": {},
   "source": [
    "### Investigate cell-type composition within the ROI's"
   ]
  },
  {
   "cell_type": "code",
   "execution_count": null,
   "id": "5c8ca0f8",
   "metadata": {},
   "outputs": [],
   "source": [
    "# https://scimap.xyz/All%20Functions/C.%20Plotting/sm.pl.stacked_barplot/\n",
    "sm.pl.stacked_barplot (adata,\n",
    "                       x_axis='ROI_individual',\n",
    "                       y_axis='phenotype',\n",
    "                       method='absolute')"
   ]
  },
  {
   "cell_type": "code",
   "execution_count": null,
   "id": "0404b8ba",
   "metadata": {},
   "outputs": [],
   "source": [
    "# Plot the number of cells normalized to 100% \n",
    "sm.pl.stacked_barplot (adata,\n",
    "                       x_axis='ROI_individual',\n",
    "                       y_axis='phenotype',\n",
    "                       method='percent')"
   ]
  },
  {
   "cell_type": "code",
   "execution_count": null,
   "id": "00776b3e",
   "metadata": {},
   "outputs": [],
   "source": [
    "# specify the elements to be in the plot\n",
    "x_axis_elements = ['CD57-low-1', 'CD57-low-2', 'CD57-low-3', 'CD57-high-2', 'CD57-high-1', 'CD57-high-3']\n",
    "y_axis_elements = ['ASMA+ cells', 'Myeloid', 'NK cells', 'Neutrophils', 'Other Immune cells', 'Treg', 'Tumor']"
   ]
  },
  {
   "cell_type": "code",
   "execution_count": null,
   "id": "28dfe1a7",
   "metadata": {},
   "outputs": [],
   "source": [
    "# replot\n",
    "sm.pl.stacked_barplot (adata,\n",
    "                       x_axis='ROI_individual',\n",
    "                       y_axis='phenotype',\n",
    "                       method='percent',\n",
    "                       subset_xaxis=x_axis_elements,\n",
    "                       subset_yaxis=y_axis_elements)"
   ]
  },
  {
   "cell_type": "code",
   "execution_count": null,
   "id": "68337884",
   "metadata": {},
   "outputs": [],
   "source": [
    "# quiet a number of parameters to play around:\n",
    "sm.pl.stacked_barplot (adata, \n",
    "                x_axis='ROI_individual', y_axis='phenotype', \n",
    "                subset_xaxis=x_axis_elements, subset_yaxis=y_axis_elements, \n",
    "                order_xaxis=None, order_yaxis=None, \n",
    "                method='percent', plot_tool='plotly', \n",
    "                matplotlib_cmap=None, \n",
    "                matplotlib_bbox_to_anchor=(1, 1.02), \n",
    "                matplotlib_legend_loc=2, \n",
    "                return_data=False)"
   ]
  },
  {
   "cell_type": "code",
   "execution_count": null,
   "id": "3430ccd2",
   "metadata": {},
   "outputs": [],
   "source": []
  },
  {
   "cell_type": "markdown",
   "id": "b4a9013f",
   "metadata": {},
   "source": [
    "### Calculate the fold change in cell types between the different ROI's"
   ]
  },
  {
   "cell_type": "code",
   "execution_count": null,
   "id": "ebca1965",
   "metadata": {},
   "outputs": [],
   "source": [
    "adata = sm.tl.foldchange (adata, \n",
    "                          from_group=['CD57-low-1', 'CD57-low-2', 'CD57-low-3'], \n",
    "                          to_group=None, \n",
    "                          imageid='ROI_individual', \n",
    "                          phenotype='phenotype',\n",
    "                          normalize=True, \n",
    "                          subset_phenotype=None, \n",
    "                          label='foldchange')"
   ]
  },
  {
   "cell_type": "code",
   "execution_count": null,
   "id": "ecef1c39",
   "metadata": {},
   "outputs": [],
   "source": [
    "# Heatmap of foldchnage  \n",
    "sm.pl.foldchange (adata, label='foldchange', method='heatmap',\n",
    "                     p_val=0.05, nonsig_color='grey',\n",
    "                     cmap = 'vlag', log=True, center=0, linecolor='black',linewidths=0.7,\n",
    "                     vmin=-5, vmax=5, row_cluster=False)"
   ]
  },
  {
   "cell_type": "code",
   "execution_count": null,
   "id": "0c0d912f",
   "metadata": {},
   "outputs": [],
   "source": [
    "# Parallel_coordinates plot of the foldchanges\n",
    "sm.pl.foldchange (adata, label='foldchange', \n",
    "                  subset_xaxis = ['ASMA+ cells', 'NK cells', 'Neutrophils', 'Treg', 'Tumor'],\n",
    "                log=True, method='parallel_coordinates', invert_axis=True,\n",
    "                parallel_coordinates_color=['black','blue','green','red','#000000'],\n",
    "                matplotlib_bbox_to_anchor=(1.04,1),\n",
    "                matplotlib_legend_loc='upper left',\n",
    "                xticks_rotation=90,\n",
    "                return_data = False)"
   ]
  },
  {
   "cell_type": "code",
   "execution_count": null,
   "id": "7d29c09d",
   "metadata": {},
   "outputs": [],
   "source": [
    "# save adata\n",
    "adata.write(str(common_path) + 'may2022_tutorial.h5ad')"
   ]
  }
 ],
 "metadata": {
  "kernelspec": {
   "display_name": "Python 3 (ipykernel)",
   "language": "python",
   "name": "python3"
  },
  "language_info": {
   "codemirror_mode": {
    "name": "ipython",
    "version": 3
   },
   "file_extension": ".py",
   "mimetype": "text/x-python",
   "name": "python",
   "nbconvert_exporter": "python",
   "pygments_lexer": "ipython3",
   "version": "3.8.12"
  }
 },
 "nbformat": 4,
 "nbformat_minor": 5
}
