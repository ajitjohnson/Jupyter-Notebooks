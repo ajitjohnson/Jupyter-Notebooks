{
 "cells": [
  {
   "cell_type": "code",
   "execution_count": 50,
   "metadata": {},
   "outputs": [],
   "source": [
    "import requests \n",
    "from bs4 import BeautifulSoup as bs \n",
    "import json \n",
    "import random \n",
    "import os.path \n",
    "import re"
   ]
  },
  {
   "cell_type": "code",
   "execution_count": 2,
   "metadata": {},
   "outputs": [],
   "source": [
    "insta_url ='https://www.instagram.com'\n",
    "inta_username = 'ajitjohnson_n'"
   ]
  },
  {
   "cell_type": "code",
   "execution_count": 3,
   "metadata": {},
   "outputs": [],
   "source": [
    "response = requests.get(f\"{insta_url}/{inta_username}/\") "
   ]
  },
  {
   "cell_type": "code",
   "execution_count": 42,
   "metadata": {},
   "outputs": [
    {
     "ename": "SyntaxError",
     "evalue": "keyword can't be an expression (<ipython-input-42-cdf5d760f92a>, line 5)",
     "output_type": "error",
     "traceback": [
      "\u001b[0;36m  File \u001b[0;32m\"<ipython-input-42-cdf5d760f92a>\"\u001b[0;36m, line \u001b[0;32m5\u001b[0m\n\u001b[0;31m    index = bs_html.find(data-testid=\"user-avatar\")\u001b[0m\n\u001b[0m                        ^\u001b[0m\n\u001b[0;31mSyntaxError\u001b[0m\u001b[0;31m:\u001b[0m keyword can't be an expression\n"
     ]
    }
   ],
   "source": [
    "response = requests.get(f\"{insta_url}/{inta_username}/\") \n",
    "html = response.text \n",
    "bs_html = bs(html, features =\"lxml\") \n",
    "#bs_html = bs_html.text \n",
    "index = bs_html.find(data-testid=\"user-avatar\")\n",
    "    "
   ]
  },
  {
   "cell_type": "code",
   "execution_count": 74,
   "metadata": {},
   "outputs": [
    {
     "data": {
      "text/plain": [
       "<!DOCTYPE html>\n",
       "<html class=\"no-js not-logged-in client-root\" lang=\"en\">\n",
       "<head>\n",
       "<meta charset=\"utf-8\"/>\n",
       "<meta content=\"IE=edge\" http-equiv=\"X-UA-Compatible\"/>\n",
       "<title>\n",
       "Ajit Johnson (@ajitjohnson_n) • Instagram photos and videos\n",
       "</title>\n",
       "<meta content=\"noimageindex, noarchive\" name=\"robots\"/>\n",
       "<meta content=\"default\" name=\"apple-mobile-web-app-status-bar-style\"/>\n",
       "<meta content=\"yes\" name=\"mobile-web-app-capable\"/>\n",
       "<meta content=\"#ffffff\" name=\"theme-color\"/>\n",
       "<meta content=\"width=device-width, initial-scale=1, minimum-scale=1, maximum-scale=1, viewport-fit=cover\" id=\"viewport\" name=\"viewport\"/>\n",
       "<link href=\"/data/manifest.json\" rel=\"manifest\"/>\n",
       "<link as=\"style\" crossorigin=\"anonymous\" href=\"/static/bundles/metro/ConsumerUICommons.css/fdb115fdf8be.css\" rel=\"preload\" type=\"text/css\"/>\n",
       "<link as=\"style\" crossorigin=\"anonymous\" href=\"/static/bundles/metro/ConsumerAsyncCommons.css/11e09dc81708.css\" rel=\"preload\" type=\"text/css\"/>\n",
       "<link as=\"style\" crossorigin=\"anonymous\" href=\"/static/bundles/metro/Consumer.css/057c3762507f.css\" rel=\"preload\" type=\"text/css\"/>\n",
       "<link as=\"style\" crossorigin=\"anonymous\" href=\"/static/bundles/metro/ProfilePageContainer.css/f8ebc557939d.css\" rel=\"preload\" type=\"text/css\"/>\n",
       "<link as=\"script\" crossorigin=\"anonymous\" href=\"/static/bundles/metro/Vendor.js/5a56d51ae30f.js\" rel=\"preload\" type=\"text/javascript\"/>\n",
       "<link as=\"script\" crossorigin=\"anonymous\" href=\"/static/bundles/metro/en_US.js/d285a24bb0dc.js\" rel=\"preload\" type=\"text/javascript\"/>\n",
       "<link as=\"script\" crossorigin=\"anonymous\" href=\"/static/bundles/metro/ConsumerLibCommons.js/db87fabf8ccb.js\" rel=\"preload\" type=\"text/javascript\"/>\n",
       "<link as=\"script\" crossorigin=\"anonymous\" href=\"/static/bundles/metro/ConsumerUICommons.js/f2e0fdcf8a39.js\" rel=\"preload\" type=\"text/javascript\"/>\n",
       "<link as=\"script\" crossorigin=\"anonymous\" href=\"/static/bundles/metro/ConsumerAsyncCommons.js/d2216d504a63.js\" rel=\"preload\" type=\"text/javascript\"/>\n",
       "<link as=\"script\" crossorigin=\"anonymous\" href=\"/static/bundles/metro/Consumer.js/57542ab8a17c.js\" rel=\"preload\" type=\"text/javascript\"/>\n",
       "<link as=\"script\" crossorigin=\"anonymous\" href=\"/static/bundles/metro/ProfilePageContainer.js/10ab7558dabb.js\" rel=\"preload\" type=\"text/javascript\"/>\n",
       "<script type=\"text/javascript\">\n",
       "        (function() {\n",
       "  var docElement = document.documentElement;\n",
       "  var classRE = new RegExp('(^|\\\\s)no-js(\\\\s|$)');\n",
       "  var className = docElement.className;\n",
       "  docElement.className = className.replace(classRE, '$1js$2');\n",
       "})();\n",
       "</script>\n",
       "<script type=\"text/javascript\">\n",
       "(function() {\n",
       "  if ('PerformanceObserver' in window && 'PerformancePaintTiming' in window) {\n",
       "    window.__bufferedPerformance = [];\n",
       "    var ob = new PerformanceObserver(function(e) {\n",
       "      window.__bufferedPerformance.push.apply(window.__bufferedPerformance,e.getEntries());\n",
       "    });\n",
       "    ob.observe({entryTypes:['paint']});\n",
       "  }\n",
       "\n",
       "  window.__bufferedErrors = [];\n",
       "  window.onerror = function(message, url, line, column, error) {\n",
       "    window.__bufferedErrors.push({\n",
       "      message: message,\n",
       "      url: url,\n",
       "      line: line,\n",
       "      column: column,\n",
       "      error: error\n",
       "    });\n",
       "    return false;\n",
       "  };\n",
       "  window.__initialData = {\n",
       "    pending: true,\n",
       "    waiting: []\n",
       "  };\n",
       "  function asyncFetchSharedData(extra) {\n",
       "    var sharedDataReq = new XMLHttpRequest();\n",
       "    sharedDataReq.onreadystatechange = function() {\n",
       "          if (sharedDataReq.readyState === 4) {\n",
       "            if(sharedDataReq.status === 200){\n",
       "              var sharedData = JSON.parse(sharedDataReq.responseText);\n",
       "              window.__initialDataLoaded(sharedData, extra);\n",
       "            }\n",
       "          }\n",
       "        }\n",
       "    sharedDataReq.open('GET', '/data/shared_data/', true);\n",
       "    sharedDataReq.send(null);\n",
       "  }\n",
       "  function notifyLoaded(item, data) {\n",
       "    item.pending = false;\n",
       "    item.data = data;\n",
       "    for (var i = 0;i < item.waiting.length; ++i) {\n",
       "      item.waiting[i].resolve(item.data);\n",
       "    }\n",
       "    item.waiting = [];\n",
       "  }\n",
       "  function notifyError(item, msg) {\n",
       "    item.pending = false;\n",
       "    item.error = new Error(msg);\n",
       "    for (var i = 0;i < item.waiting.length; ++i) {\n",
       "      item.waiting[i].reject(item.error);\n",
       "    }\n",
       "    item.waiting = [];\n",
       "  }\n",
       "  window.__initialDataLoaded = function(initialData, extraData) {\n",
       "    if (extraData) {\n",
       "      for (var key in extraData) {\n",
       "        initialData[key] = extraData[key];\n",
       "      }\n",
       "    }\n",
       "    notifyLoaded(window.__initialData, initialData);\n",
       "  };\n",
       "  window.__initialDataError = function(msg) {\n",
       "    notifyError(window.__initialData, msg);\n",
       "  };\n",
       "  window.__additionalData = {};\n",
       "  window.__pendingAdditionalData = function(paths) {\n",
       "    for (var i = 0;i < paths.length; ++i) {\n",
       "      window.__additionalData[paths[i]] = {\n",
       "        pending: true,\n",
       "        waiting: []\n",
       "      };\n",
       "    }\n",
       "  };\n",
       "  window.__additionalDataLoaded = function(path, data) {\n",
       "    if (path in window.__additionalData) {\n",
       "      notifyLoaded(window.__additionalData[path], data);\n",
       "    } else {\n",
       "      console.error('Unexpected additional data loaded \"' + path + '\"');\n",
       "    }\n",
       "  };\n",
       "  window.__additionalDataError = function(path, msg) {\n",
       "    if (path in window.__additionalData) {\n",
       "      notifyError(window.__additionalData[path], msg);\n",
       "    } else {\n",
       "      console.error('Unexpected additional data encountered an error \"' + path + '\": ' + msg);\n",
       "    }\n",
       "  };\n",
       "  \n",
       "})();\n",
       "</script><script type=\"text/javascript\">\n",
       "\n",
       "/*\n",
       " Copyright 2018 Google Inc. All Rights Reserved.\n",
       " Licensed under the Apache License, Version 2.0 (the \"License\");\n",
       " you may not use this file except in compliance with the License.\n",
       " You may obtain a copy of the License at\n",
       "\n",
       "     http://www.apache.org/licenses/LICENSE-2.0\n",
       "\n",
       " Unless required by applicable law or agreed to in writing, software\n",
       " distributed under the License is distributed on an \"AS IS\" BASIS,\n",
       " WITHOUT WARRANTIES OR CONDITIONS OF ANY KIND, either express or implied.\n",
       " See the License for the specific language governing permissions and\n",
       " limitations under the License.\n",
       "*/\n",
       "\n",
       "(function(){function g(a,c){b||(b=a,f=c,h.forEach(function(a){removeEventListener(a,l,e)}),m())}function m(){b&&f&&0<d.length&&(d.forEach(function(a){a(b,f)}),d=[])}function n(a,c){function k(){g(a,c);d()}function b(){d()}function d(){removeEventListener(\"pointerup\",k,e);removeEventListener(\"pointercancel\",b,e)}addEventListener(\"pointerup\",k,e);addEventListener(\"pointercancel\",b,e)}function l(a){if(a.cancelable){var c=performance.now(),b=a.timeStamp;b>c&&(c=+new Date);c-=b;\"pointerdown\"==a.type?n(c,\n",
       "a):g(c,a)}}var e={passive:!0,capture:!0},h=[\"click\",\"mousedown\",\"keydown\",\"touchstart\",\"pointerdown\"],b,f,d=[];h.forEach(function(a){addEventListener(a,l,e)});window.perfMetrics=window.perfMetrics||{};window.perfMetrics.onFirstInputDelay=function(a){d.push(a);m()}})();\n",
       "</script>\n",
       "<link href=\"/static/images/ico/apple-touch-icon-76x76-precomposed.png/666282be8229.png\" rel=\"apple-touch-icon-precomposed\" sizes=\"76x76\"/>\n",
       "<link href=\"/static/images/ico/apple-touch-icon-120x120-precomposed.png/8a5bd3f267b1.png\" rel=\"apple-touch-icon-precomposed\" sizes=\"120x120\"/>\n",
       "<link href=\"/static/images/ico/apple-touch-icon-152x152-precomposed.png/68193576ffc5.png\" rel=\"apple-touch-icon-precomposed\" sizes=\"152x152\"/>\n",
       "<link href=\"/static/images/ico/apple-touch-icon-167x167-precomposed.png/4985e31c9100.png\" rel=\"apple-touch-icon-precomposed\" sizes=\"167x167\"/>\n",
       "<link href=\"/static/images/ico/apple-touch-icon-180x180-precomposed.png/c06fdb2357bd.png\" rel=\"apple-touch-icon-precomposed\" sizes=\"180x180\"/>\n",
       "<link href=\"/static/images/ico/favicon-192.png/68d99ba29cc8.png\" rel=\"icon\" sizes=\"192x192\"/>\n",
       "<link color=\"#262626\" href=\"/static/images/ico/favicon.svg/fc72dd4bfde8.svg\" rel=\"mask-icon\"/>\n",
       "<link href=\"/static/images/ico/favicon.ico/36b3ee2d91ed.ico\" rel=\"shortcut icon\" type=\"image/x-icon\"/>\n",
       "<link href=\"android-app://com.instagram.android/https/instagram.com/_u/ajitjohnson_n/\" rel=\"alternate\"/>\n",
       "<meta content=\"Instagram\" property=\"al:ios:app_name\"/>\n",
       "<meta content=\"389801252\" property=\"al:ios:app_store_id\"/>\n",
       "<meta content=\"instagram://user?username=ajitjohnson_n\" property=\"al:ios:url\"/>\n",
       "<meta content=\"Instagram\" property=\"al:android:app_name\"/>\n",
       "<meta content=\"com.instagram.android\" property=\"al:android:package\"/>\n",
       "<meta content=\"https://www.instagram.com/_u/ajitjohnson_n/\" property=\"al:android:url\"/>\n",
       "<link href=\"https://www.instagram.com/ajitjohnson_n/\" rel=\"canonical\"/>\n",
       "<meta content=\"2,487 Followers, 25 Following, 42 Posts - See Instagram photos and videos from Ajit Johnson (@ajitjohnson_n)\" name=\"description\"/>\n",
       "<meta content=\"profile\" property=\"og:type\"/>\n",
       "<meta content=\"https://scontent-lga3-1.cdninstagram.com/v/t51.2885-19/s150x150/59562461_2443669475645100_6313068803714449408_n.jpg?_nc_ht=scontent-lga3-1.cdninstagram.com&amp;_nc_ohc=LVKO3bl44-oAX_kxfYV&amp;oh=fa111f42e58340df06ffdfe8199d1a16&amp;oe=5F2C1E82\" property=\"og:image\"/>\n",
       "<meta content=\"Ajit Johnson (@ajitjohnson_n) • Instagram photos and videos\" property=\"og:title\"/>\n",
       "<meta content=\"2,487 Followers, 25 Following, 42 Posts - See Instagram photos and videos from Ajit Johnson (@ajitjohnson_n)\" property=\"og:description\"/>\n",
       "<meta content=\"https://www.instagram.com/ajitjohnson_n/\" property=\"og:url\"/>\n",
       "<link href=\"https://www.instagram.com/ajitjohnson_n/\" hreflang=\"x-default\" rel=\"alternate\"/>\n",
       "<link href=\"https://www.instagram.com/ajitjohnson_n/?hl=en\" hreflang=\"en\" rel=\"alternate\"/>\n",
       "<link href=\"https://www.instagram.com/ajitjohnson_n/?hl=fr\" hreflang=\"fr\" rel=\"alternate\"/>\n",
       "<link href=\"https://www.instagram.com/ajitjohnson_n/?hl=it\" hreflang=\"it\" rel=\"alternate\"/>\n",
       "<link href=\"https://www.instagram.com/ajitjohnson_n/?hl=de\" hreflang=\"de\" rel=\"alternate\"/>\n",
       "<link href=\"https://www.instagram.com/ajitjohnson_n/?hl=es\" hreflang=\"es\" rel=\"alternate\"/>\n",
       "<link href=\"https://www.instagram.com/ajitjohnson_n/?hl=zh-cn\" hreflang=\"zh-cn\" rel=\"alternate\"/>\n",
       "<link href=\"https://www.instagram.com/ajitjohnson_n/?hl=zh-tw\" hreflang=\"zh-tw\" rel=\"alternate\"/>\n",
       "<link href=\"https://www.instagram.com/ajitjohnson_n/?hl=ja\" hreflang=\"ja\" rel=\"alternate\"/>\n",
       "<link href=\"https://www.instagram.com/ajitjohnson_n/?hl=ko\" hreflang=\"ko\" rel=\"alternate\"/>\n",
       "<link href=\"https://www.instagram.com/ajitjohnson_n/?hl=pt\" hreflang=\"pt\" rel=\"alternate\"/>\n",
       "<link href=\"https://www.instagram.com/ajitjohnson_n/?hl=pt-br\" hreflang=\"pt-br\" rel=\"alternate\"/>\n",
       "<link href=\"https://www.instagram.com/ajitjohnson_n/?hl=af\" hreflang=\"af\" rel=\"alternate\"/>\n",
       "<link href=\"https://www.instagram.com/ajitjohnson_n/?hl=cs\" hreflang=\"cs\" rel=\"alternate\"/>\n",
       "<link href=\"https://www.instagram.com/ajitjohnson_n/?hl=da\" hreflang=\"da\" rel=\"alternate\"/>\n",
       "<link href=\"https://www.instagram.com/ajitjohnson_n/?hl=el\" hreflang=\"el\" rel=\"alternate\"/>\n",
       "<link href=\"https://www.instagram.com/ajitjohnson_n/?hl=fi\" hreflang=\"fi\" rel=\"alternate\"/>\n",
       "<link href=\"https://www.instagram.com/ajitjohnson_n/?hl=hr\" hreflang=\"hr\" rel=\"alternate\"/>\n",
       "<link href=\"https://www.instagram.com/ajitjohnson_n/?hl=hu\" hreflang=\"hu\" rel=\"alternate\"/>\n",
       "<link href=\"https://www.instagram.com/ajitjohnson_n/?hl=id\" hreflang=\"id\" rel=\"alternate\"/>\n",
       "<link href=\"https://www.instagram.com/ajitjohnson_n/?hl=ms\" hreflang=\"ms\" rel=\"alternate\"/>\n",
       "<link href=\"https://www.instagram.com/ajitjohnson_n/?hl=nb\" hreflang=\"nb\" rel=\"alternate\"/>\n",
       "<link href=\"https://www.instagram.com/ajitjohnson_n/?hl=nl\" hreflang=\"nl\" rel=\"alternate\"/>\n",
       "<link href=\"https://www.instagram.com/ajitjohnson_n/?hl=pl\" hreflang=\"pl\" rel=\"alternate\"/>\n",
       "<link href=\"https://www.instagram.com/ajitjohnson_n/?hl=ru\" hreflang=\"ru\" rel=\"alternate\"/>\n",
       "<link href=\"https://www.instagram.com/ajitjohnson_n/?hl=sk\" hreflang=\"sk\" rel=\"alternate\"/>\n",
       "<link href=\"https://www.instagram.com/ajitjohnson_n/?hl=sv\" hreflang=\"sv\" rel=\"alternate\"/>\n",
       "<link href=\"https://www.instagram.com/ajitjohnson_n/?hl=th\" hreflang=\"th\" rel=\"alternate\"/>\n",
       "<link href=\"https://www.instagram.com/ajitjohnson_n/?hl=tl\" hreflang=\"tl\" rel=\"alternate\"/>\n",
       "<link href=\"https://www.instagram.com/ajitjohnson_n/?hl=tr\" hreflang=\"tr\" rel=\"alternate\"/>\n",
       "<link href=\"https://www.instagram.com/ajitjohnson_n/?hl=hi\" hreflang=\"hi\" rel=\"alternate\"/>\n",
       "<link href=\"https://www.instagram.com/ajitjohnson_n/?hl=bn\" hreflang=\"bn\" rel=\"alternate\"/>\n",
       "<link href=\"https://www.instagram.com/ajitjohnson_n/?hl=gu\" hreflang=\"gu\" rel=\"alternate\"/>\n",
       "<link href=\"https://www.instagram.com/ajitjohnson_n/?hl=kn\" hreflang=\"kn\" rel=\"alternate\"/>\n",
       "<link href=\"https://www.instagram.com/ajitjohnson_n/?hl=ml\" hreflang=\"ml\" rel=\"alternate\"/>\n",
       "<link href=\"https://www.instagram.com/ajitjohnson_n/?hl=mr\" hreflang=\"mr\" rel=\"alternate\"/>\n",
       "<link href=\"https://www.instagram.com/ajitjohnson_n/?hl=pa\" hreflang=\"pa\" rel=\"alternate\"/>\n",
       "<link href=\"https://www.instagram.com/ajitjohnson_n/?hl=ta\" hreflang=\"ta\" rel=\"alternate\"/>\n",
       "<link href=\"https://www.instagram.com/ajitjohnson_n/?hl=te\" hreflang=\"te\" rel=\"alternate\"/>\n",
       "<link href=\"https://www.instagram.com/ajitjohnson_n/?hl=ne\" hreflang=\"ne\" rel=\"alternate\"/>\n",
       "<link href=\"https://www.instagram.com/ajitjohnson_n/?hl=si\" hreflang=\"si\" rel=\"alternate\"/>\n",
       "<link href=\"https://www.instagram.com/ajitjohnson_n/?hl=ur\" hreflang=\"ur\" rel=\"alternate\"/>\n",
       "<link href=\"https://www.instagram.com/ajitjohnson_n/?hl=vi\" hreflang=\"vi\" rel=\"alternate\"/>\n",
       "<link href=\"https://www.instagram.com/ajitjohnson_n/?hl=bg\" hreflang=\"bg\" rel=\"alternate\"/>\n",
       "<link href=\"https://www.instagram.com/ajitjohnson_n/?hl=fr-ca\" hreflang=\"fr-ca\" rel=\"alternate\"/>\n",
       "<link href=\"https://www.instagram.com/ajitjohnson_n/?hl=ro\" hreflang=\"ro\" rel=\"alternate\"/>\n",
       "<link href=\"https://www.instagram.com/ajitjohnson_n/?hl=sr\" hreflang=\"sr\" rel=\"alternate\"/>\n",
       "<link href=\"https://www.instagram.com/ajitjohnson_n/?hl=uk\" hreflang=\"uk\" rel=\"alternate\"/>\n",
       "<link href=\"https://www.instagram.com/ajitjohnson_n/?hl=zh-hk\" hreflang=\"zh-hk\" rel=\"alternate\"/>\n",
       "<link href=\"https://www.instagram.com/ajitjohnson_n/?hl=es-la\" hreflang=\"es-ve\" rel=\"alternate\"/>\n",
       "<link href=\"https://www.instagram.com/ajitjohnson_n/?hl=es-la\" hreflang=\"es-ar\" rel=\"alternate\"/>\n",
       "<link href=\"https://www.instagram.com/ajitjohnson_n/?hl=es-la\" hreflang=\"es-do\" rel=\"alternate\"/>\n",
       "<link href=\"https://www.instagram.com/ajitjohnson_n/?hl=es-la\" hreflang=\"es-cl\" rel=\"alternate\"/>\n",
       "<link href=\"https://www.instagram.com/ajitjohnson_n/?hl=es-la\" hreflang=\"es-sv\" rel=\"alternate\"/>\n",
       "<link href=\"https://www.instagram.com/ajitjohnson_n/?hl=es-la\" hreflang=\"es-cr\" rel=\"alternate\"/>\n",
       "<link href=\"https://www.instagram.com/ajitjohnson_n/?hl=es-la\" hreflang=\"es-pr\" rel=\"alternate\"/>\n",
       "<link href=\"https://www.instagram.com/ajitjohnson_n/?hl=es-la\" hreflang=\"es-mx\" rel=\"alternate\"/>\n",
       "<link href=\"https://www.instagram.com/ajitjohnson_n/?hl=es-la\" hreflang=\"es-pa\" rel=\"alternate\"/>\n",
       "<link href=\"https://www.instagram.com/ajitjohnson_n/?hl=es-la\" hreflang=\"es-pe\" rel=\"alternate\"/>\n",
       "<link href=\"https://www.instagram.com/ajitjohnson_n/?hl=es-la\" hreflang=\"es-py\" rel=\"alternate\"/>\n",
       "<link href=\"https://www.instagram.com/ajitjohnson_n/?hl=es-la\" hreflang=\"es-ec\" rel=\"alternate\"/>\n",
       "<link href=\"https://www.instagram.com/ajitjohnson_n/?hl=es-la\" hreflang=\"es-gt\" rel=\"alternate\"/>\n",
       "<link href=\"https://www.instagram.com/ajitjohnson_n/?hl=es-la\" hreflang=\"es-ni\" rel=\"alternate\"/>\n",
       "<link href=\"https://www.instagram.com/ajitjohnson_n/?hl=es-la\" hreflang=\"es-cu\" rel=\"alternate\"/>\n",
       "<link href=\"https://www.instagram.com/ajitjohnson_n/?hl=es-la\" hreflang=\"es-hn\" rel=\"alternate\"/>\n",
       "<link href=\"https://www.instagram.com/ajitjohnson_n/?hl=es-la\" hreflang=\"es-uy\" rel=\"alternate\"/>\n",
       "<link href=\"https://www.instagram.com/ajitjohnson_n/?hl=es-la\" hreflang=\"es-co\" rel=\"alternate\"/>\n",
       "<link href=\"https://www.instagram.com/ajitjohnson_n/?hl=es-la\" hreflang=\"es-bo\" rel=\"alternate\"/>\n",
       "</head>\n",
       "<body class=\"\" style=\"\n",
       "    background: white;\n",
       "\">\n",
       "<div id=\"react-root\">\n",
       "<span><svg height=\"50\" style=\"position:absolute;top:50%;left:50%;margin:-25px 0 0 -25px;fill:#c7c7c7\" viewbox=\"0 0 50 50\" width=\"50\"><path d=\"M25 1c-6.52 0-7.34.03-9.9.14-2.55.12-4.3.53-5.82 1.12a11.76 11.76 0 0 0-4.25 2.77 11.76 11.76 0 0 0-2.77 4.25c-.6 1.52-1 3.27-1.12 5.82C1.03 17.66 1 18.48 1 25c0 6.5.03 7.33.14 9.88.12 2.56.53 4.3 1.12 5.83a11.76 11.76 0 0 0 2.77 4.25 11.76 11.76 0 0 0 4.25 2.77c1.52.59 3.27 1 5.82 1.11 2.56.12 3.38.14 9.9.14 6.5 0 7.33-.02 9.88-.14 2.56-.12 4.3-.52 5.83-1.11a11.76 11.76 0 0 0 4.25-2.77 11.76 11.76 0 0 0 2.77-4.25c.59-1.53 1-3.27 1.11-5.83.12-2.55.14-3.37.14-9.89 0-6.51-.02-7.33-.14-9.89-.12-2.55-.52-4.3-1.11-5.82a11.76 11.76 0 0 0-2.77-4.25 11.76 11.76 0 0 0-4.25-2.77c-1.53-.6-3.27-1-5.83-1.12A170.2 170.2 0 0 0 25 1zm0 4.32c6.4 0 7.16.03 9.69.14 2.34.11 3.6.5 4.45.83 1.12.43 1.92.95 2.76 1.8a7.43 7.43 0 0 1 1.8 2.75c.32.85.72 2.12.82 4.46.12 2.53.14 3.29.14 9.7 0 6.4-.02 7.16-.14 9.69-.1 2.34-.5 3.6-.82 4.45a7.43 7.43 0 0 1-1.8 2.76 7.43 7.43 0 0 1-2.76 1.8c-.84.32-2.11.72-4.45.82-2.53.12-3.3.14-9.7.14-6.4 0-7.16-.02-9.7-.14-2.33-.1-3.6-.5-4.45-.82a7.43 7.43 0 0 1-2.76-1.8 7.43 7.43 0 0 1-1.8-2.76c-.32-.84-.71-2.11-.82-4.45a166.5 166.5 0 0 1-.14-9.7c0-6.4.03-7.16.14-9.7.11-2.33.5-3.6.83-4.45a7.43 7.43 0 0 1 1.8-2.76 7.43 7.43 0 0 1 2.75-1.8c.85-.32 2.12-.71 4.46-.82 2.53-.11 3.29-.14 9.7-.14zm0 7.35a12.32 12.32 0 1 0 0 24.64 12.32 12.32 0 0 0 0-24.64zM25 33a8 8 0 1 1 0-16 8 8 0 0 1 0 16zm15.68-20.8a2.88 2.88 0 1 0-5.76 0 2.88 2.88 0 0 0 5.76 0z\"></path></svg></span>\n",
       "</div>\n",
       "<link crossorigin=\"anonymous\" href=\"/static/bundles/metro/ConsumerUICommons.css/fdb115fdf8be.css\" rel=\"stylesheet\" type=\"text/css\"/>\n",
       "<link crossorigin=\"anonymous\" href=\"/static/bundles/metro/ConsumerAsyncCommons.css/11e09dc81708.css\" rel=\"stylesheet\" type=\"text/css\"/>\n",
       "<link crossorigin=\"anonymous\" href=\"/static/bundles/metro/Consumer.css/057c3762507f.css\" rel=\"stylesheet\" type=\"text/css\"/>\n",
       "<script type=\"text/javascript\">window._sharedData = {\"config\":{\"csrf_token\":\"rEmnAO83IjoXxFDVk5tLMeX3gDJxoRUH\",\"viewer\":null,\"viewerId\":null},\"country_code\":\"US\",\"language_code\":\"en\",\"locale\":\"en_US\",\"entry_data\":{\"ProfilePage\":[{\"logging_page_id\":\"profilePage_12867241582\",\"show_suggested_profiles\":false,\"show_follow_dialog\":false,\"graphql\":{\"user\":{\"biography\":\"\\ud83d\\udde3 Stay on top of the latest research\\n\\ud83d\\udcd8 Cancer geneticist @harvard\",\"blocked_by_viewer\":false,\"restricted_by_viewer\":null,\"country_block\":false,\"external_url\":\"https://ajitjohnson.com/about-insta\",\"external_url_linkshimmed\":\"https://l.instagram.com/?u=https%3A%2F%2Fajitjohnson.com%2Fabout-insta\\u0026e=ATPyZk5-NtgKp6Ia-jilN3eFs-E8zo_yidqL0rvXDk5emGFiVk6wj39zTLu903z7EcQlBxD7OfAC8kvpkfAgVHAyoH-3ja7o\\u0026s=1\",\"edge_followed_by\":{\"count\":2487},\"followed_by_viewer\":false,\"edge_follow\":{\"count\":25},\"follows_viewer\":false,\"full_name\":\"Ajit Johnson\",\"has_ar_effects\":false,\"has_channel\":false,\"has_blocked_viewer\":false,\"highlight_reel_count\":0,\"has_requested_viewer\":false,\"id\":\"12867241582\",\"is_business_account\":false,\"is_joined_recently\":false,\"business_category_name\":null,\"overall_category_name\":null,\"category_enum\":null,\"is_private\":false,\"is_verified\":false,\"edge_mutual_followed_by\":{\"count\":0,\"edges\":[]},\"profile_pic_url\":\"https://scontent-lga3-1.cdninstagram.com/v/t51.2885-19/s150x150/59562461_2443669475645100_6313068803714449408_n.jpg?_nc_ht=scontent-lga3-1.cdninstagram.com\\u0026_nc_ohc=LVKO3bl44-oAX_kxfYV\\u0026oh=fa111f42e58340df06ffdfe8199d1a16\\u0026oe=5F2C1E82\",\"profile_pic_url_hd\":\"https://scontent-lga3-1.cdninstagram.com/v/t51.2885-19/s320x320/59562461_2443669475645100_6313068803714449408_n.jpg?_nc_ht=scontent-lga3-1.cdninstagram.com\\u0026_nc_ohc=LVKO3bl44-oAX_kxfYV\\u0026oh=a537d4a2bb6a804176f3076556cea2fe\\u0026oe=5F2B7BFA\",\"requested_by_viewer\":false,\"username\":\"ajitjohnson_n\",\"connected_fb_page\":null,\"edge_felix_video_timeline\":{\"count\":0,\"page_info\":{\"has_next_page\":false,\"end_cursor\":null},\"edges\":[]},\"edge_owner_to_timeline_media\":{\"count\":42,\"page_info\":{\"has_next_page\":true,\"end_cursor\":\"QVFDZzQteFR3VzQxa2dVWkpjZ0NrQ1RZbUc4Nkp3blFxODNXc1o2OTFyRnZTa25VRTRRcTJTUGlnUGNiUzlMaWpNQVY1aXREaEJOVmhCcHV4eVBtaWdqMQ==\"},\"edges\":[{\"node\":{\"__typename\":\"GraphVideo\",\"id\":\"2270851178555235034\",\"shortcode\":\"B-Drx2Lj9ra\",\"dimensions\":{\"height\":452,\"width\":750},\"display_url\":\"https://scontent-lga3-1.cdninstagram.com/v/t51.2885-15/e35/90704127_203218460968653_8345112402066709244_n.jpg?_nc_ht=scontent-lga3-1.cdninstagram.com\\u0026_nc_cat=109\\u0026_nc_ohc=109Glb94ywYAX9VASI2\\u0026oh=16dc76bfee8a24cd4c1c8f342b01d5fb\\u0026oe=5F049722\",\"gating_info\":null,\"fact_check_overall_rating\":null,\"fact_check_information\":null,\"media_overlay_info\":null,\"media_preview\":\"ACoZ6aimNu7Uxt3vQMlppkUDPpVdicc005IpjsWY5N9SVVg6/hVqkJiZFGRTaSgQ8gGmGJTThS0ARxxiOpKQ0UAf/9k=\",\"owner\":{\"id\":\"12867241582\",\"username\":\"ajitjohnson_n\"},\"is_video\":true,\"accessibility_caption\":null,\"edge_media_to_caption\":{\"edges\":[{\"node\":{\"text\":\"How much harm can one person really do? A sobering image of just how powerful social distancing can be in fighting COVID-19\"}}]},\"edge_media_to_comment\":{\"count\":8},\"comments_disabled\":false,\"taken_at_timestamp\":1584926621,\"edge_liked_by\":{\"count\":173},\"edge_media_preview_like\":{\"count\":173},\"location\":{\"id\":\"309607212863879\",\"has_public_page\":true,\"name\":\"Harvard University, Boston, Massachusetts\",\"slug\":\"harvard-university-boston-massachusetts\"},\"thumbnail_src\":\"https://scontent-lga3-1.cdninstagram.com/v/t51.2885-15/e35/c143.0.434.434a/90704127_203218460968653_8345112402066709244_n.jpg?_nc_ht=scontent-lga3-1.cdninstagram.com\\u0026_nc_cat=109\\u0026_nc_ohc=109Glb94ywYAX9VASI2\\u0026oh=b73ddd3d120a39c3aa01a6f84e1f87f7\\u0026oe=5F04E248\",\"thumbnail_resources\":[{\"src\":\"https://scontent-lga3-1.cdninstagram.com/v/t51.2885-15/e35/c143.0.434.434a/s150x150/90704127_203218460968653_8345112402066709244_n.jpg?_nc_ht=scontent-lga3-1.cdninstagram.com\\u0026_nc_cat=109\\u0026_nc_ohc=109Glb94ywYAX9VASI2\\u0026oh=32f8d7b16e0875871421853a90ed29aa\\u0026oe=5F04C86D\",\"config_width\":150,\"config_height\":150},{\"src\":\"https://scontent-lga3-1.cdninstagram.com/v/t51.2885-15/e35/c143.0.434.434a/s240x240/90704127_203218460968653_8345112402066709244_n.jpg?_nc_ht=scontent-lga3-1.cdninstagram.com\\u0026_nc_cat=109\\u0026_nc_ohc=109Glb94ywYAX9VASI2\\u0026oh=2031d42fa4f378ca4911623910bc226a\\u0026oe=5F04B667\",\"config_width\":240,\"config_height\":240},{\"src\":\"https://scontent-lga3-1.cdninstagram.com/v/t51.2885-15/e35/c143.0.434.434a/s320x320/90704127_203218460968653_8345112402066709244_n.jpg?_nc_ht=scontent-lga3-1.cdninstagram.com\\u0026_nc_cat=109\\u0026_nc_ohc=109Glb94ywYAX9VASI2\\u0026oh=9ae0164b9654c65fc9a6b91919839f1f\\u0026oe=5F049D9D\",\"config_width\":320,\"config_height\":320},{\"src\":\"https://scontent-lga3-1.cdninstagram.com/v/t51.2885-15/e35/c143.0.434.434a/90704127_203218460968653_8345112402066709244_n.jpg?_nc_ht=scontent-lga3-1.cdninstagram.com\\u0026_nc_cat=109\\u0026_nc_ohc=109Glb94ywYAX9VASI2\\u0026oh=b73ddd3d120a39c3aa01a6f84e1f87f7\\u0026oe=5F04E248\",\"config_width\":480,\"config_height\":480},{\"src\":\"https://scontent-lga3-1.cdninstagram.com/v/t51.2885-15/e35/c143.0.434.434a/90704127_203218460968653_8345112402066709244_n.jpg?_nc_ht=scontent-lga3-1.cdninstagram.com\\u0026_nc_cat=109\\u0026_nc_ohc=109Glb94ywYAX9VASI2\\u0026oh=b73ddd3d120a39c3aa01a6f84e1f87f7\\u0026oe=5F04E248\",\"config_width\":640,\"config_height\":640}],\"felix_profile_grid_crop\":null,\"video_view_count\":1039}},{\"node\":{\"__typename\":\"GraphVideo\",\"id\":\"2226367856141266784\",\"shortcode\":\"B7lpcT0pe9g\",\"dimensions\":{\"height\":937,\"width\":750},\"display_url\":\"https://scontent-lga3-1.cdninstagram.com/v/t51.2885-15/e35/82435100_805397216593221_5513031040050124596_n.jpg?_nc_ht=scontent-lga3-1.cdninstagram.com\\u0026_nc_cat=109\\u0026_nc_ohc=ItAI3c3ZfQAAX-_79Dd\\u0026oh=87a9539fc45132a3ba3cf04ef33c8718\\u0026oe=5F047A8A\",\"gating_info\":null,\"fact_check_overall_rating\":null,\"fact_check_information\":null,\"media_overlay_info\":null,\"media_preview\":\"ACEq2gM/lXL4wfpXVL1rk2HmuY+fvEHHoM1mWyezuEWYBmwP0z/Ktpfur7k1lGwtzHn5gTwOuc/yxWhEdsKZ6hR/KlLyGtCzRVLz6Kz5S7laHUimSRnNQecqNvRec7ieST3NU1A71aTdEQxBGDxn17iurk7s5+YufbwADgHd0HfNDzg4x0K1CxiwSi7Wbr7d+Pr+FVSwqeS+uxbn8yXzKKr5FFHKxcyEt08x13dMkn8P6VqSCLDMf3kmD34A7YHQY7AAn1qhb/w/U/0q5MBt/P8AnTvdlJJRIyVx0H5f/WFG0MijtnP+IPv79xj0qsD0HuP6VNHwv/Aj/Kqk9iYIX7MKKkorLmfc35Y9j//Z\",\"owner\":{\"id\":\"12867241582\",\"username\":\"ajitjohnson_n\"},\"is_video\":true,\"accessibility_caption\":null,\"edge_media_to_caption\":{\"edges\":[{\"node\":{\"text\":\"The brain-computer interface developed by MIPT and Neurobotics relies on artificial neural networks and electroencephalography, or EEG, a technique for recording brain waves via electrodes placed noninvasively on the scalp..\\n.\\nBy analyzing brain activity, the system reconstructs the images seen by a person undergoing EEG in real time.\\n.\\nCool or Creepy?\"}}]},\"edge_media_to_comment\":{\"count\":17},\"comments_disabled\":false,\"taken_at_timestamp\":1579623935,\"edge_liked_by\":{\"count\":270},\"edge_media_preview_like\":{\"count\":1362},\"location\":{\"id\":\"479350\",\"has_public_page\":true,\"name\":\"Harvard Medical School\",\"slug\":\"harvard-medical-school\"},\"thumbnail_src\":\"https://scontent-lga3-1.cdninstagram.com/v/t51.2885-15/sh0.08/e35/c0.90.720.720a/s640x640/82435100_805397216593221_5513031040050124596_n.jpg?_nc_ht=scontent-lga3-1.cdninstagram.com\\u0026_nc_cat=109\\u0026_nc_ohc=ItAI3c3ZfQAAX-_79Dd\\u0026oh=5e89aac588fefead5fab728073e77e2a\\u0026oe=5F047EDE\",\"thumbnail_resources\":[{\"src\":\"https://scontent-lga3-1.cdninstagram.com/v/t51.2885-15/e35/c0.90.720.720a/s150x150/82435100_805397216593221_5513031040050124596_n.jpg?_nc_ht=scontent-lga3-1.cdninstagram.com\\u0026_nc_cat=109\\u0026_nc_ohc=ItAI3c3ZfQAAX-_79Dd\\u0026oh=a55f3b97671d3cd723f0c6c9754d915f\\u0026oe=5F04BD98\",\"config_width\":150,\"config_height\":150},{\"src\":\"https://scontent-lga3-1.cdninstagram.com/v/t51.2885-15/e35/c0.90.720.720a/s240x240/82435100_805397216593221_5513031040050124596_n.jpg?_nc_ht=scontent-lga3-1.cdninstagram.com\\u0026_nc_cat=109\\u0026_nc_ohc=ItAI3c3ZfQAAX-_79Dd\\u0026oh=b0bb795b4495f3e40527ff7b0bfa90c3\\u0026oe=5F04955E\",\"config_width\":240,\"config_height\":240},{\"src\":\"https://scontent-lga3-1.cdninstagram.com/v/t51.2885-15/e35/c0.90.720.720a/s320x320/82435100_805397216593221_5513031040050124596_n.jpg?_nc_ht=scontent-lga3-1.cdninstagram.com\\u0026_nc_cat=109\\u0026_nc_ohc=ItAI3c3ZfQAAX-_79Dd\\u0026oh=eb711a88db359580ba340d8a4264decf\\u0026oe=5F048EA8\",\"config_width\":320,\"config_height\":320},{\"src\":\"https://scontent-lga3-1.cdninstagram.com/v/t51.2885-15/e35/c0.90.720.720a/s480x480/82435100_805397216593221_5513031040050124596_n.jpg?_nc_ht=scontent-lga3-1.cdninstagram.com\\u0026_nc_cat=109\\u0026_nc_ohc=ItAI3c3ZfQAAX-_79Dd\\u0026oh=f0da56c7dcd1969b46c067ac27919419\\u0026oe=5F05157E\",\"config_width\":480,\"config_height\":480},{\"src\":\"https://scontent-lga3-1.cdninstagram.com/v/t51.2885-15/sh0.08/e35/c0.90.720.720a/s640x640/82435100_805397216593221_5513031040050124596_n.jpg?_nc_ht=scontent-lga3-1.cdninstagram.com\\u0026_nc_cat=109\\u0026_nc_ohc=ItAI3c3ZfQAAX-_79Dd\\u0026oh=5e89aac588fefead5fab728073e77e2a\\u0026oe=5F047EDE\",\"config_width\":640,\"config_height\":640}],\"felix_profile_grid_crop\":null,\"video_view_count\":5169}},{\"node\":{\"__typename\":\"GraphVideo\",\"id\":\"2209688808975633248\",\"shortcode\":\"B6qZEOrJgtg\",\"dimensions\":{\"height\":937,\"width\":750},\"display_url\":\"https://instagram.fbed1-1.fna.fbcdn.net/v/t51.2885-15/e35/80806542_104289154345213_3228421081407084119_n.jpg?_nc_ht=instagram.fbed1-1.fna.fbcdn.net\\u0026_nc_cat=101\\u0026_nc_ohc=ADCXcktitcQAX9i1ZK-\\u0026oh=addb1bc29fab270efc62e4861abfcbcc\\u0026oe=5F048CF0\",\"gating_info\":null,\"fact_check_overall_rating\":null,\"fact_check_information\":null,\"media_overlay_info\":null,\"media_preview\":\"ACEq55VGOf8AP6UEJ/n/APVTVUscCggD3oAdhP8AP/6qQ7R7/wCfpTKXcelACZopKKAJUfaPrTMk0Y70Dg80AByOtBFKxzjFNoASiiigBam8ksMjmoKcCR0oAUqR14ptBOetWwo29B0/pQBTooooA//Z\",\"owner\":{\"id\":\"12867241582\",\"username\":\"ajitjohnson_n\"},\"is_video\":true,\"accessibility_caption\":null,\"edge_media_to_caption\":{\"edges\":[{\"node\":{\"text\":\"To stay on top of the latest ground breaking research \\ud83d\\udc49 Follow @ajitjohnson_n .\\n.\\n.\\nJupiter shepherding the asteroid belt, preventing them falling in towards the inner planets.\"}}]},\"edge_media_to_comment\":{\"count\":12},\"comments_disabled\":false,\"taken_at_timestamp\":1577635481,\"edge_liked_by\":{\"count\":325},\"edge_media_preview_like\":{\"count\":1393},\"location\":{\"id\":\"52395\",\"has_public_page\":true,\"name\":\"Harvard University\",\"slug\":\"harvard-university\"},\"thumbnail_src\":\"https://instagram.fbed1-1.fna.fbcdn.net/v/t51.2885-15/sh0.08/e35/c0.90.720.720a/s640x640/80806542_104289154345213_3228421081407084119_n.jpg?_nc_ht=instagram.fbed1-1.fna.fbcdn.net\\u0026_nc_cat=101\\u0026_nc_ohc=ADCXcktitcQAX9i1ZK-\\u0026oh=f9b4c7efdfc9e861220dc68c46f577e4\\u0026oe=5F048FFC\",\"thumbnail_resources\":[{\"src\":\"https://instagram.fbed1-1.fna.fbcdn.net/v/t51.2885-15/e35/c0.90.720.720a/s150x150/80806542_104289154345213_3228421081407084119_n.jpg?_nc_ht=instagram.fbed1-1.fna.fbcdn.net\\u0026_nc_cat=101\\u0026_nc_ohc=ADCXcktitcQAX9i1ZK-\\u0026oh=8f16f3990af78d9259a107846dd53d3f\\u0026oe=5F04D7F2\",\"config_width\":150,\"config_height\":150},{\"src\":\"https://instagram.fbed1-1.fna.fbcdn.net/v/t51.2885-15/e35/c0.90.720.720a/s240x240/80806542_104289154345213_3228421081407084119_n.jpg?_nc_ht=instagram.fbed1-1.fna.fbcdn.net\\u0026_nc_cat=101\\u0026_nc_ohc=ADCXcktitcQAX9i1ZK-\\u0026oh=6fd352a254d9fc2dcb82090b9eaf440c\\u0026oe=5F0476BC\",\"config_width\":240,\"config_height\":240},{\"src\":\"https://instagram.fbed1-1.fna.fbcdn.net/v/t51.2885-15/e35/c0.90.720.720a/s320x320/80806542_104289154345213_3228421081407084119_n.jpg?_nc_ht=instagram.fbed1-1.fna.fbcdn.net\\u0026_nc_cat=101\\u0026_nc_ohc=ADCXcktitcQAX9i1ZK-\\u0026oh=ee4d0a9fca60ccf7aa2055ebf5826cba\\u0026oe=5F048A82\",\"config_width\":320,\"config_height\":320},{\"src\":\"https://instagram.fbed1-1.fna.fbcdn.net/v/t51.2885-15/e35/c0.90.720.720a/s480x480/80806542_104289154345213_3228421081407084119_n.jpg?_nc_ht=instagram.fbed1-1.fna.fbcdn.net\\u0026_nc_cat=101\\u0026_nc_ohc=ADCXcktitcQAX9i1ZK-\\u0026oh=1a374c91b671b7f055468b1be3c9712e\\u0026oe=5F04AF5C\",\"config_width\":480,\"config_height\":480},{\"src\":\"https://instagram.fbed1-1.fna.fbcdn.net/v/t51.2885-15/sh0.08/e35/c0.90.720.720a/s640x640/80806542_104289154345213_3228421081407084119_n.jpg?_nc_ht=instagram.fbed1-1.fna.fbcdn.net\\u0026_nc_cat=101\\u0026_nc_ohc=ADCXcktitcQAX9i1ZK-\\u0026oh=f9b4c7efdfc9e861220dc68c46f577e4\\u0026oe=5F048FFC\",\"config_width\":640,\"config_height\":640}],\"felix_profile_grid_crop\":null,\"video_view_count\":28576}},{\"node\":{\"__typename\":\"GraphVideo\",\"id\":\"2207530319054398975\",\"shortcode\":\"B6iuSESJGX_\",\"dimensions\":{\"height\":750,\"width\":750},\"display_url\":\"https://scontent-lga3-1.cdninstagram.com/v/t51.2885-15/e35/78776984_172469303837392_8463944249682338010_n.jpg?_nc_ht=scontent-lga3-1.cdninstagram.com\\u0026_nc_cat=104\\u0026_nc_ohc=ZesyX_0FMBkAX8pjNjb\\u0026oh=7a9a22a4e4120f173b3b5e6ae555c1ea\\u0026oe=5F04D45D\",\"gating_info\":null,\"fact_check_overall_rating\":null,\"fact_check_information\":null,\"media_overlay_info\":null,\"media_preview\":\"ACoq5qnUYpcUAFFHvSZpgGKXbTwCexpaAHsCqADo3PXvnHSq4BzUxk3gLjGKZ2Pf0pAIOOaNuRkEep/w/wD1Z4/GkJHHGPX3oJ9OaAJUkK8A8E9h/wDXqPbnnn/P4Ue/Uf5/KnCRxwGYD0BOPw5oAacdqB0+uKbRQAp4weuO1IMY/wA/5/Og0lADgTye/wDn/PtRkD1/OkFFAH//2Q==\",\"owner\":{\"id\":\"12867241582\",\"username\":\"ajitjohnson_n\"},\"is_video\":true,\"accessibility_caption\":null,\"edge_media_to_caption\":{\"edges\":[{\"node\":{\"text\":\"A look at a tiny piece of our known universe.\"}}]},\"edge_media_to_comment\":{\"count\":10},\"comments_disabled\":false,\"taken_at_timestamp\":1577378190,\"edge_liked_by\":{\"count\":306},\"edge_media_preview_like\":{\"count\":306},\"location\":{\"id\":\"52395\",\"has_public_page\":true,\"name\":\"Harvard University\",\"slug\":\"harvard-university\"},\"thumbnail_src\":\"https://scontent-lga3-1.cdninstagram.com/v/t51.2885-15/sh0.08/e35/s640x640/78776984_172469303837392_8463944249682338010_n.jpg?_nc_ht=scontent-lga3-1.cdninstagram.com\\u0026_nc_cat=104\\u0026_nc_ohc=ZesyX_0FMBkAX8pjNjb\\u0026oh=60426bb50b031a13131dab9e5dfedfe2\\u0026oe=5F0476FA\",\"thumbnail_resources\":[{\"src\":\"https://scontent-lga3-1.cdninstagram.com/v/t51.2885-15/e35/s150x150/78776984_172469303837392_8463944249682338010_n.jpg?_nc_ht=scontent-lga3-1.cdninstagram.com\\u0026_nc_cat=104\\u0026_nc_ohc=ZesyX_0FMBkAX8pjNjb\\u0026oh=82c3d5c7fd4a220ca8f8f6ac83b73ef6\\u0026oe=5F0482DF\",\"config_width\":150,\"config_height\":150},{\"src\":\"https://scontent-lga3-1.cdninstagram.com/v/t51.2885-15/e35/s240x240/78776984_172469303837392_8463944249682338010_n.jpg?_nc_ht=scontent-lga3-1.cdninstagram.com\\u0026_nc_cat=104\\u0026_nc_ohc=ZesyX_0FMBkAX8pjNjb\\u0026oh=d5fc05ebe24d74e060612864626c3f0a\\u0026oe=5F04C255\",\"config_width\":240,\"config_height\":240},{\"src\":\"https://scontent-lga3-1.cdninstagram.com/v/t51.2885-15/e35/s320x320/78776984_172469303837392_8463944249682338010_n.jpg?_nc_ht=scontent-lga3-1.cdninstagram.com\\u0026_nc_cat=104\\u0026_nc_ohc=ZesyX_0FMBkAX8pjNjb\\u0026oh=9fff11b09f6d4d84ed11dff2f5df48ca\\u0026oe=5F04ACAF\",\"config_width\":320,\"config_height\":320},{\"src\":\"https://scontent-lga3-1.cdninstagram.com/v/t51.2885-15/e35/s480x480/78776984_172469303837392_8463944249682338010_n.jpg?_nc_ht=scontent-lga3-1.cdninstagram.com\\u0026_nc_cat=104\\u0026_nc_ohc=ZesyX_0FMBkAX8pjNjb\\u0026oh=239b24661e5444015198a24e48af1b39\\u0026oe=5F0492B5\",\"config_width\":480,\"config_height\":480},{\"src\":\"https://scontent-lga3-1.cdninstagram.com/v/t51.2885-15/sh0.08/e35/s640x640/78776984_172469303837392_8463944249682338010_n.jpg?_nc_ht=scontent-lga3-1.cdninstagram.com\\u0026_nc_cat=104\\u0026_nc_ohc=ZesyX_0FMBkAX8pjNjb\\u0026oh=60426bb50b031a13131dab9e5dfedfe2\\u0026oe=5F0476FA\",\"config_width\":640,\"config_height\":640}],\"felix_profile_grid_crop\":null,\"video_view_count\":1565}},{\"node\":{\"__typename\":\"GraphVideo\",\"id\":\"2174196146254551959\",\"shortcode\":\"B4sS-AphpuX\",\"dimensions\":{\"height\":937,\"width\":750},\"display_url\":\"https://instagram.fbed1-2.fna.fbcdn.net/v/t51.2885-15/e35/75553985_162687364799174_1127411672382585892_n.jpg?_nc_ht=instagram.fbed1-2.fna.fbcdn.net\\u0026_nc_cat=102\\u0026_nc_ohc=0GzA7nUYfosAX8lNpQZ\\u0026oh=eb00590a7707b9212ecf98335a8cae88\\u0026oe=5F04AE3A\",\"gating_info\":null,\"fact_check_overall_rating\":null,\"fact_check_information\":null,\"media_overlay_info\":null,\"media_preview\":\"ACEqEQHtUnlj0FVo5xin+eK9E47MjmRc5HOByPesqU88VellwD7k/wBKzXOaxlsbRG0UlFYmhpN9n6xs5+o/qBSI0andy2OxBwT2B4qC2Y7DyQAT3cDnH90Y4689asBjzyfpuk/w69OvpxS53/V/8w5RrtC2CA3TkcjB/I8CodsP8W7Hrz/8TVgvjPXH+9Jznv0/D61HOx8s8k/jJ9O4xU8zHYg/c+rUVUoouFi3AyqvLAZPT5+Pfjjn86tIQwyv6eac/lWVTg7LwCR9DUjNRvlBJ4A/668+/wCfr3qGeRHU7WGfQGQ59vm496pGRjwSfzNMoAKKKKAP/9k=\",\"owner\":{\"id\":\"12867241582\",\"username\":\"ajitjohnson_n\"},\"is_video\":true,\"accessibility_caption\":null,\"edge_media_to_caption\":{\"edges\":[{\"node\":{\"text\":\"Researchers, inspired by diving bell spiders and rafts of fire ants, have created a metallic structure that is so water repellent, it refuses to sink\\u2014no matter how often it is forced into water or how much it is damaged or punctured.\\n\\nCould this lead to an unsinkable ship? A wearable flotation device that will still float after being punctured? Electronic monitoring devices that can survive in long term in the ocean?\\n\\nThe structure uses a technique the lab developed for using femtosecond bursts of lasers to \\u201cetch\\u201d the surfaces of metals with intricate micro- and nanoscale patterns that trap air and make the surfaces superhydrophobic, or water repellent.\\n\\nThe researchers found, however, that after being immersed in water for long periods of time, the surfaces may start to lose their hydrophobic properties.\\n\\nSo, they created a structure in which the treated surfaces on two parallel aluminum plates face inward, not outward, so they are enclosed and free from external wear and abrasion. The surfaces are separated by just the right distance to trap and hold enough air to keep the structure floating\\u2014in essence creating a waterproof compartment. The superhydrophobic surfaces will keep water from entering the compartment even when the structure is forced to submerge in water.\\n\\nEven after being forced to submerge for two months, the structures immediately bounced back to the surface after the load was released, Guo says. The structures also retained this ability even after being punctured multiple times, because air remains trapped in remaining parts of the compartment or adjoining structures.\"}}]},\"edge_media_to_comment\":{\"count\":8},\"comments_disabled\":false,\"taken_at_timestamp\":1573404637,\"edge_liked_by\":{\"count\":172},\"edge_media_preview_like\":{\"count\":172},\"location\":{\"id\":\"52395\",\"has_public_page\":true,\"name\":\"Harvard University\",\"slug\":\"harvard-university\"},\"thumbnail_src\":\"https://instagram.fbed1-2.fna.fbcdn.net/v/t51.2885-15/sh0.08/e35/c0.90.720.720a/s640x640/75553985_162687364799174_1127411672382585892_n.jpg?_nc_ht=instagram.fbed1-2.fna.fbcdn.net\\u0026_nc_cat=102\\u0026_nc_ohc=0GzA7nUYfosAX8lNpQZ\\u0026oh=90ab18ce916d3479f07b13faa73599b5\\u0026oe=5F04ADAE\",\"thumbnail_resources\":[{\"src\":\"https://instagram.fbed1-2.fna.fbcdn.net/v/t51.2885-15/e35/c0.90.720.720a/s150x150/75553985_162687364799174_1127411672382585892_n.jpg?_nc_ht=instagram.fbed1-2.fna.fbcdn.net\\u0026_nc_cat=102\\u0026_nc_ohc=0GzA7nUYfosAX8lNpQZ\\u0026oh=a342ab4dd2130446fdfd997c1cc98c8c\\u0026oe=5F0485A8\",\"config_width\":150,\"config_height\":150},{\"src\":\"https://instagram.fbed1-2.fna.fbcdn.net/v/t51.2885-15/e35/c0.90.720.720a/s240x240/75553985_162687364799174_1127411672382585892_n.jpg?_nc_ht=instagram.fbed1-2.fna.fbcdn.net\\u0026_nc_cat=102\\u0026_nc_ohc=0GzA7nUYfosAX8lNpQZ\\u0026oh=1cbd0664963f2da170c269cdcab210a3\\u0026oe=5F0488EE\",\"config_width\":240,\"config_height\":240},{\"src\":\"https://instagram.fbed1-2.fna.fbcdn.net/v/t51.2885-15/e35/c0.90.720.720a/s320x320/75553985_162687364799174_1127411672382585892_n.jpg?_nc_ht=instagram.fbed1-2.fna.fbcdn.net\\u0026_nc_cat=102\\u0026_nc_ohc=0GzA7nUYfosAX8lNpQZ\\u0026oh=0c68753cc7371131efce0271ee93953b\\u0026oe=5F04E558\",\"config_width\":320,\"config_height\":320},{\"src\":\"https://instagram.fbed1-2.fna.fbcdn.net/v/t51.2885-15/e35/c0.90.720.720a/s480x480/75553985_162687364799174_1127411672382585892_n.jpg?_nc_ht=instagram.fbed1-2.fna.fbcdn.net\\u0026_nc_cat=102\\u0026_nc_ohc=0GzA7nUYfosAX8lNpQZ\\u0026oh=3dde9f99ebc282e6c8db97543b80035a\\u0026oe=5F04E4CE\",\"config_width\":480,\"config_height\":480},{\"src\":\"https://instagram.fbed1-2.fna.fbcdn.net/v/t51.2885-15/sh0.08/e35/c0.90.720.720a/s640x640/75553985_162687364799174_1127411672382585892_n.jpg?_nc_ht=instagram.fbed1-2.fna.fbcdn.net\\u0026_nc_cat=102\\u0026_nc_ohc=0GzA7nUYfosAX8lNpQZ\\u0026oh=90ab18ce916d3479f07b13faa73599b5\\u0026oe=5F04ADAE\",\"config_width\":640,\"config_height\":640}],\"felix_profile_grid_crop\":null,\"video_view_count\":488}},{\"node\":{\"__typename\":\"GraphVideo\",\"id\":\"2173476461594573236\",\"shortcode\":\"B4pvVOFBHm0\",\"dimensions\":{\"height\":937,\"width\":750},\"display_url\":\"https://scontent-lga3-1.cdninstagram.com/v/t51.2885-15/e35/75272057_499994590592308_6553287816742552573_n.jpg?_nc_ht=scontent-lga3-1.cdninstagram.com\\u0026_nc_cat=104\\u0026_nc_ohc=N1q5Vtf6RhMAX90QHK5\\u0026oh=bba7e3022a1a509f59af2c7f313507ea\\u0026oe=5F04FB3E\",\"gating_info\":null,\"fact_check_overall_rating\":null,\"fact_check_information\":null,\"media_overlay_info\":null,\"media_preview\":\"ACEqy0kjwMhQfTax/HO7qetSL5bH5Qpx22t/8VV2QhuwH0AqLYAM44+lZ3KsVyEXlgBn1Vv/AIrt0qMvGBxtYjttYZ59c1cMWRkgAnt3H+H060wrt4I5ODtABPHf2Hf1pXHymduHoKK1PNH90/8AfIopcwcpOQFGW/AetM83pjOQP19v6e1RtMpYk89h3wB0+v8AjU8jrENx5c9B6/X6elJ+ZQwSFB0/eMflB6gf3j6UIwiIAw+7knoc9j1/SmmGQLuJ2s/JY+noO/1/KnhUB3fe6ZJ9P8f5Uhi7X9f50U/zo/eilqBRN1t4jAX371Zt4sfvH5Y9M9vf6+lZo6itzAJPtnFNiRDLtUZcE+w7f/qqqbhFbCjH6fn6f19arSk4b6/41VJqkguavnxe35D/ABorJop8orn/2Q==\",\"owner\":{\"id\":\"12867241582\",\"username\":\"ajitjohnson_n\"},\"is_video\":true,\"accessibility_caption\":null,\"edge_media_to_caption\":{\"edges\":[{\"node\":{\"text\":\"When dinosaurs roamed the Earth, they did so on the other side of the freaking galaxy.\\n\\nAs you all know, just as the Earth rotates around the Sun, the Sun (with all the planets in tow) rotates around the center of the galaxy. We're moving at around 828,000 kilometers (514,500 miles) per hour, at a distance of about 28,000 light-years from the galactic center. We'll save you the trouble of trying to recite the exact figure of Pi from memory and performing your own calculations and reveal that this means we take around 230 million years (estimates put it somewhere between 225 to 250 million Earth years) to complete an orbit around the galactic center of the Milky Way.\\n\\nThat's an unfathomable amount of time. To make it even more unfathomable (or possibly less, we can't quite decide) that means that many of the dinosaurs lived on the other side of the galaxy to us. What's more, from the time of the plesiosaurs (not actually dinosaurs but rather large swimming reptiles) to the extinction event that wiped out the last dinosaurs, the Solar System had moved three-quarters of the way around the galactic center.\\n\\nYep dinosaur eras, like time involved when thinking about space, are unfathomably looooooong. To end on one last mindblower: There's a bigger time gap between the stegosaurus and the Tyrannosaurus rex than there is between T. rex and us.\"}}]},\"edge_media_to_comment\":{\"count\":23},\"comments_disabled\":false,\"taken_at_timestamp\":1573318639,\"edge_liked_by\":{\"count\":204},\"edge_media_preview_like\":{\"count\":204},\"location\":{\"id\":\"52395\",\"has_public_page\":true,\"name\":\"Harvard University\",\"slug\":\"harvard-university\"},\"thumbnail_src\":\"https://scontent-lga3-1.cdninstagram.com/v/t51.2885-15/sh0.08/e35/c0.90.720.720a/s640x640/75272057_499994590592308_6553287816742552573_n.jpg?_nc_ht=scontent-lga3-1.cdninstagram.com\\u0026_nc_cat=104\\u0026_nc_ohc=N1q5Vtf6RhMAX90QHK5\\u0026oh=96ed31820a3dce88617ad013e565bd81\\u0026oe=5F0504EA\",\"thumbnail_resources\":[{\"src\":\"https://scontent-lga3-1.cdninstagram.com/v/t51.2885-15/e35/c0.90.720.720a/s150x150/75272057_499994590592308_6553287816742552573_n.jpg?_nc_ht=scontent-lga3-1.cdninstagram.com\\u0026_nc_cat=104\\u0026_nc_ohc=N1q5Vtf6RhMAX90QHK5\\u0026oh=e84556becf0638a3a58d57dfa266ee24\\u0026oe=5F047AE4\",\"config_width\":150,\"config_height\":150},{\"src\":\"https://scontent-lga3-1.cdninstagram.com/v/t51.2885-15/e35/c0.90.720.720a/s240x240/75272057_499994590592308_6553287816742552573_n.jpg?_nc_ht=scontent-lga3-1.cdninstagram.com\\u0026_nc_cat=104\\u0026_nc_ohc=N1q5Vtf6RhMAX90QHK5\\u0026oh=1314c2e6140f926abbeba46674ff2475\\u0026oe=5F04B5EA\",\"config_width\":240,\"config_height\":240},{\"src\":\"https://scontent-lga3-1.cdninstagram.com/v/t51.2885-15/e35/c0.90.720.720a/s320x320/75272057_499994590592308_6553287816742552573_n.jpg?_nc_ht=scontent-lga3-1.cdninstagram.com\\u0026_nc_cat=104\\u0026_nc_ohc=N1q5Vtf6RhMAX90QHK5\\u0026oh=1cec328f7aa66bd9e63f9e331ab779ba\\u0026oe=5F04A894\",\"config_width\":320,\"config_height\":320},{\"src\":\"https://scontent-lga3-1.cdninstagram.com/v/t51.2885-15/e35/c0.90.720.720a/s480x480/75272057_499994590592308_6553287816742552573_n.jpg?_nc_ht=scontent-lga3-1.cdninstagram.com\\u0026_nc_cat=104\\u0026_nc_ohc=N1q5Vtf6RhMAX90QHK5\\u0026oh=bb8b004f12bf7a06e2419b0cd85c2494\\u0026oe=5F04D58A\",\"config_width\":480,\"config_height\":480},{\"src\":\"https://scontent-lga3-1.cdninstagram.com/v/t51.2885-15/sh0.08/e35/c0.90.720.720a/s640x640/75272057_499994590592308_6553287816742552573_n.jpg?_nc_ht=scontent-lga3-1.cdninstagram.com\\u0026_nc_cat=104\\u0026_nc_ohc=N1q5Vtf6RhMAX90QHK5\\u0026oh=96ed31820a3dce88617ad013e565bd81\\u0026oe=5F0504EA\",\"config_width\":640,\"config_height\":640}],\"felix_profile_grid_crop\":null,\"video_view_count\":672}},{\"node\":{\"__typename\":\"GraphVideo\",\"id\":\"2172843966557751505\",\"shortcode\":\"B4nfhNLBojR\",\"dimensions\":{\"height\":937,\"width\":750},\"display_url\":\"https://scontent-lga3-1.cdninstagram.com/v/t51.2885-15/e35/71809279_703634790129275_7926641816462123390_n.jpg?_nc_ht=scontent-lga3-1.cdninstagram.com\\u0026_nc_cat=111\\u0026_nc_ohc=CwkQvucoQe0AX-93or2\\u0026oh=c99ce2b06b99facf5d4d92cf0df23bf9\\u0026oe=5F0495CB\",\"gating_info\":null,\"fact_check_overall_rating\":null,\"fact_check_information\":null,\"media_overlay_info\":null,\"media_preview\":\"ACEqjhVWHzDp3z1qfy09P1/+vUdvwuDgc/j+P+elWCcf/WoAj8pP5/p+NMlRUUnGfx6ehqyMtnAz9OaidGkUhAWP6f4ZoAzs0VL9lm/umilcCeSZJiHccAnOByfTnjj+tBMEgwF2+hHXPpjPOazw28cYwvBI9zxmgPjkHpUWf4hYvpIsB3oT05Hqf8+1OW9x26np06+49+tZxcEckYHekJA7j161PLfd6hY1Ptrf3l/KisbevqKKrk82BGrkAjt6f59Kk8weXj+In9KhPU/Wl/h/H+lXYZINzL8qk89gTTdshBG1uf8AZP8AhUSuw4BI/Gm+a/8AeP5mgA5opMmigR//2Q==\",\"owner\":{\"id\":\"12867241582\",\"username\":\"ajitjohnson_n\"},\"is_video\":true,\"accessibility_caption\":null,\"edge_media_to_caption\":{\"edges\":[{\"node\":{\"text\":\"Although it\\u2019s nice to have some plants around right?\"}}]},\"edge_media_to_comment\":{\"count\":19},\"comments_disabled\":false,\"taken_at_timestamp\":1573243233,\"edge_liked_by\":{\"count\":200},\"edge_media_preview_like\":{\"count\":200},\"location\":{\"id\":\"52395\",\"has_public_page\":true,\"name\":\"Harvard University\",\"slug\":\"harvard-university\"},\"thumbnail_src\":\"https://scontent-lga3-1.cdninstagram.com/v/t51.2885-15/sh0.08/e35/c0.90.720.720a/s640x640/71809279_703634790129275_7926641816462123390_n.jpg?_nc_ht=scontent-lga3-1.cdninstagram.com\\u0026_nc_cat=111\\u0026_nc_ohc=CwkQvucoQe0AX-93or2\\u0026oh=df64e72a242ca56ae3df2f2923080e78\\u0026oe=5F04E9DF\",\"thumbnail_resources\":[{\"src\":\"https://scontent-lga3-1.cdninstagram.com/v/t51.2885-15/e35/c0.90.720.720a/s150x150/71809279_703634790129275_7926641816462123390_n.jpg?_nc_ht=scontent-lga3-1.cdninstagram.com\\u0026_nc_cat=111\\u0026_nc_ohc=CwkQvucoQe0AX-93or2\\u0026oh=0325b3d85d173df5766376849b44b215\\u0026oe=5F0483D5\",\"config_width\":150,\"config_height\":150},{\"src\":\"https://scontent-lga3-1.cdninstagram.com/v/t51.2885-15/e35/c0.90.720.720a/s240x240/71809279_703634790129275_7926641816462123390_n.jpg?_nc_ht=scontent-lga3-1.cdninstagram.com\\u0026_nc_cat=111\\u0026_nc_ohc=CwkQvucoQe0AX-93or2\\u0026oh=b71e3fd3cf0c4a61bc935a2ce08ed7cc\\u0026oe=5F048B5F\",\"config_width\":240,\"config_height\":240},{\"src\":\"https://scontent-lga3-1.cdninstagram.com/v/t51.2885-15/e35/c0.90.720.720a/s320x320/71809279_703634790129275_7926641816462123390_n.jpg?_nc_ht=scontent-lga3-1.cdninstagram.com\\u0026_nc_cat=111\\u0026_nc_ohc=CwkQvucoQe0AX-93or2\\u0026oh=c9fb06acabb5964b6fc70dc3f55c7a73\\u0026oe=5F04DEE5\",\"config_width\":320,\"config_height\":320},{\"src\":\"https://scontent-lga3-1.cdninstagram.com/v/t51.2885-15/e35/c0.90.720.720a/s480x480/71809279_703634790129275_7926641816462123390_n.jpg?_nc_ht=scontent-lga3-1.cdninstagram.com\\u0026_nc_cat=111\\u0026_nc_ohc=CwkQvucoQe0AX-93or2\\u0026oh=35ea30277f71b3a94416b2bd40a420a6\\u0026oe=5F05117F\",\"config_width\":480,\"config_height\":480},{\"src\":\"https://scontent-lga3-1.cdninstagram.com/v/t51.2885-15/sh0.08/e35/c0.90.720.720a/s640x640/71809279_703634790129275_7926641816462123390_n.jpg?_nc_ht=scontent-lga3-1.cdninstagram.com\\u0026_nc_cat=111\\u0026_nc_ohc=CwkQvucoQe0AX-93or2\\u0026oh=df64e72a242ca56ae3df2f2923080e78\\u0026oe=5F04E9DF\",\"config_width\":640,\"config_height\":640}],\"felix_profile_grid_crop\":null,\"video_view_count\":733}},{\"node\":{\"__typename\":\"GraphVideo\",\"id\":\"2170578041259363120\",\"shortcode\":\"B4fcTpyhwsw\",\"dimensions\":{\"height\":937,\"width\":750},\"display_url\":\"https://scontent-lga3-1.cdninstagram.com/v/t51.2885-15/e35/75231125_2374384082875391_6272418983200359611_n.jpg?_nc_ht=scontent-lga3-1.cdninstagram.com\\u0026_nc_cat=111\\u0026_nc_ohc=aewKbEuMCBoAX-OJ2D7\\u0026oh=8e0e2796dca1570e255086367c4f74ab\\u0026oe=5F050AF7\",\"gating_info\":null,\"fact_check_overall_rating\":null,\"fact_check_information\":null,\"media_overlay_info\":null,\"media_preview\":\"ACEqhRRt57+w/wAR/Kn7QOw/If8AxVQqWIwP5CrG1/7p/Mfj2/KsbeR2N23a+8btHoPyH/xVNYDHAHTOcDP/AKFQZMc4P5j/AAqs1xtGD39hQHqLRUH2hPf8qKVmPmXdG0sWOfSlbfjcMfN09s+v+eKn2OAeDSBXbbkfdx27jv8A0GOO9bx0OSq7tW1I2hx/X/63tWfcQDFa7Ix7GqcyPjkEVl12sarazd2YXk0Vb2n0oqxGyJkPdqFkGMEng/n7ishD/T+dOBP8qjmJaua7TRAck/XiqM9xGRwTVcn5sds1RmNCYrJbE/nD1NFZuaKsR//Z\",\"owner\":{\"id\":\"12867241582\",\"username\":\"ajitjohnson_n\"},\"is_video\":true,\"accessibility_caption\":null,\"edge_media_to_caption\":{\"edges\":[{\"node\":{\"text\":\"Cancer that has spread from the primary, or original, site to other places in the body is generally classified as advanced cancer. When the cancer has spread only to nearby tissues or lymph nodes, it is called locally advanced cancer. When the cancer has spread to other parts of the body, it is called metastatic cancer. The liver, lungs, lymph nodes and bones are common areas of metastasis.\\n\\nMost of the patients still have poor prognosis after metastasis.\"}}]},\"edge_media_to_comment\":{\"count\":17},\"comments_disabled\":false,\"taken_at_timestamp\":1572973221,\"edge_liked_by\":{\"count\":223},\"edge_media_preview_like\":{\"count\":223},\"location\":{\"id\":\"52395\",\"has_public_page\":true,\"name\":\"Harvard University\",\"slug\":\"harvard-university\"},\"thumbnail_src\":\"https://scontent-lga3-1.cdninstagram.com/v/t51.2885-15/sh0.08/e35/c0.90.720.720a/s640x640/75231125_2374384082875391_6272418983200359611_n.jpg?_nc_ht=scontent-lga3-1.cdninstagram.com\\u0026_nc_cat=111\\u0026_nc_ohc=aewKbEuMCBoAX-OJ2D7\\u0026oh=edd2ff664ab91db89759c8618eda53eb\\u0026oe=5F05129C\",\"thumbnail_resources\":[{\"src\":\"https://scontent-lga3-1.cdninstagram.com/v/t51.2885-15/e35/c0.90.720.720a/s150x150/75231125_2374384082875391_6272418983200359611_n.jpg?_nc_ht=scontent-lga3-1.cdninstagram.com\\u0026_nc_cat=111\\u0026_nc_ohc=aewKbEuMCBoAX-OJ2D7\\u0026oh=99d1f9e6d979c62b7d3434fbba5a1f80\\u0026oe=5F04B530\",\"config_width\":150,\"config_height\":150},{\"src\":\"https://scontent-lga3-1.cdninstagram.com/v/t51.2885-15/e35/c0.90.720.720a/s240x240/75231125_2374384082875391_6272418983200359611_n.jpg?_nc_ht=scontent-lga3-1.cdninstagram.com\\u0026_nc_cat=111\\u0026_nc_ohc=aewKbEuMCBoAX-OJ2D7\\u0026oh=15aae5db264a7fb2402a0e7cae3679fe\\u0026oe=5F04B06A\",\"config_width\":240,\"config_height\":240},{\"src\":\"https://scontent-lga3-1.cdninstagram.com/v/t51.2885-15/e35/c0.90.720.720a/s320x320/75231125_2374384082875391_6272418983200359611_n.jpg?_nc_ht=scontent-lga3-1.cdninstagram.com\\u0026_nc_cat=111\\u0026_nc_ohc=aewKbEuMCBoAX-OJ2D7\\u0026oh=bfc6cc31fee99cc22d134d59ec836dc5\\u0026oe=5F04AB18\",\"config_width\":320,\"config_height\":320},{\"src\":\"https://scontent-lga3-1.cdninstagram.com/v/t51.2885-15/e35/c0.90.720.720a/s480x480/75231125_2374384082875391_6272418983200359611_n.jpg?_nc_ht=scontent-lga3-1.cdninstagram.com\\u0026_nc_cat=111\\u0026_nc_ohc=aewKbEuMCBoAX-OJ2D7\\u0026oh=cce096a8ad4ebfaa9dd38809accd18ea\\u0026oe=5F04B991\",\"config_width\":480,\"config_height\":480},{\"src\":\"https://scontent-lga3-1.cdninstagram.com/v/t51.2885-15/sh0.08/e35/c0.90.720.720a/s640x640/75231125_2374384082875391_6272418983200359611_n.jpg?_nc_ht=scontent-lga3-1.cdninstagram.com\\u0026_nc_cat=111\\u0026_nc_ohc=aewKbEuMCBoAX-OJ2D7\\u0026oh=edd2ff664ab91db89759c8618eda53eb\\u0026oe=5F05129C\",\"config_width\":640,\"config_height\":640}],\"felix_profile_grid_crop\":null,\"video_view_count\":809}},{\"node\":{\"__typename\":\"GraphVideo\",\"id\":\"2169866159196050488\",\"shortcode\":\"B4c6cZ9BZQ4\",\"dimensions\":{\"height\":937,\"width\":750},\"display_url\":\"https://scontent-lga3-1.cdninstagram.com/v/t51.2885-15/e35/69067758_100734658030907_92227330149792931_n.jpg?_nc_ht=scontent-lga3-1.cdninstagram.com\\u0026_nc_cat=111\\u0026_nc_ohc=_M2R1MArrC4AX997ZP-\\u0026oh=9f1b5a5d3b1f09886f7fece34f1202bc\\u0026oe=5F04A5E9\",\"gating_info\":null,\"fact_check_overall_rating\":null,\"fact_check_information\":null,\"media_overlay_info\":null,\"media_preview\":\"ACEq6Ss+TUo0OP59/wAP8asXNwIIjKe2P14rl5VaZsqCM9fr6/j7UmUkbn9pBXAbGD1xyR71pggjI5BrjWtpEB9OpxXS6Yxa2Qn3x9MmhA1YvUUUUyTPMxcbJFBV/lPOev0yKzvJYSZU4B61cZ1XkHJyCTggEA++P0FZ0twyPhSAjZZWPP4fUd6Ul2Kg3rclCOZPmOV9O3+fat2JBGiovAAAFc9FdZcLIQVyPmH48f57VpxSSFtxfco7YXn6kDPH4VK03KlroaVFQeeKKq6Iszm3ug4yTgdKzJJTkgH5Tzj39qi7U2rEO3H16VrWVw0jrGvDHv8Azz7Y5NY9bGif8fB9kP8AMUgOm+zj1op2TRU6FH//2Q==\",\"owner\":{\"id\":\"12867241582\",\"username\":\"ajitjohnson_n\"},\"is_video\":true,\"accessibility_caption\":null,\"edge_media_to_caption\":{\"edges\":[{\"node\":{\"text\":\"#30secondsofscience I am trying something new here to stay on top of the latest research. Let me know if you like it. If you are into science, I would also encourage you to create a quick 30sec video on the latest paper you read and share it with the above hashtag. Can we built a community?\\n____________________\\n\\nMore than 500 million people suffer from diabetes around the world. Researchers have now genetically engineered a cell to produce insulin when exposed to light. These cells when transplanted into diabetic mice produced two to three times the typical level of insulin when exposed to light. The light-switchable cells are designed to compensate for the lower insulin production or reduced insulin response found in diabetic individuals.\"}}]},\"edge_media_to_comment\":{\"count\":22},\"comments_disabled\":false,\"taken_at_timestamp\":1572888324,\"edge_liked_by\":{\"count\":231},\"edge_media_preview_like\":{\"count\":231},\"location\":{\"id\":\"52395\",\"has_public_page\":true,\"name\":\"Harvard University\",\"slug\":\"harvard-university\"},\"thumbnail_src\":\"https://scontent-lga3-1.cdninstagram.com/v/t51.2885-15/sh0.08/e35/c0.90.720.720a/s640x640/69067758_100734658030907_92227330149792931_n.jpg?_nc_ht=scontent-lga3-1.cdninstagram.com\\u0026_nc_cat=111\\u0026_nc_ohc=_M2R1MArrC4AX997ZP-\\u0026oh=b9e51a5c08e9ac607d6f3634ebe0ccda\\u0026oe=5F0486D4\",\"thumbnail_resources\":[{\"src\":\"https://scontent-lga3-1.cdninstagram.com/v/t51.2885-15/e35/c0.90.720.720a/s150x150/69067758_100734658030907_92227330149792931_n.jpg?_nc_ht=scontent-lga3-1.cdninstagram.com\\u0026_nc_cat=111\\u0026_nc_ohc=_M2R1MArrC4AX997ZP-\\u0026oh=3efcf2582393f9220b574e7372a171c1\\u0026oe=5F04C457\",\"config_width\":150,\"config_height\":150},{\"src\":\"https://scontent-lga3-1.cdninstagram.com/v/t51.2885-15/e35/c0.90.720.720a/s240x240/69067758_100734658030907_92227330149792931_n.jpg?_nc_ht=scontent-lga3-1.cdninstagram.com\\u0026_nc_cat=111\\u0026_nc_ohc=_M2R1MArrC4AX997ZP-\\u0026oh=64ce96be0f5d5c52301dd5b8a7d80731\\u0026oe=5F047FBC\",\"config_width\":240,\"config_height\":240},{\"src\":\"https://scontent-lga3-1.cdninstagram.com/v/t51.2885-15/e35/c0.90.720.720a/s320x320/69067758_100734658030907_92227330149792931_n.jpg?_nc_ht=scontent-lga3-1.cdninstagram.com\\u0026_nc_cat=111\\u0026_nc_ohc=_M2R1MArrC4AX997ZP-\\u0026oh=2fb9c8e3c0103a53ea263486a05a2690\\u0026oe=5F04A869\",\"config_width\":320,\"config_height\":320},{\"src\":\"https://scontent-lga3-1.cdninstagram.com/v/t51.2885-15/e35/c0.90.720.720a/s480x480/69067758_100734658030907_92227330149792931_n.jpg?_nc_ht=scontent-lga3-1.cdninstagram.com\\u0026_nc_cat=111\\u0026_nc_ohc=_M2R1MArrC4AX997ZP-\\u0026oh=7adae522a7f68693974e9f4d85d75fc2\\u0026oe=5F04B135\",\"config_width\":480,\"config_height\":480},{\"src\":\"https://scontent-lga3-1.cdninstagram.com/v/t51.2885-15/sh0.08/e35/c0.90.720.720a/s640x640/69067758_100734658030907_92227330149792931_n.jpg?_nc_ht=scontent-lga3-1.cdninstagram.com\\u0026_nc_cat=111\\u0026_nc_ohc=_M2R1MArrC4AX997ZP-\\u0026oh=b9e51a5c08e9ac607d6f3634ebe0ccda\\u0026oe=5F0486D4\",\"config_width\":640,\"config_height\":640}],\"felix_profile_grid_crop\":null,\"video_view_count\":1164}},{\"node\":{\"__typename\":\"GraphVideo\",\"id\":\"2169153360545189463\",\"shortcode\":\"B4aYX0epA5X\",\"dimensions\":{\"height\":937,\"width\":750},\"display_url\":\"https://scontent-lga3-1.cdninstagram.com/v/t51.2885-15/e35/73256007_545666042917517_6036579478764748681_n.jpg?_nc_ht=scontent-lga3-1.cdninstagram.com\\u0026_nc_cat=105\\u0026_nc_ohc=O5w_be_TOCUAX-Rzwdo\\u0026oh=6a475bd35dec2042d2afc462d7cd9ac1\\u0026oe=5F049D88\",\"gating_info\":null,\"fact_check_overall_rating\":null,\"fact_check_information\":null,\"media_overlay_info\":null,\"media_preview\":\"ACEqqKhq5byhMg1TYspwOeOfr/8AWqSUFOD1xWq1MpaGkLmpfN3dKyoGycHvV9EOelO1iCbdRTcUU7E3MPz9pGec5zUhuBJyQeMVAMFxx/n/AB//AF1b+yxjglh6/wD66i9tjoST3IFukjkwBu+tasU6EZXj1Unj8Pes82kWeuP1pjNj5VB54B//AFVG/X7yrLskv6+80/Nb/Of8aKo+ZJ6GirIsyFVzIHAZlA4ODUzOTyA2RznBrO3sOhI/GjzG9T+Zp2Iv1LzjcOAwPpg9arkOST82MdfT3qHe3qfzpd7ep/OlYrmaF3H1P6f4UUlFOwc78j//2Q==\",\"owner\":{\"id\":\"12867241582\",\"username\":\"ajitjohnson_n\"},\"is_video\":true,\"accessibility_caption\":null,\"edge_media_to_caption\":{\"edges\":[{\"node\":{\"text\":\"A stunning rendering of a beautiful jellyfish created by @southarena Imagine if this was real!\"}}]},\"edge_media_to_comment\":{\"count\":8},\"comments_disabled\":false,\"taken_at_timestamp\":1572803278,\"edge_liked_by\":{\"count\":262},\"edge_media_preview_like\":{\"count\":262},\"location\":{\"id\":\"52395\",\"has_public_page\":true,\"name\":\"Harvard University\",\"slug\":\"harvard-university\"},\"thumbnail_src\":\"https://scontent-lga3-1.cdninstagram.com/v/t51.2885-15/sh0.08/e35/c0.90.720.720a/s640x640/73256007_545666042917517_6036579478764748681_n.jpg?_nc_ht=scontent-lga3-1.cdninstagram.com\\u0026_nc_cat=105\\u0026_nc_ohc=O5w_be_TOCUAX-Rzwdo\\u0026oh=716621f6563468c2080afe7ace28cbfd\\u0026oe=5F04D794\",\"thumbnail_resources\":[{\"src\":\"https://scontent-lga3-1.cdninstagram.com/v/t51.2885-15/e35/c0.90.720.720a/s150x150/73256007_545666042917517_6036579478764748681_n.jpg?_nc_ht=scontent-lga3-1.cdninstagram.com\\u0026_nc_cat=105\\u0026_nc_ohc=O5w_be_TOCUAX-Rzwdo\\u0026oh=e86996d5f5e23866aedaa948d6f51270\\u0026oe=5F04D99A\",\"config_width\":150,\"config_height\":150},{\"src\":\"https://scontent-lga3-1.cdninstagram.com/v/t51.2885-15/e35/c0.90.720.720a/s240x240/73256007_545666042917517_6036579478764748681_n.jpg?_nc_ht=scontent-lga3-1.cdninstagram.com\\u0026_nc_cat=105\\u0026_nc_ohc=O5w_be_TOCUAX-Rzwdo\\u0026oh=69494c00b9b7296685ddcfcf66c90664\\u0026oe=5F04EB94\",\"config_width\":240,\"config_height\":240},{\"src\":\"https://scontent-lga3-1.cdninstagram.com/v/t51.2885-15/e35/c0.90.720.720a/s320x320/73256007_545666042917517_6036579478764748681_n.jpg?_nc_ht=scontent-lga3-1.cdninstagram.com\\u0026_nc_cat=105\\u0026_nc_ohc=O5w_be_TOCUAX-Rzwdo\\u0026oh=d395ee9fdfdcee27741de64110caf6fc\\u0026oe=5F048C6A\",\"config_width\":320,\"config_height\":320},{\"src\":\"https://scontent-lga3-1.cdninstagram.com/v/t51.2885-15/e35/c0.90.720.720a/s480x480/73256007_545666042917517_6036579478764748681_n.jpg?_nc_ht=scontent-lga3-1.cdninstagram.com\\u0026_nc_cat=105\\u0026_nc_ohc=O5w_be_TOCUAX-Rzwdo\\u0026oh=507731f48c08749855509df8ba0289e6\\u0026oe=5F04E634\",\"config_width\":480,\"config_height\":480},{\"src\":\"https://scontent-lga3-1.cdninstagram.com/v/t51.2885-15/sh0.08/e35/c0.90.720.720a/s640x640/73256007_545666042917517_6036579478764748681_n.jpg?_nc_ht=scontent-lga3-1.cdninstagram.com\\u0026_nc_cat=105\\u0026_nc_ohc=O5w_be_TOCUAX-Rzwdo\\u0026oh=716621f6563468c2080afe7ace28cbfd\\u0026oe=5F04D794\",\"config_width\":640,\"config_height\":640}],\"felix_profile_grid_crop\":null,\"video_view_count\":1063}},{\"node\":{\"__typename\":\"GraphVideo\",\"id\":\"2168400443867626120\",\"shortcode\":\"B4XtLcLh3qI\",\"dimensions\":{\"height\":937,\"width\":750},\"display_url\":\"https://scontent-lga3-1.cdninstagram.com/v/t51.2885-15/e35/72328491_764093404019212_1997649946954662010_n.jpg?_nc_ht=scontent-lga3-1.cdninstagram.com\\u0026_nc_cat=104\\u0026_nc_ohc=JMcTRbOIVsMAX9xDjfe\\u0026oh=7b822fa5fec959e54d4881b6f9285a22\\u0026oe=5F04F7BA\",\"gating_info\":null,\"fact_check_overall_rating\":null,\"fact_check_information\":null,\"media_overlay_info\":null,\"media_preview\":\"ACEqzZ9NdOUO8enQ/wD1/wDPFUdnrXUMcnvg859PY1SubYSfOv3u49f/AK/86zUrO0vvN5wuuaHTdf5GNspPL5qyFxRtraxx3INlFT4oosFzoYJOOOAO/r/9enSlTyODUH2GWMfuyHHYdD+v+NUXdwdrAqfeud6ncpdUJLCXc7BnIyQPbrVbFW97IA69j1qKTrn+9z+f/wBetoPQ5KqtJtev3kOKKdRWhibKzqp4yNqhRhgev8Xuw7frTpWZm8pumOCwHI9c+/asSrTOxjXJJwTjn2rFxsbRlckCNGSoBZc4HGc+wx1/LioJ2LEZXZgcD2+napp/liBHBOOn0qlTiluOcm1ysKKKK1MD/9k=\",\"owner\":{\"id\":\"12867241582\",\"username\":\"ajitjohnson_n\"},\"is_video\":true,\"accessibility_caption\":null,\"edge_media_to_caption\":{\"edges\":[{\"node\":{\"text\":\"Time lapse view of labor with only the mother's skeletal structures and the baby in the uterus. Also shown in detail is dilatation (dilation or dilating) and effacement (thinning) of the cervix during childbirth contractions.\"}}]},\"edge_media_to_comment\":{\"count\":20},\"comments_disabled\":false,\"taken_at_timestamp\":1572713557,\"edge_liked_by\":{\"count\":224},\"edge_media_preview_like\":{\"count\":224},\"location\":{\"id\":\"52395\",\"has_public_page\":true,\"name\":\"Harvard University\",\"slug\":\"harvard-university\"},\"thumbnail_src\":\"https://scontent-lga3-1.cdninstagram.com/v/t51.2885-15/sh0.08/e35/c0.90.720.720a/s640x640/72328491_764093404019212_1997649946954662010_n.jpg?_nc_ht=scontent-lga3-1.cdninstagram.com\\u0026_nc_cat=104\\u0026_nc_ohc=JMcTRbOIVsMAX9xDjfe\\u0026oh=64058c974c95d2ac0a1c8d778e13f083\\u0026oe=5F05026E\",\"thumbnail_resources\":[{\"src\":\"https://scontent-lga3-1.cdninstagram.com/v/t51.2885-15/e35/c0.90.720.720a/s150x150/72328491_764093404019212_1997649946954662010_n.jpg?_nc_ht=scontent-lga3-1.cdninstagram.com\\u0026_nc_cat=104\\u0026_nc_ohc=JMcTRbOIVsMAX9xDjfe\\u0026oh=1ecb2040d345c4bcba12694c76f17359\\u0026oe=5F051B28\",\"config_width\":150,\"config_height\":150},{\"src\":\"https://scontent-lga3-1.cdninstagram.com/v/t51.2885-15/e35/c0.90.720.720a/s240x240/72328491_764093404019212_1997649946954662010_n.jpg?_nc_ht=scontent-lga3-1.cdninstagram.com\\u0026_nc_cat=104\\u0026_nc_ohc=JMcTRbOIVsMAX9xDjfe\\u0026oh=faff05a0c88684250446d6f4f0366f05\\u0026oe=5F04B3EE\",\"config_width\":240,\"config_height\":240},{\"src\":\"https://scontent-lga3-1.cdninstagram.com/v/t51.2885-15/e35/c0.90.720.720a/s320x320/72328491_764093404019212_1997649946954662010_n.jpg?_nc_ht=scontent-lga3-1.cdninstagram.com\\u0026_nc_cat=104\\u0026_nc_ohc=JMcTRbOIVsMAX9xDjfe\\u0026oh=96495e941b6171c8dabcdef00516fb15\\u0026oe=5F051098\",\"config_width\":320,\"config_height\":320},{\"src\":\"https://scontent-lga3-1.cdninstagram.com/v/t51.2885-15/e35/c0.90.720.720a/s480x480/72328491_764093404019212_1997649946954662010_n.jpg?_nc_ht=scontent-lga3-1.cdninstagram.com\\u0026_nc_cat=104\\u0026_nc_ohc=JMcTRbOIVsMAX9xDjfe\\u0026oh=011ccdfaf6eb8f9a879ddfd072356ede\\u0026oe=5F04F6CE\",\"config_width\":480,\"config_height\":480},{\"src\":\"https://scontent-lga3-1.cdninstagram.com/v/t51.2885-15/sh0.08/e35/c0.90.720.720a/s640x640/72328491_764093404019212_1997649946954662010_n.jpg?_nc_ht=scontent-lga3-1.cdninstagram.com\\u0026_nc_cat=104\\u0026_nc_ohc=JMcTRbOIVsMAX9xDjfe\\u0026oh=64058c974c95d2ac0a1c8d778e13f083\\u0026oe=5F05026E\",\"config_width\":640,\"config_height\":640}],\"felix_profile_grid_crop\":null,\"video_view_count\":892}},{\"node\":{\"__typename\":\"GraphVideo\",\"id\":\"2167690186612583967\",\"shortcode\":\"B4VLr1kJK4f\",\"dimensions\":{\"height\":937,\"width\":750},\"display_url\":\"https://instagram.fbed1-1.fna.fbcdn.net/v/t51.2885-15/e35/71923689_2749184721780805_5810893955101155291_n.jpg?_nc_ht=instagram.fbed1-1.fna.fbcdn.net\\u0026_nc_cat=101\\u0026_nc_ohc=0IrDYV_1sS8AX-UOPWg\\u0026oh=17b8641b0fd7b9c4ee038d99166f1a5d\\u0026oe=5F04912D\",\"gating_info\":null,\"fact_check_overall_rating\":null,\"fact_check_information\":null,\"media_overlay_info\":null,\"media_preview\":\"ACEqzLdlIIOMjnop4+rEflU+B6D06R9/x/WooJAV2Htk/wAA/VhnNSgjPUce8fcfStSQwvXA/wC+Y/8AGopioXAAyeOi9uvIJqUMM5yM8DrH9fSo5pAq7fXpjYR+OBmgClRRmiqEdcIR6D8qeIV9B+QqUms+5mzwM/yBrmsze5awmccZ9MCl2r6D8hWUJcH5Bt+lXFl2j61SRLZY2r6D8qKr+fRTsLmHtN6VA58wc0wUoNUQMEWPenEEjoRQCcUuTxSGJtopaKBH/9k=\",\"owner\":{\"id\":\"12867241582\",\"username\":\"ajitjohnson_n\"},\"is_video\":true,\"accessibility_caption\":null,\"edge_media_to_caption\":{\"edges\":[{\"node\":{\"text\":\"Immunologic memory is an important characteristic of adaptive immunity. It means that the immune system can remember the antigens that previously activated it and launch a more intense immune reaction when encountering the same antigen a second time.\\n\\nDuring an immune response, B and T cells create memory cells. These are clones of the specific B and T cells that remain in the body, holding information about each threat the body has been exposed to! This gives our immune system memory.\"}}]},\"edge_media_to_comment\":{\"count\":19},\"comments_disabled\":false,\"taken_at_timestamp\":1572628915,\"edge_liked_by\":{\"count\":229},\"edge_media_preview_like\":{\"count\":229},\"location\":{\"id\":\"52395\",\"has_public_page\":true,\"name\":\"Harvard University\",\"slug\":\"harvard-university\"},\"thumbnail_src\":\"https://instagram.fbed1-1.fna.fbcdn.net/v/t51.2885-15/sh0.08/e35/c0.90.720.720a/s640x640/71923689_2749184721780805_5810893955101155291_n.jpg?_nc_ht=instagram.fbed1-1.fna.fbcdn.net\\u0026_nc_cat=101\\u0026_nc_ohc=0IrDYV_1sS8AX-UOPWg\\u0026oh=7b66c606032aee90274df3f65462da75\\u0026oe=5F04F282\",\"thumbnail_resources\":[{\"src\":\"https://instagram.fbed1-1.fna.fbcdn.net/v/t51.2885-15/e35/c0.90.720.720a/s150x150/71923689_2749184721780805_5810893955101155291_n.jpg?_nc_ht=instagram.fbed1-1.fna.fbcdn.net\\u0026_nc_cat=101\\u0026_nc_ohc=0IrDYV_1sS8AX-UOPWg\\u0026oh=74ffecd9465d5961320a192abeee8e32\\u0026oe=5F04A776\",\"config_width\":150,\"config_height\":150},{\"src\":\"https://instagram.fbed1-1.fna.fbcdn.net/v/t51.2885-15/e35/c0.90.720.720a/s240x240/71923689_2749184721780805_5810893955101155291_n.jpg?_nc_ht=instagram.fbed1-1.fna.fbcdn.net\\u0026_nc_cat=101\\u0026_nc_ohc=0IrDYV_1sS8AX-UOPWg\\u0026oh=7057ca2c9d19492b0150f99e5dcc49c3\\u0026oe=5F04D534\",\"config_width\":240,\"config_height\":240},{\"src\":\"https://instagram.fbed1-1.fna.fbcdn.net/v/t51.2885-15/e35/c0.90.720.720a/s320x320/71923689_2749184721780805_5810893955101155291_n.jpg?_nc_ht=instagram.fbed1-1.fna.fbcdn.net\\u0026_nc_cat=101\\u0026_nc_ohc=0IrDYV_1sS8AX-UOPWg\\u0026oh=0fdae6f7c1d003e9d6ce1b4437a642b6\\u0026oe=5F04850E\",\"config_width\":320,\"config_height\":320},{\"src\":\"https://instagram.fbed1-1.fna.fbcdn.net/v/t51.2885-15/e35/c0.90.720.720a/s480x480/71923689_2749184721780805_5810893955101155291_n.jpg?_nc_ht=instagram.fbed1-1.fna.fbcdn.net\\u0026_nc_cat=101\\u0026_nc_ohc=0IrDYV_1sS8AX-UOPWg\\u0026oh=4827df89ebecebdf5aa790083dba4c07\\u0026oe=5F049C4B\",\"config_width\":480,\"config_height\":480},{\"src\":\"https://instagram.fbed1-1.fna.fbcdn.net/v/t51.2885-15/sh0.08/e35/c0.90.720.720a/s640x640/71923689_2749184721780805_5810893955101155291_n.jpg?_nc_ht=instagram.fbed1-1.fna.fbcdn.net\\u0026_nc_cat=101\\u0026_nc_ohc=0IrDYV_1sS8AX-UOPWg\\u0026oh=7b66c606032aee90274df3f65462da75\\u0026oe=5F04F282\",\"config_width\":640,\"config_height\":640}],\"felix_profile_grid_crop\":null,\"video_view_count\":1048}}]},\"edge_saved_media\":{\"count\":0,\"page_info\":{\"has_next_page\":false,\"end_cursor\":null},\"edges\":[]},\"edge_media_collections\":{\"count\":0,\"page_info\":{\"has_next_page\":false,\"end_cursor\":null},\"edges\":[]},\"edge_related_profiles\":{\"edges\":[]}}},\"toast_content_on_load\":null}]},\"hostname\":\"www.instagram.com\",\"is_whitelisted_crawl_bot\":false,\"deployment_stage\":\"c2\",\"platform\":\"web\",\"nonce\":\"1pEjcNk1KHm2biuS3TxYFg==\",\"mid_pct\":28.58569,\"zero_data\":{},\"cache_schema_version\":3,\"server_checks\":{},\"knobx\":{\"17\":false,\"20\":true,\"22\":true,\"23\":true,\"24\":true,\"25\":true,\"26\":true,\"27\":true,\"28\":true,\"29\":true,\"30\":true,\"4\":false},\"to_cache\":{\"gatekeepers\":{\"10\":false,\"100\":false,\"101\":true,\"102\":true,\"103\":true,\"104\":true,\"105\":true,\"106\":true,\"107\":false,\"108\":true,\"11\":false,\"112\":true,\"113\":true,\"114\":true,\"116\":true,\"117\":true,\"119\":false,\"12\":false,\"120\":true,\"123\":false,\"126\":false,\"127\":false,\"128\":false,\"129\":false,\"13\":true,\"130\":false,\"14\":true,\"15\":true,\"16\":true,\"18\":true,\"19\":false,\"23\":false,\"24\":false,\"26\":true,\"27\":false,\"28\":false,\"29\":true,\"31\":false,\"32\":true,\"34\":false,\"35\":false,\"38\":true,\"4\":true,\"40\":true,\"41\":false,\"43\":true,\"5\":false,\"59\":true,\"6\":false,\"61\":false,\"62\":false,\"63\":false,\"64\":false,\"65\":false,\"67\":true,\"68\":false,\"69\":true,\"7\":false,\"71\":false,\"73\":false,\"74\":false,\"75\":true,\"77\":true,\"78\":true,\"79\":false,\"8\":false,\"81\":false,\"82\":true,\"84\":false,\"86\":false,\"88\":true,\"9\":false,\"91\":false,\"95\":true,\"97\":false,\"99\":false},\"qe\":{\"app_upsell\":{\"g\":\"\",\"p\":{}},\"igl_app_upsell\":{\"g\":\"\",\"p\":{}},\"notif\":{\"g\":\"\",\"p\":{}},\"onetaplogin\":{\"g\":\"\",\"p\":{}},\"felix_clear_fb_cookie\":{\"g\":\"\",\"p\":{}},\"felix_creation_duration_limits\":{\"g\":\"\",\"p\":{}},\"felix_creation_fb_crossposting\":{\"g\":\"\",\"p\":{}},\"felix_creation_fb_crossposting_v2\":{\"g\":\"\",\"p\":{}},\"felix_creation_validation\":{\"g\":\"\",\"p\":{}},\"post_options\":{\"g\":\"\",\"p\":{}},\"sticker_tray\":{\"g\":\"\",\"p\":{}},\"web_sentry\":{\"g\":\"\",\"p\":{}},\"0\":{\"p\":{\"9\":false},\"l\":{},\"qex\":true},\"100\":{\"p\":{\"0\":true},\"l\":{},\"qex\":true},\"101\":{\"p\":{\"0\":false,\"1\":false},\"l\":{},\"qex\":true},\"102\":{\"p\":{\"0\":true},\"l\":{},\"qex\":true},\"103\":{\"p\":{\"0\":false,\"1\":false},\"l\":{},\"qex\":true},\"104\":{\"p\":{\"0\":true},\"l\":{},\"qex\":true},\"108\":{\"p\":{\"0\":false,\"1\":false},\"l\":{},\"qex\":true},\"109\":{\"p\":{},\"l\":{},\"qex\":true},\"110\":{\"p\":{\"1\":true},\"l\":{},\"qex\":true},\"111\":{\"p\":{\"0\":false,\"1\":false},\"l\":{},\"qex\":true},\"113\":{\"p\":{\"0\":true,\"1\":false,\"2\":true,\"4\":false,\"5\":false,\"7\":false,\"8\":false},\"l\":{},\"qex\":true},\"115\":{\"p\":{\"0\":true,\"1\":true,\"2\":true,\"3\":true},\"l\":{},\"qex\":true},\"116\":{\"p\":{\"1\":true,\"2\":0},\"l\":{\"1\":true},\"qex\":true},\"117\":{\"p\":{\"0\":true},\"l\":{\"0\":true},\"qex\":true},\"118\":{\"p\":{\"0\":false,\"2\":false},\"l\":{},\"qex\":true},\"119\":{\"p\":{\"0\":false},\"l\":{},\"qex\":true},\"12\":{\"p\":{\"0\":5},\"l\":{},\"qex\":true},\"120\":{\"p\":{\"0\":false},\"l\":{},\"qex\":true},\"121\":{\"p\":{\"0\":true},\"l\":{\"0\":true},\"qex\":true},\"122\":{\"p\":{\"0\":false},\"l\":{},\"qex\":true},\"123\":{\"p\":{\"0\":true,\"1\":true},\"l\":{},\"qex\":true},\"124\":{\"p\":{\"0\":false,\"1\":false,\"2\":false},\"l\":{\"1\":true,\"2\":true},\"qex\":true},\"125\":{\"p\":{\"0\":true},\"l\":{},\"qex\":true},\"126\":{\"p\":{\"0\":false},\"l\":{\"0\":true},\"qex\":true},\"127\":{\"p\":{\"0\":true,\"1\":false,\"2\":true},\"l\":{},\"qex\":true},\"129\":{\"p\":{\"0\":false},\"l\":{},\"qex\":true},\"13\":{\"p\":{\"0\":true},\"l\":{},\"qex\":true},\"130\":{\"p\":{\"0\":false},\"l\":{},\"qex\":true},\"131\":{\"p\":{\"0\":false},\"l\":{},\"qex\":true},\"132\":{\"p\":{\"0\":false},\"l\":{},\"qex\":true},\"16\":{\"p\":{\"0\":false},\"l\":{},\"qex\":true},\"21\":{\"p\":{\"2\":false},\"l\":{},\"qex\":true},\"22\":{\"p\":{\"1\":false,\"10\":0.0,\"11\":15,\"12\":3,\"13\":false,\"2\":8.0,\"3\":0.85,\"4\":0.95},\"l\":{},\"qex\":true},\"23\":{\"p\":{\"0\":false,\"1\":false},\"l\":{},\"qex\":true},\"25\":{\"p\":{},\"l\":{},\"qex\":true},\"26\":{\"p\":{\"0\":\"\"},\"l\":{},\"qex\":true},\"28\":{\"p\":{\"0\":false},\"l\":{},\"qex\":true},\"29\":{\"p\":{},\"l\":{},\"qex\":true},\"31\":{\"p\":{},\"l\":{},\"qex\":true},\"33\":{\"p\":{},\"l\":{},\"qex\":true},\"34\":{\"p\":{\"0\":false},\"l\":{},\"qex\":true},\"36\":{\"p\":{\"0\":true,\"1\":true,\"2\":false,\"3\":false,\"4\":false},\"l\":{},\"qex\":true},\"37\":{\"p\":{\"0\":false},\"l\":{},\"qex\":true},\"39\":{\"p\":{\"0\":false,\"14\":false,\"8\":false},\"l\":{},\"qex\":true},\"41\":{\"p\":{\"3\":true},\"l\":{},\"qex\":true},\"42\":{\"p\":{\"0\":true},\"l\":{},\"qex\":true},\"43\":{\"p\":{\"0\":false,\"1\":false,\"2\":false},\"l\":{},\"qex\":true},\"44\":{\"p\":{\"1\":\"inside_media\",\"2\":0.2},\"l\":{},\"qex\":true},\"45\":{\"p\":{\"13\":false,\"17\":0,\"26\":\"control\",\"32\":false,\"33\":false,\"35\":false,\"36\":\"control\",\"37\":false,\"38\":false,\"39\":\"control\"},\"l\":{},\"qex\":true},\"46\":{\"p\":{\"0\":false},\"l\":{},\"qex\":true},\"47\":{\"p\":{\"0\":true,\"1\":true,\"10\":false,\"11\":false,\"2\":false,\"3\":false,\"4\":false,\"6\":false,\"8\":false,\"9\":false},\"l\":{},\"qex\":true},\"49\":{\"p\":{\"0\":false},\"l\":{},\"qex\":true},\"50\":{\"p\":{\"0\":false},\"l\":{},\"qex\":true},\"54\":{\"p\":{\"0\":false},\"l\":{},\"qex\":true},\"55\":{\"p\":{\"0\":false},\"l\":{},\"qex\":true},\"58\":{\"p\":{\"0\":0.0,\"1\":false},\"l\":{},\"qex\":true},\"59\":{\"p\":{\"0\":true},\"l\":{},\"qex\":true},\"62\":{\"p\":{\"0\":false},\"l\":{},\"qex\":true},\"65\":{\"p\":{},\"l\":{},\"qex\":true},\"66\":{\"p\":{\"0\":false},\"l\":{},\"qex\":true},\"67\":{\"p\":{\"0\":true,\"1\":true,\"2\":true,\"3\":true,\"4\":false,\"5\":true,\"7\":false},\"l\":{\"4\":true,\"5\":true},\"qex\":true},\"68\":{\"p\":{\"0\":false},\"l\":{},\"qex\":true},\"69\":{\"p\":{\"0\":true},\"l\":{},\"qex\":true},\"71\":{\"p\":{\"1\":\"^/explore/.*|^/accounts/activity/$\"},\"l\":{},\"qex\":true},\"72\":{\"p\":{\"0\":false,\"1\":false,\"2\":false,\"3\":false,\"4\":false},\"l\":{\"1\":true,\"2\":true},\"qex\":true},\"73\":{\"p\":{\"0\":false},\"l\":{},\"qex\":true},\"74\":{\"p\":{\"1\":true,\"12\":false,\"13\":false,\"2\":false,\"3\":true,\"4\":false,\"7\":false,\"9\":true},\"l\":{},\"qex\":true},\"75\":{\"p\":{\"0\":true,\"1\":false},\"l\":{},\"qex\":true},\"77\":{\"p\":{\"1\":false},\"l\":{},\"qex\":true},\"78\":{\"p\":{\"0\":true,\"1\":true,\"2\":true,\"3\":false,\"5\":true},\"l\":{},\"qex\":true},\"80\":{\"p\":{\"3\":true,\"4\":false},\"l\":{},\"qex\":true},\"84\":{\"p\":{\"0\":true,\"1\":true,\"2\":true,\"3\":true,\"4\":true,\"5\":true,\"6\":false,\"8\":false},\"l\":{},\"qex\":true},\"85\":{\"p\":{\"0\":false,\"1\":\"Pictures and Videos\"},\"l\":{},\"qex\":true},\"87\":{\"p\":{\"0\":true},\"l\":{},\"qex\":true},\"89\":{\"p\":{\"0\":false},\"l\":{},\"qex\":true},\"93\":{\"p\":{\"0\":true},\"l\":{},\"qex\":true},\"95\":{\"p\":{\"0\":false,\"1\":false},\"l\":{\"1\":true},\"qex\":true},\"98\":{\"p\":{\"1\":false},\"l\":{},\"qex\":true},\"99\":{\"p\":{\"0\":true,\"1\":true,\"2\":true,\"3\":10,\"4\":10000000,\"5\":30000,\"6\":true},\"l\":{\"6\":true},\"qex\":true}},\"probably_has_app\":false,\"cb\":false},\"device_id\":\"4559CC95-E9E5-4E95-8C86-0EB53C1FA0EF\",\"encryption\":{\"key_id\":\"87\",\"public_key\":\"8dd9aad29d9a614c338cff479f850d3ec57c525c33b3f702ab65e9e057fc087e\",\"version\":\"9\"},\"is_dev\":false,\"rollout_hash\":\"fc31028544fb\",\"bundle_variant\":\"metro\",\"frontend_env\":\"prod\"};</script>\n",
       "<script type=\"text/javascript\">window.__initialDataLoaded(window._sharedData);</script>\n",
       "<script type=\"text/javascript\">var __BUNDLE_START_TIME__=this.nativePerformanceNow?nativePerformanceNow():Date.now(),__DEV__=false,process=this.process||{};process.env=process.env||{};process.env.NODE_ENV=process.env.NODE_ENV||\"production\";!(function(r){\"use strict\";function e(){return c=Object.create(null)}function t(r){var e=r,t=c[e];return t&&t.isInitialized?t.publicModule.exports:o(e,t)}function n(r){var e=r;if(c[e]&&c[e].importedDefault!==f)return c[e].importedDefault;var n=t(e),i=n&&n.__esModule?n.default:n;return c[e].importedDefault=i}function i(r){var e=r;if(c[e]&&c[e].importedAll!==f)return c[e].importedAll;var n,i=t(e);if(i&&i.__esModule)n=i;else{if(n={},i)for(var o in i)p.call(i,o)&&(n[o]=i[o]);n.default=i}return c[e].importedAll=n}function o(e,t){if(!s&&r.ErrorUtils){s=!0;var n;try{n=u(e,t)}catch(e){r.ErrorUtils.reportFatalError(e)}return s=!1,n}return u(e,t)}function l(r){return{segmentId:r>>>v,localId:r&h}}function u(e,o){if(!o&&g.length>0){var u=l(e),f=u.segmentId,p=u.localId,s=g[f];null!=s&&(s(p),o=c[e])}var v=r.nativeRequire;if(!o&&v){var h=l(e),I=h.segmentId;v(h.localId,I),o=c[e]}if(!o)throw a(e);if(o.hasError)throw d(e,o.error);o.isInitialized=!0;var _=o,w=_.factory,y=_.dependencyMap;try{var M=o.publicModule;if(M.id=e,m.length>0)for(var b=0;b<m.length;++b)m[b].cb(e,M);return w(r,t,n,i,M,M.exports,y),o.factory=void 0,o.dependencyMap=void 0,M.exports}catch(r){throw o.hasError=!0,o.error=r,o.isInitialized=!1,o.publicModule.exports=void 0,r}}function a(r){var e='Requiring unknown module \"'+r+'\".';return Error(e)}function d(r,e){var t=r;return Error('Requiring module \"'+t+'\", which threw an exception: '+e)}r.__r=t,r.__d=function(r,e,t){null==c[e]&&(c[e]={dependencyMap:t,factory:r,hasError:!1,importedAll:f,importedDefault:f,isInitialized:!1,publicModule:{exports:{}}})},r.__c=e,r.__registerSegment=function(r,e){g[r]=e};var c=e(),f={},p={}.hasOwnProperty;t.importDefault=n,t.importAll=i;var s=!1,v=16,h=65535;t.unpackModuleId=l,t.packModuleId=function(r){return(r.segmentId<<v)+r.localId};var m=[];t.registerHook=function(r){var e={cb:r};return m.push(e),{release:function(){for(var r=0;r<m.length;++r)if(m[r]===e){m.splice(r,1);break}}}};var g=[]})('undefined'!=typeof global?global:'undefined'!=typeof window?window:this);\n",
       "__s={\"js\":{\"146\":\"/static/bundles/metro/PasswordEncryptionLogger.js/d683a892fb2b.js\",\"147\":\"/static/bundles/metro/EncryptionUtils.js/4606f05f85cd.js\",\"148\":\"/static/bundles/metro/MobileStoriesLoginPage.js/3db128ad9a1f.js\",\"149\":\"/static/bundles/metro/DesktopStoriesLoginPage.js/9d3012bced62.js\",\"150\":\"/static/bundles/metro/AvenyFont.js/a4de03cd349f.js\",\"151\":\"/static/bundles/metro/DirectSearchUserContainer.js/22f3a0fbc0fe.js\",\"152\":\"/static/bundles/metro/StoriesDebugInfoNub.js/06764d68a1cb.js\",\"153\":\"/static/bundles/metro/MobileStoriesPage.js/e5437a295ffe.js\",\"154\":\"/static/bundles/metro/DesktopStoriesPage.js/d5184547c545.js\",\"155\":\"/static/bundles/metro/ActivityFeedPage.js/36de9a256721.js\",\"156\":\"/static/bundles/metro/AdsSettingsPage.js/90a7af14a7bc.js\",\"157\":\"/static/bundles/metro/DonateCheckoutPage.js/17568ea6e68a.js\",\"158\":\"/static/bundles/metro/CameraPage.js/508b67effa62.js\",\"159\":\"/static/bundles/metro/SettingsModules.js/78ad25c2e302.js\",\"160\":\"/static/bundles/metro/ContactHistoryPage.js/01a7dd90fa36.js\",\"161\":\"/static/bundles/metro/AccessToolPage.js/a549491ee454.js\",\"162\":\"/static/bundles/metro/AccessToolViewAllPage.js/c82fa93c74d8.js\",\"163\":\"/static/bundles/metro/AccountPrivacyBugPage.js/c7eb67170bec.js\",\"164\":\"/static/bundles/metro/FirstPartyPlaintextPasswordLandingPage.js/2846939bc476.js\",\"165\":\"/static/bundles/metro/ThirdPartyPlaintextPasswordLandingPage.js/f47b7874a13e.js\",\"166\":\"/static/bundles/metro/ShoppingBagLandingPage.js/d3062fd86f29.js\",\"167\":\"/static/bundles/metro/PlaintextPasswordBugPage.js/45f9f314f153.js\",\"168\":\"/static/bundles/metro/PrivateAccountMadePublicBugPage.js/3d900141fefb.js\",\"169\":\"/static/bundles/metro/PublicAccountNotMadePrivateBugPage.js/754948b589c3.js\",\"170\":\"/static/bundles/metro/BlockedAccountsBugPage.js/c4516715bbe7.js\",\"171\":\"/static/bundles/metro/AndroidBetaPrivacyBugPage.js/a4ed559f0360.js\",\"172\":\"/static/bundles/metro/DataControlsSupportPage.js/f92a74552509.js\",\"173\":\"/static/bundles/metro/DataDownloadRequestPage.js/3e6a874fba44.js\",\"174\":\"/static/bundles/metro/DataDownloadRequestConfirmPage.js/3603184567c8.js\",\"175\":\"/static/bundles/metro/CheckpointUnderageAppealPage.js/88c6a1478cc7.js\",\"176\":\"/static/bundles/metro/AccountRecoveryLandingPage.js/8427b0fa7f46.js\",\"177\":\"/static/bundles/metro/ContactInvitesOptOutPage.js/ba284c8b53de.js\",\"178\":\"/static/bundles/metro/ParentalConsentPage.js/db0811657daf.js\",\"179\":\"/static/bundles/metro/ParentalConsentNotParentPage.js/815e1b61cc8b.js\",\"180\":\"/static/bundles/metro/TermsAcceptPage.js/dfcb44a11773.js\",\"181\":\"/static/bundles/metro/TermsUnblockPage.js/8172d69b15e9.js\",\"182\":\"/static/bundles/metro/NewTermsConfirmPage.js/4ad359ae6e5c.js\",\"183\":\"/static/bundles/metro/ContactInvitesOptOutStatusPage.js/e423273261e9.js\",\"184\":\"/static/bundles/metro/CreationModules.js/f612536733a6.js\",\"185\":\"/static/bundles/metro/StoryCreationPage.js/4b546bbb24ec.js\",\"186\":\"/static/bundles/metro/PostCommentInput.js/22b9d8d2e4ed.js\",\"189\":\"/static/bundles/metro/PostModalEntrypoint.js/3e474cfacdd1.js\",\"190\":\"/static/bundles/metro/PostComments.js/bb1bccbaaf5a.js\",\"191\":\"/static/bundles/metro/LikedByListContainer.js/c95f5564c3d2.js\",\"192\":\"/static/bundles/metro/CommentLikedByListContainer.js/b980f05c67e5.js\",\"193\":\"/static/bundles/metro/shaka-player.ui.js/bc0e193a46e2.js\",\"194\":\"/static/bundles/metro/DynamicExploreMediaPage.js/432c7b6f1daf.js\",\"195\":\"/static/bundles/metro/DiscoverMediaPageContainer.js/1751af2ffcc6.js\",\"196\":\"/static/bundles/metro/DiscoverPeoplePageContainer.js/61db9362fe5f.js\",\"197\":\"/static/bundles/metro/EmailConfirmationPage.js/1c961506b3d7.js\",\"198\":\"/static/bundles/metro/EmailReportBadPasswordResetPage.js/6fd70892c38b.js\",\"199\":\"/static/bundles/metro/FBSignupPage.js/9215128dc237.js\",\"200\":\"/static/bundles/metro/NewUserInterstitial.js/071e6a1d9bb8.js\",\"201\":\"/static/bundles/metro/MultiStepSignupPage.js/189e1d24131f.js\",\"202\":\"/static/bundles/metro/EmptyFeedPage.js/c2e66c947de9.js\",\"203\":\"/static/bundles/metro/NewUserActivatorsUnit.js/aacb2e061ee5.js\",\"204\":\"/static/bundles/metro/FeedEndSuggestedUserUnit.js/bd561f03d12c.js\",\"205\":\"/static/bundles/metro/FeedSidebarContainer.js/7dadc3a24c84.js\",\"206\":\"/static/bundles/metro/SuggestedUserFeedUnitContainer.js/e7bcee572695.js\",\"207\":\"/static/bundles/metro/InFeedStoryTray.js/666457b4aeb8.js\",\"208\":\"/static/bundles/metro/FeedPageContainer.js/e47cfb2bfdd7.js\",\"209\":\"/static/bundles/metro/FollowListModal.js/b817e9668c3e.js\",\"210\":\"/static/bundles/metro/FollowListPage.js/854c2a88193a.js\",\"211\":\"/static/bundles/metro/SimilarAccountsPage.js/3244e77a8563.js\",\"212\":\"/static/bundles/metro/LiveBroadcastPage.js/2d39b59f321f.js\",\"213\":\"/static/bundles/metro/FalseInformationLandingPage.js/bfcd4393367b.js\",\"214\":\"/static/bundles/metro/FalseInformationAppealsPage.js/0371a24134a5.js\",\"215\":\"/static/bundles/metro/LandingPage.js/fb1bb44eb67f.js\",\"216\":\"/static/bundles/metro/LocationsDirectoryCountryPage.js/bcfd98f7fd94.js\",\"217\":\"/static/bundles/metro/LocationsDirectoryCityPage.js/4bf49711fd57.js\",\"218\":\"/static/bundles/metro/LocationPageContainer.js/7e1930832c5e.js\",\"219\":\"/static/bundles/metro/LocationsDirectoryLandingPage.js/c0ccb404001a.js\",\"220\":\"/static/bundles/metro/LoginAndSignupPage.js/e160f72f3630.js\",\"221\":\"/static/bundles/metro/FXCalLinkingAuthForm.js/8825bc3400fa.js\",\"222\":\"/static/bundles/metro/FXCalReauthLoginForm.js/514995e2a56f.js\",\"223\":\"/static/bundles/metro/UpdateIGAppForHelpPage.js/8fc7378c7911.js\",\"224\":\"/static/bundles/metro/ResetPasswordPageContainer.js/8910659cfe06.js\",\"225\":\"/static/bundles/metro/MobileAllCommentsPage.js/5562a3cfd30e.js\",\"226\":\"/static/bundles/metro/MediaChainingPageContainer.js/cd7ed52c1b69.js\",\"227\":\"/static/bundles/metro/PostPageContainer.js/fb20ff6ee095.js\",\"228\":\"/static/bundles/metro/ProfilesDirectoryLandingPage.js/39597901ea28.js\",\"229\":\"/static/bundles/metro/HashtagsDirectoryLandingPage.js/64f4a4f28e11.js\",\"230\":\"/static/bundles/metro/SuggestedDirectoryLandingPage.js/6a72d6f24af0.js\",\"231\":\"/static/bundles/metro/ProductDetailsPage.js/e7f7c95b6f53.js\",\"232\":\"/static/bundles/metro/TagPageContainer.js/433f508d007d.js\",\"233\":\"/static/bundles/metro/PhoneConfirmPage.js/1423089bbc22.js\",\"234\":\"/static/bundles/metro/SimilarAccountsModal.js/30ab485aed67.js\",\"235\":\"/static/bundles/metro/ProfilePageContainer.js/10ab7558dabb.js\",\"236\":\"/static/bundles/metro/HttpErrorPage.js/d0804680ad46.js\",\"237\":\"/static/bundles/metro/IGTVVideoDraftsPageContainer.js/1602536e3674.js\",\"238\":\"/static/bundles/metro/IGTVVideoUploadPageContainer.js/bbb55c9d5058.js\",\"239\":\"/static/bundles/metro/OAuthPermissionsPage.js/7c2aa84fed59.js\",\"240\":\"/static/bundles/metro/MobileDirectPage.js/500c1750d551.js\",\"241\":\"/static/bundles/metro/DesktopDirectPage.js/5f91dd17862f.js\",\"242\":\"/static/bundles/metro/GuidePage.js/874ac9162680.js\",\"243\":\"/static/bundles/metro/OneTapUpsell.js/96e722d5ab60.js\",\"244\":\"/static/bundles/metro/NametagLandingPage.js/81191f07c970.js\",\"245\":\"/static/bundles/metro/LocalDevTransactionToolSelectorPage.js/1ff20bc40fb4.js\",\"246\":\"/static/bundles/metro/FBEAppStoreErrorPage.js/2c7f0b7a1562.js\",\"247\":\"/static/bundles/metro/BloksShellPage.js/0374a43e8df2.js\",\"248\":\"/static/bundles/metro/BusinessCategoryPageContainer.js/2a74bbbd72ca.js\",\"249\":\"/static/bundles/metro/ActivityFeedBox.js/d51568863add.js\",\"250\":\"/static/bundles/metro/DirectMQTT.js/d7931a33e943.js\",\"253\":\"/static/bundles/metro/BloksPage.js/caddc1f38140.js\",\"254\":\"/static/bundles/metro/Consumer.js/57542ab8a17c.js\",\"255\":\"/static/bundles/metro/Challenge.js/63c16da49939.js\",\"256\":\"/static/bundles/metro/NotificationLandingPage.js/0f70a9fc18cb.js\",\"274\":\"/static/bundles/metro/EmbedAsyncLogger.js/5f8014f912c7.js\",\"277\":\"/static/bundles/metro/EmbedVideoWrapper.js/0e08cbe3a65d.js\",\"278\":\"/static/bundles/metro/EmbedSidecarEntrypoint.js/5aa2a507343d.js\",\"279\":\"/static/bundles/metro/EmbedRich.js/6ffddaccc6be.js\"},\"css\":{\"148\":\"/static/bundles/metro/MobileStoriesLoginPage.css/96d9e543d3ea.css\",\"149\":\"/static/bundles/metro/DesktopStoriesLoginPage.css/eed8d69eb866.css\",\"150\":\"/static/bundles/metro/AvenyFont.css/25fd69ff2266.css\",\"151\":\"/static/bundles/metro/DirectSearchUserContainer.css/ad12791c2bf9.css\",\"152\":\"/static/bundles/metro/StoriesDebugInfoNub.css/4bc325bd3e84.css\",\"153\":\"/static/bundles/metro/MobileStoriesPage.css/daee26a3ff37.css\",\"154\":\"/static/bundles/metro/DesktopStoriesPage.css/51113cb2a46a.css\",\"155\":\"/static/bundles/metro/ActivityFeedPage.css/f2e021ce5c80.css\",\"156\":\"/static/bundles/metro/AdsSettingsPage.css/ab859e56288f.css\",\"157\":\"/static/bundles/metro/DonateCheckoutPage.css/17d3a5d5e7ed.css\",\"158\":\"/static/bundles/metro/CameraPage.css/6a60610e77f3.css\",\"159\":\"/static/bundles/metro/SettingsModules.css/59870c130806.css\",\"160\":\"/static/bundles/metro/ContactHistoryPage.css/6450a9697d3b.css\",\"161\":\"/static/bundles/metro/AccessToolPage.css/dea7dcf6e714.css\",\"162\":\"/static/bundles/metro/AccessToolViewAllPage.css/b4612fd552a9.css\",\"163\":\"/static/bundles/metro/AccountPrivacyBugPage.css/b084aece73a3.css\",\"164\":\"/static/bundles/metro/FirstPartyPlaintextPasswordLandingPage.css/963c635bd921.css\",\"165\":\"/static/bundles/metro/ThirdPartyPlaintextPasswordLandingPage.css/963c635bd921.css\",\"166\":\"/static/bundles/metro/ShoppingBagLandingPage.css/9ea9da8878b6.css\",\"167\":\"/static/bundles/metro/PlaintextPasswordBugPage.css/963c635bd921.css\",\"168\":\"/static/bundles/metro/PrivateAccountMadePublicBugPage.css/963c635bd921.css\",\"169\":\"/static/bundles/metro/PublicAccountNotMadePrivateBugPage.css/963c635bd921.css\",\"170\":\"/static/bundles/metro/BlockedAccountsBugPage.css/963c635bd921.css\",\"171\":\"/static/bundles/metro/AndroidBetaPrivacyBugPage.css/158f7ff45015.css\",\"172\":\"/static/bundles/metro/DataControlsSupportPage.css/2c93110330b6.css\",\"173\":\"/static/bundles/metro/DataDownloadRequestPage.css/bcd3e05f1de2.css\",\"174\":\"/static/bundles/metro/DataDownloadRequestConfirmPage.css/340e3b42e467.css\",\"175\":\"/static/bundles/metro/CheckpointUnderageAppealPage.css/96935d8d6989.css\",\"176\":\"/static/bundles/metro/AccountRecoveryLandingPage.css/11c0294e6d5b.css\",\"177\":\"/static/bundles/metro/ContactInvitesOptOutPage.css/16fb0ada266f.css\",\"178\":\"/static/bundles/metro/ParentalConsentPage.css/c5f1e68fdc65.css\",\"179\":\"/static/bundles/metro/ParentalConsentNotParentPage.css/6308e4086754.css\",\"180\":\"/static/bundles/metro/TermsAcceptPage.css/f93160eb7986.css\",\"181\":\"/static/bundles/metro/TermsUnblockPage.css/4cb35fc62b31.css\",\"182\":\"/static/bundles/metro/NewTermsConfirmPage.css/b73ed7de0bf5.css\",\"183\":\"/static/bundles/metro/ContactInvitesOptOutStatusPage.css/c71af4588c9c.css\",\"184\":\"/static/bundles/metro/CreationModules.css/93ca82b15325.css\",\"185\":\"/static/bundles/metro/StoryCreationPage.css/a5c65c300576.css\",\"186\":\"/static/bundles/metro/PostCommentInput.css/94eff2a7019d.css\",\"189\":\"/static/bundles/metro/PostModalEntrypoint.css/22326130afec.css\",\"190\":\"/static/bundles/metro/PostComments.css/2c4993169770.css\",\"191\":\"/static/bundles/metro/LikedByListContainer.css/cfbb06eb7d39.css\",\"192\":\"/static/bundles/metro/CommentLikedByListContainer.css/cfbb06eb7d39.css\",\"194\":\"/static/bundles/metro/DynamicExploreMediaPage.css/bc924dd78f91.css\",\"195\":\"/static/bundles/metro/DiscoverMediaPageContainer.css/df0fa59cd9a8.css\",\"196\":\"/static/bundles/metro/DiscoverPeoplePageContainer.css/1d5346b5d77b.css\",\"197\":\"/static/bundles/metro/EmailConfirmationPage.css/d3ff48c961de.css\",\"198\":\"/static/bundles/metro/EmailReportBadPasswordResetPage.css/e4462019534b.css\",\"199\":\"/static/bundles/metro/FBSignupPage.css/69fe845008ba.css\",\"200\":\"/static/bundles/metro/NewUserInterstitial.css/26cbce47836b.css\",\"201\":\"/static/bundles/metro/MultiStepSignupPage.css/3676d7a6b506.css\",\"202\":\"/static/bundles/metro/EmptyFeedPage.css/e1ccedbdafd4.css\",\"204\":\"/static/bundles/metro/FeedEndSuggestedUserUnit.css/42e60023d1af.css\",\"205\":\"/static/bundles/metro/FeedSidebarContainer.css/5e5cef40869a.css\",\"206\":\"/static/bundles/metro/SuggestedUserFeedUnitContainer.css/7daaa9d9b746.css\",\"207\":\"/static/bundles/metro/InFeedStoryTray.css/a63f4d3eb101.css\",\"208\":\"/static/bundles/metro/FeedPageContainer.css/cc5f6e57d982.css\",\"209\":\"/static/bundles/metro/FollowListModal.css/9e3765eb7cbf.css\",\"210\":\"/static/bundles/metro/FollowListPage.css/23692b9dc20b.css\",\"211\":\"/static/bundles/metro/SimilarAccountsPage.css/f49306968702.css\",\"212\":\"/static/bundles/metro/LiveBroadcastPage.css/00214dc782ca.css\",\"214\":\"/static/bundles/metro/FalseInformationAppealsPage.css/f7561461b909.css\",\"215\":\"/static/bundles/metro/LandingPage.css/8d927d69de86.css\",\"216\":\"/static/bundles/metro/LocationsDirectoryCountryPage.css/4dacfdb3fce0.css\",\"217\":\"/static/bundles/metro/LocationsDirectoryCityPage.css/4dacfdb3fce0.css\",\"218\":\"/static/bundles/metro/LocationPageContainer.css/171e3f34b3bf.css\",\"219\":\"/static/bundles/metro/LocationsDirectoryLandingPage.css/8d8beac67daf.css\",\"220\":\"/static/bundles/metro/LoginAndSignupPage.css/7843fc980a59.css\",\"221\":\"/static/bundles/metro/FXCalLinkingAuthForm.css/f01fec298aa1.css\",\"222\":\"/static/bundles/metro/FXCalReauthLoginForm.css/00204ff3cc74.css\",\"223\":\"/static/bundles/metro/UpdateIGAppForHelpPage.css/6fb2336f846b.css\",\"224\":\"/static/bundles/metro/ResetPasswordPageContainer.css/963c635bd921.css\",\"225\":\"/static/bundles/metro/MobileAllCommentsPage.css/7d2da3443767.css\",\"226\":\"/static/bundles/metro/MediaChainingPageContainer.css/3a5ddc9b4031.css\",\"227\":\"/static/bundles/metro/PostPageContainer.css/80699ce4559c.css\",\"228\":\"/static/bundles/metro/ProfilesDirectoryLandingPage.css/b406e80cc262.css\",\"229\":\"/static/bundles/metro/HashtagsDirectoryLandingPage.css/b406e80cc262.css\",\"230\":\"/static/bundles/metro/SuggestedDirectoryLandingPage.css/b406e80cc262.css\",\"231\":\"/static/bundles/metro/ProductDetailsPage.css/272a65f5169a.css\",\"232\":\"/static/bundles/metro/TagPageContainer.css/f67e29775340.css\",\"233\":\"/static/bundles/metro/PhoneConfirmPage.css/d899349b3a7b.css\",\"235\":\"/static/bundles/metro/ProfilePageContainer.css/f8ebc557939d.css\",\"236\":\"/static/bundles/metro/HttpErrorPage.css/97acfee23c4f.css\",\"237\":\"/static/bundles/metro/IGTVVideoDraftsPageContainer.css/fb2011d7dca4.css\",\"238\":\"/static/bundles/metro/IGTVVideoUploadPageContainer.css/8f1406ecfdde.css\",\"239\":\"/static/bundles/metro/OAuthPermissionsPage.css/f127ac651626.css\",\"240\":\"/static/bundles/metro/MobileDirectPage.css/afcc96ea88cf.css\",\"241\":\"/static/bundles/metro/DesktopDirectPage.css/1eb061040e3d.css\",\"242\":\"/static/bundles/metro/GuidePage.css/d65af032c6e1.css\",\"243\":\"/static/bundles/metro/OneTapUpsell.css/8b1f0159f514.css\",\"244\":\"/static/bundles/metro/NametagLandingPage.css/a354587c3fd6.css\",\"245\":\"/static/bundles/metro/LocalDevTransactionToolSelectorPage.css/3f8f9bb4c8a7.css\",\"246\":\"/static/bundles/metro/FBEAppStoreErrorPage.css/37c4f5efdab6.css\",\"247\":\"/static/bundles/metro/BloksShellPage.css/88f0898604c5.css\",\"248\":\"/static/bundles/metro/BusinessCategoryPageContainer.css/d4641b854dc6.css\",\"249\":\"/static/bundles/metro/ActivityFeedBox.css/dacb27e62c46.css\",\"253\":\"/static/bundles/metro/BloksPage.css/88f0898604c5.css\",\"254\":\"/static/bundles/metro/Consumer.css/057c3762507f.css\",\"255\":\"/static/bundles/metro/Challenge.css/6b26ae2b6f81.css\",\"256\":\"/static/bundles/metro/NotificationLandingPage.css/c35e66b76f51.css\",\"277\":\"/static/bundles/metro/EmbedVideoWrapper.css/7a46961ed8d8.css\",\"278\":\"/static/bundles/metro/EmbedSidecarEntrypoint.css/5f268c68c4ff.css\",\"279\":\"/static/bundles/metro/EmbedRich.css/dc3dbb330365.css\"}}</script>\n",
       "<script crossorigin=\"anonymous\" src=\"/static/bundles/metro/Polyfills.js/f9f97353891e.js\" type=\"text/javascript\"></script>\n",
       "<script crossorigin=\"anonymous\" src=\"/static/bundles/metro/Vendor.js/5a56d51ae30f.js\" type=\"text/javascript\"></script>\n",
       "<script crossorigin=\"anonymous\" src=\"/static/bundles/metro/en_US.js/d285a24bb0dc.js\" type=\"text/javascript\"></script>\n",
       "<script crossorigin=\"anonymous\" src=\"/static/bundles/metro/ConsumerLibCommons.js/db87fabf8ccb.js\" type=\"text/javascript\"></script>\n",
       "<script crossorigin=\"anonymous\" src=\"/static/bundles/metro/ConsumerUICommons.js/f2e0fdcf8a39.js\" type=\"text/javascript\"></script>\n",
       "<script crossorigin=\"anonymous\" src=\"/static/bundles/metro/ConsumerAsyncCommons.js/d2216d504a63.js\" type=\"text/javascript\"></script>\n",
       "<script async=\"\" charset=\"utf-8\" crossorigin=\"anonymous\" src=\"/static/bundles/metro/Consumer.js/57542ab8a17c.js\" type=\"text/javascript\"></script>\n",
       "<script async=\"\" charset=\"utf-8\" crossorigin=\"anonymous\" src=\"/static/bundles/metro/ProfilePageContainer.js/10ab7558dabb.js\" type=\"text/javascript\"></script>\n",
       "<script type=\"text/javascript\">\n",
       "(function(){\n",
       "  function normalizeError(err) {\n",
       "    var errorInfo = err.error || {};\n",
       "    var getConfigProp = function(propName, defaultValueIfNotTruthy) {\n",
       "      var propValue = window._sharedData && window._sharedData[propName];\n",
       "      return propValue ? propValue : defaultValueIfNotTruthy;\n",
       "    };\n",
       "    return {\n",
       "      line: err.line || errorInfo.message || 0,\n",
       "      column: err.column || 0,\n",
       "      name: 'InitError',\n",
       "      message: err.message || errorInfo.message || '',\n",
       "      script: errorInfo.script || '',\n",
       "      stack: errorInfo.stackTrace || errorInfo.stack || '',\n",
       "      timestamp: Date.now(),\n",
       "      ref: window.location.href,\n",
       "      deployment_stage: getConfigProp('deployment_stage', ''),\n",
       "      frontend_env: getConfigProp('frontend_env', 'prod'),\n",
       "      rollout_hash: getConfigProp('rollout_hash', ''),\n",
       "      is_prerelease: window.__PRERELEASE__ || false,\n",
       "      bundle_variant: getConfigProp('bundle_variant', null),\n",
       "      request_url: err.url || window.location.href,\n",
       "      response_status_code: errorInfo.statusCode || 0\n",
       "    }\n",
       "  }\n",
       "  window.addEventListener('load', function(){\n",
       "    if (window.__bufferedErrors && window.__bufferedErrors.length) {\n",
       "      if (window.caches && window.caches.keys && window.caches.delete) {\n",
       "        window.caches.keys().then(function(keys) {\n",
       "          keys.forEach(function(key) {\n",
       "            window.caches.delete(key)\n",
       "          })\n",
       "        })\n",
       "      }\n",
       "      window.__bufferedErrors.map(function(error) {\n",
       "        return normalizeError(error)\n",
       "      }).forEach(function(normalizedError) {\n",
       "        var request = new XMLHttpRequest();\n",
       "        request.open('POST', '/client_error/', true);\n",
       "        request.setRequestHeader('Content-Type', 'application/json; charset=utf-8');\n",
       "        request.send(JSON.stringify(normalizedError));\n",
       "      })\n",
       "    }\n",
       "  })\n",
       "}());\n",
       "</script>\n",
       "</body>\n",
       "</html>"
      ]
     },
     "execution_count": 74,
     "metadata": {},
     "output_type": "execute_result"
    }
   ],
   "source": [
    "bs_html"
   ]
  },
  {
   "cell_type": "code",
   "execution_count": 81,
   "metadata": {},
   "outputs": [],
   "source": [
    "bs_html.find('canvas', class_='CfWVH')"
   ]
  },
  {
   "cell_type": "code",
   "execution_count": 88,
   "metadata": {},
   "outputs": [
    {
     "name": "stdout",
     "output_type": "stream",
     "text": [
      "None\n"
     ]
    }
   ],
   "source": [
    "print(bs_html.find('div', class_=\"XjzKX\"))"
   ]
  },
  {
   "cell_type": "code",
   "execution_count": 104,
   "metadata": {},
   "outputs": [
    {
     "data": {
      "text/plain": [
       "[]"
      ]
     },
     "execution_count": 104,
     "metadata": {},
     "output_type": "execute_result"
    }
   ],
   "source": [
    "bs_html.find_all(string='user-avatar')"
   ]
  },
  {
   "cell_type": "code",
   "execution_count": 93,
   "metadata": {},
   "outputs": [
    {
     "data": {
      "text/plain": [
       "[]"
      ]
     },
     "execution_count": 93,
     "metadata": {},
     "output_type": "execute_result"
    }
   ],
   "source": [
    "bs_html.findAll('body', text = re.compile('user-avatar'))"
   ]
  },
  {
   "cell_type": "code",
   "execution_count": 105,
   "metadata": {},
   "outputs": [
    {
     "data": {
      "text/plain": [
       "[]"
      ]
     },
     "execution_count": 105,
     "metadata": {},
     "output_type": "execute_result"
    }
   ],
   "source": [
    "bs_html.find_all(text = re.compile('user-avatar'))"
   ]
  },
  {
   "cell_type": "code",
   "execution_count": 27,
   "metadata": {},
   "outputs": [
    {
     "data": {
      "text/plain": [
       "<Response [403]>"
      ]
     },
     "execution_count": 27,
     "metadata": {},
     "output_type": "execute_result"
    }
   ],
   "source": [
    "requests.get(string_url, stream = True) "
   ]
  },
  {
   "cell_type": "code",
   "execution_count": 98,
   "metadata": {},
   "outputs": [
    {
     "ename": "NameError",
     "evalue": "name 'sequence' is not defined",
     "output_type": "error",
     "traceback": [
      "\u001b[0;31m---------------------------------------------------------------------------\u001b[0m",
      "\u001b[0;31mNameError\u001b[0m                                 Traceback (most recent call last)",
      "\u001b[0;32m<ipython-input-98-148333a84474>\u001b[0m in \u001b[0;36m<module>\u001b[0;34m\u001b[0m\n\u001b[0;32m----> 1\u001b[0;31m \u001b[0msequence\u001b[0m\u001b[0;34m(\u001b[0m\u001b[0;36m9\u001b[0m\u001b[0;34m)\u001b[0m\u001b[0;34m\u001b[0m\u001b[0;34m\u001b[0m\u001b[0m\n\u001b[0m",
      "\u001b[0;31mNameError\u001b[0m: name 'sequence' is not defined"
     ]
    }
   ],
   "source": [
    "sequence"
   ]
  },
  {
   "cell_type": "code",
   "execution_count": null,
   "metadata": {},
   "outputs": [],
   "source": []
  }
 ],
 "metadata": {
  "kernelspec": {
   "display_name": "Python 3",
   "language": "python",
   "name": "python3"
  },
  "language_info": {
   "codemirror_mode": {
    "name": "ipython",
    "version": 3
   },
   "file_extension": ".py",
   "mimetype": "text/x-python",
   "name": "python",
   "nbconvert_exporter": "python",
   "pygments_lexer": "ipython3",
   "version": "3.7.6"
  }
 },
 "nbformat": 4,
 "nbformat_minor": 4
}
