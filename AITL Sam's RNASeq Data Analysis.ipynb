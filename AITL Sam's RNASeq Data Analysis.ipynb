{
 "cells": [
  {
   "cell_type": "markdown",
   "metadata": {},
   "source": [
    "### Title: RNA Seq analysis of SN6552 and SN6553 (AITL) samples <BR>\n",
    "Date: 8/13/19 <br>\n",
    "Author: Ajit Johnson Nirmal<br>"
   ]
  },
  {
   "cell_type": "code",
   "execution_count": 1,
   "metadata": {},
   "outputs": [],
   "source": [
    "# Set Working Directory\n",
    "# Lab\n",
    "#setwd(\"C:/Users/ajn16/Dropbox (Partners HealthCare)/Data/aitl_sam\")\n",
    "# Laptop\n",
    "setwd(\"/Users/aj/Dropbox (Partners HealthCare)/Data/aitl_sam\")"
   ]
  },
  {
   "cell_type": "code",
   "execution_count": 2,
   "metadata": {},
   "outputs": [],
   "source": [
    "# Save or load Object\n",
    "#save.image(file='aitl_analysis.RData')\n",
    "load('aitl_analysis.RData')"
   ]
  },
  {
   "cell_type": "code",
   "execution_count": 2,
   "metadata": {},
   "outputs": [],
   "source": [
    "# Load data\n",
    "# Lab\n",
    "exp <- read.csv(\"C:/Users/ajn16/Dropbox (Partners HealthCare)/Data/aitl_sam/raw_counts/STAR_Gene_Counts.csv\", header = T, row.names = 1)\n",
    "meta <- read.csv(\"C:/Users/ajn16/Dropbox (Partners HealthCare)/Data/aitl_sam/raw_counts/meta.csv\", header = T, row.names = 1)\n",
    "# mac\n",
    "#exp <- read.csv(\"/Users/aj/Dropbox (Partners HealthCare)/Data/aitl_sam/raw_counts/STAR_Gene_Counts.csv\", header = T, row.names = 1)\n",
    "#meta <- read.csv(\"/Users/aj/Dropbox (Partners HealthCare)/Data/aitl_sam/raw_counts/meta.csv\", header = T, row.names = 1)"
   ]
  },
  {
   "cell_type": "code",
   "execution_count": 4,
   "metadata": {},
   "outputs": [
    {
     "name": "stderr",
     "output_type": "stream",
     "text": [
      "estimating size factors\n",
      "estimating dispersions\n",
      "gene-wise dispersion estimates\n",
      "mean-dispersion relationship\n",
      "final dispersion estimates\n",
      "fitting model and testing\n"
     ]
    }
   ],
   "source": [
    "# Create the dds object to get the normalized data\n",
    "library(\"DESeq2\")\n",
    "dds <- DESeqDataSetFromMatrix(countData = exp, colData = meta, design = ~ group)\n",
    "dds <- DESeq(dds)\n",
    "# Extract the normalised data from the deseq file\n",
    "n_data <- log2(counts(dds, normalized=TRUE)+1)"
   ]
  },
  {
   "cell_type": "markdown",
   "metadata": {},
   "source": [
    "### Calculating and plotting the most variable genes"
   ]
  },
  {
   "cell_type": "code",
   "execution_count": 7,
   "metadata": {},
   "outputs": [],
   "source": [
    "# Custom Function\n",
    "mostVar <- function(data, n, i_want_most_var = TRUE, meta) {\n",
    "    require(\"RColorBrewer\")\n",
    "    require(\"DESeq2\")\n",
    "    # Function to ge the Most variable genes\n",
    "    data.var <- apply(data, 1, stats::var)\n",
    "    data[order(data.var, decreasing = i_want_most_var)[1:n],]\n",
    "    variable_genes <- data\n",
    "    # Heatmap of the most variable genes\n",
    "    # Create the grouping for coloring by disease\n",
    "    my_group = factor(meta$group)\n",
    "    my_col = brewer.pal(length(levels(factor(meta$group))), \"Set1\")[my_group]\n",
    "    # Color pallet for heatmap\n",
    "    coul = colorRampPalette(brewer.pal(9,\"OrRd\"))(10)\n",
    "    # Export most variable genes and corresponding figure\n",
    "    dir.create(\"most variable genes\")\n",
    "    write.csv(variable_genes, file = \"most variable genes/3000_mvg.csv\")\n",
    "    pdf(\"most variable genes/3000_mvg.pdf\",width=6,height=6,paper='special')\n",
    "    heatmap(as.matrix(variable_genes), Colv = NA, scale=\"row\", ColSideColors=my_col, col =coul, hclustfun = hclust)\n",
    "    dev.off()\n",
    "}"
   ]
  },
  {
   "cell_type": "code",
   "execution_count": 8,
   "metadata": {},
   "outputs": [
    {
     "name": "stderr",
     "output_type": "stream",
     "text": [
      "Loading required package: RColorBrewer\n",
      "Warning message in dir.create(\"most variable genes\"):\n",
      "\"'most variable genes' already exists\""
     ]
    },
    {
     "data": {
      "text/html": [
       "<strong>png:</strong> 2"
      ],
      "text/latex": [
       "\\textbf{png:} 2"
      ],
      "text/markdown": [
       "**png:** 2"
      ],
      "text/plain": [
       "png \n",
       "  2 "
      ]
     },
     "metadata": {},
     "output_type": "display_data"
    }
   ],
   "source": [
    "# Run the function\n",
    "mostVar(data=n_data, n=3000, i_want_most_var = TRUE, meta = meta)"
   ]
  },
  {
   "cell_type": "markdown",
   "metadata": {},
   "source": [
    "## Master function to calculate Differentially expressed genes, Plot heatmap of the DEG's, Plot PCA, KEGG pathway enrichment analysis, GSEA enrichment analysis, GO enrichment analysis and Plot top outputs of GO, KEGG and GSEA enrichment tests"
   ]
  },
  {
   "cell_type": "markdown",
   "metadata": {},
   "source": [
    "I've written the function such that any combinations of groups can be given to the function using the following format and the function will perform all the above defined analysis automatically. All the results will be saved in a folder in the working directory. <br>\n",
    "Format for giving in the comparitive groups: <br>\n",
    "contrast <- list(A = c(\"\"), B= c(\"\"))"
   ]
  },
  {
   "cell_type": "code",
   "execution_count": 8,
   "metadata": {},
   "outputs": [],
   "source": [
    "goi_deg_pca_gsea_go <- function(exp,meta,contrast){\n",
    "  require(goseq)\n",
    "  require(plyr)\n",
    "  require(ggplot2)\n",
    "  require(gridExtra)\n",
    "  require(stringr)\n",
    "  require(org.Hs.eg.db)\n",
    "  require(KEGGREST)\n",
    "  require(fgsea)\n",
    "  require(msigdbr)\n",
    "  require(xlsx)\n",
    "  require(\"DESeq2\")\n",
    "  require(\"RColorBrewer\")\n",
    "  # Generate the DESEq2 data object\n",
    "  dds <- DESeqDataSetFromMatrix(countData = exp, colData = meta, design = ~ group)\n",
    "  # Resolve the contrasts\n",
    "  goi <-  c(paste(unlist(contrast[[1]]), collapse=\"_\"),paste(unlist(contrast[[2]]), collapse=\"_\"))\n",
    "  groups <- c(unlist(contrast[[1]]),contrast[[2]])\n",
    "  # Manipulate the dds groups\n",
    "  dds$group <- mapvalues(dds$group, from=contrast[[1]], to=rep(paste(unlist(contrast[[1]]), collapse=\"_\"),length(contrast[[1]])))\n",
    "  dds$group <- mapvalues(dds$group, from=contrast[[2]], to=rep(paste(unlist(contrast[[2]]), collapse=\"_\"),length(contrast[[2]])))\n",
    "  # Run the DeSeq analysis\n",
    "  dds <- DESeq(dds)\n",
    "  # Get the normalized matrix for heatmaps\n",
    "  n_data <- log2(counts(dds, normalized=TRUE)+1)\n",
    "  # Subset the normalized matrix and dds based on the groups of interest\n",
    "  n_data_goi <- data.frame(n_data[,unique(grep(paste(groups,collapse=\"|\"), colnames(n_data), value=TRUE))])\n",
    "  dds_subset <- dds[ , dds$group %in% goi ]\n",
    "  dds_subset$group <- factor(dds_subset$group)\n",
    "  # Creating a folder to save results\n",
    "  print(\"Creating a folder to store your results\")\n",
    "  dir.create(\"DGE+PCA+G0+KEGG+GSEA\")\n",
    "  dir.create(paste(\"DGE+PCA+G0+KEGG+GSEA/\",goi[1], \" vs \", goi[2],sep = \"\"))\n",
    "  location <- paste(\"DGE+PCA+G0+KEGG+GSEA/\",goi[1], \" vs \", goi[2],\"/\",sep = \"\")\n",
    "\n",
    "  # DEG\n",
    "  print(\"Calculating the differentially expressed genes\")\n",
    "  deg <- results(dds, contrast=c(\"group\",goi[1],goi[2]))\n",
    "  deg <- deg[order(deg$padj),]\n",
    "  # Save the DEG matrix\n",
    "  write.csv(deg, file = paste(location,goi[1], \" vs \", goi[2],\".csv\",sep = \"\"))\n",
    "\n",
    "  # HEATMAP for the DEG's\n",
    "  # Subset the significant genes from deg and subset the rows of n_data based on those genes and columns based on goi\n",
    "  deg_heatmap <- data.frame(deg[order(deg$log2FoldChange),])\n",
    "  deg_heatmap <- n_data_goi[row.names(deg_heatmap[which(deg_heatmap$padj <= 0.05), ]), ]\n",
    "  # Create the grouping for coloring\n",
    "  my_group = factor(dds_subset$group)\n",
    "  my_col = brewer.pal(length(levels(factor(dds_subset$group))), \"Set1\")[my_group]\n",
    "  coul = colorRampPalette(brewer.pal(9,\"OrRd\"))(10)\n",
    "  # Save the heatmap\n",
    "  print(\"Generating a heatmap of the diferentially expressed genes\")\n",
    "  pdf(paste(location,\"Heatmap- \",goi[1], \" vs \", goi[2],\".pdf\",sep = \"\"),width=6,height=6,paper='special')\n",
    "  heatmap(as.matrix(deg_heatmap), Rowv = NA, scale=\"row\", ColSideColors=my_col, col =coul, hclustfun = hclust,margins = c(10, 4))\n",
    "  dev.off()\n",
    "\n",
    "  # PCA\n",
    "  print(\"Performing Principal Component Analysis\")\n",
    "  rld_dds_subset<- rlog(dds_subset, blind=FALSE)\n",
    "  pcaData <- plotPCA(rld_dds_subset, intgroup= \"group\", returnData=TRUE)\n",
    "  percentVar <- round(100 * attr(pcaData, \"percentVar\"))\n",
    "  pca.plot <-   ggplot(pcaData, aes(PC1, PC2, color=group)) + geom_label(aes(label = name)) +\n",
    "    theme_bw()+ theme(legend.position = \"none\")\n",
    "  pdf(paste(location,\"PCA- \",goi[1], \" vs \", goi[2],\".pdf\",sep = \"\"),width=6,height=6,paper='special')\n",
    "  plot(pca.plot)\n",
    "  dev.off()\n",
    "\n",
    "  # GO enrichment analysis for the DEG's\n",
    "  print(\"Performing GO enrichment analysis\")\n",
    "  gene.vector=as.integer(row.names(data.frame(deg))%in%row.names(deg_heatmap))\n",
    "  names(gene.vector)=row.names(data.frame(deg))\n",
    "  # Prepare for goseq (gene length data for the DEG's)\n",
    "  pwf=nullp(gene.vector,\"hg19\",\"geneSymbol\")\n",
    "  # Using the Wallenius approximation\n",
    "  GO.wall=goseq(pwf,\"hg19\",\"geneSymbol\")\n",
    "  # save the goterms\n",
    "  write.csv(GO.wall, file = paste(location,\"GO Enrichment- \",goi[1], \" vs \", goi[2],\".csv\", sep = \"\"))\n",
    "\n",
    "  # Prepare the GO dataframe for generating a figure\n",
    "  GO.plot <- data.frame()\n",
    "  for (i in levels(as.factor(GO.wall$ontology))){\n",
    "    GO.wall_subset <- GO.wall[GO.wall$ontology %in% i,]\n",
    "    GO.wall_top <- GO.wall_subset[rownames(GO.wall_subset)[order(GO.wall_subset$over_represented_pvalue, decreasing=FALSE)][1:5],]\n",
    "    GO.wall_top$direction <- \"over represented\"\n",
    "    GO.wall_top$p.val <- -log(GO.wall_top$over_represented_pvalue)\n",
    "    GO.wall_bottom <- GO.wall_subset[rownames(GO.wall_subset)[order(GO.wall_subset$under_represented_pvalue, decreasing=FALSE)][1:5],]\n",
    "    GO.wall_bottom$direction <- \"under represented\"\n",
    "    GO.wall_bottom$p.val <- -log(GO.wall_bottom$under_represented_pvalue)\n",
    "    GO_subset <- rbind(GO.wall_top,GO.wall_bottom)\n",
    "    GO.plot <- rbind(GO.plot,GO_subset)\n",
    "  }\n",
    "\n",
    "  # Plot the GO.plot data\n",
    "  GO.plot$term <- factor(GO.plot$term, levels = GO.plot$term) # to avoid re-ordering\n",
    "  for (i in levels(as.factor(GO.plot$ontology))){\n",
    "    GO.plot_subset <- GO.plot[GO.plot$ontology %in% i,]\n",
    "    p<-ggplot(data=GO.plot_subset, aes(x=term, y=p.val,fill=direction)) +\n",
    "      geom_bar(stat=\"identity\")+ geom_hline(yintercept = 3)+\n",
    "      coord_flip()+ theme_bw()+ theme(legend.position=\"bottom\",legend.title = element_blank(), axis.text=element_text(size=12)) +\n",
    "      ggtitle(paste(i, \"- Top 5\"))+\n",
    "      scale_x_discrete(labels = function(x) str_wrap(x, width = 25))+\n",
    "      labs(y = \"-log(P value)\")\n",
    "    my_plots[[i]] <- p\n",
    "  }\n",
    "  pdf(paste(location,\"GO Enrichment- \",goi[1], \" vs \", goi[2],\".pdf\",sep = \"\"),width=6,height=20,paper='special')\n",
    "  grid.arrange(grobs = my_plots, ncol = 1)\n",
    "  dev.off()\n",
    "\n",
    "  # Kegg Pathway Analysis for the DEG's\n",
    "  print(\"Performing KEGG pathway analysis\")\n",
    "  # Get the mapping from GeneName to KEGG\n",
    "  entrez_symbol <- toTable(org.Hs.egSYMBOL)\n",
    "  entrez_df <- merge(entrez_symbol,data.frame(deg), by.x=\"symbol\", by.y= \"row.names\")\n",
    "  entrez_deg <- entrez_df[which(entrez_df$padj <= 0.05), ]\n",
    "  # Prepare for GOSeq analysis\n",
    "  gene_entez=as.integer(entrez_df$gene_id %in% entrez_deg$gene_id)\n",
    "  names(gene_entez)= entrez_df$gene_id\n",
    "  # KEGG id from entrez ID\n",
    "  KEGG_IDs = mget(as.character(names(gene_entez)), org.Hs.egPATH,ifnotfound=NA)\n",
    "  # GoSeq analysis\n",
    "  pwf=nullp(gene_entez,\"hg19\",\"knownGene\")\n",
    "  KEGG=goseq(pwf,gene2cat=KEGG_IDs)\n",
    "  # Convert KEGG ID to pathway name\n",
    "  # Download all KEGG pathways\n",
    "  lines <- readLines(\"http://www.kegg.jp/kegg-bin/download_htext?htext=br08901.keg&format=htext\" )\n",
    "  pathways <- do.call(rbind,str_split( grep( \"^[ABCD]\\\\s+\\\\d{5}\\\\s+.*?$\", lines, value=TRUE ), \"\\\\s{2,}\" ))\n",
    "  pathways <- as.data.frame( pathways )[-1]\n",
    "  colnames( pathways )  <- c( \"ID\", \"Name\" )\n",
    "  # Merge with the calculated ones\n",
    "  KEGG_analysis <- merge(KEGG,pathways, by.x = \"category\", by.y = \"ID\")\n",
    "  # save the KEGG pathways\n",
    "  write.csv(KEGG_analysis, file = paste(location,\"KEGG Pathway Analysis- \",goi[1], \" vs \", goi[2],\".csv\",sep = \"\"))\n",
    "\n",
    "  # Prepare the KEGG dataframe for generating a figure\n",
    "  kegg_top <- KEGG_analysis[rownames(KEGG_analysis)[order(KEGG_analysis$over_represented_pvalue, decreasing=FALSE)][1:10],]\n",
    "  kegg_top$direction <- \"over represented\"\n",
    "  kegg_top$p.val <- -log(kegg_top$over_represented_pvalue)\n",
    "  kegg_bottom <- KEGG_analysis[rownames(KEGG_analysis)[order(KEGG_analysis$under_represented_pvalue, decreasing=FALSE)][1:10],]\n",
    "  kegg_bottom$direction <- \"under represented\"\n",
    "  kegg_bottom$p.val <- -log(kegg_bottom$under_represented_pvalue)\n",
    "  kegg.plot <- rbind(kegg_top,kegg_bottom)\n",
    "\n",
    "  # Plot the kegg.plot data\n",
    "  kegg.plot$Name <- as.character(kegg.plot$Name)\n",
    "  kegg.plot$Name <- factor(kegg.plot$Name, levels = kegg.plot$Name) # to avoid re-ordering\n",
    "\n",
    "  kegg_plot<-ggplot(data=kegg.plot, aes(x=Name, y=p.val,fill=direction)) +\n",
    "    geom_bar(stat=\"identity\")+ geom_hline(yintercept = 3)+\n",
    "    coord_flip()+ theme_bw()+ theme(legend.position=\"bottom\",legend.title = element_blank(), axis.text=element_text(size=12)) +\n",
    "    ggtitle(\"Top 10 KEGG Pathways\")+\n",
    "    scale_x_discrete(labels = function(x) str_wrap(x, width = 25))+\n",
    "    labs(y = \"-log(P value)\")\n",
    "  # Plot\n",
    "  pdf(paste(location,\"KEGG Pathway Analysis- \",goi[1], \" vs \", goi[2],\".pdf\",sep=\"\"),width=8,height=12,paper='special')\n",
    "  plot(kegg_plot)\n",
    "  dev.off()\n",
    "\n",
    "  # GSEA Analysis\n",
    "  print(\"Preparing for GSEA analysis\")\n",
    "  # Create a ranked list of genes\n",
    "  ranked_list <- data.frame(deg[!is.na(deg$padj),])\n",
    "  ranked_list$score <- -log(ranked_list$padj)*sign(ranked_list$log2FoldChange)\n",
    "  ranked_list <- ranked_list[order(-ranked_list$score),]\n",
    "  r_list <- ranked_list$score\n",
    "  names(r_list) <- row.names(ranked_list)\n",
    "  # Remove any infinity values\n",
    "  r_list = r_list[is.finite(r_list)]\n",
    "\n",
    "  # Download the necessary genesets\n",
    "  geneset_h1 = msigdbr(species = \"Homo sapiens\", category = \"H\")\n",
    "  geneset_c2 = msigdbr(species = \"Homo sapiens\", category = \"C2\", subcategory = \"CGP\")\n",
    "  geneset_c5 = msigdbr(species = \"Homo sapiens\", category = \"C5\")\n",
    "  geneset_c6 = msigdbr(species = \"Homo sapiens\", category = \"C6\")\n",
    "  geneset_c7 = msigdbr(species = \"Homo sapiens\", category = \"C7\")\n",
    "\n",
    "  # Create a plot of the top pathways\n",
    "  fgsea_plot <- function(fgsea_result,geneset,r_list,analysis){\n",
    "    topPathwaysUp <- fgsea_result[ES > 0][padj<0.05][head(order(NES), n=10), pathway]\n",
    "    topPathwaysDown <- fgsea_result[ES < 0][padj<0.05][head(order(NES), n=10), pathway]\n",
    "    topPathways <- c(topPathwaysUp, rev(topPathwaysDown))\n",
    "    if (any(fgsea_result$padj <= 0.05)){\n",
    "      #plot\n",
    "      pdf(paste(location,\"GSEA- \",analysis,goi[1], \" vs \", goi[2],\".pdf\",sep = \"\"),width=10,height=12,paper='special')\n",
    "      plotGseaTable(geneset[topPathways], r_list, fgsea_result,gseaParam = 0.5)\n",
    "      dev.off()\n",
    "    } else{print(\"Hey watch out- There was no significant genesets to plot\")}\n",
    "  }\n",
    "  # H1\n",
    "  print(\"Performing GSEA with hallmark gene sets\")\n",
    "  geneset = geneset_h1 %>% split(x = .$gene_symbol, f = .$gs_name)\n",
    "  fgsea_h1<- fgsea(pathways = geneset, stats = r_list, nperm=10000)\n",
    "  fgsea_plot (fgsea_result=fgsea_h1,geneset,r_list,analysis=\"geneset_h1\")\n",
    "  # C2\n",
    "  print(\"Performing GSEA with CGP: chemical and genetic perturbations gene sets\")\n",
    "  geneset = geneset_c2 %>% split(x = .$gene_symbol, f = .$gs_name)\n",
    "  fgsea_c2<- fgsea(pathways = geneset, stats = r_list, nperm=10000)\n",
    "  fgsea_plot (fgsea_result=fgsea_c2,geneset,r_list,analysis=\"geneset_c2\")\n",
    "  # C5\n",
    "  print(\"Performing GSEA with GO gene sets\")\n",
    "  geneset = geneset_c5 %>% split(x = .$gene_symbol, f = .$gs_name)\n",
    "  fgsea_c5<- fgsea(pathways = geneset, stats = r_list, nperm=10000)\n",
    "  fgsea_plot (fgsea_result=fgsea_c5,geneset,r_list,analysis=\"geneset_c5\")\n",
    "  # C6\n",
    "  print(\"Performing GSEA with oncogenic signatures\")\n",
    "  geneset = geneset_c6 %>% split(x = .$gene_symbol, f = .$gs_name)\n",
    "  fgsea_c6<- fgsea(pathways = geneset, stats = r_list, nperm=10000)\n",
    "  fgsea_plot (fgsea_result=fgsea_c6,geneset,r_list,analysis=\"geneset_c6\")\n",
    "  # C7\n",
    "  print(\"Performing GSEA with immunologic signatures\")\n",
    "  geneset = geneset_c7 %>% split(x = .$gene_symbol, f = .$gs_name)\n",
    "  fgsea_c7<- fgsea(pathways = geneset, stats = r_list, nperm=10000)\n",
    "  fgsea_plot (fgsea_result=fgsea_c7,geneset,r_list,analysis=\"geneset_c7\")\n",
    "\n",
    "  # Save all results\n",
    "  write.xlsx(as(fgsea_h1, \"data.frame\")[,-ncol(as(fgsea_h1, \"data.frame\"))], file = paste(location,\"GSEA Analysis- \",goi[1], \" vs \", goi[2],\".xlsx\",sep = \"\"), sheetName=\"H1 geneset\", row.names=FALSE)\n",
    "  write.xlsx(as(fgsea_c2, \"data.frame\")[,-ncol(as(fgsea_c2, \"data.frame\"))], file = paste(location,\"GSEA Analysis- \",goi[1], \" vs \", goi[2],\".xlsx\",sep = \"\"), sheetName=\"C2 geneset\", append=TRUE, row.names=FALSE)\n",
    "  write.xlsx(as(fgsea_c5, \"data.frame\")[,-ncol(as(fgsea_c5, \"data.frame\"))], file = paste(location,\"GSEA Analysis- \",goi[1], \" vs \", goi[2],\".xlsx\",sep = \"\"), sheetName=\"C5 geneset\", append=TRUE, row.names=FALSE)\n",
    "  write.xlsx(as(fgsea_c6, \"data.frame\")[,-ncol(as(fgsea_c6, \"data.frame\"))], file = paste(location,\"GSEA Analysis- \",goi[1], \" vs \", goi[2],\".xlsx\",sep = \"\"), sheetName=\"C6 geneset\", append=TRUE, row.names=FALSE)\n",
    "  write.xlsx(as(fgsea_c7, \"data.frame\")[,-ncol(as(fgsea_c7, \"data.frame\"))], file = paste(location,\"GSEA Analysis- \",goi[1], \" vs \", goi[2],\".xlsx\",sep = \"\"), sheetName=\"C7 geneset\", append=TRUE, row.names=FALSE)\n",
    "\n",
    "  print(paste(\"Well done- the analysis is now complete. Head over to\",getwd(),\"to view your results\"))\n",
    "}"
   ]
  },
  {
   "cell_type": "markdown",
   "metadata": {},
   "source": [
    "## ANALYSIS"
   ]
  },
  {
   "cell_type": "markdown",
   "metadata": {},
   "source": [
    "### Analysing TFH v. Naive"
   ]
  },
  {
   "cell_type": "code",
   "execution_count": 11,
   "metadata": {
    "scrolled": false
   },
   "outputs": [
    {
     "name": "stderr",
     "output_type": "stream",
     "text": [
      "estimating size factors\n",
      "estimating dispersions\n",
      "gene-wise dispersion estimates\n",
      "mean-dispersion relationship\n",
      "final dispersion estimates\n",
      "fitting model and testing\n"
     ]
    },
    {
     "name": "stdout",
     "output_type": "stream",
     "text": [
      "[1] \"Creating a folder to store your results\"\n",
      "[1] \"Calculating the differentially expressed genes\"\n",
      "[1] \"Generating a heatmap of the diferentially expressed genes\"\n",
      "[1] \"Performing Principal Component Analysis\"\n",
      "[1] \"Performing GO enrichment analysis\"\n"
     ]
    },
    {
     "name": "stderr",
     "output_type": "stream",
     "text": [
      "Loading hg19 length data...\n",
      "Fetching GO annotations...\n",
      "For 6542 genes, we could not find any categories. These genes will be excluded.\n",
      "To force their use, please run with use_genes_without_cat=TRUE (see documentation).\n",
      "This was the default behavior for version 1.15.1 and earlier.\n",
      "Calculating the p-values...\n",
      "'select()' returned 1:1 mapping between keys and columns\n"
     ]
    },
    {
     "name": "stdout",
     "output_type": "stream",
     "text": [
      "[1] \"Performing KEGG pathway analysis\"\n"
     ]
    },
    {
     "name": "stderr",
     "output_type": "stream",
     "text": [
      "Loading hg19 length data...\n",
      "Using manually entered categories.\n",
      "For 17874 genes, we could not find any categories. These genes will be excluded.\n",
      "To force their use, please run with use_genes_without_cat=TRUE (see documentation).\n",
      "This was the default behavior for version 1.15.1 and earlier.\n",
      "Calculating the p-values...\n"
     ]
    },
    {
     "name": "stdout",
     "output_type": "stream",
     "text": [
      "[1] \"Preparing for GSEA analysis\"\n",
      "[1] \"Performing GSEA with hallmark gene sets\"\n",
      "[1] \"Performing GSEA with CGP: chemical and genetic perturbations gene sets\"\n",
      "[1] \"Hey watch out- There was no significant genesets to plot\"\n",
      "[1] \"Performing GSEA with GO gene sets\"\n",
      "[1] \"Hey watch out- There was no significant genesets to plot\"\n",
      "[1] \"Performing GSEA with oncogenic signatures\"\n",
      "[1] \"Hey watch out- There was no significant genesets to plot\"\n",
      "[1] \"Performing GSEA with immunologic signatures\"\n"
     ]
    },
    {
     "data": {
      "image/png": "[encoded data removed]",
      "text/plain": [
       "plot without title"
      ]
     },
     "metadata": {},
     "output_type": "display_data"
    },
    {
     "name": "stdout",
     "output_type": "stream",
     "text": [
      "[1] \"Well done- the analysis is now complete. Head over to C:/Users/ajn16/Dropbox (Partners HealthCare)/Data/aitl_sam to view your results\"\n"
     ]
    },
    {
     "data": {
      "image/png": "[encoded data removed]",
      "text/plain": [
       "plot without title"
      ]
     },
     "metadata": {},
     "output_type": "display_data"
    }
   ],
   "source": [
    "my_plots <- list()\n",
    "suppressWarnings(goi_deg_pca_gsea_go (exp,meta,contrast=list(A = c(\"TFH\"), B= c(\"Tonsil_Naive\"))))"
   ]
  },
  {
   "cell_type": "markdown",
   "metadata": {},
   "source": [
    "### Analysing DW23+DFTL47880 v. SMZ1+HH"
   ]
  },
  {
   "cell_type": "code",
   "execution_count": 15,
   "metadata": {
    "scrolled": false
   },
   "outputs": [
    {
     "name": "stderr",
     "output_type": "stream",
     "text": [
      "estimating size factors\n",
      "estimating dispersions\n",
      "gene-wise dispersion estimates\n",
      "mean-dispersion relationship\n",
      "final dispersion estimates\n",
      "fitting model and testing\n"
     ]
    },
    {
     "name": "stdout",
     "output_type": "stream",
     "text": [
      "[1] \"Creating a folder to store your results\"\n",
      "[1] \"Calculating the differentially expressed genes\"\n",
      "[1] \"Generating a heatmap of the diferentially expressed genes\"\n",
      "[1] \"Performing Principal Component Analysis\"\n",
      "[1] \"Performing GO enrichment analysis\"\n"
     ]
    },
    {
     "name": "stderr",
     "output_type": "stream",
     "text": [
      "Loading hg19 length data...\n",
      "Fetching GO annotations...\n",
      "For 6542 genes, we could not find any categories. These genes will be excluded.\n",
      "To force their use, please run with use_genes_without_cat=TRUE (see documentation).\n",
      "This was the default behavior for version 1.15.1 and earlier.\n",
      "Calculating the p-values...\n",
      "'select()' returned 1:1 mapping between keys and columns\n"
     ]
    },
    {
     "name": "stdout",
     "output_type": "stream",
     "text": [
      "[1] \"Performing KEGG pathway analysis\"\n"
     ]
    },
    {
     "name": "stderr",
     "output_type": "stream",
     "text": [
      "Loading hg19 length data...\n",
      "Using manually entered categories.\n",
      "For 17874 genes, we could not find any categories. These genes will be excluded.\n",
      "To force their use, please run with use_genes_without_cat=TRUE (see documentation).\n",
      "This was the default behavior for version 1.15.1 and earlier.\n",
      "Calculating the p-values...\n"
     ]
    },
    {
     "name": "stdout",
     "output_type": "stream",
     "text": [
      "[1] \"Preparing for GSEA analysis\"\n",
      "[1] \"Performing GSEA with hallmark gene sets\"\n",
      "[1] \"Performing GSEA with CGP: chemical and genetic perturbations gene sets\"\n",
      "[1] \"Performing GSEA with GO gene sets\"\n",
      "[1] \"Performing GSEA with oncogenic signatures\"\n",
      "[1] \"Performing GSEA with immunologic signatures\"\n"
     ]
    },
    {
     "data": {
      "image/png": "[encoded data removed]",
      "text/plain": [
       "plot without title"
      ]
     },
     "metadata": {},
     "output_type": "display_data"
    },
    {
     "name": "stdout",
     "output_type": "stream",
     "text": [
      "[1] \"Well done- the analysis is now complete. Head over to C:/Users/ajn16/Dropbox (Partners HealthCare)/Data/aitl_sam to view your results\"\n"
     ]
    },
    {
     "data": {
      "image/png": "[encoded data removed]",
      "text/plain": [
       "plot without title"
      ]
     },
     "metadata": {},
     "output_type": "display_data"
    }
   ],
   "source": [
    "my_plots <- list()\n",
    "suppressWarnings(goi_deg_pca_gsea_go (exp,meta,contrast=list(A = c(\"DW23\",\"DFTL_47880\"), B= c(\"SMZ1\", \"HH\"))))"
   ]
  },
  {
   "cell_type": "markdown",
   "metadata": {},
   "source": [
    "### Analysing DW23+DFTL47880+SMZ1+HH v. TFH+Naive"
   ]
  },
  {
   "cell_type": "code",
   "execution_count": 16,
   "metadata": {
    "scrolled": false
   },
   "outputs": [
    {
     "name": "stderr",
     "output_type": "stream",
     "text": [
      "estimating size factors\n",
      "estimating dispersions\n",
      "gene-wise dispersion estimates\n",
      "mean-dispersion relationship\n",
      "final dispersion estimates\n",
      "fitting model and testing\n",
      "-- replacing outliers and refitting for 250 genes\n",
      "-- DESeq argument 'minReplicatesForReplace' = 7 \n",
      "-- original counts are preserved in counts(dds)\n",
      "estimating dispersions\n",
      "fitting model and testing\n"
     ]
    },
    {
     "name": "stdout",
     "output_type": "stream",
     "text": [
      "[1] \"Creating a folder to store your results\"\n",
      "[1] \"Calculating the differentially expressed genes\"\n",
      "[1] \"Generating a heatmap of the diferentially expressed genes\"\n",
      "[1] \"Performing Principal Component Analysis\"\n",
      "[1] \"Performing GO enrichment analysis\"\n"
     ]
    },
    {
     "name": "stderr",
     "output_type": "stream",
     "text": [
      "Loading hg19 length data...\n",
      "Fetching GO annotations...\n",
      "For 6542 genes, we could not find any categories. These genes will be excluded.\n",
      "To force their use, please run with use_genes_without_cat=TRUE (see documentation).\n",
      "This was the default behavior for version 1.15.1 and earlier.\n",
      "Calculating the p-values...\n",
      "'select()' returned 1:1 mapping between keys and columns\n"
     ]
    },
    {
     "name": "stdout",
     "output_type": "stream",
     "text": [
      "[1] \"Performing KEGG pathway analysis\"\n"
     ]
    },
    {
     "name": "stderr",
     "output_type": "stream",
     "text": [
      "Loading hg19 length data...\n",
      "Using manually entered categories.\n",
      "For 17874 genes, we could not find any categories. These genes will be excluded.\n",
      "To force their use, please run with use_genes_without_cat=TRUE (see documentation).\n",
      "This was the default behavior for version 1.15.1 and earlier.\n",
      "Calculating the p-values...\n"
     ]
    },
    {
     "name": "stdout",
     "output_type": "stream",
     "text": [
      "[1] \"Preparing for GSEA analysis\"\n",
      "[1] \"Performing GSEA with hallmark gene sets\"\n",
      "[1] \"Performing GSEA with CGP: chemical and genetic perturbations gene sets\"\n",
      "[1] \"Performing GSEA with GO gene sets\"\n",
      "[1] \"Performing GSEA with oncogenic signatures\"\n",
      "[1] \"Performing GSEA with immunologic signatures\"\n"
     ]
    },
    {
     "data": {
      "image/png": "[encoded data removed]",
      "text/plain": [
       "plot without title"
      ]
     },
     "metadata": {},
     "output_type": "display_data"
    },
    {
     "name": "stdout",
     "output_type": "stream",
     "text": [
      "[1] \"Well done- the analysis is now complete. Head over to C:/Users/ajn16/Dropbox (Partners HealthCare)/Data/aitl_sam to view your results\"\n"
     ]
    },
    {
     "data": {
      "image/png": "[encoded data removed]",
      "text/plain": [
       "plot without title"
      ]
     },
     "metadata": {},
     "output_type": "display_data"
    }
   ],
   "source": [
    "my_plots <- list()\n",
    "suppressWarnings(goi_deg_pca_gsea_go (exp,meta,contrast=list(A = c(\"DW23\",\"DFTL_47880\",\"SMZ1\",\"HH\"), B= c(\"TFH\", \"Tonsil_Naive\"))))"
   ]
  },
  {
   "cell_type": "markdown",
   "metadata": {},
   "source": [
    "### Analysing DW23+DFTL47880 v. TFH"
   ]
  },
  {
   "cell_type": "code",
   "execution_count": 9,
   "metadata": {
    "scrolled": false
   },
   "outputs": [
    {
     "name": "stderr",
     "output_type": "stream",
     "text": [
      "estimating size factors\n",
      "estimating dispersions\n",
      "gene-wise dispersion estimates\n",
      "mean-dispersion relationship\n",
      "final dispersion estimates\n",
      "fitting model and testing\n"
     ]
    },
    {
     "name": "stdout",
     "output_type": "stream",
     "text": [
      "[1] \"Creating a folder to store your results\"\n",
      "[1] \"Calculating the differentially expressed genes\"\n",
      "[1] \"Generating a heatmap of the diferentially expressed genes\"\n",
      "[1] \"Performing Principal Component Analysis\"\n",
      "[1] \"Performing GO enrichment analysis\"\n"
     ]
    },
    {
     "name": "stderr",
     "output_type": "stream",
     "text": [
      "Loading hg19 length data...\n",
      "Fetching GO annotations...\n",
      "For 6542 genes, we could not find any categories. These genes will be excluded.\n",
      "To force their use, please run with use_genes_without_cat=TRUE (see documentation).\n",
      "This was the default behavior for version 1.15.1 and earlier.\n",
      "Calculating the p-values...\n",
      "'select()' returned 1:1 mapping between keys and columns\n"
     ]
    },
    {
     "name": "stdout",
     "output_type": "stream",
     "text": [
      "[1] \"Performing KEGG pathway analysis\"\n"
     ]
    },
    {
     "name": "stderr",
     "output_type": "stream",
     "text": [
      "Loading hg19 length data...\n",
      "Using manually entered categories.\n",
      "For 17874 genes, we could not find any categories. These genes will be excluded.\n",
      "To force their use, please run with use_genes_without_cat=TRUE (see documentation).\n",
      "This was the default behavior for version 1.15.1 and earlier.\n",
      "Calculating the p-values...\n"
     ]
    },
    {
     "name": "stdout",
     "output_type": "stream",
     "text": [
      "[1] \"Preparing for GSEA analysis\"\n",
      "[1] \"Performing GSEA with hallmark gene sets\"\n",
      "[1] \"Performing GSEA with CGP: chemical and genetic perturbations gene sets\"\n",
      "[1] \"Performing GSEA with GO gene sets\"\n",
      "[1] \"Performing GSEA with oncogenic signatures\"\n",
      "[1] \"Performing GSEA with immunologic signatures\"\n"
     ]
    },
    {
     "data": {
      "image/png": "[encoded data removed]",
      "text/plain": [
       "plot without title"
      ]
     },
     "metadata": {},
     "output_type": "display_data"
    },
    {
     "name": "stdout",
     "output_type": "stream",
     "text": [
      "[1] \"Well done- the analysis is now complete. Head over to C:/Users/ajn16/Dropbox (Partners HealthCare)/Data/aitl_sam to view your results\"\n"
     ]
    },
    {
     "data": {
      "image/png": "[encoded data removed]",
      "text/plain": [
       "plot without title"
      ]
     },
     "metadata": {},
     "output_type": "display_data"
    }
   ],
   "source": [
    "my_plots <- list()\n",
    "suppressWarnings(goi_deg_pca_gsea_go (exp,meta,contrast=list(A = c(\"DW23\",\"DFTL_47880\"), B= c(\"TFH\"))))"
   ]
  },
  {
   "cell_type": "markdown",
   "metadata": {},
   "source": [
    "### DW23 + DFTL47880 v. Naive # Pending"
   ]
  },
  {
   "cell_type": "code",
   "execution_count": 10,
   "metadata": {
    "scrolled": false
   },
   "outputs": [
    {
     "name": "stderr",
     "output_type": "stream",
     "text": [
      "estimating size factors\n",
      "estimating dispersions\n",
      "gene-wise dispersion estimates\n",
      "mean-dispersion relationship\n",
      "final dispersion estimates\n",
      "fitting model and testing\n"
     ]
    },
    {
     "name": "stdout",
     "output_type": "stream",
     "text": [
      "[1] \"Creating a folder to store your results\"\n",
      "[1] \"Calculating the differentially expressed genes\"\n",
      "[1] \"Generating a heatmap of the diferentially expressed genes\"\n",
      "[1] \"Performing Principal Component Analysis\"\n",
      "[1] \"Performing GO enrichment analysis\"\n"
     ]
    },
    {
     "name": "stderr",
     "output_type": "stream",
     "text": [
      "Loading hg19 length data...\n",
      "Fetching GO annotations...\n",
      "For 6542 genes, we could not find any categories. These genes will be excluded.\n",
      "To force their use, please run with use_genes_without_cat=TRUE (see documentation).\n",
      "This was the default behavior for version 1.15.1 and earlier.\n",
      "Calculating the p-values...\n",
      "'select()' returned 1:1 mapping between keys and columns\n"
     ]
    },
    {
     "name": "stdout",
     "output_type": "stream",
     "text": [
      "[1] \"Performing KEGG pathway analysis\"\n"
     ]
    },
    {
     "name": "stderr",
     "output_type": "stream",
     "text": [
      "Loading hg19 length data...\n",
      "Using manually entered categories.\n",
      "For 17874 genes, we could not find any categories. These genes will be excluded.\n",
      "To force their use, please run with use_genes_without_cat=TRUE (see documentation).\n",
      "This was the default behavior for version 1.15.1 and earlier.\n",
      "Calculating the p-values...\n"
     ]
    },
    {
     "name": "stdout",
     "output_type": "stream",
     "text": [
      "[1] \"Preparing for GSEA analysis\"\n",
      "[1] \"Performing GSEA with hallmark gene sets\"\n",
      "[1] \"Performing GSEA with CGP: chemical and genetic perturbations gene sets\"\n",
      "[1] \"Performing GSEA with GO gene sets\"\n",
      "[1] \"Performing GSEA with oncogenic signatures\"\n",
      "[1] \"Performing GSEA with immunologic signatures\"\n"
     ]
    },
    {
     "data": {
      "image/png": "[encoded data removed]",
      "text/plain": [
       "plot without title"
      ]
     },
     "metadata": {},
     "output_type": "display_data"
    },
    {
     "name": "stdout",
     "output_type": "stream",
     "text": [
      "[1] \"Well done- the analysis is now complete. Head over to C:/Users/ajn16/Dropbox (Partners HealthCare)/Data/aitl_sam to view your results\"\n"
     ]
    },
    {
     "data": {
      "image/png": "[encoded data removed]",
      "text/plain": [
       "plot without title"
      ]
     },
     "metadata": {},
     "output_type": "display_data"
    }
   ],
   "source": [
    "my_plots <- list()\n",
    "suppressWarnings(goi_deg_pca_gsea_go (exp,meta,contrast=list(A = c(\"DW23\",\"DFTL_47880\"), B= c(\"Tonsil_Naive\"))))"
   ]
  },
  {
   "cell_type": "markdown",
   "metadata": {},
   "source": [
    "### DW23 v. DFTL47880"
   ]
  },
  {
   "cell_type": "code",
   "execution_count": 11,
   "metadata": {
    "scrolled": false
   },
   "outputs": [
    {
     "name": "stderr",
     "output_type": "stream",
     "text": [
      "estimating size factors\n",
      "estimating dispersions\n",
      "gene-wise dispersion estimates\n",
      "mean-dispersion relationship\n",
      "final dispersion estimates\n",
      "fitting model and testing\n"
     ]
    },
    {
     "name": "stdout",
     "output_type": "stream",
     "text": [
      "[1] \"Creating a folder to store your results\"\n",
      "[1] \"Calculating the differentially expressed genes\"\n",
      "[1] \"Generating a heatmap of the diferentially expressed genes\"\n",
      "[1] \"Performing Principal Component Analysis\"\n",
      "[1] \"Performing GO enrichment analysis\"\n"
     ]
    },
    {
     "name": "stderr",
     "output_type": "stream",
     "text": [
      "Loading hg19 length data...\n",
      "Fetching GO annotations...\n",
      "For 6542 genes, we could not find any categories. These genes will be excluded.\n",
      "To force their use, please run with use_genes_without_cat=TRUE (see documentation).\n",
      "This was the default behavior for version 1.15.1 and earlier.\n",
      "Calculating the p-values...\n",
      "'select()' returned 1:1 mapping between keys and columns\n"
     ]
    },
    {
     "name": "stdout",
     "output_type": "stream",
     "text": [
      "[1] \"Performing KEGG pathway analysis\"\n"
     ]
    },
    {
     "name": "stderr",
     "output_type": "stream",
     "text": [
      "Loading hg19 length data...\n",
      "Using manually entered categories.\n",
      "For 17874 genes, we could not find any categories. These genes will be excluded.\n",
      "To force their use, please run with use_genes_without_cat=TRUE (see documentation).\n",
      "This was the default behavior for version 1.15.1 and earlier.\n",
      "Calculating the p-values...\n"
     ]
    },
    {
     "name": "stdout",
     "output_type": "stream",
     "text": [
      "[1] \"Preparing for GSEA analysis\"\n",
      "[1] \"Performing GSEA with hallmark gene sets\"\n"
     ]
    },
    {
     "data": {
      "image/png": "[encoded data removed]",
      "text/plain": [
       "plot without title"
      ]
     },
     "metadata": {},
     "output_type": "display_data"
    },
    {
     "name": "stdout",
     "output_type": "stream",
     "text": [
      "[1] \"Performing GSEA with CGP: chemical and genetic perturbations gene sets\"\n",
      "[1] \"Hey watch out- There was no significant genesets to plot\"\n",
      "[1] \"Performing GSEA with GO gene sets\"\n",
      "[1] \"Hey watch out- There was no significant genesets to plot\"\n",
      "[1] \"Performing GSEA with oncogenic signatures\"\n",
      "[1] \"Hey watch out- There was no significant genesets to plot\"\n",
      "[1] \"Performing GSEA with immunologic signatures\"\n",
      "[1] \"Hey watch out- There was no significant genesets to plot\"\n",
      "[1] \"Well done- the analysis is now complete. Head over to C:/Users/ajn16/Dropbox (Partners HealthCare)/Data/aitl_sam to view your results\"\n"
     ]
    },
    {
     "data": {
      "image/png": "[encoded data removed]",
      "text/plain": [
       "plot without title"
      ]
     },
     "metadata": {},
     "output_type": "display_data"
    }
   ],
   "source": [
    "my_plots <- list()\n",
    "suppressWarnings(goi_deg_pca_gsea_go (exp,meta,contrast=list(A = c(\"DW23\"), B= c(\"DFTL_47880\"))))"
   ]
  },
  {
   "cell_type": "markdown",
   "metadata": {},
   "source": [
    "### DW23 + DFTL47880 v. TFH+Naive"
   ]
  },
  {
   "cell_type": "code",
   "execution_count": 12,
   "metadata": {
    "scrolled": false
   },
   "outputs": [
    {
     "name": "stderr",
     "output_type": "stream",
     "text": [
      "estimating size factors\n",
      "estimating dispersions\n",
      "gene-wise dispersion estimates\n",
      "mean-dispersion relationship\n",
      "final dispersion estimates\n",
      "fitting model and testing\n"
     ]
    },
    {
     "name": "stdout",
     "output_type": "stream",
     "text": [
      "[1] \"Creating a folder to store your results\"\n",
      "[1] \"Calculating the differentially expressed genes\"\n",
      "[1] \"Generating a heatmap of the diferentially expressed genes\"\n",
      "[1] \"Performing Principal Component Analysis\"\n",
      "[1] \"Performing GO enrichment analysis\"\n"
     ]
    },
    {
     "name": "stderr",
     "output_type": "stream",
     "text": [
      "Loading hg19 length data...\n",
      "Fetching GO annotations...\n",
      "For 6542 genes, we could not find any categories. These genes will be excluded.\n",
      "To force their use, please run with use_genes_without_cat=TRUE (see documentation).\n",
      "This was the default behavior for version 1.15.1 and earlier.\n",
      "Calculating the p-values...\n",
      "'select()' returned 1:1 mapping between keys and columns\n"
     ]
    },
    {
     "name": "stdout",
     "output_type": "stream",
     "text": [
      "[1] \"Performing KEGG pathway analysis\"\n"
     ]
    },
    {
     "name": "stderr",
     "output_type": "stream",
     "text": [
      "Loading hg19 length data...\n",
      "Using manually entered categories.\n",
      "For 17874 genes, we could not find any categories. These genes will be excluded.\n",
      "To force their use, please run with use_genes_without_cat=TRUE (see documentation).\n",
      "This was the default behavior for version 1.15.1 and earlier.\n",
      "Calculating the p-values...\n"
     ]
    },
    {
     "name": "stdout",
     "output_type": "stream",
     "text": [
      "[1] \"Preparing for GSEA analysis\"\n",
      "[1] \"Performing GSEA with hallmark gene sets\"\n",
      "[1] \"Performing GSEA with CGP: chemical and genetic perturbations gene sets\"\n",
      "[1] \"Performing GSEA with GO gene sets\"\n",
      "[1] \"Performing GSEA with oncogenic signatures\"\n",
      "[1] \"Performing GSEA with immunologic signatures\"\n"
     ]
    },
    {
     "data": {
      "image/png": "[encoded data removed]",
      "text/plain": [
       "plot without title"
      ]
     },
     "metadata": {},
     "output_type": "display_data"
    },
    {
     "name": "stdout",
     "output_type": "stream",
     "text": [
      "[1] \"Well done- the analysis is now complete. Head over to C:/Users/ajn16/Dropbox (Partners HealthCare)/Data/aitl_sam to view your results\"\n"
     ]
    },
    {
     "data": {
      "image/png": "[encoded data removed]",
      "text/plain": [
       "plot without title"
      ]
     },
     "metadata": {},
     "output_type": "display_data"
    }
   ],
   "source": [
    "my_plots <- list()\n",
    "suppressWarnings(goi_deg_pca_gsea_go (exp,meta,contrast=list(A = c(\"DW23\",\"DFTL_47880\"), B= c(\"TFH\", \"Tonsil_Naive\"))))"
   ]
  },
  {
   "cell_type": "markdown",
   "metadata": {},
   "source": [
    "### DFTL47880 v. TFH"
   ]
  },
  {
   "cell_type": "code",
   "execution_count": 13,
   "metadata": {
    "scrolled": false
   },
   "outputs": [
    {
     "name": "stderr",
     "output_type": "stream",
     "text": [
      "estimating size factors\n",
      "estimating dispersions\n",
      "gene-wise dispersion estimates\n",
      "mean-dispersion relationship\n",
      "final dispersion estimates\n",
      "fitting model and testing\n"
     ]
    },
    {
     "name": "stdout",
     "output_type": "stream",
     "text": [
      "[1] \"Creating a folder to store your results\"\n",
      "[1] \"Calculating the differentially expressed genes\"\n",
      "[1] \"Generating a heatmap of the diferentially expressed genes\"\n",
      "[1] \"Performing Principal Component Analysis\"\n",
      "[1] \"Performing GO enrichment analysis\"\n"
     ]
    },
    {
     "name": "stderr",
     "output_type": "stream",
     "text": [
      "Loading hg19 length data...\n",
      "Fetching GO annotations...\n",
      "For 6542 genes, we could not find any categories. These genes will be excluded.\n",
      "To force their use, please run with use_genes_without_cat=TRUE (see documentation).\n",
      "This was the default behavior for version 1.15.1 and earlier.\n",
      "Calculating the p-values...\n",
      "'select()' returned 1:1 mapping between keys and columns\n"
     ]
    },
    {
     "name": "stdout",
     "output_type": "stream",
     "text": [
      "[1] \"Performing KEGG pathway analysis\"\n"
     ]
    },
    {
     "name": "stderr",
     "output_type": "stream",
     "text": [
      "Loading hg19 length data...\n",
      "Using manually entered categories.\n",
      "For 17874 genes, we could not find any categories. These genes will be excluded.\n",
      "To force their use, please run with use_genes_without_cat=TRUE (see documentation).\n",
      "This was the default behavior for version 1.15.1 and earlier.\n",
      "Calculating the p-values...\n"
     ]
    },
    {
     "name": "stdout",
     "output_type": "stream",
     "text": [
      "[1] \"Preparing for GSEA analysis\"\n",
      "[1] \"Performing GSEA with hallmark gene sets\"\n",
      "[1] \"Performing GSEA with CGP: chemical and genetic perturbations gene sets\"\n",
      "[1] \"Performing GSEA with GO gene sets\"\n",
      "[1] \"Performing GSEA with oncogenic signatures\"\n",
      "[1] \"Performing GSEA with immunologic signatures\"\n"
     ]
    },
    {
     "data": {
      "image/png": "[encoded data removed]",
      "text/plain": [
       "plot without title"
      ]
     },
     "metadata": {},
     "output_type": "display_data"
    },
    {
     "name": "stdout",
     "output_type": "stream",
     "text": [
      "[1] \"Well done- the analysis is now complete. Head over to C:/Users/ajn16/Dropbox (Partners HealthCare)/Data/aitl_sam to view your results\"\n"
     ]
    },
    {
     "data": {
      "image/png": "[encoded data removed]",
      "text/plain": [
       "plot without title"
      ]
     },
     "metadata": {},
     "output_type": "display_data"
    }
   ],
   "source": [
    "my_plots <- list()\n",
    "suppressWarnings(goi_deg_pca_gsea_go (exp,meta,contrast=list(A = c(\"DFTL_47880\"), B= c(\"TFH\"))))"
   ]
  },
  {
   "cell_type": "markdown",
   "metadata": {},
   "source": [
    "### DW23 v. TFH"
   ]
  },
  {
   "cell_type": "code",
   "execution_count": 14,
   "metadata": {
    "scrolled": false
   },
   "outputs": [
    {
     "name": "stderr",
     "output_type": "stream",
     "text": [
      "estimating size factors\n",
      "estimating dispersions\n",
      "gene-wise dispersion estimates\n",
      "mean-dispersion relationship\n",
      "final dispersion estimates\n",
      "fitting model and testing\n"
     ]
    },
    {
     "name": "stdout",
     "output_type": "stream",
     "text": [
      "[1] \"Creating a folder to store your results\"\n",
      "[1] \"Calculating the differentially expressed genes\"\n",
      "[1] \"Generating a heatmap of the diferentially expressed genes\"\n",
      "[1] \"Performing Principal Component Analysis\"\n",
      "[1] \"Performing GO enrichment analysis\"\n"
     ]
    },
    {
     "name": "stderr",
     "output_type": "stream",
     "text": [
      "Loading hg19 length data...\n",
      "Fetching GO annotations...\n",
      "For 6542 genes, we could not find any categories. These genes will be excluded.\n",
      "To force their use, please run with use_genes_without_cat=TRUE (see documentation).\n",
      "This was the default behavior for version 1.15.1 and earlier.\n",
      "Calculating the p-values...\n",
      "'select()' returned 1:1 mapping between keys and columns\n"
     ]
    },
    {
     "name": "stdout",
     "output_type": "stream",
     "text": [
      "[1] \"Performing KEGG pathway analysis\"\n"
     ]
    },
    {
     "name": "stderr",
     "output_type": "stream",
     "text": [
      "Loading hg19 length data...\n",
      "Using manually entered categories.\n",
      "For 17874 genes, we could not find any categories. These genes will be excluded.\n",
      "To force their use, please run with use_genes_without_cat=TRUE (see documentation).\n",
      "This was the default behavior for version 1.15.1 and earlier.\n",
      "Calculating the p-values...\n"
     ]
    },
    {
     "name": "stdout",
     "output_type": "stream",
     "text": [
      "[1] \"Preparing for GSEA analysis\"\n",
      "[1] \"Performing GSEA with hallmark gene sets\"\n",
      "[1] \"Performing GSEA with CGP: chemical and genetic perturbations gene sets\"\n",
      "[1] \"Performing GSEA with GO gene sets\"\n",
      "[1] \"Performing GSEA with oncogenic signatures\"\n",
      "[1] \"Performing GSEA with immunologic signatures\"\n"
     ]
    },
    {
     "data": {
      "image/png": "[encoded data removed]",
      "text/plain": [
       "plot without title"
      ]
     },
     "metadata": {},
     "output_type": "display_data"
    },
    {
     "name": "stdout",
     "output_type": "stream",
     "text": [
      "[1] \"Well done- the analysis is now complete. Head over to C:/Users/ajn16/Dropbox (Partners HealthCare)/Data/aitl_sam to view your results\"\n"
     ]
    },
    {
     "data": {
      "image/png": "[encoded data removed]",
      "text/plain": [
       "plot without title"
      ]
     },
     "metadata": {},
     "output_type": "display_data"
    }
   ],
   "source": [
    "my_plots <- list()\n",
    "suppressWarnings(goi_deg_pca_gsea_go (exp,meta,contrast=list(A = c(\"DW23\"), B= c(\"TFH\"))))"
   ]
  },
  {
   "cell_type": "markdown",
   "metadata": {},
   "source": [
    "## PCA analysis"
   ]
  },
  {
   "cell_type": "code",
   "execution_count": 11,
   "metadata": {},
   "outputs": [],
   "source": [
    "pca_subset <- function(dds,goi){\n",
    "  require(ggplot2)\n",
    "  require(DESeq2)\n",
    "  print(\"Creating a folder to store your results\")\n",
    "  dir.create(\"DGE+PCA+G0+KEGG+GSEA\")\n",
    "  dir.create(\"DGE+PCA+G0+KEGG+GSEA/PCA\")\n",
    "  location <- \"DGE+PCA+G0+KEGG+GSEA/PCA/\"\n",
    "  # Subset groups of interest from the main dds\n",
    "  dds_subset <- dds[ , dds$group %in% goi ]\n",
    "  dds_subset$group <- factor(dds_subset$group)\n",
    "  # Perform the PCA analysis\n",
    "  print(\"Performing Principal Component Analysis\")\n",
    "  rld_dds_subset<- rlog(dds_subset, blind=FALSE)\n",
    "  pcaData <- plotPCA(rld_dds_subset, intgroup= \"group\", returnData=TRUE)\n",
    "  percentVar <- round(100 * attr(pcaData, \"percentVar\"))\n",
    "  pca.plot <-   ggplot(pcaData, aes(PC1, PC2, color=group)) + geom_label(aes(label = name)) +\n",
    "    theme_bw()+ theme(legend.position = \"none\")\n",
    "  pdf(paste(location,\"PCA- \",goi,\".pdf\"),width=6,height=6,paper='special')\n",
    "  plot(pca.plot)\n",
    "  dev.off()\n",
    "}"
   ]
  },
  {
   "cell_type": "code",
   "execution_count": 12,
   "metadata": {},
   "outputs": [
    {
     "name": "stdout",
     "output_type": "stream",
     "text": [
      "[1] \"Creating a folder to store your results\"\n"
     ]
    },
    {
     "name": "stderr",
     "output_type": "stream",
     "text": [
      "Warning message in dir.create(\"DGE+PCA+G0+KEGG+GSEA\"):\n",
      "“'DGE+PCA+G0+KEGG+GSEA' already exists”Warning message in dir.create(\"DGE+PCA+G0+KEGG+GSEA/PCA\"):\n",
      "“'DGE+PCA+G0+KEGG+GSEA/PCA' already exists”"
     ]
    },
    {
     "name": "stdout",
     "output_type": "stream",
     "text": [
      "[1] \"Performing Principal Component Analysis\"\n"
     ]
    },
    {
     "data": {
      "text/html": [
       "<strong>pdf:</strong> 2"
      ],
      "text/latex": [
       "\\textbf{pdf:} 2"
      ],
      "text/markdown": [
       "**pdf:** 2"
      ],
      "text/plain": [
       "pdf \n",
       "  2 "
      ]
     },
     "metadata": {},
     "output_type": "display_data"
    }
   ],
   "source": [
    "# PCA-1 (All samples)\n",
    "goi <- levels(dds$group)\n",
    "pca_subset (dds,goi)"
   ]
  },
  {
   "cell_type": "code",
   "execution_count": 15,
   "metadata": {},
   "outputs": [
    {
     "name": "stdout",
     "output_type": "stream",
     "text": [
      "[1] \"Creating a folder to store your results\"\n"
     ]
    },
    {
     "name": "stderr",
     "output_type": "stream",
     "text": [
      "Warning message in dir.create(\"DGE+PCA+G0+KEGG+GSEA\"):\n",
      "“'DGE+PCA+G0+KEGG+GSEA' already exists”Warning message in dir.create(\"DGE+PCA+G0+KEGG+GSEA/PCA\"):\n",
      "“'DGE+PCA+G0+KEGG+GSEA/PCA' already exists”"
     ]
    },
    {
     "name": "stdout",
     "output_type": "stream",
     "text": [
      "[1] \"Performing Principal Component Analysis\"\n"
     ]
    },
    {
     "data": {
      "text/html": [
       "<strong>pdf:</strong> 2"
      ],
      "text/latex": [
       "\\textbf{pdf:} 2"
      ],
      "text/markdown": [
       "**pdf:** 2"
      ],
      "text/plain": [
       "pdf \n",
       "  2 "
      ]
     },
     "metadata": {},
     "output_type": "display_data"
    }
   ],
   "source": [
    "# PCA-2 DW23, DFTL47880, HH, SMZ1\n",
    "pca_subset (dds,goi= c(\"DW23\", \"DFTL_47880\", \"HH\", \"SMZ1\"))"
   ]
  },
  {
   "cell_type": "code",
   "execution_count": 16,
   "metadata": {},
   "outputs": [
    {
     "name": "stdout",
     "output_type": "stream",
     "text": [
      "[1] \"Creating a folder to store your results\"\n"
     ]
    },
    {
     "name": "stderr",
     "output_type": "stream",
     "text": [
      "Warning message in dir.create(\"DGE+PCA+G0+KEGG+GSEA\"):\n",
      "“'DGE+PCA+G0+KEGG+GSEA' already exists”Warning message in dir.create(\"DGE+PCA+G0+KEGG+GSEA/PCA\"):\n",
      "“'DGE+PCA+G0+KEGG+GSEA/PCA' already exists”"
     ]
    },
    {
     "name": "stdout",
     "output_type": "stream",
     "text": [
      "[1] \"Performing Principal Component Analysis\"\n"
     ]
    },
    {
     "data": {
      "text/html": [
       "<strong>pdf:</strong> 2"
      ],
      "text/latex": [
       "\\textbf{pdf:} 2"
      ],
      "text/markdown": [
       "**pdf:** 2"
      ],
      "text/plain": [
       "pdf \n",
       "  2 "
      ]
     },
     "metadata": {},
     "output_type": "display_data"
    }
   ],
   "source": [
    "# PCA-3 TFH, Naïve\n",
    "pca_subset (dds,goi= c(\"TFH\", \"Tonsil_Naive\"))"
   ]
  },
  {
   "cell_type": "code",
   "execution_count": 17,
   "metadata": {},
   "outputs": [
    {
     "name": "stdout",
     "output_type": "stream",
     "text": [
      "[1] \"Creating a folder to store your results\"\n"
     ]
    },
    {
     "name": "stderr",
     "output_type": "stream",
     "text": [
      "Warning message in dir.create(\"DGE+PCA+G0+KEGG+GSEA\"):\n",
      "“'DGE+PCA+G0+KEGG+GSEA' already exists”Warning message in dir.create(\"DGE+PCA+G0+KEGG+GSEA/PCA\"):\n",
      "“'DGE+PCA+G0+KEGG+GSEA/PCA' already exists”"
     ]
    },
    {
     "name": "stdout",
     "output_type": "stream",
     "text": [
      "[1] \"Performing Principal Component Analysis\"\n"
     ]
    },
    {
     "data": {
      "text/html": [
       "<strong>pdf:</strong> 2"
      ],
      "text/latex": [
       "\\textbf{pdf:} 2"
      ],
      "text/markdown": [
       "**pdf:** 2"
      ],
      "text/plain": [
       "pdf \n",
       "  2 "
      ]
     },
     "metadata": {},
     "output_type": "display_data"
    }
   ],
   "source": [
    "# PCA-4 DW23, DFTL47880\n",
    "pca_subset (dds,goi= c(\"DW23\", \"DFTL_47880\"))"
   ]
  },
  {
   "cell_type": "code",
   "execution_count": null,
   "metadata": {},
   "outputs": [],
   "source": []
  }
 ],
 "metadata": {
  "kernelspec": {
   "display_name": "R",
   "language": "R",
   "name": "ir"
  },
  "language_info": {
   "codemirror_mode": "r",
   "file_extension": ".r",
   "mimetype": "text/x-r-source",
   "name": "R",
   "pygments_lexer": "r",
   "version": "3.5.2"
  }
 },
 "nbformat": 4,
 "nbformat_minor": 2
}
