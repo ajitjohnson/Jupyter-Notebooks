{
 "cells": [
  {
   "cell_type": "markdown",
   "metadata": {},
   "source": [
    "### Notebook to play around with CycIF data"
   ]
  },
  {
   "cell_type": "code",
   "execution_count": 1,
   "metadata": {},
   "outputs": [],
   "source": [
    "# Import librarires\n",
    "import pandas as pd\n",
    "import numpy as np\n",
    "import os\n",
    "import seaborn as sns; sns.set(style=\"white\", color_codes=True)\n",
    "import matplotlib.pyplot as plt\n",
    "\n",
    "# Create anndata and scanpy\n",
    "import anndata as ad\n",
    "import scanpy as sc\n",
    "\n",
    "# Import custom functions\n",
    "import wget"
   ]
  },
  {
   "cell_type": "code",
   "execution_count": 2,
   "metadata": {},
   "outputs": [
    {
     "data": {
      "text/html": [
       "<div>\n",
       "<style scoped>\n",
       "    .dataframe tbody tr th:only-of-type {\n",
       "        vertical-align: middle;\n",
       "    }\n",
       "\n",
       "    .dataframe tbody tr th {\n",
       "        vertical-align: top;\n",
       "    }\n",
       "\n",
       "    .dataframe thead th {\n",
       "        text-align: right;\n",
       "    }\n",
       "</style>\n",
       "<table border=\"1\" class=\"dataframe\">\n",
       "  <thead>\n",
       "    <tr style=\"text-align: right;\">\n",
       "      <th></th>\n",
       "      <th>DAPI</th>\n",
       "      <th>CD2</th>\n",
       "      <th>TCR</th>\n",
       "      <th>CD4</th>\n",
       "      <th>DAPI.1</th>\n",
       "      <th>CD3D</th>\n",
       "      <th>CD7</th>\n",
       "      <th>CD43</th>\n",
       "      <th>DAPI.2</th>\n",
       "      <th>ALK</th>\n",
       "      <th>CD45</th>\n",
       "      <th>CD10</th>\n",
       "      <th>DAPI.3</th>\n",
       "      <th>Ki67</th>\n",
       "      <th>CD5</th>\n",
       "      <th>CD11b</th>\n",
       "      <th>DAPI.4</th>\n",
       "      <th>FOXP3</th>\n",
       "      <th>CD8</th>\n",
       "      <th>CD57</th>\n",
       "    </tr>\n",
       "  </thead>\n",
       "  <tbody>\n",
       "    <tr>\n",
       "      <th>C1</th>\n",
       "      <td>2356</td>\n",
       "      <td>115</td>\n",
       "      <td>43</td>\n",
       "      <td>0</td>\n",
       "      <td>0</td>\n",
       "      <td>0</td>\n",
       "      <td>0</td>\n",
       "      <td>0</td>\n",
       "      <td>0</td>\n",
       "      <td>0</td>\n",
       "      <td>0</td>\n",
       "      <td>0</td>\n",
       "      <td>0</td>\n",
       "      <td>0</td>\n",
       "      <td>0</td>\n",
       "      <td>0</td>\n",
       "      <td>0</td>\n",
       "      <td>0</td>\n",
       "      <td>0</td>\n",
       "      <td>0</td>\n",
       "    </tr>\n",
       "    <tr>\n",
       "      <th>C2</th>\n",
       "      <td>3396</td>\n",
       "      <td>0</td>\n",
       "      <td>0</td>\n",
       "      <td>0</td>\n",
       "      <td>3656</td>\n",
       "      <td>0</td>\n",
       "      <td>14</td>\n",
       "      <td>4</td>\n",
       "      <td>3195</td>\n",
       "      <td>0</td>\n",
       "      <td>10</td>\n",
       "      <td>0</td>\n",
       "      <td>3983</td>\n",
       "      <td>27</td>\n",
       "      <td>0</td>\n",
       "      <td>76</td>\n",
       "      <td>4140</td>\n",
       "      <td>9</td>\n",
       "      <td>34</td>\n",
       "      <td>0</td>\n",
       "    </tr>\n",
       "    <tr>\n",
       "      <th>C3</th>\n",
       "      <td>6740</td>\n",
       "      <td>13</td>\n",
       "      <td>0</td>\n",
       "      <td>0</td>\n",
       "      <td>7914</td>\n",
       "      <td>13</td>\n",
       "      <td>0</td>\n",
       "      <td>7</td>\n",
       "      <td>5810</td>\n",
       "      <td>0</td>\n",
       "      <td>6</td>\n",
       "      <td>0</td>\n",
       "      <td>7060</td>\n",
       "      <td>5</td>\n",
       "      <td>0</td>\n",
       "      <td>0</td>\n",
       "      <td>8117</td>\n",
       "      <td>9</td>\n",
       "      <td>0</td>\n",
       "      <td>0</td>\n",
       "    </tr>\n",
       "    <tr>\n",
       "      <th>C4</th>\n",
       "      <td>5002</td>\n",
       "      <td>2</td>\n",
       "      <td>0</td>\n",
       "      <td>0</td>\n",
       "      <td>6041</td>\n",
       "      <td>0</td>\n",
       "      <td>0</td>\n",
       "      <td>0</td>\n",
       "      <td>6421</td>\n",
       "      <td>0</td>\n",
       "      <td>5</td>\n",
       "      <td>0</td>\n",
       "      <td>5410</td>\n",
       "      <td>0</td>\n",
       "      <td>0</td>\n",
       "      <td>0</td>\n",
       "      <td>6553</td>\n",
       "      <td>0</td>\n",
       "      <td>0</td>\n",
       "      <td>0</td>\n",
       "    </tr>\n",
       "    <tr>\n",
       "      <th>C5</th>\n",
       "      <td>5457</td>\n",
       "      <td>0</td>\n",
       "      <td>0</td>\n",
       "      <td>0</td>\n",
       "      <td>6905</td>\n",
       "      <td>0</td>\n",
       "      <td>0</td>\n",
       "      <td>0</td>\n",
       "      <td>7927</td>\n",
       "      <td>0</td>\n",
       "      <td>0</td>\n",
       "      <td>0</td>\n",
       "      <td>6053</td>\n",
       "      <td>0</td>\n",
       "      <td>0</td>\n",
       "      <td>0</td>\n",
       "      <td>7058</td>\n",
       "      <td>0</td>\n",
       "      <td>0</td>\n",
       "      <td>0</td>\n",
       "    </tr>\n",
       "  </tbody>\n",
       "</table>\n",
       "</div>"
      ],
      "text/plain": [
       "    DAPI  CD2  TCR  CD4  DAPI.1  CD3D  CD7   CD43  DAPI.2  ALK  CD45  CD10  \\\n",
       "C1  2356  115   43    0       0     0     0     0       0    0     0     0   \n",
       "C2  3396    0    0    0    3656     0    14     4    3195    0    10     0   \n",
       "C3  6740   13    0    0    7914    13     0     7    5810    0     6     0   \n",
       "C4  5002    2    0    0    6041     0     0     0    6421    0     5     0   \n",
       "C5  5457    0    0    0    6905     0     0     0    7927    0     0     0   \n",
       "\n",
       "    DAPI.3  Ki67  CD5  CD11b  DAPI.4  FOXP3  CD8  CD57  \n",
       "C1       0     0    0      0       0      0    0     0  \n",
       "C2    3983    27    0     76    4140      9   34     0  \n",
       "C3    7060     5    0      0    8117      9    0     0  \n",
       "C4    5410     0    0      0    6553      0    0     0  \n",
       "C5    6053     0    0      0    7058      0    0     0  "
      ]
     },
     "execution_count": 2,
     "metadata": {},
     "output_type": "execute_result"
    }
   ],
   "source": [
    "# Import data\n",
    "# Laptop\n",
    "#WD = \"/Users/aj/Dropbox (Partners HealthCare)/Data/Vignesh_Lymphoma_tma\"\n",
    "# HMS\n",
    "WD = \"C:/Users/ajn16/Dropbox (Partners HealthCare)/Data/Vignesh_Lymphoma_tma\"\n",
    "\n",
    "os.chdir(WD)\n",
    "x = pd.read_csv('Trial_data.csv', delimiter=',', index_col=0)\n",
    "# Look at data\n",
    "x.head()"
   ]
  },
  {
   "cell_type": "code",
   "execution_count": 3,
   "metadata": {},
   "outputs": [],
   "source": [
    "# Remove all DAPI columns\n",
    "cols = [c for c in x.columns if c[:4] != 'DAPI']\n",
    "x1=x[cols]\n",
    "# Add the first DAPI channel\n",
    "x1 = pd.concat([x1, x[['DAPI']]], axis=1)"
   ]
  },
  {
   "cell_type": "code",
   "execution_count": 7,
   "metadata": {},
   "outputs": [
    {
     "name": "stdout",
     "output_type": "stream",
     "text": [
      "\r",
      "  0% [                                                                                  ]   0 / 654\r",
      "100% [..................................................................................] 654 / 654Applying log transformation and quantile normalization...\n"
     ]
    },
    {
     "data": {
      "text/html": [
       "<div>\n",
       "<style scoped>\n",
       "    .dataframe tbody tr th:only-of-type {\n",
       "        vertical-align: middle;\n",
       "    }\n",
       "\n",
       "    .dataframe tbody tr th {\n",
       "        vertical-align: top;\n",
       "    }\n",
       "\n",
       "    .dataframe thead th {\n",
       "        text-align: right;\n",
       "    }\n",
       "</style>\n",
       "<table border=\"1\" class=\"dataframe\">\n",
       "  <thead>\n",
       "    <tr style=\"text-align: right;\">\n",
       "      <th></th>\n",
       "      <th>CD2</th>\n",
       "      <th>TCR</th>\n",
       "      <th>CD4</th>\n",
       "      <th>CD3D</th>\n",
       "      <th>CD7</th>\n",
       "      <th>CD43</th>\n",
       "      <th>ALK</th>\n",
       "      <th>CD45</th>\n",
       "      <th>CD10</th>\n",
       "      <th>Ki67</th>\n",
       "      <th>CD5</th>\n",
       "      <th>CD11b</th>\n",
       "      <th>FOXP3</th>\n",
       "      <th>CD8</th>\n",
       "      <th>CD57</th>\n",
       "      <th>DAPI</th>\n",
       "    </tr>\n",
       "  </thead>\n",
       "  <tbody>\n",
       "    <tr>\n",
       "      <th>C1</th>\n",
       "      <td>2.575301</td>\n",
       "      <td>2.008719</td>\n",
       "      <td>1.958202</td>\n",
       "      <td>1.973786</td>\n",
       "      <td>1.976253</td>\n",
       "      <td>1.967054</td>\n",
       "      <td>1.985527</td>\n",
       "      <td>1.988584</td>\n",
       "      <td>0.0</td>\n",
       "      <td>1.984458</td>\n",
       "      <td>1.994599</td>\n",
       "      <td>1.938175</td>\n",
       "      <td>1.995822</td>\n",
       "      <td>1.954667</td>\n",
       "      <td>0.0</td>\n",
       "      <td>0.312099</td>\n",
       "    </tr>\n",
       "    <tr>\n",
       "      <th>C2</th>\n",
       "      <td>1.983059</td>\n",
       "      <td>1.981726</td>\n",
       "      <td>1.958202</td>\n",
       "      <td>1.973786</td>\n",
       "      <td>1.392263</td>\n",
       "      <td>1.967054</td>\n",
       "      <td>1.985527</td>\n",
       "      <td>1.545427</td>\n",
       "      <td>0.0</td>\n",
       "      <td>2.007415</td>\n",
       "      <td>1.994599</td>\n",
       "      <td>4.018036</td>\n",
       "      <td>1.391636</td>\n",
       "      <td>2.021628</td>\n",
       "      <td>0.0</td>\n",
       "      <td>0.790593</td>\n",
       "    </tr>\n",
       "    <tr>\n",
       "      <th>C3</th>\n",
       "      <td>1.724261</td>\n",
       "      <td>1.981726</td>\n",
       "      <td>1.958202</td>\n",
       "      <td>1.442310</td>\n",
       "      <td>1.976253</td>\n",
       "      <td>1.967054</td>\n",
       "      <td>1.985527</td>\n",
       "      <td>0.646965</td>\n",
       "      <td>0.0</td>\n",
       "      <td>1.984458</td>\n",
       "      <td>1.994599</td>\n",
       "      <td>1.938175</td>\n",
       "      <td>1.391636</td>\n",
       "      <td>1.954667</td>\n",
       "      <td>0.0</td>\n",
       "      <td>1.566451</td>\n",
       "    </tr>\n",
       "    <tr>\n",
       "      <th>C4</th>\n",
       "      <td>1.983059</td>\n",
       "      <td>1.981726</td>\n",
       "      <td>1.958202</td>\n",
       "      <td>1.973786</td>\n",
       "      <td>1.976253</td>\n",
       "      <td>1.967054</td>\n",
       "      <td>1.985527</td>\n",
       "      <td>0.000000</td>\n",
       "      <td>0.0</td>\n",
       "      <td>1.984458</td>\n",
       "      <td>1.994599</td>\n",
       "      <td>1.938175</td>\n",
       "      <td>1.995822</td>\n",
       "      <td>1.954667</td>\n",
       "      <td>0.0</td>\n",
       "      <td>1.245770</td>\n",
       "    </tr>\n",
       "    <tr>\n",
       "      <th>C5</th>\n",
       "      <td>1.983059</td>\n",
       "      <td>1.981726</td>\n",
       "      <td>1.958202</td>\n",
       "      <td>1.973786</td>\n",
       "      <td>1.976253</td>\n",
       "      <td>1.967054</td>\n",
       "      <td>1.985527</td>\n",
       "      <td>1.988584</td>\n",
       "      <td>0.0</td>\n",
       "      <td>1.984458</td>\n",
       "      <td>1.994599</td>\n",
       "      <td>1.938175</td>\n",
       "      <td>1.995822</td>\n",
       "      <td>1.954667</td>\n",
       "      <td>0.0</td>\n",
       "      <td>1.341858</td>\n",
       "    </tr>\n",
       "  </tbody>\n",
       "</table>\n",
       "</div>"
      ],
      "text/plain": [
       "         CD2       TCR       CD4      CD3D      CD7       CD43       ALK  \\\n",
       "C1  2.575301  2.008719  1.958202  1.973786  1.976253  1.967054  1.985527   \n",
       "C2  1.983059  1.981726  1.958202  1.973786  1.392263  1.967054  1.985527   \n",
       "C3  1.724261  1.981726  1.958202  1.442310  1.976253  1.967054  1.985527   \n",
       "C4  1.983059  1.981726  1.958202  1.973786  1.976253  1.967054  1.985527   \n",
       "C5  1.983059  1.981726  1.958202  1.973786  1.976253  1.967054  1.985527   \n",
       "\n",
       "        CD45  CD10      Ki67       CD5     CD11b     FOXP3       CD8  CD57  \\\n",
       "C1  1.988584   0.0  1.984458  1.994599  1.938175  1.995822  1.954667   0.0   \n",
       "C2  1.545427   0.0  2.007415  1.994599  4.018036  1.391636  2.021628   0.0   \n",
       "C3  0.646965   0.0  1.984458  1.994599  1.938175  1.391636  1.954667   0.0   \n",
       "C4  0.000000   0.0  1.984458  1.994599  1.938175  1.995822  1.954667   0.0   \n",
       "C5  1.988584   0.0  1.984458  1.994599  1.938175  1.995822  1.954667   0.0   \n",
       "\n",
       "        DAPI  \n",
       "C1  0.312099  \n",
       "C2  0.790593  \n",
       "C3  1.566451  \n",
       "C4  1.245770  \n",
       "C5  1.341858  "
      ]
     },
     "execution_count": 7,
     "metadata": {},
     "output_type": "execute_result"
    }
   ],
   "source": [
    "# Normalisation of data\n",
    "file_url = 'https://raw.githubusercontent.com/ajitjohnson/Jupyter-Notebooks/master/py_scripts/mi_pp_normalize.py'\n",
    "exec(open(wget.download(file_url)).read())\n",
    "x1 = mi_pp_normalize(x1)\n",
    "x1.head()"
   ]
  },
  {
   "cell_type": "code",
   "execution_count": 8,
   "metadata": {},
   "outputs": [
    {
     "name": "stdout",
     "output_type": "stream",
     "text": [
      "\r",
      "  0% [                                                                                  ]   0 / 693\r",
      "100% [..................................................................................] 693 / 693Converting dataframe into anndata - Annotated Data...\n"
     ]
    },
    {
     "data": {
      "text/plain": [
       "AnnData object with n_obs × n_vars = 3324 × 16 \n",
       "    obs: 'cells'"
      ]
     },
     "execution_count": 8,
     "metadata": {},
     "output_type": "execute_result"
    }
   ],
   "source": [
    "# Convert to AnnData\n",
    "file_url = 'https://raw.githubusercontent.com/ajitjohnson/Jupyter-Notebooks/master/py_scripts/mi_pp_anndata.py'\n",
    "exec(open(wget.download(file_url)).read())\n",
    "adata = mi_pp_anndata (x1)\n",
    "adata"
   ]
  },
  {
   "cell_type": "markdown",
   "metadata": {},
   "source": [
    "### Scanpy analysis"
   ]
  },
  {
   "cell_type": "code",
   "execution_count": 9,
   "metadata": {},
   "outputs": [
    {
     "data": {
      "text/plain": [
       "AnnData object with n_obs × n_vars = 3324 × 16 \n",
       "    obs: 'cells'"
      ]
     },
     "execution_count": 9,
     "metadata": {},
     "output_type": "execute_result"
    }
   ],
   "source": [
    "adata"
   ]
  },
  {
   "cell_type": "code",
   "execution_count": 10,
   "metadata": {},
   "outputs": [
    {
     "name": "stderr",
     "output_type": "stream",
     "text": [
      "Up to anndata 0.6.12, `.copy()` cast a non-'float32' `.X` to 'float32'. Now, the dtype 'int32' is maintained. \n",
      "Up to anndata 0.6.12, `.copy()` cast a non-'float32' `.X` to 'float32'. Now, the dtype 'int32' is maintained. \n"
     ]
    }
   ],
   "source": [
    "sc.pp.filter_cells(adata, min_genes=0)\n",
    "sc.pp.filter_genes(adata, min_cells=0)\n",
    "adata.obs['n_counts'] = adata.X.sum(axis=1)"
   ]
  },
  {
   "cell_type": "code",
   "execution_count": 11,
   "metadata": {},
   "outputs": [],
   "source": [
    "sc.tl.pca(adata, svd_solver='arpack')"
   ]
  },
  {
   "cell_type": "code",
   "execution_count": 13,
   "metadata": {},
   "outputs": [
    {
     "data": {
      "image/png": "[encoded data removed]",
      "text/plain": [
       "<Figure size 432x288 with 1 Axes>"
      ]
     },
     "metadata": {},
     "output_type": "display_data"
    }
   ],
   "source": [
    "sc.pl.pca(adata)"
   ]
  },
  {
   "cell_type": "code",
   "execution_count": 104,
   "metadata": {},
   "outputs": [
    {
     "data": {
      "text/plain": [
       "<matplotlib.axes._subplots.AxesSubplot at 0x2236c53fb00>"
      ]
     },
     "execution_count": 104,
     "metadata": {},
     "output_type": "execute_result"
    },
    {
     "data": {
      "image/png": "[encoded data removed]",
      "text/plain": [
       "<Figure size 432x288 with 1 Axes>"
      ]
     },
     "metadata": {
      "needs_background": "light"
     },
     "output_type": "display_data"
    }
   ],
   "source": [
    "sns.boxplot(data= adata.X, orient=\"h\")"
   ]
  },
  {
   "cell_type": "code",
   "execution_count": 17,
   "metadata": {},
   "outputs": [],
   "source": [
    "# Preprocessing\n",
    "sc.pp.filter_cells(adata, min_genes=1)\n",
    "sc.pp.filter_genes(adata, min_cells=0)\n",
    "# add the total counts per cell as observations-annotation to adata\n",
    "adata.obs['n_counts'] = adata.X.sum(axis=1)"
   ]
  },
  {
   "cell_type": "code",
   "execution_count": 23,
   "metadata": {},
   "outputs": [
    {
     "data": {
      "image/png": "[encoded data removed]",
      "text/plain": [
       "<Figure size 487.93x288 with 1 Axes>"
      ]
     },
     "metadata": {
      "needs_background": "light"
     },
     "output_type": "display_data"
    }
   ],
   "source": [
    "sc.pl.scatter(adata, x='n_counts', y='n_genes')"
   ]
  },
  {
   "cell_type": "code",
   "execution_count": 20,
   "metadata": {},
   "outputs": [],
   "source": [
    "sc.tl.pca(adata, svd_solver='arpack')"
   ]
  },
  {
   "cell_type": "code",
   "execution_count": 21,
   "metadata": {},
   "outputs": [
    {
     "data": {
      "image/png": "[encoded data removed]",
      "text/plain": [
       "<Figure size 432x288 with 1 Axes>"
      ]
     },
     "metadata": {},
     "output_type": "display_data"
    }
   ],
   "source": [
    "sc.pl.pca(adata)"
   ]
  },
  {
   "cell_type": "code",
   "execution_count": 14,
   "metadata": {},
   "outputs": [
    {
     "data": {
      "image/png": "[encoded data removed]",
      "text/plain": [
       "<Figure size 432x288 with 1 Axes>"
      ]
     },
     "metadata": {
      "needs_background": "light"
     },
     "output_type": "display_data"
    }
   ],
   "source": [
    "sc.pl.pca_variance_ratio(adata)"
   ]
  },
  {
   "cell_type": "code",
   "execution_count": 15,
   "metadata": {},
   "outputs": [],
   "source": [
    "sc.pp.neighbors(adata, n_neighbors=30, n_pcs=3)"
   ]
  },
  {
   "cell_type": "code",
   "execution_count": 16,
   "metadata": {},
   "outputs": [],
   "source": [
    "sc.tl.umap(adata)"
   ]
  },
  {
   "cell_type": "code",
   "execution_count": 17,
   "metadata": {},
   "outputs": [
    {
     "data": {
      "image/png": "[encoded data removed]",
      "text/plain": [
       "<Figure size 432x288 with 1 Axes>"
      ]
     },
     "metadata": {},
     "output_type": "display_data"
    }
   ],
   "source": [
    "sc.pl.umap(adata)"
   ]
  },
  {
   "cell_type": "code",
   "execution_count": null,
   "metadata": {},
   "outputs": [],
   "source": []
  }
 ],
 "metadata": {
  "kernelspec": {
   "display_name": "Python 3",
   "language": "python",
   "name": "python3"
  },
  "language_info": {
   "codemirror_mode": {
    "name": "ipython",
    "version": 3
   },
   "file_extension": ".py",
   "mimetype": "text/x-python",
   "name": "python",
   "nbconvert_exporter": "python",
   "pygments_lexer": "ipython3",
   "version": "3.7.1"
  }
 },
 "nbformat": 4,
 "nbformat_minor": 2
}
