{
 "cells": [
  {
   "cell_type": "markdown",
   "metadata": {},
   "source": [
    "### Notebook to play around with CycIF data"
   ]
  },
  {
   "cell_type": "code",
   "execution_count": 1,
   "metadata": {},
   "outputs": [],
   "source": [
    "# Import librarires\n",
    "import pandas as pd\n",
    "import numpy as np\n",
    "import os\n",
    "import seaborn as sns; sns.set(style=\"white\", color_codes=True)\n",
    "import matplotlib.pyplot as plt\n",
    "\n",
    "# Create anndata and scanpy\n",
    "import anndata as ad\n",
    "import scanpy as sc\n",
    "\n",
    "# Import custom functions\n",
    "import wget"
   ]
  },
  {
   "cell_type": "code",
   "execution_count": 2,
   "metadata": {},
   "outputs": [
    {
     "data": {
      "text/html": [
       "<div>\n",
       "<style scoped>\n",
       "    .dataframe tbody tr th:only-of-type {\n",
       "        vertical-align: middle;\n",
       "    }\n",
       "\n",
       "    .dataframe tbody tr th {\n",
       "        vertical-align: top;\n",
       "    }\n",
       "\n",
       "    .dataframe thead th {\n",
       "        text-align: right;\n",
       "    }\n",
       "</style>\n",
       "<table border=\"1\" class=\"dataframe\">\n",
       "  <thead>\n",
       "    <tr style=\"text-align: right;\">\n",
       "      <th></th>\n",
       "      <th>DNA_Hoechst 33342_0Nuclei_Mean</th>\n",
       "      <th>A488 background_none_1Nuclei_Mean</th>\n",
       "      <th>A555 background_none_2Nuclei_Mean</th>\n",
       "      <th>A647 background_none_3Nuclei_Mean</th>\n",
       "      <th>DNA 2_Hoechst 33342_4Nuclei_Mean</th>\n",
       "      <th>KI67_Alexa 488_5Nuclei_Mean</th>\n",
       "      <th>VIMENTIN_Alexa 555_6Nuclei_Mean</th>\n",
       "      <th>PDL1_Alexa 647_7Nuclei_Mean</th>\n",
       "      <th>DNA 3_Hoechst 33342_8Nuclei_Mean</th>\n",
       "      <th>CD4_Alexa 488_9Nuclei_Mean</th>\n",
       "      <th>...</th>\n",
       "      <th>CD45_Alexa 555_30Nuclei_Median</th>\n",
       "      <th>pERKz_Alexa 647_31Nuclei_Median</th>\n",
       "      <th>DNA 9_Hoechst 33342_32Nuclei_Median</th>\n",
       "      <th>S100_Alexa 488_33Nuclei_Median</th>\n",
       "      <th>VEGFR2_Alexa 555_34Nuclei_Median</th>\n",
       "      <th>SMA_Alexa 647_35Nuclei_Median</th>\n",
       "      <th>NucleusArea</th>\n",
       "      <th>CytoplasmArea</th>\n",
       "      <th>CellPosition_X</th>\n",
       "      <th>CellPosition_Y</th>\n",
       "    </tr>\n",
       "    <tr>\n",
       "      <th>cell</th>\n",
       "      <th></th>\n",
       "      <th></th>\n",
       "      <th></th>\n",
       "      <th></th>\n",
       "      <th></th>\n",
       "      <th></th>\n",
       "      <th></th>\n",
       "      <th></th>\n",
       "      <th></th>\n",
       "      <th></th>\n",
       "      <th></th>\n",
       "      <th></th>\n",
       "      <th></th>\n",
       "      <th></th>\n",
       "      <th></th>\n",
       "      <th></th>\n",
       "      <th></th>\n",
       "      <th></th>\n",
       "      <th></th>\n",
       "      <th></th>\n",
       "      <th></th>\n",
       "    </tr>\n",
       "  </thead>\n",
       "  <tbody>\n",
       "    <tr>\n",
       "      <th>c1</th>\n",
       "      <td>26667.48889</td>\n",
       "      <td>3513.666667</td>\n",
       "      <td>1021.377778</td>\n",
       "      <td>2682.266667</td>\n",
       "      <td>23914.17778</td>\n",
       "      <td>2136.688889</td>\n",
       "      <td>1426.488889</td>\n",
       "      <td>1345.488889</td>\n",
       "      <td>26071.68889</td>\n",
       "      <td>4228.688889</td>\n",
       "      <td>...</td>\n",
       "      <td>767</td>\n",
       "      <td>2182</td>\n",
       "      <td>10425</td>\n",
       "      <td>8088</td>\n",
       "      <td>5143</td>\n",
       "      <td>789</td>\n",
       "      <td>45</td>\n",
       "      <td>45</td>\n",
       "      <td>8.333333</td>\n",
       "      <td>4785.822222</td>\n",
       "    </tr>\n",
       "    <tr>\n",
       "      <th>c2</th>\n",
       "      <td>51567.00000</td>\n",
       "      <td>4629.000000</td>\n",
       "      <td>1797.583333</td>\n",
       "      <td>2680.500000</td>\n",
       "      <td>37611.66667</td>\n",
       "      <td>2545.833333</td>\n",
       "      <td>8919.166667</td>\n",
       "      <td>1162.750000</td>\n",
       "      <td>52529.58333</td>\n",
       "      <td>6998.583333</td>\n",
       "      <td>...</td>\n",
       "      <td>1289</td>\n",
       "      <td>2371</td>\n",
       "      <td>29040</td>\n",
       "      <td>18090</td>\n",
       "      <td>11740</td>\n",
       "      <td>1538</td>\n",
       "      <td>12</td>\n",
       "      <td>12</td>\n",
       "      <td>6.500000</td>\n",
       "      <td>4818.500000</td>\n",
       "    </tr>\n",
       "    <tr>\n",
       "      <th>c3</th>\n",
       "      <td>50158.69444</td>\n",
       "      <td>4971.777778</td>\n",
       "      <td>1845.861111</td>\n",
       "      <td>3230.361111</td>\n",
       "      <td>43009.08333</td>\n",
       "      <td>2791.361111</td>\n",
       "      <td>2154.000000</td>\n",
       "      <td>1401.750000</td>\n",
       "      <td>53318.50000</td>\n",
       "      <td>6805.444444</td>\n",
       "      <td>...</td>\n",
       "      <td>1232</td>\n",
       "      <td>2731</td>\n",
       "      <td>25375</td>\n",
       "      <td>10505</td>\n",
       "      <td>8901</td>\n",
       "      <td>1392</td>\n",
       "      <td>36</td>\n",
       "      <td>36</td>\n",
       "      <td>7.361111</td>\n",
       "      <td>4841.916667</td>\n",
       "    </tr>\n",
       "    <tr>\n",
       "      <th>c4</th>\n",
       "      <td>40791.57895</td>\n",
       "      <td>4798.500000</td>\n",
       "      <td>1596.315789</td>\n",
       "      <td>3129.815789</td>\n",
       "      <td>36657.94737</td>\n",
       "      <td>2782.842105</td>\n",
       "      <td>4262.000000</td>\n",
       "      <td>1467.763158</td>\n",
       "      <td>42948.39474</td>\n",
       "      <td>7165.578947</td>\n",
       "      <td>...</td>\n",
       "      <td>1184</td>\n",
       "      <td>2716</td>\n",
       "      <td>22386</td>\n",
       "      <td>13829</td>\n",
       "      <td>12365</td>\n",
       "      <td>2247</td>\n",
       "      <td>38</td>\n",
       "      <td>38</td>\n",
       "      <td>7.368421</td>\n",
       "      <td>4850.500000</td>\n",
       "    </tr>\n",
       "    <tr>\n",
       "      <th>c5</th>\n",
       "      <td>28021.14545</td>\n",
       "      <td>5559.763636</td>\n",
       "      <td>1700.309091</td>\n",
       "      <td>4971.945455</td>\n",
       "      <td>29582.16364</td>\n",
       "      <td>3024.454545</td>\n",
       "      <td>1298.727273</td>\n",
       "      <td>1659.054545</td>\n",
       "      <td>26210.07273</td>\n",
       "      <td>6683.127273</td>\n",
       "      <td>...</td>\n",
       "      <td>1180</td>\n",
       "      <td>3863</td>\n",
       "      <td>11760</td>\n",
       "      <td>9479</td>\n",
       "      <td>14742</td>\n",
       "      <td>1347</td>\n",
       "      <td>55</td>\n",
       "      <td>55</td>\n",
       "      <td>9.363636</td>\n",
       "      <td>4881.290909</td>\n",
       "    </tr>\n",
       "  </tbody>\n",
       "</table>\n",
       "<p>5 rows × 76 columns</p>\n",
       "</div>"
      ],
      "text/plain": [
       "      DNA_Hoechst 33342_0Nuclei_Mean  A488 background_none_1Nuclei_Mean  \\\n",
       "cell                                                                      \n",
       "c1                       26667.48889                        3513.666667   \n",
       "c2                       51567.00000                        4629.000000   \n",
       "c3                       50158.69444                        4971.777778   \n",
       "c4                       40791.57895                        4798.500000   \n",
       "c5                       28021.14545                        5559.763636   \n",
       "\n",
       "      A555 background_none_2Nuclei_Mean  A647 background_none_3Nuclei_Mean  \\\n",
       "cell                                                                         \n",
       "c1                          1021.377778                        2682.266667   \n",
       "c2                          1797.583333                        2680.500000   \n",
       "c3                          1845.861111                        3230.361111   \n",
       "c4                          1596.315789                        3129.815789   \n",
       "c5                          1700.309091                        4971.945455   \n",
       "\n",
       "      DNA 2_Hoechst 33342_4Nuclei_Mean  KI67_Alexa 488_5Nuclei_Mean  \\\n",
       "cell                                                                  \n",
       "c1                         23914.17778                  2136.688889   \n",
       "c2                         37611.66667                  2545.833333   \n",
       "c3                         43009.08333                  2791.361111   \n",
       "c4                         36657.94737                  2782.842105   \n",
       "c5                         29582.16364                  3024.454545   \n",
       "\n",
       "      VIMENTIN_Alexa 555_6Nuclei_Mean  PDL1_Alexa 647_7Nuclei_Mean  \\\n",
       "cell                                                                 \n",
       "c1                        1426.488889                  1345.488889   \n",
       "c2                        8919.166667                  1162.750000   \n",
       "c3                        2154.000000                  1401.750000   \n",
       "c4                        4262.000000                  1467.763158   \n",
       "c5                        1298.727273                  1659.054545   \n",
       "\n",
       "      DNA 3_Hoechst 33342_8Nuclei_Mean  CD4_Alexa 488_9Nuclei_Mean  \\\n",
       "cell                                                                 \n",
       "c1                         26071.68889                 4228.688889   \n",
       "c2                         52529.58333                 6998.583333   \n",
       "c3                         53318.50000                 6805.444444   \n",
       "c4                         42948.39474                 7165.578947   \n",
       "c5                         26210.07273                 6683.127273   \n",
       "\n",
       "           ...        CD45_Alexa 555_30Nuclei_Median  \\\n",
       "cell       ...                                         \n",
       "c1         ...                                   767   \n",
       "c2         ...                                  1289   \n",
       "c3         ...                                  1232   \n",
       "c4         ...                                  1184   \n",
       "c5         ...                                  1180   \n",
       "\n",
       "      pERKz_Alexa 647_31Nuclei_Median  DNA 9_Hoechst 33342_32Nuclei_Median  \\\n",
       "cell                                                                         \n",
       "c1                               2182                                10425   \n",
       "c2                               2371                                29040   \n",
       "c3                               2731                                25375   \n",
       "c4                               2716                                22386   \n",
       "c5                               3863                                11760   \n",
       "\n",
       "      S100_Alexa 488_33Nuclei_Median  VEGFR2_Alexa 555_34Nuclei_Median  \\\n",
       "cell                                                                     \n",
       "c1                              8088                              5143   \n",
       "c2                             18090                             11740   \n",
       "c3                             10505                              8901   \n",
       "c4                             13829                             12365   \n",
       "c5                              9479                             14742   \n",
       "\n",
       "      SMA_Alexa 647_35Nuclei_Median  NucleusArea  CytoplasmArea  \\\n",
       "cell                                                              \n",
       "c1                              789           45             45   \n",
       "c2                             1538           12             12   \n",
       "c3                             1392           36             36   \n",
       "c4                             2247           38             38   \n",
       "c5                             1347           55             55   \n",
       "\n",
       "      CellPosition_X  CellPosition_Y  \n",
       "cell                                  \n",
       "c1          8.333333     4785.822222  \n",
       "c2          6.500000     4818.500000  \n",
       "c3          7.361111     4841.916667  \n",
       "c4          7.368421     4850.500000  \n",
       "c5          9.363636     4881.290909  \n",
       "\n",
       "[5 rows x 76 columns]"
      ]
     },
     "execution_count": 2,
     "metadata": {},
     "output_type": "execute_result"
    }
   ],
   "source": [
    "# Import data\n",
    "# Laptop\n",
    "#WD = \"/Users/aj/Dropbox (Partners HealthCare)/Data/Vignesh_Lymphoma_tma\"\n",
    "# HMS\n",
    "WD = \"C:/Users/ajn16/Dropbox (Partners HealthCare)/Data/Vignesh_Lymphoma_tma\"\n",
    "\n",
    "os.chdir(WD)\n",
    "x = pd.read_csv('segResultsUNet.csv', delimiter=',', index_col=0)\n",
    "# Look at data\n",
    "x.head()"
   ]
  },
  {
   "cell_type": "code",
   "execution_count": 12,
   "metadata": {},
   "outputs": [],
   "source": [
    "# Remove all DAPI columns\n",
    "#cols = [c for c in x.columns if c[:4] != 'DAPI']\n",
    "#x1=x[cols]\n",
    "# Add the first DAPI channel\n",
    "#x1 = pd.concat([x1, x[['DAPI']]], axis=1)"
   ]
  },
  {
   "cell_type": "code",
   "execution_count": 13,
   "metadata": {},
   "outputs": [
    {
     "name": "stdout",
     "output_type": "stream",
     "text": [
      "\r",
      "  0% [                                                                                  ]   0 / 696\r",
      "100% [..................................................................................] 696 / 696Converting dataframe into anndata - Annotated Data...\n"
     ]
    },
    {
     "data": {
      "text/plain": [
       "AnnData object with n_obs × n_vars = 3018 × 16 \n",
       "    obs: 'cells'"
      ]
     },
     "execution_count": 13,
     "metadata": {},
     "output_type": "execute_result"
    }
   ],
   "source": [
    "# Convert to AnnData\n",
    "file_url = 'https://raw.githubusercontent.com/ajitjohnson/Jupyter-Notebooks/master/py_scripts/mi_pp_anndata.py'\n",
    "exec(open(wget.download(file_url)).read())\n",
    "adata = mi_pp_anndata (x)\n",
    "adata"
   ]
  },
  {
   "cell_type": "code",
   "execution_count": 14,
   "metadata": {},
   "outputs": [],
   "source": [
    "# Save data\n",
    "adata.write('temp.h5ad')"
   ]
  },
  {
   "cell_type": "code",
   "execution_count": 5,
   "metadata": {},
   "outputs": [],
   "source": [
    " # Reload data\n",
    "adata = sc.read('temp.h5ad')"
   ]
  },
  {
   "cell_type": "code",
   "execution_count": 14,
   "metadata": {},
   "outputs": [
    {
     "ename": "TypeError",
     "evalue": "ufunc 'log1p' output (typecode 'd') could not be coerced to provided output parameter (typecode 'l') according to the casting rule ''same_kind''",
     "output_type": "error",
     "traceback": [
      "\u001b[1;31m---------------------------------------------------------------------------\u001b[0m",
      "\u001b[1;31mTypeError\u001b[0m                                 Traceback (most recent call last)",
      "\u001b[1;32m<ipython-input-14-73e0efb53db6>\u001b[0m in \u001b[0;36m<module>\u001b[1;34m\u001b[0m\n\u001b[1;32m----> 1\u001b[1;33m \u001b[0msc\u001b[0m\u001b[1;33m.\u001b[0m\u001b[0mpp\u001b[0m\u001b[1;33m.\u001b[0m\u001b[0mlog1p\u001b[0m\u001b[1;33m(\u001b[0m\u001b[0madata\u001b[0m\u001b[1;33m)\u001b[0m\u001b[1;33m\u001b[0m\u001b[1;33m\u001b[0m\u001b[0m\n\u001b[0m",
      "\u001b[1;32m~\\AppData\\Local\\Continuum\\anaconda3\\lib\\site-packages\\scanpy\\preprocessing\\simple.py\u001b[0m in \u001b[0;36mlog1p\u001b[1;34m(data, copy, chunked, chunk_size)\u001b[0m\n\u001b[0;32m    300\u001b[0m                  \u001b[0mdata\u001b[0m\u001b[1;33m.\u001b[0m\u001b[0mX\u001b[0m\u001b[1;33m[\u001b[0m\u001b[0mstart\u001b[0m\u001b[1;33m:\u001b[0m\u001b[0mend\u001b[0m\u001b[1;33m]\u001b[0m \u001b[1;33m=\u001b[0m \u001b[0m_log1p\u001b[0m\u001b[1;33m(\u001b[0m\u001b[0mchunk\u001b[0m\u001b[1;33m)\u001b[0m\u001b[1;33m\u001b[0m\u001b[1;33m\u001b[0m\u001b[0m\n\u001b[0;32m    301\u001b[0m         \u001b[1;32melse\u001b[0m\u001b[1;33m:\u001b[0m\u001b[1;33m\u001b[0m\u001b[1;33m\u001b[0m\u001b[0m\n\u001b[1;32m--> 302\u001b[1;33m             \u001b[0m_log1p\u001b[0m\u001b[1;33m(\u001b[0m\u001b[0mdata\u001b[0m\u001b[1;33m.\u001b[0m\u001b[0mX\u001b[0m\u001b[1;33m)\u001b[0m\u001b[1;33m\u001b[0m\u001b[1;33m\u001b[0m\u001b[0m\n\u001b[0m\u001b[0;32m    303\u001b[0m     \u001b[1;32melse\u001b[0m\u001b[1;33m:\u001b[0m\u001b[1;33m\u001b[0m\u001b[1;33m\u001b[0m\u001b[0m\n\u001b[0;32m    304\u001b[0m         \u001b[0m_log1p\u001b[0m\u001b[1;33m(\u001b[0m\u001b[0mdata\u001b[0m\u001b[1;33m)\u001b[0m\u001b[1;33m\u001b[0m\u001b[1;33m\u001b[0m\u001b[0m\n",
      "\u001b[1;32m~\\AppData\\Local\\Continuum\\anaconda3\\lib\\site-packages\\scanpy\\preprocessing\\simple.py\u001b[0m in \u001b[0;36m_log1p\u001b[1;34m(X)\u001b[0m\n\u001b[0;32m    291\u001b[0m             \u001b[0mnp\u001b[0m\u001b[1;33m.\u001b[0m\u001b[0mlog1p\u001b[0m\u001b[1;33m(\u001b[0m\u001b[0mX\u001b[0m\u001b[1;33m.\u001b[0m\u001b[0mdata\u001b[0m\u001b[1;33m,\u001b[0m \u001b[0mout\u001b[0m\u001b[1;33m=\u001b[0m\u001b[0mX\u001b[0m\u001b[1;33m.\u001b[0m\u001b[0mdata\u001b[0m\u001b[1;33m)\u001b[0m\u001b[1;33m\u001b[0m\u001b[1;33m\u001b[0m\u001b[0m\n\u001b[0;32m    292\u001b[0m         \u001b[1;32melse\u001b[0m\u001b[1;33m:\u001b[0m\u001b[1;33m\u001b[0m\u001b[1;33m\u001b[0m\u001b[0m\n\u001b[1;32m--> 293\u001b[1;33m             \u001b[0mnp\u001b[0m\u001b[1;33m.\u001b[0m\u001b[0mlog1p\u001b[0m\u001b[1;33m(\u001b[0m\u001b[0mX\u001b[0m\u001b[1;33m,\u001b[0m \u001b[0mout\u001b[0m\u001b[1;33m=\u001b[0m\u001b[0mX\u001b[0m\u001b[1;33m)\u001b[0m\u001b[1;33m\u001b[0m\u001b[1;33m\u001b[0m\u001b[0m\n\u001b[0m\u001b[0;32m    294\u001b[0m \u001b[1;33m\u001b[0m\u001b[0m\n\u001b[0;32m    295\u001b[0m         \u001b[1;32mreturn\u001b[0m \u001b[0mX\u001b[0m\u001b[1;33m\u001b[0m\u001b[1;33m\u001b[0m\u001b[0m\n",
      "\u001b[1;31mTypeError\u001b[0m: ufunc 'log1p' output (typecode 'd') could not be coerced to provided output parameter (typecode 'l') according to the casting rule ''same_kind''"
     ]
    }
   ],
   "source": [
    "sc.pp.log1p(adata)"
   ]
  },
  {
   "cell_type": "code",
   "execution_count": 8,
   "metadata": {},
   "outputs": [
    {
     "data": {
      "text/plain": [
       "dtype('int32')"
      ]
     },
     "execution_count": 8,
     "metadata": {},
     "output_type": "execute_result"
    }
   ],
   "source": [
    "adata.X.dtype"
   ]
  },
  {
   "cell_type": "code",
   "execution_count": null,
   "metadata": {},
   "outputs": [],
   "source": []
  },
  {
   "cell_type": "code",
   "execution_count": 7,
   "metadata": {},
   "outputs": [
    {
     "name": "stdout",
     "output_type": "stream",
     "text": [
      "\r",
      "  0% [                                                                                  ]   0 / 654\r",
      "100% [..................................................................................] 654 / 654Applying log transformation and quantile normalization...\n"
     ]
    },
    {
     "data": {
      "text/html": [
       "<div>\n",
       "<style scoped>\n",
       "    .dataframe tbody tr th:only-of-type {\n",
       "        vertical-align: middle;\n",
       "    }\n",
       "\n",
       "    .dataframe tbody tr th {\n",
       "        vertical-align: top;\n",
       "    }\n",
       "\n",
       "    .dataframe thead th {\n",
       "        text-align: right;\n",
       "    }\n",
       "</style>\n",
       "<table border=\"1\" class=\"dataframe\">\n",
       "  <thead>\n",
       "    <tr style=\"text-align: right;\">\n",
       "      <th></th>\n",
       "      <th>CD2</th>\n",
       "      <th>TCR</th>\n",
       "      <th>CD4</th>\n",
       "      <th>CD3D</th>\n",
       "      <th>CD7</th>\n",
       "      <th>CD43</th>\n",
       "      <th>ALK</th>\n",
       "      <th>CD45</th>\n",
       "      <th>CD10</th>\n",
       "      <th>Ki67</th>\n",
       "      <th>CD5</th>\n",
       "      <th>CD11b</th>\n",
       "      <th>FOXP3</th>\n",
       "      <th>CD8</th>\n",
       "      <th>CD57</th>\n",
       "      <th>DAPI</th>\n",
       "    </tr>\n",
       "  </thead>\n",
       "  <tbody>\n",
       "    <tr>\n",
       "      <th>C1</th>\n",
       "      <td>2.575301</td>\n",
       "      <td>2.008719</td>\n",
       "      <td>1.958202</td>\n",
       "      <td>1.973786</td>\n",
       "      <td>1.976253</td>\n",
       "      <td>1.967054</td>\n",
       "      <td>1.985527</td>\n",
       "      <td>1.988584</td>\n",
       "      <td>0.0</td>\n",
       "      <td>1.984458</td>\n",
       "      <td>1.994599</td>\n",
       "      <td>1.938175</td>\n",
       "      <td>1.995822</td>\n",
       "      <td>1.954667</td>\n",
       "      <td>0.0</td>\n",
       "      <td>0.312099</td>\n",
       "    </tr>\n",
       "    <tr>\n",
       "      <th>C2</th>\n",
       "      <td>1.983059</td>\n",
       "      <td>1.981726</td>\n",
       "      <td>1.958202</td>\n",
       "      <td>1.973786</td>\n",
       "      <td>1.392263</td>\n",
       "      <td>1.967054</td>\n",
       "      <td>1.985527</td>\n",
       "      <td>1.545427</td>\n",
       "      <td>0.0</td>\n",
       "      <td>2.007415</td>\n",
       "      <td>1.994599</td>\n",
       "      <td>4.018036</td>\n",
       "      <td>1.391636</td>\n",
       "      <td>2.021628</td>\n",
       "      <td>0.0</td>\n",
       "      <td>0.790593</td>\n",
       "    </tr>\n",
       "    <tr>\n",
       "      <th>C3</th>\n",
       "      <td>1.724261</td>\n",
       "      <td>1.981726</td>\n",
       "      <td>1.958202</td>\n",
       "      <td>1.442310</td>\n",
       "      <td>1.976253</td>\n",
       "      <td>1.967054</td>\n",
       "      <td>1.985527</td>\n",
       "      <td>0.646965</td>\n",
       "      <td>0.0</td>\n",
       "      <td>1.984458</td>\n",
       "      <td>1.994599</td>\n",
       "      <td>1.938175</td>\n",
       "      <td>1.391636</td>\n",
       "      <td>1.954667</td>\n",
       "      <td>0.0</td>\n",
       "      <td>1.566451</td>\n",
       "    </tr>\n",
       "    <tr>\n",
       "      <th>C4</th>\n",
       "      <td>1.983059</td>\n",
       "      <td>1.981726</td>\n",
       "      <td>1.958202</td>\n",
       "      <td>1.973786</td>\n",
       "      <td>1.976253</td>\n",
       "      <td>1.967054</td>\n",
       "      <td>1.985527</td>\n",
       "      <td>0.000000</td>\n",
       "      <td>0.0</td>\n",
       "      <td>1.984458</td>\n",
       "      <td>1.994599</td>\n",
       "      <td>1.938175</td>\n",
       "      <td>1.995822</td>\n",
       "      <td>1.954667</td>\n",
       "      <td>0.0</td>\n",
       "      <td>1.245770</td>\n",
       "    </tr>\n",
       "    <tr>\n",
       "      <th>C5</th>\n",
       "      <td>1.983059</td>\n",
       "      <td>1.981726</td>\n",
       "      <td>1.958202</td>\n",
       "      <td>1.973786</td>\n",
       "      <td>1.976253</td>\n",
       "      <td>1.967054</td>\n",
       "      <td>1.985527</td>\n",
       "      <td>1.988584</td>\n",
       "      <td>0.0</td>\n",
       "      <td>1.984458</td>\n",
       "      <td>1.994599</td>\n",
       "      <td>1.938175</td>\n",
       "      <td>1.995822</td>\n",
       "      <td>1.954667</td>\n",
       "      <td>0.0</td>\n",
       "      <td>1.341858</td>\n",
       "    </tr>\n",
       "  </tbody>\n",
       "</table>\n",
       "</div>"
      ],
      "text/plain": [
       "         CD2       TCR       CD4      CD3D      CD7       CD43       ALK  \\\n",
       "C1  2.575301  2.008719  1.958202  1.973786  1.976253  1.967054  1.985527   \n",
       "C2  1.983059  1.981726  1.958202  1.973786  1.392263  1.967054  1.985527   \n",
       "C3  1.724261  1.981726  1.958202  1.442310  1.976253  1.967054  1.985527   \n",
       "C4  1.983059  1.981726  1.958202  1.973786  1.976253  1.967054  1.985527   \n",
       "C5  1.983059  1.981726  1.958202  1.973786  1.976253  1.967054  1.985527   \n",
       "\n",
       "        CD45  CD10      Ki67       CD5     CD11b     FOXP3       CD8  CD57  \\\n",
       "C1  1.988584   0.0  1.984458  1.994599  1.938175  1.995822  1.954667   0.0   \n",
       "C2  1.545427   0.0  2.007415  1.994599  4.018036  1.391636  2.021628   0.0   \n",
       "C3  0.646965   0.0  1.984458  1.994599  1.938175  1.391636  1.954667   0.0   \n",
       "C4  0.000000   0.0  1.984458  1.994599  1.938175  1.995822  1.954667   0.0   \n",
       "C5  1.988584   0.0  1.984458  1.994599  1.938175  1.995822  1.954667   0.0   \n",
       "\n",
       "        DAPI  \n",
       "C1  0.312099  \n",
       "C2  0.790593  \n",
       "C3  1.566451  \n",
       "C4  1.245770  \n",
       "C5  1.341858  "
      ]
     },
     "execution_count": 7,
     "metadata": {},
     "output_type": "execute_result"
    }
   ],
   "source": [
    "# Normalisation of data\n",
    "file_url = 'https://raw.githubusercontent.com/ajitjohnson/Jupyter-Notebooks/master/py_scripts/mi_pp_normalize.py'\n",
    "exec(open(wget.download(file_url)).read())\n",
    "x1 = mi_pp_normalize(x1)\n",
    "x1.head()"
   ]
  },
  {
   "cell_type": "code",
   "execution_count": 8,
   "metadata": {},
   "outputs": [
    {
     "name": "stdout",
     "output_type": "stream",
     "text": [
      "\r",
      "  0% [                                                                                  ]   0 / 693\r",
      "100% [..................................................................................] 693 / 693Converting dataframe into anndata - Annotated Data...\n"
     ]
    },
    {
     "data": {
      "text/plain": [
       "AnnData object with n_obs × n_vars = 3324 × 16 \n",
       "    obs: 'cells'"
      ]
     },
     "execution_count": 8,
     "metadata": {},
     "output_type": "execute_result"
    }
   ],
   "source": [
    "# Convert to AnnData\n",
    "file_url = 'https://raw.githubusercontent.com/ajitjohnson/Jupyter-Notebooks/master/py_scripts/mi_pp_anndata.py'\n",
    "exec(open(wget.download(file_url)).read())\n",
    "adata = mi_pp_anndata (x1)\n",
    "adata"
   ]
  },
  {
   "cell_type": "markdown",
   "metadata": {},
   "source": [
    "### Scanpy analysis"
   ]
  },
  {
   "cell_type": "code",
   "execution_count": 9,
   "metadata": {},
   "outputs": [
    {
     "data": {
      "text/plain": [
       "AnnData object with n_obs × n_vars = 3324 × 16 \n",
       "    obs: 'cells'"
      ]
     },
     "execution_count": 9,
     "metadata": {},
     "output_type": "execute_result"
    }
   ],
   "source": [
    "adata"
   ]
  },
  {
   "cell_type": "code",
   "execution_count": 10,
   "metadata": {},
   "outputs": [
    {
     "name": "stderr",
     "output_type": "stream",
     "text": [
      "Up to anndata 0.6.12, `.copy()` cast a non-'float32' `.X` to 'float32'. Now, the dtype 'int32' is maintained. \n",
      "Up to anndata 0.6.12, `.copy()` cast a non-'float32' `.X` to 'float32'. Now, the dtype 'int32' is maintained. \n"
     ]
    }
   ],
   "source": [
    "sc.pp.filter_cells(adata, min_genes=0)\n",
    "sc.pp.filter_genes(adata, min_cells=0)\n",
    "adata.obs['n_counts'] = adata.X.sum(axis=1)"
   ]
  },
  {
   "cell_type": "code",
   "execution_count": 15,
   "metadata": {},
   "outputs": [],
   "source": [
    "sc.tl.pca(adata, svd_solver='arpack')"
   ]
  },
  {
   "cell_type": "code",
   "execution_count": 16,
   "metadata": {},
   "outputs": [
    {
     "data": {
      "image/png": "[encoded data removed]",
      "text/plain": [
       "<Figure size 432x288 with 1 Axes>"
      ]
     },
     "metadata": {},
     "output_type": "display_data"
    }
   ],
   "source": [
    "sc.pl.pca(adata)"
   ]
  },
  {
   "cell_type": "code",
   "execution_count": 104,
   "metadata": {},
   "outputs": [
    {
     "data": {
      "text/plain": [
       "<matplotlib.axes._subplots.AxesSubplot at 0x2236c53fb00>"
      ]
     },
     "execution_count": 104,
     "metadata": {},
     "output_type": "execute_result"
    },
    {
     "data": {
      "image/png": "[encoded data removed]",
      "text/plain": [
       "<Figure size 432x288 with 1 Axes>"
      ]
     },
     "metadata": {
      "needs_background": "light"
     },
     "output_type": "display_data"
    }
   ],
   "source": [
    "sns.boxplot(data= adata.X, orient=\"h\")"
   ]
  },
  {
   "cell_type": "code",
   "execution_count": 17,
   "metadata": {},
   "outputs": [],
   "source": [
    "# Preprocessing\n",
    "sc.pp.filter_cells(adata, min_genes=1)\n",
    "sc.pp.filter_genes(adata, min_cells=0)\n",
    "# add the total counts per cell as observations-annotation to adata\n",
    "adata.obs['n_counts'] = adata.X.sum(axis=1)"
   ]
  },
  {
   "cell_type": "code",
   "execution_count": 23,
   "metadata": {},
   "outputs": [
    {
     "data": {
      "image/png": "[encoded data removed]",
      "text/plain": [
       "<Figure size 487.93x288 with 1 Axes>"
      ]
     },
     "metadata": {
      "needs_background": "light"
     },
     "output_type": "display_data"
    }
   ],
   "source": [
    "sc.pl.scatter(adata, x='n_counts', y='n_genes')"
   ]
  },
  {
   "cell_type": "code",
   "execution_count": 20,
   "metadata": {},
   "outputs": [],
   "source": [
    "sc.tl.pca(adata, svd_solver='arpack')"
   ]
  },
  {
   "cell_type": "code",
   "execution_count": 18,
   "metadata": {},
   "outputs": [
    {
     "ename": "TypeError",
     "evalue": "object of type 'numpy.int64' has no len()",
     "output_type": "error",
     "traceback": [
      "\u001b[1;31m---------------------------------------------------------------------------\u001b[0m",
      "\u001b[1;31mTypeError\u001b[0m                                 Traceback (most recent call last)",
      "\u001b[1;32m<ipython-input-18-fa74a164e034>\u001b[0m in \u001b[0;36m<module>\u001b[1;34m\u001b[0m\n\u001b[1;32m----> 1\u001b[1;33m \u001b[0msc\u001b[0m\u001b[1;33m.\u001b[0m\u001b[0mpl\u001b[0m\u001b[1;33m.\u001b[0m\u001b[0mpca\u001b[0m\u001b[1;33m(\u001b[0m\u001b[0madata\u001b[0m\u001b[1;33m,\u001b[0m \u001b[0mcolor\u001b[0m \u001b[1;33m=\u001b[0m \u001b[1;34m'DAPI'\u001b[0m\u001b[1;33m)\u001b[0m\u001b[1;33m\u001b[0m\u001b[1;33m\u001b[0m\u001b[0m\n\u001b[0m",
      "\u001b[1;32m~\\AppData\\Local\\Continuum\\anaconda3\\lib\\site-packages\\scanpy\\plotting\\tools\\scatterplots.py\u001b[0m in \u001b[0;36mpca\u001b[1;34m(adata, **kwargs)\u001b[0m\n\u001b[0;32m    148\u001b[0m     \u001b[0mIf\u001b[0m\u001b[0;31m \u001b[0m\u001b[0;31m`\u001b[0m\u001b[0mshow\u001b[0m\u001b[1;33m==\u001b[0m\u001b[1;32mFalse\u001b[0m\u001b[0;31m`\u001b[0m \u001b[0ma\u001b[0m\u001b[0;31m \u001b[0m\u001b[0;31m`\u001b[0m\u001b[0mmatplotlib\u001b[0m\u001b[1;33m.\u001b[0m\u001b[0mAxis\u001b[0m\u001b[0;31m`\u001b[0m \u001b[1;32mor\u001b[0m \u001b[0ma\u001b[0m \u001b[0mlist\u001b[0m \u001b[0mof\u001b[0m \u001b[0mit\u001b[0m\u001b[1;33m.\u001b[0m\u001b[1;33m\u001b[0m\u001b[1;33m\u001b[0m\u001b[0m\n\u001b[0;32m    149\u001b[0m     \"\"\"\n\u001b[1;32m--> 150\u001b[1;33m     \u001b[1;32mreturn\u001b[0m \u001b[0mplot_scatter\u001b[0m\u001b[1;33m(\u001b[0m\u001b[0madata\u001b[0m\u001b[1;33m,\u001b[0m \u001b[0mbasis\u001b[0m\u001b[1;33m=\u001b[0m\u001b[1;34m'pca'\u001b[0m\u001b[1;33m,\u001b[0m \u001b[1;33m**\u001b[0m\u001b[0mkwargs\u001b[0m\u001b[1;33m)\u001b[0m\u001b[1;33m\u001b[0m\u001b[1;33m\u001b[0m\u001b[0m\n\u001b[0m\u001b[0;32m    151\u001b[0m \u001b[1;33m\u001b[0m\u001b[0m\n\u001b[0;32m    152\u001b[0m \u001b[1;33m\u001b[0m\u001b[0m\n",
      "\u001b[1;32m~\\AppData\\Local\\Continuum\\anaconda3\\lib\\site-packages\\scanpy\\plotting\\tools\\scatterplots.py\u001b[0m in \u001b[0;36mplot_scatter\u001b[1;34m(adata, color, use_raw, sort_order, edges, edges_width, edges_color, arrows, arrows_kwds, basis, groups, components, projection, color_map, palette, size, frameon, legend_fontsize, legend_fontweight, legend_loc, ncols, hspace, wspace, title, show, save, ax, return_fig, **kwargs)\u001b[0m\n\u001b[0;32m    275\u001b[0m         color_vector, categorical = _get_color_values(adata, value_to_plot,\n\u001b[0;32m    276\u001b[0m                                                       \u001b[0mgroups\u001b[0m\u001b[1;33m=\u001b[0m\u001b[0mgroups\u001b[0m\u001b[1;33m,\u001b[0m \u001b[0mpalette\u001b[0m\u001b[1;33m=\u001b[0m\u001b[0mpalette\u001b[0m\u001b[1;33m,\u001b[0m\u001b[1;33m\u001b[0m\u001b[1;33m\u001b[0m\u001b[0m\n\u001b[1;32m--> 277\u001b[1;33m                                                       use_raw=use_raw)\n\u001b[0m\u001b[0;32m    278\u001b[0m \u001b[1;33m\u001b[0m\u001b[0m\n\u001b[0;32m    279\u001b[0m         \u001b[1;31m# check if higher value points should be plot on top\u001b[0m\u001b[1;33m\u001b[0m\u001b[1;33m\u001b[0m\u001b[1;33m\u001b[0m\u001b[0m\n",
      "\u001b[1;32m~\\AppData\\Local\\Continuum\\anaconda3\\lib\\site-packages\\scanpy\\plotting\\tools\\scatterplots.py\u001b[0m in \u001b[0;36m_get_color_values\u001b[1;34m(adata, value_to_plot, groups, palette, use_raw)\u001b[0m\n\u001b[0;32m    658\u001b[0m     \u001b[1;31m# check if value to plot is in var\u001b[0m\u001b[1;33m\u001b[0m\u001b[1;33m\u001b[0m\u001b[1;33m\u001b[0m\u001b[0m\n\u001b[0;32m    659\u001b[0m     \u001b[1;32melif\u001b[0m \u001b[0muse_raw\u001b[0m \u001b[1;32mis\u001b[0m \u001b[1;32mFalse\u001b[0m \u001b[1;32mand\u001b[0m \u001b[0mvalue_to_plot\u001b[0m \u001b[1;32min\u001b[0m \u001b[0madata\u001b[0m\u001b[1;33m.\u001b[0m\u001b[0mvar_names\u001b[0m\u001b[1;33m:\u001b[0m\u001b[1;33m\u001b[0m\u001b[1;33m\u001b[0m\u001b[0m\n\u001b[1;32m--> 660\u001b[1;33m         \u001b[0mcolor_vector\u001b[0m \u001b[1;33m=\u001b[0m \u001b[0madata\u001b[0m\u001b[1;33m[\u001b[0m\u001b[1;33m:\u001b[0m\u001b[1;33m,\u001b[0m \u001b[0mvalue_to_plot\u001b[0m\u001b[1;33m]\u001b[0m\u001b[1;33m.\u001b[0m\u001b[0mX\u001b[0m\u001b[1;33m\u001b[0m\u001b[1;33m\u001b[0m\u001b[0m\n\u001b[0m\u001b[0;32m    661\u001b[0m \u001b[1;33m\u001b[0m\u001b[0m\n\u001b[0;32m    662\u001b[0m     \u001b[1;32melif\u001b[0m \u001b[0muse_raw\u001b[0m \u001b[1;32mis\u001b[0m \u001b[1;32mTrue\u001b[0m \u001b[1;32mand\u001b[0m \u001b[0mvalue_to_plot\u001b[0m \u001b[1;32min\u001b[0m \u001b[0madata\u001b[0m\u001b[1;33m.\u001b[0m\u001b[0mraw\u001b[0m\u001b[1;33m.\u001b[0m\u001b[0mvar_names\u001b[0m\u001b[1;33m:\u001b[0m\u001b[1;33m\u001b[0m\u001b[1;33m\u001b[0m\u001b[0m\n",
      "\u001b[1;32m~\\AppData\\Local\\Continuum\\anaconda3\\lib\\site-packages\\anndata\\base.py\u001b[0m in \u001b[0;36m__getitem__\u001b[1;34m(self, index)\u001b[0m\n\u001b[0;32m   1307\u001b[0m     \u001b[1;32mdef\u001b[0m \u001b[0m__getitem__\u001b[0m\u001b[1;33m(\u001b[0m\u001b[0mself\u001b[0m\u001b[1;33m,\u001b[0m \u001b[0mindex\u001b[0m\u001b[1;33m)\u001b[0m\u001b[1;33m:\u001b[0m\u001b[1;33m\u001b[0m\u001b[1;33m\u001b[0m\u001b[0m\n\u001b[0;32m   1308\u001b[0m         \u001b[1;34m\"\"\"Returns a sliced view of the object.\"\"\"\u001b[0m\u001b[1;33m\u001b[0m\u001b[1;33m\u001b[0m\u001b[0m\n\u001b[1;32m-> 1309\u001b[1;33m         \u001b[1;32mreturn\u001b[0m \u001b[0mself\u001b[0m\u001b[1;33m.\u001b[0m\u001b[0m_getitem_view\u001b[0m\u001b[1;33m(\u001b[0m\u001b[0mindex\u001b[0m\u001b[1;33m)\u001b[0m\u001b[1;33m\u001b[0m\u001b[1;33m\u001b[0m\u001b[0m\n\u001b[0m\u001b[0;32m   1310\u001b[0m \u001b[1;33m\u001b[0m\u001b[0m\n\u001b[0;32m   1311\u001b[0m     \u001b[1;32mdef\u001b[0m \u001b[0m_getitem_view\u001b[0m\u001b[1;33m(\u001b[0m\u001b[0mself\u001b[0m\u001b[1;33m,\u001b[0m \u001b[0mindex\u001b[0m\u001b[1;33m)\u001b[0m\u001b[1;33m:\u001b[0m\u001b[1;33m\u001b[0m\u001b[1;33m\u001b[0m\u001b[0m\n",
      "\u001b[1;32m~\\AppData\\Local\\Continuum\\anaconda3\\lib\\site-packages\\anndata\\base.py\u001b[0m in \u001b[0;36m_getitem_view\u001b[1;34m(self, index)\u001b[0m\n\u001b[0;32m   1311\u001b[0m     \u001b[1;32mdef\u001b[0m \u001b[0m_getitem_view\u001b[0m\u001b[1;33m(\u001b[0m\u001b[0mself\u001b[0m\u001b[1;33m,\u001b[0m \u001b[0mindex\u001b[0m\u001b[1;33m)\u001b[0m\u001b[1;33m:\u001b[0m\u001b[1;33m\u001b[0m\u001b[1;33m\u001b[0m\u001b[0m\n\u001b[0;32m   1312\u001b[0m         \u001b[0moidx\u001b[0m\u001b[1;33m,\u001b[0m \u001b[0mvidx\u001b[0m \u001b[1;33m=\u001b[0m \u001b[0mself\u001b[0m\u001b[1;33m.\u001b[0m\u001b[0m_normalize_indices\u001b[0m\u001b[1;33m(\u001b[0m\u001b[0mindex\u001b[0m\u001b[1;33m)\u001b[0m\u001b[1;33m\u001b[0m\u001b[1;33m\u001b[0m\u001b[0m\n\u001b[1;32m-> 1313\u001b[1;33m         \u001b[1;32mreturn\u001b[0m \u001b[0mAnnData\u001b[0m\u001b[1;33m(\u001b[0m\u001b[0mself\u001b[0m\u001b[1;33m,\u001b[0m \u001b[0moidx\u001b[0m\u001b[1;33m=\u001b[0m\u001b[0moidx\u001b[0m\u001b[1;33m,\u001b[0m \u001b[0mvidx\u001b[0m\u001b[1;33m=\u001b[0m\u001b[0mvidx\u001b[0m\u001b[1;33m,\u001b[0m \u001b[0masview\u001b[0m\u001b[1;33m=\u001b[0m\u001b[1;32mTrue\u001b[0m\u001b[1;33m)\u001b[0m\u001b[1;33m\u001b[0m\u001b[1;33m\u001b[0m\u001b[0m\n\u001b[0m\u001b[0;32m   1314\u001b[0m \u001b[1;33m\u001b[0m\u001b[0m\n\u001b[0;32m   1315\u001b[0m     \u001b[1;32mdef\u001b[0m \u001b[0m_remove_unused_categories\u001b[0m\u001b[1;33m(\u001b[0m\u001b[0mself\u001b[0m\u001b[1;33m,\u001b[0m \u001b[0mdf_full\u001b[0m\u001b[1;33m,\u001b[0m \u001b[0mdf_sub\u001b[0m\u001b[1;33m,\u001b[0m \u001b[0muns\u001b[0m\u001b[1;33m)\u001b[0m\u001b[1;33m:\u001b[0m\u001b[1;33m\u001b[0m\u001b[1;33m\u001b[0m\u001b[0m\n",
      "\u001b[1;32m~\\AppData\\Local\\Continuum\\anaconda3\\lib\\site-packages\\anndata\\base.py\u001b[0m in \u001b[0;36m__init__\u001b[1;34m(self, X, obs, var, uns, obsm, varm, layers, raw, dtype, shape, filename, filemode, asview, oidx, vidx)\u001b[0m\n\u001b[0;32m    662\u001b[0m             \u001b[1;32mif\u001b[0m \u001b[1;32mnot\u001b[0m \u001b[0misinstance\u001b[0m\u001b[1;33m(\u001b[0m\u001b[0mX\u001b[0m\u001b[1;33m,\u001b[0m \u001b[0mAnnData\u001b[0m\u001b[1;33m)\u001b[0m\u001b[1;33m:\u001b[0m\u001b[1;33m\u001b[0m\u001b[1;33m\u001b[0m\u001b[0m\n\u001b[0;32m    663\u001b[0m                 \u001b[1;32mraise\u001b[0m \u001b[0mValueError\u001b[0m\u001b[1;33m(\u001b[0m\u001b[1;34m'`X` has to be an AnnData object.'\u001b[0m\u001b[1;33m)\u001b[0m\u001b[1;33m\u001b[0m\u001b[1;33m\u001b[0m\u001b[0m\n\u001b[1;32m--> 664\u001b[1;33m             \u001b[0mself\u001b[0m\u001b[1;33m.\u001b[0m\u001b[0m_init_as_view\u001b[0m\u001b[1;33m(\u001b[0m\u001b[0mX\u001b[0m\u001b[1;33m,\u001b[0m \u001b[0moidx\u001b[0m\u001b[1;33m,\u001b[0m \u001b[0mvidx\u001b[0m\u001b[1;33m)\u001b[0m\u001b[1;33m\u001b[0m\u001b[1;33m\u001b[0m\u001b[0m\n\u001b[0m\u001b[0;32m    665\u001b[0m         \u001b[1;32melse\u001b[0m\u001b[1;33m:\u001b[0m\u001b[1;33m\u001b[0m\u001b[1;33m\u001b[0m\u001b[0m\n\u001b[0;32m    666\u001b[0m             self._init_as_actual(\n",
      "\u001b[1;32m~\\AppData\\Local\\Continuum\\anaconda3\\lib\\site-packages\\anndata\\base.py\u001b[0m in \u001b[0;36m_init_as_view\u001b[1;34m(self, adata_ref, oidx, vidx)\u001b[0m\n\u001b[0;32m    723\u001b[0m             \u001b[0mself\u001b[0m\u001b[1;33m.\u001b[0m\u001b[0m_X\u001b[0m \u001b[1;33m=\u001b[0m \u001b[1;32mNone\u001b[0m\u001b[1;33m\u001b[0m\u001b[1;33m\u001b[0m\u001b[0m\n\u001b[0;32m    724\u001b[0m         \u001b[1;32melse\u001b[0m\u001b[1;33m:\u001b[0m\u001b[1;33m\u001b[0m\u001b[1;33m\u001b[0m\u001b[0m\n\u001b[1;32m--> 725\u001b[1;33m             \u001b[0mself\u001b[0m\u001b[1;33m.\u001b[0m\u001b[0m_init_X_as_view\u001b[0m\u001b[1;33m(\u001b[0m\u001b[1;33m)\u001b[0m\u001b[1;33m\u001b[0m\u001b[1;33m\u001b[0m\u001b[0m\n\u001b[0m\u001b[0;32m    726\u001b[0m \u001b[1;33m\u001b[0m\u001b[0m\n\u001b[0;32m    727\u001b[0m         \u001b[0mself\u001b[0m\u001b[1;33m.\u001b[0m\u001b[0m_layers\u001b[0m \u001b[1;33m=\u001b[0m \u001b[0mAnnDataLayers\u001b[0m\u001b[1;33m(\u001b[0m\u001b[0mself\u001b[0m\u001b[1;33m,\u001b[0m \u001b[0madata_ref\u001b[0m\u001b[1;33m=\u001b[0m\u001b[0madata_ref\u001b[0m\u001b[1;33m,\u001b[0m \u001b[0moidx\u001b[0m\u001b[1;33m=\u001b[0m\u001b[0moidx\u001b[0m\u001b[1;33m,\u001b[0m \u001b[0mvidx\u001b[0m\u001b[1;33m=\u001b[0m\u001b[0mvidx\u001b[0m\u001b[1;33m)\u001b[0m\u001b[1;33m\u001b[0m\u001b[1;33m\u001b[0m\u001b[0m\n",
      "\u001b[1;32m~\\AppData\\Local\\Continuum\\anaconda3\\lib\\site-packages\\anndata\\base.py\u001b[0m in \u001b[0;36m_init_X_as_view\u001b[1;34m(self)\u001b[0m\n\u001b[0;32m    750\u001b[0m             shape = (\n\u001b[0;32m    751\u001b[0m                 \u001b[0mget_n_items_idx\u001b[0m\u001b[1;33m(\u001b[0m\u001b[0mself\u001b[0m\u001b[1;33m.\u001b[0m\u001b[0m_oidx\u001b[0m\u001b[1;33m,\u001b[0m \u001b[0mself\u001b[0m\u001b[1;33m.\u001b[0m\u001b[0m_adata_ref\u001b[0m\u001b[1;33m.\u001b[0m\u001b[0mn_obs\u001b[0m\u001b[1;33m)\u001b[0m\u001b[1;33m,\u001b[0m\u001b[1;33m\u001b[0m\u001b[1;33m\u001b[0m\u001b[0m\n\u001b[1;32m--> 752\u001b[1;33m                 \u001b[0mget_n_items_idx\u001b[0m\u001b[1;33m(\u001b[0m\u001b[0mself\u001b[0m\u001b[1;33m.\u001b[0m\u001b[0m_vidx\u001b[0m\u001b[1;33m,\u001b[0m \u001b[0mself\u001b[0m\u001b[1;33m.\u001b[0m\u001b[0m_adata_ref\u001b[0m\u001b[1;33m.\u001b[0m\u001b[0mn_vars\u001b[0m\u001b[1;33m)\u001b[0m\u001b[1;33m\u001b[0m\u001b[1;33m\u001b[0m\u001b[0m\n\u001b[0m\u001b[0;32m    753\u001b[0m             )\n\u001b[0;32m    754\u001b[0m             \u001b[1;32mif\u001b[0m \u001b[0mnp\u001b[0m\u001b[1;33m.\u001b[0m\u001b[0misscalar\u001b[0m\u001b[1;33m(\u001b[0m\u001b[0mX\u001b[0m\u001b[1;33m)\u001b[0m\u001b[1;33m:\u001b[0m\u001b[1;33m\u001b[0m\u001b[1;33m\u001b[0m\u001b[0m\n",
      "\u001b[1;32m~\\AppData\\Local\\Continuum\\anaconda3\\lib\\site-packages\\anndata\\utils.py\u001b[0m in \u001b[0;36mget_n_items_idx\u001b[1;34m(idx, l)\u001b[0m\n\u001b[0;32m    148\u001b[0m         \u001b[1;32mreturn\u001b[0m \u001b[1;36m1\u001b[0m\u001b[1;33m\u001b[0m\u001b[1;33m\u001b[0m\u001b[0m\n\u001b[0;32m    149\u001b[0m     \u001b[1;32melse\u001b[0m\u001b[1;33m:\u001b[0m\u001b[1;33m\u001b[0m\u001b[1;33m\u001b[0m\u001b[0m\n\u001b[1;32m--> 150\u001b[1;33m         \u001b[1;32mreturn\u001b[0m \u001b[0mlen\u001b[0m\u001b[1;33m(\u001b[0m\u001b[0midx\u001b[0m\u001b[1;33m)\u001b[0m\u001b[1;33m\u001b[0m\u001b[1;33m\u001b[0m\u001b[0m\n\u001b[0m",
      "\u001b[1;31mTypeError\u001b[0m: object of type 'numpy.int64' has no len()"
     ]
    },
    {
     "data": {
      "image/png": "[encoded data removed]",
      "text/plain": [
       "<Figure size 432x288 with 1 Axes>"
      ]
     },
     "metadata": {},
     "output_type": "display_data"
    }
   ],
   "source": [
    "sc.pl.pca(adata, color = 'DAPI')"
   ]
  },
  {
   "cell_type": "code",
   "execution_count": 14,
   "metadata": {},
   "outputs": [
    {
     "data": {
      "image/png": "[encoded data removed]",
      "text/plain": [
       "<Figure size 432x288 with 1 Axes>"
      ]
     },
     "metadata": {
      "needs_background": "light"
     },
     "output_type": "display_data"
    }
   ],
   "source": [
    "sc.pl.pca_variance_ratio(adata)"
   ]
  },
  {
   "cell_type": "code",
   "execution_count": 15,
   "metadata": {},
   "outputs": [],
   "source": [
    "sc.pp.neighbors(adata, n_neighbors=30, n_pcs=3)"
   ]
  },
  {
   "cell_type": "code",
   "execution_count": 16,
   "metadata": {},
   "outputs": [],
   "source": [
    "sc.tl.umap(adata)"
   ]
  },
  {
   "cell_type": "code",
   "execution_count": 17,
   "metadata": {},
   "outputs": [
    {
     "data": {
      "image/png": "[encoded data removed]",
      "text/plain": [
       "<Figure size 432x288 with 1 Axes>"
      ]
     },
     "metadata": {},
     "output_type": "display_data"
    }
   ],
   "source": [
    "sc.pl.umap(adata)"
   ]
  },
  {
   "cell_type": "code",
   "execution_count": null,
   "metadata": {},
   "outputs": [],
   "source": []
  }
 ],
 "metadata": {
  "kernelspec": {
   "display_name": "Python 3",
   "language": "python",
   "name": "python3"
  },
  "language_info": {
   "codemirror_mode": {
    "name": "ipython",
    "version": 3
   },
   "file_extension": ".py",
   "mimetype": "text/x-python",
   "name": "python",
   "nbconvert_exporter": "python",
   "pygments_lexer": "ipython3",
   "version": "3.7.1"
  }
 },
 "nbformat": 4,
 "nbformat_minor": 2
}
