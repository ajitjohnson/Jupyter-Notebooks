{
 "cells": [
  {
   "cell_type": "markdown",
   "metadata": {},
   "source": [
    "# Getting Started with Scimap"
   ]
  },
  {
   "cell_type": "code",
   "execution_count": 8,
   "metadata": {},
   "outputs": [
    {
     "data": {
      "text/plain": [
       "'\\nCreated on Fri Jun 26 23:11:32 2020\\n@author: Ajit Johnson Nirmal\\nScimap Getting Started tutorial\\n'"
      ]
     },
     "execution_count": 8,
     "metadata": {},
     "output_type": "execute_result"
    }
   ],
   "source": [
    "#!/usr/bin/env python3\n",
    "# -*- coding: utf-8 -*-\n",
    "\"\"\"\n",
    "Created on Fri Jun 26 23:11:32 2020\n",
    "@author: Ajit Johnson Nirmal\n",
    "Scimap Getting Started tutorial\n",
    "\"\"\""
   ]
  },
  {
   "cell_type": "code",
   "execution_count": 9,
   "metadata": {},
   "outputs": [],
   "source": [
    "# Before you start make sure you have installed the following packages\n",
    "# pip install scimap\n",
    "# pip install scanpy\n",
    "# pip install leidenalg\n",
    "# pip install PyQt5"
   ]
  },
  {
   "cell_type": "markdown",
   "metadata": {},
   "source": [
    "## Tutorial material"
   ]
  },
  {
   "cell_type": "markdown",
   "metadata": {},
   "source": [
    "You can download the material for this tutorial from the following [link:](https://www.dropbox.com/s/rra13zir52o9hio/getting_started%20and%20phenotyping.zip?dl=0)  \n",
    "The presentation files are available [here:](https://github.com/ajitjohnson/Jupyter-Notebooks/blob/master/tutorials/scimap_tutorial/getting_started%20and%20phenotyping/scimap_tutorial.pdf)"
   ]
  },
  {
   "cell_type": "markdown",
   "metadata": {},
   "source": [
    "## Tutorial video"
   ]
  },
  {
   "cell_type": "code",
   "execution_count": 33,
   "metadata": {
    "scrolled": true
   },
   "outputs": [
    {
     "data": {
      "text/html": [
       "<iframe width=\"450\" height=\"250\" src=\"https://www.youtube.com/embed/knh5elRksUk\" frameborder=\"0\" allow=\"accelerometer; autoplay; encrypted-media; gyroscope; picture-in-picture\" allowfullscreen></iframe>"
      ],
      "text/plain": [
       "<IPython.core.display.HTML object>"
      ]
     },
     "execution_count": 33,
     "metadata": {},
     "output_type": "execute_result"
    }
   ],
   "source": [
    "from IPython.display import HTML\n",
    "HTML('<iframe width=\"450\" height=\"250\" src=\"https://www.youtube.com/embed/knh5elRksUk\" frameborder=\"0\" allow=\"accelerometer; autoplay; encrypted-media; gyroscope; picture-in-picture\" allowfullscreen></iframe>')"
   ]
  },
  {
   "cell_type": "code",
   "execution_count": 27,
   "metadata": {},
   "outputs": [],
   "source": [
    "# Load necessary libraries\n",
    "import sys\n",
    "import os\n",
    "import anndata as ad\n",
    "import pandas as pd\n",
    "import scanpy as sc\n",
    "import seaborn as sns; sns.set(color_codes=True)\n",
    "\n",
    "# Import Scimap\n",
    "import scimap as sm"
   ]
  },
  {
   "cell_type": "code",
   "execution_count": 12,
   "metadata": {},
   "outputs": [],
   "source": [
    "# Set the working directory\n",
    "os.chdir (\"/Users/aj/Desktop/scimap_tutorial/\")"
   ]
  },
  {
   "cell_type": "markdown",
   "metadata": {},
   "source": [
    "## Load data using AnnData"
   ]
  },
  {
   "cell_type": "code",
   "execution_count": 29,
   "metadata": {},
   "outputs": [],
   "source": [
    "# Load data\n",
    "data = pd.read_csv ('counts_table.csv') # Counts matrix\n",
    "meta = pd.read_csv ('meta_data.csv') # Meta data like x and y coordinates \n",
    "\n",
    "# combine the data and metadata file to generate the AnnData object\n",
    "adata = ad.AnnData (data)\n",
    "adata.obs = meta"
   ]
  },
  {
   "cell_type": "markdown",
   "metadata": {},
   "source": [
    "Print adata to check for it's content"
   ]
  },
  {
   "cell_type": "code",
   "execution_count": 14,
   "metadata": {},
   "outputs": [
    {
     "data": {
      "text/plain": [
       "AnnData object with n_obs × n_vars = 4825 × 48\n",
       "    obs: 'X_centroid', 'Y_centroid', 'Area', 'MajorAxisLength', 'MinorAxisLength', 'Eccentricity', 'Solidity', 'Extent', 'Orientation'"
      ]
     },
     "execution_count": 14,
     "metadata": {},
     "output_type": "execute_result"
    }
   ],
   "source": [
    "adata"
   ]
  },
  {
   "cell_type": "code",
   "execution_count": 15,
   "metadata": {},
   "outputs": [
    {
     "data": {
      "text/html": [
       "<div>\n",
       "<style scoped>\n",
       "    .dataframe tbody tr th:only-of-type {\n",
       "        vertical-align: middle;\n",
       "    }\n",
       "\n",
       "    .dataframe tbody tr th {\n",
       "        vertical-align: top;\n",
       "    }\n",
       "\n",
       "    .dataframe thead th {\n",
       "        text-align: right;\n",
       "    }\n",
       "</style>\n",
       "<table border=\"1\" class=\"dataframe\">\n",
       "  <thead>\n",
       "    <tr style=\"text-align: right;\">\n",
       "      <th></th>\n",
       "      <th>X_centroid</th>\n",
       "      <th>Y_centroid</th>\n",
       "      <th>Area</th>\n",
       "      <th>MajorAxisLength</th>\n",
       "      <th>MinorAxisLength</th>\n",
       "      <th>Eccentricity</th>\n",
       "      <th>Solidity</th>\n",
       "      <th>Extent</th>\n",
       "      <th>Orientation</th>\n",
       "    </tr>\n",
       "  </thead>\n",
       "  <tbody>\n",
       "    <tr>\n",
       "      <th>0</th>\n",
       "      <td>511.555556</td>\n",
       "      <td>9.846154</td>\n",
       "      <td>117</td>\n",
       "      <td>14.532270</td>\n",
       "      <td>10.273628</td>\n",
       "      <td>0.707261</td>\n",
       "      <td>0.959016</td>\n",
       "      <td>0.750000</td>\n",
       "      <td>-0.695369</td>\n",
       "    </tr>\n",
       "    <tr>\n",
       "      <th>1</th>\n",
       "      <td>579.330097</td>\n",
       "      <td>9.398058</td>\n",
       "      <td>103</td>\n",
       "      <td>16.056286</td>\n",
       "      <td>8.776323</td>\n",
       "      <td>0.837396</td>\n",
       "      <td>0.903509</td>\n",
       "      <td>0.613095</td>\n",
       "      <td>1.115707</td>\n",
       "    </tr>\n",
       "    <tr>\n",
       "      <th>2</th>\n",
       "      <td>630.958333</td>\n",
       "      <td>12.883333</td>\n",
       "      <td>120</td>\n",
       "      <td>15.222005</td>\n",
       "      <td>10.310756</td>\n",
       "      <td>0.735653</td>\n",
       "      <td>0.975610</td>\n",
       "      <td>0.681818</td>\n",
       "      <td>0.151616</td>\n",
       "    </tr>\n",
       "    <tr>\n",
       "      <th>3</th>\n",
       "      <td>745.194631</td>\n",
       "      <td>16.275168</td>\n",
       "      <td>149</td>\n",
       "      <td>14.380200</td>\n",
       "      <td>13.404759</td>\n",
       "      <td>0.362027</td>\n",
       "      <td>0.967532</td>\n",
       "      <td>0.662222</td>\n",
       "      <td>-0.270451</td>\n",
       "    </tr>\n",
       "    <tr>\n",
       "      <th>4</th>\n",
       "      <td>657.173653</td>\n",
       "      <td>18.035928</td>\n",
       "      <td>167</td>\n",
       "      <td>17.675831</td>\n",
       "      <td>12.110106</td>\n",
       "      <td>0.728428</td>\n",
       "      <td>0.943503</td>\n",
       "      <td>0.695833</td>\n",
       "      <td>-0.810890</td>\n",
       "    </tr>\n",
       "    <tr>\n",
       "      <th>...</th>\n",
       "      <td>...</td>\n",
       "      <td>...</td>\n",
       "      <td>...</td>\n",
       "      <td>...</td>\n",
       "      <td>...</td>\n",
       "      <td>...</td>\n",
       "      <td>...</td>\n",
       "      <td>...</td>\n",
       "      <td>...</td>\n",
       "    </tr>\n",
       "    <tr>\n",
       "      <th>4820</th>\n",
       "      <td>559.597403</td>\n",
       "      <td>1091.577922</td>\n",
       "      <td>154</td>\n",
       "      <td>18.150307</td>\n",
       "      <td>11.683288</td>\n",
       "      <td>0.765281</td>\n",
       "      <td>0.900585</td>\n",
       "      <td>0.570370</td>\n",
       "      <td>-0.342315</td>\n",
       "    </tr>\n",
       "    <tr>\n",
       "      <th>4821</th>\n",
       "      <td>619.983871</td>\n",
       "      <td>1092.959677</td>\n",
       "      <td>248</td>\n",
       "      <td>21.734414</td>\n",
       "      <td>15.565820</td>\n",
       "      <td>0.697912</td>\n",
       "      <td>0.864111</td>\n",
       "      <td>0.551111</td>\n",
       "      <td>1.432242</td>\n",
       "    </tr>\n",
       "    <tr>\n",
       "      <th>4822</th>\n",
       "      <td>583.317073</td>\n",
       "      <td>1093.573171</td>\n",
       "      <td>82</td>\n",
       "      <td>12.060039</td>\n",
       "      <td>9.539789</td>\n",
       "      <td>0.611784</td>\n",
       "      <td>0.964706</td>\n",
       "      <td>0.630769</td>\n",
       "      <td>0.203023</td>\n",
       "    </tr>\n",
       "    <tr>\n",
       "      <th>4823</th>\n",
       "      <td>607.064394</td>\n",
       "      <td>1101.583333</td>\n",
       "      <td>264</td>\n",
       "      <td>22.549494</td>\n",
       "      <td>15.905321</td>\n",
       "      <td>0.708858</td>\n",
       "      <td>0.882943</td>\n",
       "      <td>0.661654</td>\n",
       "      <td>0.691838</td>\n",
       "    </tr>\n",
       "    <tr>\n",
       "      <th>4824</th>\n",
       "      <td>641.592486</td>\n",
       "      <td>1100.132948</td>\n",
       "      <td>346</td>\n",
       "      <td>23.149806</td>\n",
       "      <td>19.375564</td>\n",
       "      <td>0.547257</td>\n",
       "      <td>0.945355</td>\n",
       "      <td>0.791762</td>\n",
       "      <td>-1.390516</td>\n",
       "    </tr>\n",
       "  </tbody>\n",
       "</table>\n",
       "<p>4825 rows × 9 columns</p>\n",
       "</div>"
      ],
      "text/plain": [
       "      X_centroid   Y_centroid  Area  MajorAxisLength  MinorAxisLength  \\\n",
       "0     511.555556     9.846154   117        14.532270        10.273628   \n",
       "1     579.330097     9.398058   103        16.056286         8.776323   \n",
       "2     630.958333    12.883333   120        15.222005        10.310756   \n",
       "3     745.194631    16.275168   149        14.380200        13.404759   \n",
       "4     657.173653    18.035928   167        17.675831        12.110106   \n",
       "...          ...          ...   ...              ...              ...   \n",
       "4820  559.597403  1091.577922   154        18.150307        11.683288   \n",
       "4821  619.983871  1092.959677   248        21.734414        15.565820   \n",
       "4822  583.317073  1093.573171    82        12.060039         9.539789   \n",
       "4823  607.064394  1101.583333   264        22.549494        15.905321   \n",
       "4824  641.592486  1100.132948   346        23.149806        19.375564   \n",
       "\n",
       "      Eccentricity  Solidity    Extent  Orientation  \n",
       "0         0.707261  0.959016  0.750000    -0.695369  \n",
       "1         0.837396  0.903509  0.613095     1.115707  \n",
       "2         0.735653  0.975610  0.681818     0.151616  \n",
       "3         0.362027  0.967532  0.662222    -0.270451  \n",
       "4         0.728428  0.943503  0.695833    -0.810890  \n",
       "...            ...       ...       ...          ...  \n",
       "4820      0.765281  0.900585  0.570370    -0.342315  \n",
       "4821      0.697912  0.864111  0.551111     1.432242  \n",
       "4822      0.611784  0.964706  0.630769     0.203023  \n",
       "4823      0.708858  0.882943  0.661654     0.691838  \n",
       "4824      0.547257  0.945355  0.791762    -1.390516  \n",
       "\n",
       "[4825 rows x 9 columns]"
      ]
     },
     "execution_count": 15,
     "metadata": {},
     "output_type": "execute_result"
    }
   ],
   "source": [
    "adata.obs # prints the meta data"
   ]
  },
  {
   "cell_type": "code",
   "execution_count": 16,
   "metadata": {},
   "outputs": [
    {
     "data": {
      "text/plain": [
       "array([[16640.564  ,   719.6325 ,   527.7094 , ...,  1085.735  ,\n",
       "          218.54701,  3170.47   ],\n",
       "       [16938.3    ,   686.5534 ,   469.30096, ...,  1075.6407 ,\n",
       "          164.48544,  3116.767  ],\n",
       "       [16243.542  ,   819.4167 ,   604.39166, ...,  1164.3917 ,\n",
       "          227.74167,  3156.1084 ],\n",
       "       ...,\n",
       "       [28656.256  ,   878.2561 ,   585.3293 , ...,  1233.183  ,\n",
       "         1243.5488 ,  3194.195  ],\n",
       "       [22054.818  ,   685.8485 ,   424.85226, ...,  1031.2424 ,\n",
       "          313.32574,  3038.8105 ],\n",
       "       [23992.854  ,   850.25146,   529.89886, ...,  1000.5578 ,\n",
       "          285.98267,  3087.3005 ]], dtype=float32)"
      ]
     },
     "execution_count": 16,
     "metadata": {},
     "output_type": "execute_result"
    }
   ],
   "source": [
    "adata.X # prints the counts table"
   ]
  },
  {
   "cell_type": "code",
   "execution_count": 17,
   "metadata": {},
   "outputs": [
    {
     "data": {
      "text/html": [
       "<div>\n",
       "<style scoped>\n",
       "    .dataframe tbody tr th:only-of-type {\n",
       "        vertical-align: middle;\n",
       "    }\n",
       "\n",
       "    .dataframe tbody tr th {\n",
       "        vertical-align: top;\n",
       "    }\n",
       "\n",
       "    .dataframe thead th {\n",
       "        text-align: right;\n",
       "    }\n",
       "</style>\n",
       "<table border=\"1\" class=\"dataframe\">\n",
       "  <thead>\n",
       "    <tr style=\"text-align: right;\">\n",
       "      <th></th>\n",
       "    </tr>\n",
       "  </thead>\n",
       "  <tbody>\n",
       "    <tr>\n",
       "      <th>DNA1</th>\n",
       "    </tr>\n",
       "    <tr>\n",
       "      <th>BG1</th>\n",
       "    </tr>\n",
       "    <tr>\n",
       "      <th>BG2</th>\n",
       "    </tr>\n",
       "    <tr>\n",
       "      <th>BG3</th>\n",
       "    </tr>\n",
       "    <tr>\n",
       "      <th>DNA2</th>\n",
       "    </tr>\n",
       "  </tbody>\n",
       "</table>\n",
       "</div>"
      ],
      "text/plain": [
       "Empty DataFrame\n",
       "Columns: []\n",
       "Index: [DNA1, BG1, BG2, BG3, DNA2]"
      ]
     },
     "execution_count": 17,
     "metadata": {},
     "output_type": "execute_result"
    }
   ],
   "source": [
    "adata.var[0:5] # prints the first 5 channel or marker names"
   ]
  },
  {
   "cell_type": "markdown",
   "metadata": {},
   "source": [
    "You would have noticed that\n",
    "- the data is not in log scale\n",
    "- All the DNA channels are there\n",
    "- The background channels are there\n",
    "If we diretly perform clustering or any other type of analysis, the above mentioned factors may affect the results and so it is recommended to remove them."
   ]
  },
  {
   "cell_type": "markdown",
   "metadata": {},
   "source": [
    "## Load data using scimap's helper function"
   ]
  },
  {
   "cell_type": "markdown",
   "metadata": {},
   "source": [
    "Use this if the single-cell data was generated using **mcmicro pipeline**. With this function though many of the above limitations can be imediately addressed. By default it removes DNA channels and you can pass any channel name into `drop_markers` parameter inorder to not import them."
   ]
  },
  {
   "cell_type": "code",
   "execution_count": 18,
   "metadata": {},
   "outputs": [
    {
     "name": "stdout",
     "output_type": "stream",
     "text": [
      "Loading mcmicro_output.csv\n"
     ]
    }
   ],
   "source": [
    "image_path = ['/Users/aj/Desktop/scimap_tutorial/mcmicro_output.csv']\n",
    "adata = sm.pp.mcmicro_to_scimap (image_path, drop_markers = [\"PERK\", \"NOS2\",\"BG1\",\"BG2\",\"BG3\",\"ACTIN\"])"
   ]
  },
  {
   "cell_type": "markdown",
   "metadata": {},
   "source": [
    "Check adata contents now as we did previously"
   ]
  },
  {
   "cell_type": "code",
   "execution_count": 19,
   "metadata": {},
   "outputs": [
    {
     "data": {
      "text/plain": [
       "AnnData object with n_obs × n_vars = 4825 × 30\n",
       "    obs: 'X_centroid', 'Y_centroid', 'Area', 'MajorAxisLength', 'MinorAxisLength', 'Eccentricity', 'Solidity', 'Extent', 'Orientation', 'imageid'\n",
       "    uns: 'all_markers'"
      ]
     },
     "execution_count": 19,
     "metadata": {},
     "output_type": "execute_result"
    }
   ],
   "source": [
    "adata"
   ]
  },
  {
   "cell_type": "code",
   "execution_count": 20,
   "metadata": {},
   "outputs": [
    {
     "data": {
      "text/plain": [
       "array([[6.3674684, 6.4287267, 7.3826084, ..., 6.990933 , 5.3915663,\n",
       "        8.061951 ],\n",
       "       [6.340171 , 6.094227 , 7.339796 , ..., 6.981601 , 5.1088834,\n",
       "        8.044872 ],\n",
       "       [6.503502 , 6.3549495, 7.4734573, ..., 7.0608125, 5.4325933,\n",
       "        8.057412 ],\n",
       "       ...,\n",
       "       [6.5583014, 6.660794 , 7.4199724, ..., 7.1181645, 7.1265283,\n",
       "        8.069404 ],\n",
       "       [6.3370404, 6.281594 , 7.2397914, ..., 6.939489 , 5.7504296,\n",
       "        8.01955  ],\n",
       "       [6.3805585, 6.180567 , 7.2547846, ..., 6.909312 , 5.659422 ,\n",
       "        8.035377 ]], dtype=float32)"
      ]
     },
     "execution_count": 20,
     "metadata": {},
     "output_type": "execute_result"
    }
   ],
   "source": [
    "adata.X # Will now contain log normalized data"
   ]
  },
  {
   "cell_type": "code",
   "execution_count": 21,
   "metadata": {},
   "outputs": [
    {
     "data": {
      "text/plain": [
       "array([[ 581.5812 ,  618.38464, 1606.7778 , ..., 1085.735  ,  218.54701,\n",
       "        3170.47   ],\n",
       "       [ 565.8932 ,  442.29126, 1539.3981 , ..., 1075.6407 ,  164.48544,\n",
       "        3116.767  ],\n",
       "       [ 666.475  ,  574.3333 , 1759.6833 , ..., 1164.3917 ,  227.74167,\n",
       "        3156.1084 ],\n",
       "       ...,\n",
       "       [ 704.0732 ,  780.1707 , 1667.9878 , ..., 1233.183  , 1243.5488 ,\n",
       "        3194.195  ],\n",
       "       [ 564.1212 ,  533.64014, 1392.803  , ..., 1031.2424 ,  313.32574,\n",
       "        3038.8105 ],\n",
       "       [ 589.2572 ,  482.2659 , 1413.8584 , ..., 1000.5578 ,  285.98267,\n",
       "        3087.3005 ]], dtype=float32)"
      ]
     },
     "execution_count": 21,
     "metadata": {},
     "output_type": "execute_result"
    }
   ],
   "source": [
    "adata.raw.X # contains the raw data"
   ]
  },
  {
   "cell_type": "code",
   "execution_count": 22,
   "metadata": {},
   "outputs": [
    {
     "data": {
      "text/html": [
       "<div>\n",
       "<style scoped>\n",
       "    .dataframe tbody tr th:only-of-type {\n",
       "        vertical-align: middle;\n",
       "    }\n",
       "\n",
       "    .dataframe tbody tr th {\n",
       "        vertical-align: top;\n",
       "    }\n",
       "\n",
       "    .dataframe thead th {\n",
       "        text-align: right;\n",
       "    }\n",
       "</style>\n",
       "<table border=\"1\" class=\"dataframe\">\n",
       "  <thead>\n",
       "    <tr style=\"text-align: right;\">\n",
       "      <th></th>\n",
       "      <th>X_centroid</th>\n",
       "      <th>Y_centroid</th>\n",
       "      <th>Area</th>\n",
       "      <th>MajorAxisLength</th>\n",
       "      <th>MinorAxisLength</th>\n",
       "      <th>Eccentricity</th>\n",
       "      <th>Solidity</th>\n",
       "      <th>Extent</th>\n",
       "      <th>Orientation</th>\n",
       "      <th>imageid</th>\n",
       "    </tr>\n",
       "  </thead>\n",
       "  <tbody>\n",
       "    <tr>\n",
       "      <th>mcmicro_output_1</th>\n",
       "      <td>511.555556</td>\n",
       "      <td>9.846154</td>\n",
       "      <td>117</td>\n",
       "      <td>14.532270</td>\n",
       "      <td>10.273628</td>\n",
       "      <td>0.707261</td>\n",
       "      <td>0.959016</td>\n",
       "      <td>0.750000</td>\n",
       "      <td>-0.695369</td>\n",
       "      <td>mcmicro_output</td>\n",
       "    </tr>\n",
       "    <tr>\n",
       "      <th>mcmicro_output_2</th>\n",
       "      <td>579.330097</td>\n",
       "      <td>9.398058</td>\n",
       "      <td>103</td>\n",
       "      <td>16.056286</td>\n",
       "      <td>8.776323</td>\n",
       "      <td>0.837396</td>\n",
       "      <td>0.903509</td>\n",
       "      <td>0.613095</td>\n",
       "      <td>1.115707</td>\n",
       "      <td>mcmicro_output</td>\n",
       "    </tr>\n",
       "    <tr>\n",
       "      <th>mcmicro_output_3</th>\n",
       "      <td>630.958333</td>\n",
       "      <td>12.883333</td>\n",
       "      <td>120</td>\n",
       "      <td>15.222005</td>\n",
       "      <td>10.310756</td>\n",
       "      <td>0.735653</td>\n",
       "      <td>0.975610</td>\n",
       "      <td>0.681818</td>\n",
       "      <td>0.151616</td>\n",
       "      <td>mcmicro_output</td>\n",
       "    </tr>\n",
       "    <tr>\n",
       "      <th>mcmicro_output_4</th>\n",
       "      <td>745.194631</td>\n",
       "      <td>16.275168</td>\n",
       "      <td>149</td>\n",
       "      <td>14.380200</td>\n",
       "      <td>13.404759</td>\n",
       "      <td>0.362027</td>\n",
       "      <td>0.967532</td>\n",
       "      <td>0.662222</td>\n",
       "      <td>-0.270451</td>\n",
       "      <td>mcmicro_output</td>\n",
       "    </tr>\n",
       "    <tr>\n",
       "      <th>mcmicro_output_5</th>\n",
       "      <td>657.173653</td>\n",
       "      <td>18.035928</td>\n",
       "      <td>167</td>\n",
       "      <td>17.675831</td>\n",
       "      <td>12.110106</td>\n",
       "      <td>0.728428</td>\n",
       "      <td>0.943503</td>\n",
       "      <td>0.695833</td>\n",
       "      <td>-0.810890</td>\n",
       "      <td>mcmicro_output</td>\n",
       "    </tr>\n",
       "    <tr>\n",
       "      <th>...</th>\n",
       "      <td>...</td>\n",
       "      <td>...</td>\n",
       "      <td>...</td>\n",
       "      <td>...</td>\n",
       "      <td>...</td>\n",
       "      <td>...</td>\n",
       "      <td>...</td>\n",
       "      <td>...</td>\n",
       "      <td>...</td>\n",
       "      <td>...</td>\n",
       "    </tr>\n",
       "    <tr>\n",
       "      <th>mcmicro_output_4821</th>\n",
       "      <td>559.597403</td>\n",
       "      <td>1091.577922</td>\n",
       "      <td>154</td>\n",
       "      <td>18.150307</td>\n",
       "      <td>11.683288</td>\n",
       "      <td>0.765281</td>\n",
       "      <td>0.900585</td>\n",
       "      <td>0.570370</td>\n",
       "      <td>-0.342315</td>\n",
       "      <td>mcmicro_output</td>\n",
       "    </tr>\n",
       "    <tr>\n",
       "      <th>mcmicro_output_4822</th>\n",
       "      <td>619.983871</td>\n",
       "      <td>1092.959677</td>\n",
       "      <td>248</td>\n",
       "      <td>21.734414</td>\n",
       "      <td>15.565820</td>\n",
       "      <td>0.697912</td>\n",
       "      <td>0.864111</td>\n",
       "      <td>0.551111</td>\n",
       "      <td>1.432242</td>\n",
       "      <td>mcmicro_output</td>\n",
       "    </tr>\n",
       "    <tr>\n",
       "      <th>mcmicro_output_4823</th>\n",
       "      <td>583.317073</td>\n",
       "      <td>1093.573171</td>\n",
       "      <td>82</td>\n",
       "      <td>12.060039</td>\n",
       "      <td>9.539789</td>\n",
       "      <td>0.611784</td>\n",
       "      <td>0.964706</td>\n",
       "      <td>0.630769</td>\n",
       "      <td>0.203023</td>\n",
       "      <td>mcmicro_output</td>\n",
       "    </tr>\n",
       "    <tr>\n",
       "      <th>mcmicro_output_4824</th>\n",
       "      <td>607.064394</td>\n",
       "      <td>1101.583333</td>\n",
       "      <td>264</td>\n",
       "      <td>22.549494</td>\n",
       "      <td>15.905321</td>\n",
       "      <td>0.708858</td>\n",
       "      <td>0.882943</td>\n",
       "      <td>0.661654</td>\n",
       "      <td>0.691838</td>\n",
       "      <td>mcmicro_output</td>\n",
       "    </tr>\n",
       "    <tr>\n",
       "      <th>mcmicro_output_4825</th>\n",
       "      <td>641.592486</td>\n",
       "      <td>1100.132948</td>\n",
       "      <td>346</td>\n",
       "      <td>23.149806</td>\n",
       "      <td>19.375564</td>\n",
       "      <td>0.547257</td>\n",
       "      <td>0.945355</td>\n",
       "      <td>0.791762</td>\n",
       "      <td>-1.390516</td>\n",
       "      <td>mcmicro_output</td>\n",
       "    </tr>\n",
       "  </tbody>\n",
       "</table>\n",
       "<p>4825 rows × 10 columns</p>\n",
       "</div>"
      ],
      "text/plain": [
       "                     X_centroid   Y_centroid  Area  MajorAxisLength  \\\n",
       "mcmicro_output_1     511.555556     9.846154   117        14.532270   \n",
       "mcmicro_output_2     579.330097     9.398058   103        16.056286   \n",
       "mcmicro_output_3     630.958333    12.883333   120        15.222005   \n",
       "mcmicro_output_4     745.194631    16.275168   149        14.380200   \n",
       "mcmicro_output_5     657.173653    18.035928   167        17.675831   \n",
       "...                         ...          ...   ...              ...   \n",
       "mcmicro_output_4821  559.597403  1091.577922   154        18.150307   \n",
       "mcmicro_output_4822  619.983871  1092.959677   248        21.734414   \n",
       "mcmicro_output_4823  583.317073  1093.573171    82        12.060039   \n",
       "mcmicro_output_4824  607.064394  1101.583333   264        22.549494   \n",
       "mcmicro_output_4825  641.592486  1100.132948   346        23.149806   \n",
       "\n",
       "                     MinorAxisLength  Eccentricity  Solidity    Extent  \\\n",
       "mcmicro_output_1           10.273628      0.707261  0.959016  0.750000   \n",
       "mcmicro_output_2            8.776323      0.837396  0.903509  0.613095   \n",
       "mcmicro_output_3           10.310756      0.735653  0.975610  0.681818   \n",
       "mcmicro_output_4           13.404759      0.362027  0.967532  0.662222   \n",
       "mcmicro_output_5           12.110106      0.728428  0.943503  0.695833   \n",
       "...                              ...           ...       ...       ...   \n",
       "mcmicro_output_4821        11.683288      0.765281  0.900585  0.570370   \n",
       "mcmicro_output_4822        15.565820      0.697912  0.864111  0.551111   \n",
       "mcmicro_output_4823         9.539789      0.611784  0.964706  0.630769   \n",
       "mcmicro_output_4824        15.905321      0.708858  0.882943  0.661654   \n",
       "mcmicro_output_4825        19.375564      0.547257  0.945355  0.791762   \n",
       "\n",
       "                     Orientation         imageid  \n",
       "mcmicro_output_1       -0.695369  mcmicro_output  \n",
       "mcmicro_output_2        1.115707  mcmicro_output  \n",
       "mcmicro_output_3        0.151616  mcmicro_output  \n",
       "mcmicro_output_4       -0.270451  mcmicro_output  \n",
       "mcmicro_output_5       -0.810890  mcmicro_output  \n",
       "...                          ...             ...  \n",
       "mcmicro_output_4821    -0.342315  mcmicro_output  \n",
       "mcmicro_output_4822     1.432242  mcmicro_output  \n",
       "mcmicro_output_4823     0.203023  mcmicro_output  \n",
       "mcmicro_output_4824     0.691838  mcmicro_output  \n",
       "mcmicro_output_4825    -1.390516  mcmicro_output  \n",
       "\n",
       "[4825 rows x 10 columns]"
      ]
     },
     "execution_count": 22,
     "metadata": {},
     "output_type": "execute_result"
    }
   ],
   "source": [
    "adata.obs # prints the meta data"
   ]
  },
  {
   "cell_type": "markdown",
   "metadata": {},
   "source": [
    "### We can use scanpy package to explore the data"
   ]
  },
  {
   "cell_type": "code",
   "execution_count": 23,
   "metadata": {},
   "outputs": [
    {
     "data": {
      "image/png": "[encoded data removed]",
      "text/plain": [
       "<Figure size 360x396 with 1 Axes>"
      ]
     },
     "metadata": {},
     "output_type": "display_data"
    }
   ],
   "source": [
    "sc.pl.highest_expr_genes(adata, n_top=20, ) # Most expressing proteins"
   ]
  },
  {
   "cell_type": "code",
   "execution_count": 30,
   "metadata": {},
   "outputs": [
    {
     "data": {
      "image/png": "[encoded data removed]",
      "text/plain": [
       "<Figure size 432x288 with 2 Axes>"
      ]
     },
     "metadata": {},
     "output_type": "display_data"
    }
   ],
   "source": [
    "sc.tl.pca(adata, svd_solver='arpack') # peform PCA\n",
    "sc.pl.pca(adata, color='KI67') # scatter plot in the PCA coordinates"
   ]
  },
  {
   "cell_type": "code",
   "execution_count": 25,
   "metadata": {},
   "outputs": [
    {
     "data": {
      "image/png": "[encoded data removed]",
      "text/plain": [
       "<Figure size 432x288 with 1 Axes>"
      ]
     },
     "metadata": {},
     "output_type": "display_data"
    }
   ],
   "source": [
    "sc.pl.pca_variance_ratio(adata) # PCs to the total variance in the data"
   ]
  },
  {
   "cell_type": "code",
   "execution_count": 26,
   "metadata": {},
   "outputs": [],
   "source": [
    "# Save the results\n",
    "adata.write('tutorial_data.h5ad')"
   ]
  },
  {
   "cell_type": "markdown",
   "metadata": {},
   "source": [
    "**This concludes the `getting started` tutorial, continue with the `phenotyping` tutorial.**"
   ]
  }
 ],
 "metadata": {
  "kernelspec": {
   "display_name": "Python 3",
   "language": "python",
   "name": "python3"
  },
  "language_info": {
   "codemirror_mode": {
    "name": "ipython",
    "version": 3
   },
   "file_extension": ".py",
   "mimetype": "text/x-python",
   "name": "python",
   "nbconvert_exporter": "python",
   "pygments_lexer": "ipython3",
   "version": "3.7.7"
  }
 },
 "nbformat": 4,
 "nbformat_minor": 4
}
