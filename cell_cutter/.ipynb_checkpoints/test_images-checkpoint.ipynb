{
 "cells": [
  {
   "cell_type": "code",
   "execution_count": 26,
   "id": "927c7206-2aab-4c7d-b3a5-1b31669f0b5f",
   "metadata": {},
   "outputs": [],
   "source": [
    "# load packages\n",
    "import zarr\n",
    "from matplotlib import pyplot as plt\n",
    "import anndata as ad\n",
    "import pandas as pd\n",
    "import scimap as sm\n",
    "import numpy as np\n",
    "import tifffile\n",
    "import cv2 as cv\n",
    "import time\n",
    "from IPython.display import display, clear_output"
   ]
  },
  {
   "cell_type": "code",
   "execution_count": 5,
   "id": "65e4f93b-7b29-4197-bd9d-cab1d86a44e9",
   "metadata": {},
   "outputs": [
    {
     "name": "stdout",
     "output_type": "stream",
     "text": [
      "Loading unmicst-3_756.csv\n"
     ]
    },
    {
     "data": {
      "text/plain": [
       "10"
      ]
     },
     "execution_count": 5,
     "metadata": {},
     "output_type": "execute_result"
    }
   ],
   "source": [
    "# F9 samples\n",
    "feature_table_path = \"//research.files.med.harvard.edu/ImStor/sorger/data/RareCyte/Connor/Z147_PCAc/3_756/mcmicro_10012020/quantification/unmicst-3_756.csv\"\n",
    "image_path = \"//research.files.med.harvard.edu/ImStor/sorger/data/RareCyte/Connor/Z147_PCAc/3_756/registration/3_756.ome.tif\"\n",
    "seg_path = \"//research.files.med.harvard.edu/ImStor/sorger/data/RareCyte/Connor/Z147_PCAc/3_756/mcmicro_10012020/segmentation/unmicst-3_756/cellRingMask.tif\"\n",
    "\n",
    "marker_of_interest = 'CD3D'\n",
    "\n",
    "# load data\n",
    "adata = sm.pp.mcmicro_to_scimap (feature_table_path, remove_string_from_name='_cellMask')\n",
    "\n",
    "# find channel number:\n",
    "channel_number = adata.uns['all_markers'].index(marker_of_interest)\n",
    "channel_number"
   ]
  },
  {
   "cell_type": "code",
   "execution_count": 6,
   "id": "b46af6b3-ede1-46a1-a02a-d69e87faf7d5",
   "metadata": {},
   "outputs": [
    {
     "name": "stdout",
     "output_type": "stream",
     "text": [
      "Loading Ton_378.csv\n"
     ]
    },
    {
     "data": {
      "text/plain": [
       "22"
      ]
     },
     "execution_count": 6,
     "metadata": {},
     "output_type": "execute_result"
    }
   ],
   "source": [
    "# tonsil sample\n",
    "feature_table_path = \"//research.files.med.harvard.edu/ImStor/sorger/data/RareCyte/ajit_johnson/Z121_AJ_Cycif_trial_run/Ton_378/quantification/Ton_378.csv\"\n",
    "image_path = \"//research.files.med.harvard.edu/ImStor/sorger/data/RareCyte/ajit_johnson/Z121_AJ_Cycif_trial_run/Ton_378/registration/Ton_378_wo_cycle9.ome.tif\"\n",
    "seg_path = \"//research.files.med.harvard.edu/ImStor/sorger/data/RareCyte/ajit_johnson/Z121_AJ_Cycif_trial_run/Ton_378/segmentation/Ton_378/cellOutlines.tif\"\n",
    "\n",
    "marker_of_interest = 'CD3D'\n",
    "\n",
    "# load data\n",
    "adata = sm.pp.mcmicro_to_scimap (feature_table_path)\n",
    "\n",
    "# find channel number:\n",
    "channel_number = adata.uns['all_markers'].index(marker_of_interest)\n",
    "channel_number"
   ]
  },
  {
   "cell_type": "code",
   "execution_count": 9,
   "id": "ffd16c09-c5f5-494f-8483-bbfcabcb7d76",
   "metadata": {},
   "outputs": [
    {
     "name": "stdout",
     "output_type": "stream",
     "text": [
      "Loading unmicst-1_750.csv\n"
     ]
    },
    {
     "data": {
      "text/plain": [
       "10"
      ]
     },
     "execution_count": 9,
     "metadata": {},
     "output_type": "execute_result"
    }
   ],
   "source": [
    "# F8 samples\n",
    "feature_table_path = \"//research.files.med.harvard.edu/ImStor/sorger/data/RareCyte/Connor/Z147_PCAc/1_750/mcmicro_10022020/unmicst1/quantification/unmicst-1_750.csv\"\n",
    "image_path = '//research.files.med.harvard.edu/ImStor/sorger/data/RareCyte/Connor/Z147_PCAc/1_750/registration/1_750_reformat.ome.tif'\n",
    "seg_path = \"//research.files.med.harvard.edu/ImStor/sorger/data/RareCyte/Connor/Z147_PCAc/1_750/mcmicro_10022020/unmicst1/segmentation/unmicst-1_750/cellRingMask_reformat.ome.tif\"\n",
    "\n",
    "marker_of_interest = 'CD3D'\n",
    "\n",
    "# load data\n",
    "adata = sm.pp.mcmicro_to_scimap (feature_table_path, remove_string_from_name='_cellRingMask')\n",
    "\n",
    "# find channel number:\n",
    "channel_number = adata.uns['all_markers'].index(marker_of_interest)\n",
    "channel_number"
   ]
  },
  {
   "cell_type": "code",
   "execution_count": 57,
   "id": "cf6ade2c-7979-445f-a759-317ddc5002e8",
   "metadata": {},
   "outputs": [],
   "source": [
    "# F8 PCA analysis dataset\n",
    "adata = ad.read(\"C:/Users/ajn16/Dropbox (Partners HealthCare)/Data/PCA/F8 image analysis/Z147_1_750.h5ad\")\n",
    "adata.obs = adata.obs[['X_centroid', 'Y_centroid', 'column_centroid', 'row_centroid', 'Area', 'MajorAxisLength', 'MinorAxisLength', 'Eccentricity', 'Solidity', 'Extent', 'Orientation', 'imageid','manuscript_roi','general_roi']]\n",
    "bdata = ad.read(\"C:/Users/ajn16/Dropbox (Partners HealthCare)/Data/PCA/F8 image analysis/combined_excluded_RJP.h5ad\")\n",
    "bdata.obs = bdata.obs[['X_centroid', 'Y_centroid', 'column_centroid', 'row_centroid', 'Area', 'MajorAxisLength', 'MinorAxisLength', 'Eccentricity', 'Solidity', 'Extent', 'Orientation', 'imageid', 'patient_ID', 'phenotype', 'batch', 'lda_consolidated', 'lda_consolidated_MC', 'stage_consolidated']]\n",
    "bdata = bdata[bdata.obs['imageid'] == 'unmicst-1_750']\n",
    "bdata_obs = bdata.obs[['patient_ID', 'phenotype', 'batch', 'lda_consolidated', 'lda_consolidated_MC', 'stage_consolidated']]\n",
    "bdata_obs = bdata_obs.reindex(adata.obs.index)\n",
    "adata.obs = pd.concat([adata.obs, bdata_obs], axis=1)"
   ]
  },
  {
   "cell_type": "code",
   "execution_count": 77,
   "id": "45172f28-8ac3-49d8-b316-d3d502dce851",
   "metadata": {},
   "outputs": [
    {
     "data": {
      "text/plain": [
       "AnnData object with n_obs × n_vars = 1110585 × 30\n",
       "    obs: 'X_centroid', 'Y_centroid', 'column_centroid', 'row_centroid', 'Area', 'MajorAxisLength', 'MinorAxisLength', 'Eccentricity', 'Solidity', 'Extent', 'Orientation', 'imageid', 'manuscript_roi', 'general_roi', 'patient_ID', 'phenotype', 'batch', 'lda_consolidated', 'lda_consolidated_MC', 'stage_consolidated'\n",
       "    uns: 'all_markers', \"dendrogram_['kmeans']\", \"dendrogram_['phenograph']\", \"dendrogram_['phenograph_raw']\", \"dendrogram_['phenograph_raw_minimal']\", \"dendrogram_['phenotype']\", \"dendrogram_['phenotype_2_tumor_kmeans']\", \"dendrogram_['phenotype_2_tumor_kmeans_scaled']\", \"dendrogram_['spatial_expression_consolidated']\", \"dendrogram_['spatial_expression_kmeans']\", \"dendrogram_['spatial_expression_phenograph']\", 'interaction_all', 'rank_genes_groups', 'spatial_count_radius', 'spatial_distance', 'spatial_expression_radius', 'spatial_interaction', 'spatial_interaction_1', 'spatial_interaction_motif_analysis'"
      ]
     },
     "execution_count": 77,
     "metadata": {},
     "output_type": "execute_result"
    }
   ],
   "source": [
    "adata"
   ]
  },
  {
   "cell_type": "code",
   "execution_count": 79,
   "id": "5834210d-ead8-43fc-9586-96fc40f2bdb1",
   "metadata": {},
   "outputs": [],
   "source": [
    "# write out the results\n",
    "adata.write(\"C:/Users/ajn16/Dropbox (Partners HealthCare)/Data/spatialpower/data/f8.h5ad\")"
   ]
  },
  {
   "cell_type": "code",
   "execution_count": null,
   "id": "f102988f-25c4-4af5-9085-9c8325f05e15",
   "metadata": {},
   "outputs": [],
   "source": []
  }
 ],
 "metadata": {
  "kernelspec": {
   "display_name": "Python 3 (ipykernel)",
   "language": "python",
   "name": "python3"
  },
  "language_info": {
   "codemirror_mode": {
    "name": "ipython",
    "version": 3
   },
   "file_extension": ".py",
   "mimetype": "text/x-python",
   "name": "python",
   "nbconvert_exporter": "python",
   "pygments_lexer": "ipython3",
   "version": "3.7.12"
  }
 },
 "nbformat": 4,
 "nbformat_minor": 5
}
