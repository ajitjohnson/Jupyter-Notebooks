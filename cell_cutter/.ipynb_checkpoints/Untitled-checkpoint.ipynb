{
 "cells": [
  {
   "cell_type": "code",
   "execution_count": 1,
   "id": "da59dcb6-3c1c-468b-9c59-a486ac822a21",
   "metadata": {},
   "outputs": [
    {
     "name": "stdout",
     "output_type": "stream",
     "text": [
      "If you are using Conda in Windows please install Shapely uisng the following command to use the Voronoi function\n",
      "\n",
      "conda install -c conda-forge shapely\n"
     ]
    }
   ],
   "source": [
    "# lib\n",
    "import scimap as sm\n",
    "import scanpy as sc"
   ]
  },
  {
   "cell_type": "code",
   "execution_count": 2,
   "id": "ab0e5ab3-5b80-4e2b-bd0f-6b2441117fff",
   "metadata": {},
   "outputs": [],
   "source": [
    "# load data\n",
    "adata = sc.read('C:/Users/ajn16/Dropbox (Partners HealthCare)/Data/PCA/F8 image analysis/Z147_1_750.h5ad')"
   ]
  },
  {
   "cell_type": "code",
   "execution_count": 4,
   "id": "2c1938b1-48d2-46c1-b5e9-68d7f28d36ff",
   "metadata": {},
   "outputs": [],
   "source": [
    "%gui qt"
   ]
  },
  {
   "cell_type": "code",
   "execution_count": 6,
   "id": "bcea1681-ba6f-44b8-928e-6f80f953b838",
   "metadata": {},
   "outputs": [
    {
     "name": "stdout",
     "output_type": "stream",
     "text": [
      "\n",
      "        Opening Napari;\n",
      "        Add shape layers (on left) to draw ROI's. \n",
      "        Rename the shape layer to give a name to your ROI\n",
      "        Multiple shape layers are supported\n",
      "        ROI's should not overlap\n",
      "        Close Napari to save ROI's.\n",
      "        \n"
     ]
    },
    {
     "ename": "TypeError",
     "evalue": "show() got an unexpected keyword argument 'block'",
     "output_type": "error",
     "traceback": [
      "\u001b[1;31m---------------------------------------------------------------------------\u001b[0m",
      "\u001b[1;31mTypeError\u001b[0m                                 Traceback (most recent call last)",
      "\u001b[1;32m~\\AppData\\Local\\Temp/ipykernel_332088/3375038829.py\u001b[0m in \u001b[0;36m<module>\u001b[1;34m\u001b[0m\n\u001b[0;32m      1\u001b[0m \u001b[1;31m# add rois\u001b[0m\u001b[1;33m\u001b[0m\u001b[1;33m\u001b[0m\u001b[1;33m\u001b[0m\u001b[0m\n\u001b[0;32m      2\u001b[0m \u001b[0mimage_path\u001b[0m \u001b[1;33m=\u001b[0m \u001b[1;34m'//research.files.med.harvard.edu/ImStor/sorger/data/RareCyte/Connor/Z147_PCAc/1_750/registration/1_750_reformat.ome.tif'\u001b[0m\u001b[1;33m\u001b[0m\u001b[1;33m\u001b[0m\u001b[0m\n\u001b[1;32m----> 3\u001b[1;33m \u001b[0madata\u001b[0m \u001b[1;33m=\u001b[0m \u001b[0msm\u001b[0m\u001b[1;33m.\u001b[0m\u001b[0mpl\u001b[0m\u001b[1;33m.\u001b[0m\u001b[0maddROI_image\u001b[0m \u001b[1;33m(\u001b[0m\u001b[0mimage_path\u001b[0m\u001b[1;33m,\u001b[0m \u001b[0madata\u001b[0m\u001b[1;33m,\u001b[0m \u001b[0mlabel\u001b[0m\u001b[1;33m=\u001b[0m\u001b[1;34m\"ROI\"\u001b[0m\u001b[1;33m)\u001b[0m\u001b[1;33m\u001b[0m\u001b[1;33m\u001b[0m\u001b[0m\n\u001b[0m",
      "\u001b[1;32m~\\.conda\\envs\\scimap\\lib\\site-packages\\scimap\\plotting\\_addROI_image.py\u001b[0m in \u001b[0;36maddROI_image\u001b[1;34m(image_path, adata, subset, imageid, overlay, flip_y, overlay_category, markers, channel_names, x_coordinate, y_coordinate, point_size, point_color, seg_mask, n_jobs, verbose, overwrite, label, **kwargs)\u001b[0m\n\u001b[0;32m    316\u001b[0m         \"\"\"\n\u001b[0;32m    317\u001b[0m     \u001b[0mprint\u001b[0m\u001b[1;33m(\u001b[0m\u001b[0ma\u001b[0m\u001b[1;33m)\u001b[0m\u001b[1;33m\u001b[0m\u001b[1;33m\u001b[0m\u001b[0m\n\u001b[1;32m--> 318\u001b[1;33m     \u001b[0mviewer\u001b[0m\u001b[1;33m.\u001b[0m\u001b[0mshow\u001b[0m\u001b[1;33m(\u001b[0m\u001b[0mblock\u001b[0m\u001b[1;33m=\u001b[0m\u001b[1;32mTrue\u001b[0m\u001b[1;33m)\u001b[0m\u001b[1;33m\u001b[0m\u001b[1;33m\u001b[0m\u001b[0m\n\u001b[0m\u001b[0;32m    319\u001b[0m \u001b[1;33m\u001b[0m\u001b[0m\n\u001b[0;32m    320\u001b[0m \u001b[1;33m\u001b[0m\u001b[0m\n",
      "\u001b[1;31mTypeError\u001b[0m: show() got an unexpected keyword argument 'block'"
     ]
    }
   ],
   "source": [
    "# add rois\n",
    "image_path = '//research.files.med.harvard.edu/ImStor/sorger/data/RareCyte/Connor/Z147_PCAc/1_750/registration/1_750_reformat.ome.tif'\n",
    "adata = sm.pl.addROI_image (image_path, adata, label=\"ROI\")"
   ]
  },
  {
   "cell_type": "code",
   "execution_count": null,
   "id": "5217a825-a4cf-4b00-876f-afff4c4e57fe",
   "metadata": {},
   "outputs": [],
   "source": []
  }
 ],
 "metadata": {
  "kernelspec": {
   "display_name": "Python 3 (ipykernel)",
   "language": "python",
   "name": "python3"
  },
  "language_info": {
   "codemirror_mode": {
    "name": "ipython",
    "version": 3
   },
   "file_extension": ".py",
   "mimetype": "text/x-python",
   "name": "python",
   "nbconvert_exporter": "python",
   "pygments_lexer": "ipython3",
   "version": "3.7.12"
  }
 },
 "nbformat": 4,
 "nbformat_minor": 5
}
