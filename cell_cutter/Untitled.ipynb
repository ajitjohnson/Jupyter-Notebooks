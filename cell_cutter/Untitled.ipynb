{
 "cells": [
  {
   "cell_type": "code",
   "execution_count": 14,
   "id": "da59dcb6-3c1c-468b-9c59-a486ac822a21",
   "metadata": {},
   "outputs": [],
   "source": [
    "# lib\n",
    "import scimap as sm\n",
    "import scanpy as sc"
   ]
  },
  {
   "cell_type": "code",
   "execution_count": 2,
   "id": "ab0e5ab3-5b80-4e2b-bd0f-6b2441117fff",
   "metadata": {},
   "outputs": [],
   "source": [
    "# load data\n",
    "adata = sc.read('C:/Users/ajn16/Dropbox (Partners HealthCare)/Data/PCA/F8 image analysis/Z147_1_750.h5ad')"
   ]
  },
  {
   "cell_type": "code",
   "execution_count": 16,
   "id": "2c1938b1-48d2-46c1-b5e9-68d7f28d36ff",
   "metadata": {},
   "outputs": [],
   "source": [
    "%gui qt5"
   ]
  },
  {
   "cell_type": "code",
   "execution_count": 19,
   "id": "bcea1681-ba6f-44b8-928e-6f80f953b838",
   "metadata": {},
   "outputs": [
    {
     "name": "stdout",
     "output_type": "stream",
     "text": [
      "\n",
      "        Opening Napari;\n",
      "        Add shape layers (on left) to draw ROI's. \n",
      "        Rename the shape layer to give a name to your ROI\n",
      "        Multiple shape layers are supported\n",
      "        ROI's should not overlap\n",
      "        Close Napari to save ROI's.\n",
      "        \n"
     ]
    },
    {
     "name": "stderr",
     "output_type": "stream",
     "text": [
      "C:\\Users\\ajn16\\.conda\\envs\\scimap_block\\lib\\site-packages\\numpy\\core\\numeric.py:2449: FutureWarning:\n",
      "\n",
      "elementwise comparison failed; returning scalar instead, but in the future will perform elementwise comparison\n",
      "\n"
     ]
    },
    {
     "ename": "ModuleNotFoundError",
     "evalue": "An error occured when importing Qt dependencies.  Cannot show napari window.  See cause above",
     "output_type": "error",
     "traceback": [
      "\u001b[1;31m---------------------------------------------------------------------------\u001b[0m",
      "\u001b[1;31mModuleNotFoundError\u001b[0m                       Traceback (most recent call last)",
      "File \u001b[1;32m~\\.conda\\envs\\scimap_block\\lib\\site-packages\\napari\\window.py:14\u001b[0m, in \u001b[0;36m<module>\u001b[1;34m\u001b[0m\n\u001b[0;32m     13\u001b[0m \u001b[38;5;28;01mtry\u001b[39;00m:\n\u001b[1;32m---> 14\u001b[0m     \u001b[38;5;28;01mfrom\u001b[39;00m \u001b[38;5;21;01m.\u001b[39;00m\u001b[38;5;21;01m_qt\u001b[39;00m \u001b[38;5;28;01mimport\u001b[39;00m Window\n\u001b[0;32m     16\u001b[0m \u001b[38;5;28;01mexcept\u001b[39;00m \u001b[38;5;167;01mImportError\u001b[39;00m \u001b[38;5;28;01mas\u001b[39;00m e:\n",
      "File \u001b[1;32m~\\.conda\\envs\\scimap_block\\lib\\site-packages\\napari\\_qt\\__init__.py:9\u001b[0m, in \u001b[0;36m<module>\u001b[1;34m\u001b[0m\n\u001b[0;32m      8\u001b[0m \u001b[38;5;28;01mtry\u001b[39;00m:\n\u001b[1;32m----> 9\u001b[0m     \u001b[38;5;28;01mfrom\u001b[39;00m \u001b[38;5;21;01mqtpy\u001b[39;00m \u001b[38;5;28;01mimport\u001b[39;00m API_NAME, QtCore\n\u001b[0;32m     10\u001b[0m \u001b[38;5;28;01mexcept\u001b[39;00m \u001b[38;5;167;01mException\u001b[39;00m \u001b[38;5;28;01mas\u001b[39;00m e:\n",
      "File \u001b[1;32m~\\.conda\\envs\\scimap_block\\lib\\site-packages\\qtpy\\QtCore.py:59\u001b[0m, in \u001b[0;36m<module>\u001b[1;34m\u001b[0m\n\u001b[0;32m     58\u001b[0m \u001b[38;5;28;01melif\u001b[39;00m PYQT5:\n\u001b[1;32m---> 59\u001b[0m     \u001b[38;5;28;01mfrom\u001b[39;00m \u001b[38;5;21;01mPyQt5\u001b[39;00m\u001b[38;5;21;01m.\u001b[39;00m\u001b[38;5;21;01mQtCore\u001b[39;00m \u001b[38;5;28;01mimport\u001b[39;00m \u001b[38;5;241m*\u001b[39m\n\u001b[0;32m     60\u001b[0m     \u001b[38;5;28;01mfrom\u001b[39;00m \u001b[38;5;21;01mPyQt5\u001b[39;00m\u001b[38;5;21;01m.\u001b[39;00m\u001b[38;5;21;01mQtCore\u001b[39;00m \u001b[38;5;28;01mimport\u001b[39;00m pyqtSignal \u001b[38;5;28;01mas\u001b[39;00m Signal\n",
      "\u001b[1;31mModuleNotFoundError\u001b[0m: No module named 'PyQt5'",
      "\nThe above exception was the direct cause of the following exception:\n",
      "\u001b[1;31mModuleNotFoundError\u001b[0m                       Traceback (most recent call last)",
      "Input \u001b[1;32mIn [19]\u001b[0m, in \u001b[0;36m<cell line: 3>\u001b[1;34m()\u001b[0m\n\u001b[0;32m      1\u001b[0m \u001b[38;5;66;03m# add rois\u001b[39;00m\n\u001b[0;32m      2\u001b[0m image_path \u001b[38;5;241m=\u001b[39m \u001b[38;5;124m'\u001b[39m\u001b[38;5;124m//research.files.med.harvard.edu/ImStor/sorger/data/RareCyte/Connor/Z147_PCAc/1_750/registration/1_750_reformat.ome.tif\u001b[39m\u001b[38;5;124m'\u001b[39m\n\u001b[1;32m----> 3\u001b[0m adata \u001b[38;5;241m=\u001b[39m \u001b[43msm\u001b[49m\u001b[38;5;241;43m.\u001b[39;49m\u001b[43mpl\u001b[49m\u001b[38;5;241;43m.\u001b[39;49m\u001b[43maddROI_image\u001b[49m\u001b[43m \u001b[49m\u001b[43m(\u001b[49m\u001b[43mimage_path\u001b[49m\u001b[43m,\u001b[49m\u001b[43m \u001b[49m\u001b[43madata\u001b[49m\u001b[43m,\u001b[49m\u001b[43m \u001b[49m\u001b[43mlabel\u001b[49m\u001b[38;5;241;43m=\u001b[39;49m\u001b[38;5;124;43m\"\u001b[39;49m\u001b[38;5;124;43mROI\u001b[39;49m\u001b[38;5;124;43m\"\u001b[39;49m\u001b[43m)\u001b[49m\n",
      "File \u001b[1;32m~\\.conda\\envs\\scimap_block\\lib\\site-packages\\scimap\\plotting\\_addROI_image.py:318\u001b[0m, in \u001b[0;36maddROI_image\u001b[1;34m(image_path, adata, subset, imageid, overlay, flip_y, overlay_category, markers, channel_names, x_coordinate, y_coordinate, point_size, point_color, seg_mask, n_jobs, verbose, overwrite, label, **kwargs)\u001b[0m\n\u001b[0;32m    309\u001b[0m a \u001b[38;5;241m=\u001b[39m \u001b[38;5;124m\"\"\"\u001b[39m\n\u001b[0;32m    310\u001b[0m \u001b[38;5;124m    Opening Napari;\u001b[39m\n\u001b[0;32m    311\u001b[0m \u001b[38;5;124m    Add shape layers (on left) to draw ROI\u001b[39m\u001b[38;5;124m'\u001b[39m\u001b[38;5;124ms. \u001b[39m\n\u001b[1;32m   (...)\u001b[0m\n\u001b[0;32m    315\u001b[0m \u001b[38;5;124m    Close Napari to save ROI\u001b[39m\u001b[38;5;124m'\u001b[39m\u001b[38;5;124ms.\u001b[39m\n\u001b[0;32m    316\u001b[0m \u001b[38;5;124m    \u001b[39m\u001b[38;5;124m\"\"\"\u001b[39m\n\u001b[0;32m    317\u001b[0m \u001b[38;5;28mprint\u001b[39m(a)\n\u001b[1;32m--> 318\u001b[0m \u001b[43mviewer\u001b[49m\u001b[38;5;241;43m.\u001b[39;49m\u001b[43mshow\u001b[49m\u001b[43m(\u001b[49m\u001b[43mblock\u001b[49m\u001b[38;5;241;43m=\u001b[39;49m\u001b[38;5;28;43;01mTrue\u001b[39;49;00m\u001b[43m)\u001b[49m    \n\u001b[0;32m    321\u001b[0m \u001b[38;5;66;03m# Find all the shape layers\u001b[39;00m\n\u001b[0;32m    322\u001b[0m my_shapes \u001b[38;5;241m=\u001b[39m [layer \u001b[38;5;28;01mfor\u001b[39;00m layer \u001b[38;5;129;01min\u001b[39;00m viewer\u001b[38;5;241m.\u001b[39mlayers \u001b[38;5;28;01mif\u001b[39;00m \u001b[38;5;28misinstance\u001b[39m(layer, Shapes)]\n",
      "File \u001b[1;32m~\\.conda\\envs\\scimap_block\\lib\\site-packages\\napari\\viewer.py:111\u001b[0m, in \u001b[0;36mViewer.show\u001b[1;34m(self, block)\u001b[0m\n\u001b[0;32m    109\u001b[0m \u001b[38;5;28;01mdef\u001b[39;00m \u001b[38;5;21mshow\u001b[39m(\u001b[38;5;28mself\u001b[39m, \u001b[38;5;241m*\u001b[39m, block\u001b[38;5;241m=\u001b[39m\u001b[38;5;28;01mFalse\u001b[39;00m):\n\u001b[0;32m    110\u001b[0m     \u001b[38;5;124;03m\"\"\"Resize, show, and raise the viewer window.\"\"\"\u001b[39;00m\n\u001b[1;32m--> 111\u001b[0m     \u001b[38;5;28;43mself\u001b[39;49m\u001b[38;5;241;43m.\u001b[39;49m\u001b[43mwindow\u001b[49m\u001b[38;5;241;43m.\u001b[39;49m\u001b[43mshow\u001b[49m(block\u001b[38;5;241m=\u001b[39mblock)\n",
      "File \u001b[1;32m~\\.conda\\envs\\scimap_block\\lib\\site-packages\\napari\\window.py:28\u001b[0m, in \u001b[0;36mWindow.__getattr__\u001b[1;34m(self, name)\u001b[0m\n\u001b[0;32m     27\u001b[0m \u001b[38;5;28;01mdef\u001b[39;00m \u001b[38;5;21m__getattr__\u001b[39m(\u001b[38;5;28mself\u001b[39m, name):\n\u001b[1;32m---> 28\u001b[0m     \u001b[38;5;28;01mraise\u001b[39;00m \u001b[38;5;28mtype\u001b[39m(err)(\n\u001b[0;32m     29\u001b[0m         trans\u001b[38;5;241m.\u001b[39m_(\n\u001b[0;32m     30\u001b[0m             \u001b[38;5;124m\"\u001b[39m\u001b[38;5;124mAn error occured when importing Qt dependencies.  Cannot show napari window.  See cause above\u001b[39m\u001b[38;5;124m\"\u001b[39m,\n\u001b[0;32m     31\u001b[0m         )\n\u001b[0;32m     32\u001b[0m     ) \u001b[38;5;28;01mfrom\u001b[39;00m \u001b[38;5;21;01merr\u001b[39;00m\n",
      "\u001b[1;31mModuleNotFoundError\u001b[0m: An error occured when importing Qt dependencies.  Cannot show napari window.  See cause above"
     ]
    }
   ],
   "source": [
    "# add rois\n",
    "image_path = '//research.files.med.harvard.edu/ImStor/sorger/data/RareCyte/Connor/Z147_PCAc/1_750/registration/1_750_reformat.ome.tif'\n",
    "adata = sm.pl.addROI_image (image_path, adata, label=\"ROI\")"
   ]
  },
  {
   "cell_type": "code",
   "execution_count": 11,
   "id": "5217a825-a4cf-4b00-876f-afff4c4e57fe",
   "metadata": {},
   "outputs": [
    {
     "data": {
      "text/plain": [
       "'3.5.2'"
      ]
     },
     "execution_count": 11,
     "metadata": {},
     "output_type": "execute_result"
    }
   ],
   "source": [
    "import pkg_resources\n",
    "pkg_resources.get_distribution('matplotlib').version"
   ]
  },
  {
   "cell_type": "code",
   "execution_count": null,
   "id": "203dc019-846e-4519-b173-dda149e5b49d",
   "metadata": {},
   "outputs": [],
   "source": []
  }
 ],
 "metadata": {
  "kernelspec": {
   "display_name": "Python 3 (ipykernel)",
   "language": "python",
   "name": "python3"
  },
  "language_info": {
   "codemirror_mode": {
    "name": "ipython",
    "version": 3
   },
   "file_extension": ".py",
   "mimetype": "text/x-python",
   "name": "python",
   "nbconvert_exporter": "python",
   "pygments_lexer": "ipython3",
   "version": "3.8.13"
  }
 },
 "nbformat": 4,
 "nbformat_minor": 5
}
