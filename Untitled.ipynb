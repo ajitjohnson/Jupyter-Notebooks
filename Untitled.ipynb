{
 "cells": [
  {
   "cell_type": "code",
   "execution_count": 1,
   "metadata": {},
   "outputs": [
    {
     "name": "stderr",
     "output_type": "stream",
     "text": [
      "c:\\users\\ajn16\\appdata\\local\\continuum\\anaconda3\\envs\\scimap\\lib\\site-packages\\napari\\__init__.py:44: UserWarning: \n",
      "    napari was tested with QT library `>=5.12.3`.\n",
      "    The version installed is 5.9.3. Please report any issues with this\n",
      "    specific QT version at https://github.com/Napari/napari/issues.\n",
      "    \n",
      "  warn(message=warn_message)\n",
      "c:\\users\\ajn16\\appdata\\local\\continuum\\anaconda3\\envs\\scimap\\lib\\site-packages\\napari\\__init__.py:44: UserWarning: \n",
      "    napari was tested with QT library `>=5.12.3`.\n",
      "    The version installed is 5.9.3. Please report any issues with this\n",
      "    specific QT version at https://github.com/Napari/napari/issues.\n",
      "    \n",
      "  warn(message=warn_message)\n"
     ]
    }
   ],
   "source": [
    "import scimap as sm\n",
    "import scanpy as sc\n",
    "import pandas as pd\n",
    "import numpy as np\n",
    "import os\n",
    "import seaborn as sns"
   ]
  },
  {
   "cell_type": "code",
   "execution_count": 2,
   "metadata": {},
   "outputs": [],
   "source": [
    "home = '/Users/aj/Dropbox (Partners HealthCare)/Data/PCA/F8 image analysis/'\n",
    "lsp = 'C:/Users/ajn16/Dropbox (Partners HealthCare)/Data/PCA/F8 image analysis/'"
   ]
  },
  {
   "cell_type": "code",
   "execution_count": 4,
   "metadata": {},
   "outputs": [],
   "source": [
    "adata = sc.read(str(lsp) + 'Z147_1_750.h5ad')"
   ]
  },
  {
   "cell_type": "code",
   "execution_count": 8,
   "metadata": {},
   "outputs": [
    {
     "ename": "NameError",
     "evalue": "name 'napari' is not defined",
     "output_type": "error",
     "traceback": [
      "\u001b[1;31m---------------------------------------------------------------------------\u001b[0m",
      "\u001b[1;31mNameError\u001b[0m                                 Traceback (most recent call last)",
      "\u001b[1;32m<ipython-input-8-ad928bfe1293>\u001b[0m in \u001b[0;36m<module>\u001b[1;34m\u001b[0m\n\u001b[0;32m      1\u001b[0m \u001b[0mimage_path\u001b[0m \u001b[1;33m=\u001b[0m \u001b[1;34m'//research.files.med.harvard.edu/ImStor/sorger/data/RareCyte/Connor/Z147_PCAc/1_750/registration/1_750.ome.tif'\u001b[0m\u001b[1;33m\u001b[0m\u001b[1;33m\u001b[0m\u001b[0m\n\u001b[0;32m      2\u001b[0m \u001b[1;33m\u001b[0m\u001b[0m\n\u001b[1;32m----> 3\u001b[1;33m \u001b[0msm\u001b[0m\u001b[1;33m.\u001b[0m\u001b[0mpl\u001b[0m\u001b[1;33m.\u001b[0m\u001b[0mimage_viewer\u001b[0m \u001b[1;33m(\u001b[0m\u001b[0mimage_path\u001b[0m\u001b[1;33m,\u001b[0m \u001b[0madata\u001b[0m\u001b[1;33m,\u001b[0m \u001b[0moverlay\u001b[0m \u001b[1;33m=\u001b[0m \u001b[1;34m'phenograph_raw'\u001b[0m\u001b[1;33m,\u001b[0m \u001b[0mpoint_color\u001b[0m\u001b[1;33m=\u001b[0m\u001b[1;34m'white'\u001b[0m\u001b[1;33m,\u001b[0m \u001b[0mpoint_size\u001b[0m\u001b[1;33m=\u001b[0m\u001b[1;36m6\u001b[0m\u001b[1;33m,\u001b[0m\u001b[0mmarkers\u001b[0m\u001b[1;33m=\u001b[0m\u001b[1;32mNone\u001b[0m\u001b[1;33m)\u001b[0m\u001b[1;33m\u001b[0m\u001b[1;33m\u001b[0m\u001b[0m\n\u001b[0m",
      "\u001b[1;32mc:\\users\\ajn16\\appdata\\local\\continuum\\anaconda3\\envs\\scimap\\lib\\site-packages\\scimap\\plotting\\_image_viewer.py\u001b[0m in \u001b[0;36mimage_viewer\u001b[1;34m(image_path, adata, overlay, overlay_category, markers, channel_names, x_coordinate, y_coordinate, point_size, point_color, subset, imageid, seg_mask, **kwargs)\u001b[0m\n\u001b[0;32m    129\u001b[0m \u001b[1;33m\u001b[0m\u001b[0m\n\u001b[0;32m    130\u001b[0m     \u001b[1;31m# Load the viewer\u001b[0m\u001b[1;33m\u001b[0m\u001b[1;33m\u001b[0m\u001b[1;33m\u001b[0m\u001b[0m\n\u001b[1;32m--> 131\u001b[1;33m     viewer = napari.view_image(\n\u001b[0m\u001b[0;32m    132\u001b[0m         \u001b[0mpyramid\u001b[0m\u001b[1;33m,\u001b[0m \u001b[0mmultiscale\u001b[0m\u001b[1;33m=\u001b[0m\u001b[0mmultiscale\u001b[0m\u001b[1;33m,\u001b[0m \u001b[0mchannel_axis\u001b[0m\u001b[1;33m=\u001b[0m\u001b[1;36m0\u001b[0m\u001b[1;33m,\u001b[0m\u001b[1;33m\u001b[0m\u001b[1;33m\u001b[0m\u001b[0m\n\u001b[0;32m    133\u001b[0m         \u001b[0mvisible\u001b[0m\u001b[1;33m=\u001b[0m\u001b[1;32mFalse\u001b[0m\u001b[1;33m,\u001b[0m\u001b[1;33m\u001b[0m\u001b[1;33m\u001b[0m\u001b[0m\n",
      "\u001b[1;31mNameError\u001b[0m: name 'napari' is not defined"
     ]
    }
   ],
   "source": [
    "image_path = '//research.files.med.harvard.edu/ImStor/sorger/data/RareCyte/Connor/Z147_PCAc/1_750/registration/1_750.ome.tif'\n",
    "\n",
    "sm.pl.image_viewer (image_path, adata, overlay = 'phenograph_raw', point_color='white', point_size=6,markers=None)\n"
   ]
  },
  {
   "cell_type": "code",
   "execution_count": 7,
   "metadata": {},
   "outputs": [
    {
     "name": "stdout",
     "output_type": "stream",
     "text": [
      "Requirement already satisfied: napari[pyside2]==0.3.8 in c:\\users\\ajn16\\appdata\\local\\continuum\\anaconda3\\envs\\scimap\\lib\\site-packages (0.3.8)\n",
      "Requirement already satisfied: IPython>=7.7.0 in c:\\users\\ajn16\\appdata\\local\\continuum\\anaconda3\\envs\\scimap\\lib\\site-packages (from napari[pyside2]==0.3.8) (7.19.0)\n",
      "Requirement already satisfied: napari-plugin-engine>=0.1.5 in c:\\users\\ajn16\\appdata\\local\\continuum\\anaconda3\\envs\\scimap\\lib\\site-packages (from napari[pyside2]==0.3.8) (0.1.8)\n",
      "Requirement already satisfied: PyYAML>=5.1 in c:\\users\\ajn16\\appdata\\local\\continuum\\anaconda3\\envs\\scimap\\lib\\site-packages (from napari[pyside2]==0.3.8) (5.3.1)\n",
      "Requirement already satisfied: napari-svg>=0.1.4 in c:\\users\\ajn16\\appdata\\local\\continuum\\anaconda3\\envs\\scimap\\lib\\site-packages (from napari[pyside2]==0.3.8) (0.1.4)\n",
      "Requirement already satisfied: cachey>=0.2.1 in c:\\users\\ajn16\\appdata\\local\\continuum\\anaconda3\\envs\\scimap\\lib\\site-packages (from napari[pyside2]==0.3.8) (0.2.1)\n",
      "Requirement already satisfied: ipykernel>=5.2.0 in c:\\users\\ajn16\\appdata\\local\\continuum\\anaconda3\\envs\\scimap\\lib\\site-packages (from napari[pyside2]==0.3.8) (5.3.4)\n",
      "Requirement already satisfied: wrapt>=1.11.1 in c:\\users\\ajn16\\appdata\\local\\continuum\\anaconda3\\envs\\scimap\\lib\\site-packages (from napari[pyside2]==0.3.8) (1.12.1)\n",
      "Requirement already satisfied: qtpy>=1.7.0 in c:\\users\\ajn16\\appdata\\local\\continuum\\anaconda3\\envs\\scimap\\lib\\site-packages (from napari[pyside2]==0.3.8) (1.9.0)\n",
      "Requirement already satisfied: psutil>=5.0 in c:\\users\\ajn16\\appdata\\local\\continuum\\anaconda3\\envs\\scimap\\lib\\site-packages (from napari[pyside2]==0.3.8) (5.7.3)\n",
      "Requirement already satisfied: scipy>=1.2.0 in c:\\users\\ajn16\\appdata\\local\\continuum\\anaconda3\\envs\\scimap\\lib\\site-packages (from napari[pyside2]==0.3.8) (1.5.4)\n",
      "Requirement already satisfied: dask[array]>=2.1.0 in c:\\users\\ajn16\\appdata\\local\\continuum\\anaconda3\\envs\\scimap\\lib\\site-packages (from napari[pyside2]==0.3.8) (2.30.0)\n",
      "Requirement already satisfied: Pillow!=7.1.0,!=7.1.1 in c:\\users\\ajn16\\appdata\\local\\continuum\\anaconda3\\envs\\scimap\\lib\\site-packages (from napari[pyside2]==0.3.8) (8.0.1)\n",
      "Requirement already satisfied: toolz>=0.10.0 in c:\\users\\ajn16\\appdata\\roaming\\python\\python37\\site-packages (from napari[pyside2]==0.3.8) (0.10.0)\n",
      "Requirement already satisfied: tifffile>=2020.2.16 in c:\\users\\ajn16\\appdata\\local\\continuum\\anaconda3\\envs\\scimap\\lib\\site-packages (from napari[pyside2]==0.3.8) (2020.11.18)\n",
      "Requirement already satisfied: numpy>=1.16.0 in c:\\users\\ajn16\\appdata\\local\\continuum\\anaconda3\\envs\\scimap\\lib\\site-packages (from napari[pyside2]==0.3.8) (1.19.4)\n",
      "Requirement already satisfied: qtconsole>=4.5.1 in c:\\users\\ajn16\\appdata\\local\\continuum\\anaconda3\\envs\\scimap\\lib\\site-packages (from napari[pyside2]==0.3.8) (4.7.7)\n",
      "Requirement already satisfied: appdirs>=1.4.4 in c:\\users\\ajn16\\appdata\\local\\continuum\\anaconda3\\envs\\scimap\\lib\\site-packages (from napari[pyside2]==0.3.8) (1.4.4)\n",
      "Requirement already satisfied: typing-extensions in c:\\users\\ajn16\\appdata\\local\\continuum\\anaconda3\\envs\\scimap\\lib\\site-packages (from napari[pyside2]==0.3.8) (3.7.4.3)\n",
      "Requirement already satisfied: importlib-metadata>=1.5.0; python_version < \"3.8\" in c:\\users\\ajn16\\appdata\\local\\continuum\\anaconda3\\envs\\scimap\\lib\\site-packages (from napari[pyside2]==0.3.8) (3.0.0)\n",
      "Requirement already satisfied: vispy>=0.6.4 in c:\\users\\ajn16\\appdata\\roaming\\python\\python37\\site-packages (from napari[pyside2]==0.3.8) (0.6.4)\n",
      "Requirement already satisfied: numpydoc>=0.9.2 in c:\\users\\ajn16\\appdata\\local\\continuum\\anaconda3\\envs\\scimap\\lib\\site-packages (from napari[pyside2]==0.3.8) (1.1.0)\n",
      "Requirement already satisfied: imageio>=2.5.0 in c:\\users\\ajn16\\appdata\\roaming\\python\\python37\\site-packages (from napari[pyside2]==0.3.8) (2.8.0)\n",
      "Requirement already satisfied: PyOpenGL>=3.1.0 in c:\\users\\ajn16\\appdata\\roaming\\python\\python37\\site-packages (from napari[pyside2]==0.3.8) (3.1.5)\n",
      "Requirement already satisfied: PySide2<5.15.0,>=5.12.3; extra == \"pyside2\" in c:\\users\\ajn16\\appdata\\roaming\\python\\python37\\site-packages (from napari[pyside2]==0.3.8) (5.14.2)\n",
      "Requirement already satisfied: pygments in c:\\users\\ajn16\\appdata\\local\\continuum\\anaconda3\\envs\\scimap\\lib\\site-packages (from IPython>=7.7.0->napari[pyside2]==0.3.8) (2.7.2)\n",
      "Requirement already satisfied: setuptools>=18.5 in c:\\users\\ajn16\\appdata\\local\\continuum\\anaconda3\\envs\\scimap\\lib\\site-packages (from IPython>=7.7.0->napari[pyside2]==0.3.8) (49.6.0.post20201009)\n",
      "Requirement already satisfied: traitlets>=4.2 in c:\\users\\ajn16\\appdata\\local\\continuum\\anaconda3\\envs\\scimap\\lib\\site-packages (from IPython>=7.7.0->napari[pyside2]==0.3.8) (5.0.5)\n",
      "Requirement already satisfied: pickleshare in c:\\users\\ajn16\\appdata\\local\\continuum\\anaconda3\\envs\\scimap\\lib\\site-packages (from IPython>=7.7.0->napari[pyside2]==0.3.8) (0.7.5)\n",
      "Requirement already satisfied: prompt-toolkit!=3.0.0,!=3.0.1,<3.1.0,>=2.0.0 in c:\\users\\ajn16\\appdata\\local\\continuum\\anaconda3\\envs\\scimap\\lib\\site-packages (from IPython>=7.7.0->napari[pyside2]==0.3.8) (3.0.8)\n",
      "Requirement already satisfied: colorama; sys_platform == \"win32\" in c:\\users\\ajn16\\appdata\\local\\continuum\\anaconda3\\envs\\scimap\\lib\\site-packages (from IPython>=7.7.0->napari[pyside2]==0.3.8) (0.4.4)\n",
      "Requirement already satisfied: jedi>=0.10 in c:\\users\\ajn16\\appdata\\local\\continuum\\anaconda3\\envs\\scimap\\lib\\site-packages (from IPython>=7.7.0->napari[pyside2]==0.3.8) (0.17.2)\n",
      "Requirement already satisfied: decorator in c:\\users\\ajn16\\appdata\\local\\continuum\\anaconda3\\envs\\scimap\\lib\\site-packages (from IPython>=7.7.0->napari[pyside2]==0.3.8) (4.4.2)\n",
      "Requirement already satisfied: backcall in c:\\users\\ajn16\\appdata\\local\\continuum\\anaconda3\\envs\\scimap\\lib\\site-packages (from IPython>=7.7.0->napari[pyside2]==0.3.8) (0.2.0)\n",
      "Requirement already satisfied: heapdict in c:\\users\\ajn16\\appdata\\local\\continuum\\anaconda3\\envs\\scimap\\lib\\site-packages (from cachey>=0.2.1->napari[pyside2]==0.3.8) (1.0.1)\n",
      "Requirement already satisfied: tornado>=4.2 in c:\\users\\ajn16\\appdata\\local\\continuum\\anaconda3\\envs\\scimap\\lib\\site-packages (from ipykernel>=5.2.0->napari[pyside2]==0.3.8) (6.1)\n",
      "Requirement already satisfied: jupyter-client in c:\\users\\ajn16\\appdata\\local\\continuum\\anaconda3\\envs\\scimap\\lib\\site-packages (from ipykernel>=5.2.0->napari[pyside2]==0.3.8) (6.1.7)\n",
      "Requirement already satisfied: jupyter-core in c:\\users\\ajn16\\appdata\\local\\continuum\\anaconda3\\envs\\scimap\\lib\\site-packages (from qtconsole>=4.5.1->napari[pyside2]==0.3.8) (4.7.0)\n",
      "Requirement already satisfied: ipython-genutils in c:\\users\\ajn16\\appdata\\local\\continuum\\anaconda3\\envs\\scimap\\lib\\site-packages (from qtconsole>=4.5.1->napari[pyside2]==0.3.8) (0.2.0)\n",
      "Requirement already satisfied: pyzmq>=17.1 in c:\\users\\ajn16\\appdata\\local\\continuum\\anaconda3\\envs\\scimap\\lib\\site-packages (from qtconsole>=4.5.1->napari[pyside2]==0.3.8) (20.0.0)\n",
      "Requirement already satisfied: zipp>=0.5 in c:\\users\\ajn16\\appdata\\local\\continuum\\anaconda3\\envs\\scimap\\lib\\site-packages (from importlib-metadata>=1.5.0; python_version < \"3.8\"->napari[pyside2]==0.3.8) (3.4.0)\n",
      "Requirement already satisfied: freetype-py in c:\\users\\ajn16\\appdata\\roaming\\python\\python37\\site-packages (from vispy>=0.6.4->napari[pyside2]==0.3.8) (2.1.0.post1)\n",
      "Requirement already satisfied: sphinx>=1.6.5 in c:\\users\\ajn16\\appdata\\local\\continuum\\anaconda3\\envs\\scimap\\lib\\site-packages (from numpydoc>=0.9.2->napari[pyside2]==0.3.8) (3.3.1)\n",
      "Requirement already satisfied: Jinja2>=2.3 in c:\\users\\ajn16\\appdata\\local\\continuum\\anaconda3\\envs\\scimap\\lib\\site-packages (from numpydoc>=0.9.2->napari[pyside2]==0.3.8) (2.11.2)\n",
      "Requirement already satisfied: shiboken2==5.14.2 in c:\\users\\ajn16\\appdata\\roaming\\python\\python37\\site-packages (from PySide2<5.15.0,>=5.12.3; extra == \"pyside2\"->napari[pyside2]==0.3.8) (5.14.2)\n",
      "Requirement already satisfied: wcwidth in c:\\users\\ajn16\\appdata\\local\\continuum\\anaconda3\\envs\\scimap\\lib\\site-packages (from prompt-toolkit!=3.0.0,!=3.0.1,<3.1.0,>=2.0.0->IPython>=7.7.0->napari[pyside2]==0.3.8) (0.2.5)\n",
      "Requirement already satisfied: parso<0.8.0,>=0.7.0 in c:\\users\\ajn16\\appdata\\local\\continuum\\anaconda3\\envs\\scimap\\lib\\site-packages (from jedi>=0.10->IPython>=7.7.0->napari[pyside2]==0.3.8) (0.7.1)\n",
      "Requirement already satisfied: python-dateutil>=2.1 in c:\\users\\ajn16\\appdata\\local\\continuum\\anaconda3\\envs\\scimap\\lib\\site-packages (from jupyter-client->ipykernel>=5.2.0->napari[pyside2]==0.3.8) (2.8.1)\n",
      "Requirement already satisfied: pywin32>=1.0; sys_platform == \"win32\" in c:\\users\\ajn16\\appdata\\local\\continuum\\anaconda3\\envs\\scimap\\lib\\site-packages (from jupyter-core->qtconsole>=4.5.1->napari[pyside2]==0.3.8) (300)\n",
      "Requirement already satisfied: sphinxcontrib-htmlhelp in c:\\users\\ajn16\\appdata\\local\\continuum\\anaconda3\\envs\\scimap\\lib\\site-packages (from sphinx>=1.6.5->numpydoc>=0.9.2->napari[pyside2]==0.3.8) (1.0.3)\n",
      "Requirement already satisfied: alabaster<0.8,>=0.7 in c:\\users\\ajn16\\appdata\\local\\continuum\\anaconda3\\envs\\scimap\\lib\\site-packages (from sphinx>=1.6.5->numpydoc>=0.9.2->napari[pyside2]==0.3.8) (0.7.12)\n",
      "Requirement already satisfied: sphinxcontrib-devhelp in c:\\users\\ajn16\\appdata\\local\\continuum\\anaconda3\\envs\\scimap\\lib\\site-packages (from sphinx>=1.6.5->numpydoc>=0.9.2->napari[pyside2]==0.3.8) (1.0.2)\n",
      "Requirement already satisfied: sphinxcontrib-jsmath in c:\\users\\ajn16\\appdata\\local\\continuum\\anaconda3\\envs\\scimap\\lib\\site-packages (from sphinx>=1.6.5->numpydoc>=0.9.2->napari[pyside2]==0.3.8) (1.0.1)\n",
      "Requirement already satisfied: imagesize in c:\\users\\ajn16\\appdata\\local\\continuum\\anaconda3\\envs\\scimap\\lib\\site-packages (from sphinx>=1.6.5->numpydoc>=0.9.2->napari[pyside2]==0.3.8) (1.2.0)\n",
      "Requirement already satisfied: requests>=2.5.0 in c:\\users\\ajn16\\appdata\\local\\continuum\\anaconda3\\envs\\scimap\\lib\\site-packages (from sphinx>=1.6.5->numpydoc>=0.9.2->napari[pyside2]==0.3.8) (2.25.0)\n",
      "Requirement already satisfied: packaging in c:\\users\\ajn16\\appdata\\local\\continuum\\anaconda3\\envs\\scimap\\lib\\site-packages (from sphinx>=1.6.5->numpydoc>=0.9.2->napari[pyside2]==0.3.8) (20.4)\n",
      "Requirement already satisfied: sphinxcontrib-serializinghtml in c:\\users\\ajn16\\appdata\\local\\continuum\\anaconda3\\envs\\scimap\\lib\\site-packages (from sphinx>=1.6.5->numpydoc>=0.9.2->napari[pyside2]==0.3.8) (1.1.4)\n",
      "Requirement already satisfied: babel>=1.3 in c:\\users\\ajn16\\appdata\\local\\continuum\\anaconda3\\envs\\scimap\\lib\\site-packages (from sphinx>=1.6.5->numpydoc>=0.9.2->napari[pyside2]==0.3.8) (2.9.0)\n",
      "Requirement already satisfied: docutils>=0.12 in c:\\users\\ajn16\\appdata\\local\\continuum\\anaconda3\\envs\\scimap\\lib\\site-packages (from sphinx>=1.6.5->numpydoc>=0.9.2->napari[pyside2]==0.3.8) (0.16)\n",
      "Requirement already satisfied: sphinxcontrib-qthelp in c:\\users\\ajn16\\appdata\\local\\continuum\\anaconda3\\envs\\scimap\\lib\\site-packages (from sphinx>=1.6.5->numpydoc>=0.9.2->napari[pyside2]==0.3.8) (1.0.3)\n",
      "Requirement already satisfied: sphinxcontrib-applehelp in c:\\users\\ajn16\\appdata\\local\\continuum\\anaconda3\\envs\\scimap\\lib\\site-packages (from sphinx>=1.6.5->numpydoc>=0.9.2->napari[pyside2]==0.3.8) (1.0.2)\n",
      "Requirement already satisfied: snowballstemmer>=1.1 in c:\\users\\ajn16\\appdata\\local\\continuum\\anaconda3\\envs\\scimap\\lib\\site-packages (from sphinx>=1.6.5->numpydoc>=0.9.2->napari[pyside2]==0.3.8) (2.0.0)\n",
      "Requirement already satisfied: MarkupSafe>=0.23 in c:\\users\\ajn16\\appdata\\local\\continuum\\anaconda3\\envs\\scimap\\lib\\site-packages (from Jinja2>=2.3->numpydoc>=0.9.2->napari[pyside2]==0.3.8) (1.1.1)\n",
      "Requirement already satisfied: six>=1.5 in c:\\users\\ajn16\\appdata\\local\\continuum\\anaconda3\\envs\\scimap\\lib\\site-packages (from python-dateutil>=2.1->jupyter-client->ipykernel>=5.2.0->napari[pyside2]==0.3.8) (1.15.0)\n",
      "Requirement already satisfied: certifi>=2017.4.17 in c:\\users\\ajn16\\appdata\\local\\continuum\\anaconda3\\envs\\scimap\\lib\\site-packages (from requests>=2.5.0->sphinx>=1.6.5->numpydoc>=0.9.2->napari[pyside2]==0.3.8) (2020.11.8)\n",
      "Requirement already satisfied: idna<3,>=2.5 in c:\\users\\ajn16\\appdata\\local\\continuum\\anaconda3\\envs\\scimap\\lib\\site-packages (from requests>=2.5.0->sphinx>=1.6.5->numpydoc>=0.9.2->napari[pyside2]==0.3.8) (2.10)\n",
      "Requirement already satisfied: urllib3<1.27,>=1.21.1 in c:\\users\\ajn16\\appdata\\local\\continuum\\anaconda3\\envs\\scimap\\lib\\site-packages (from requests>=2.5.0->sphinx>=1.6.5->numpydoc>=0.9.2->napari[pyside2]==0.3.8) (1.26.2)\n",
      "Requirement already satisfied: chardet<4,>=3.0.2 in c:\\users\\ajn16\\appdata\\local\\continuum\\anaconda3\\envs\\scimap\\lib\\site-packages (from requests>=2.5.0->sphinx>=1.6.5->numpydoc>=0.9.2->napari[pyside2]==0.3.8) (3.0.4)\n",
      "Requirement already satisfied: pyparsing>=2.0.2 in c:\\users\\ajn16\\appdata\\local\\continuum\\anaconda3\\envs\\scimap\\lib\\site-packages (from packaging->sphinx>=1.6.5->numpydoc>=0.9.2->napari[pyside2]==0.3.8) (2.4.7)\n",
      "Requirement already satisfied: pytz>=2015.7 in c:\\users\\ajn16\\appdata\\local\\continuum\\anaconda3\\envs\\scimap\\lib\\site-packages (from babel>=1.3->sphinx>=1.6.5->numpydoc>=0.9.2->napari[pyside2]==0.3.8) (2020.4)\n"
     ]
    }
   ],
   "source": [
    "!pip install \"napari[pyside2]==0.3.8\""
   ]
  },
  {
   "cell_type": "code",
   "execution_count": 1,
   "metadata": {},
   "outputs": [
    {
     "name": "stderr",
     "output_type": "stream",
     "text": [
      "c:\\users\\ajn16\\.conda\\envs\\scimap\\lib\\site-packages\\napari\\__init__.py:44: UserWarning: \n",
      "    napari was tested with QT library `>=5.12.3`.\n",
      "    The version installed is 5.9.3. Please report any issues with this\n",
      "    specific QT version at https://github.com/Napari/napari/issues.\n",
      "    \n",
      "  warn(message=warn_message)\n"
     ]
    },
    {
     "ename": "FileNotFoundError",
     "evalue": "Unable to find an executable to build Qt resources (icons).\nTried: 'pyrcc5.bat', 'pyrcc5', 'pyside2-rcc'.\nPlease open issue at https://github.com/napari/napari/issues/.",
     "output_type": "error",
     "traceback": [
      "\u001b[1;31m---------------------------------------------------------------------------\u001b[0m",
      "\u001b[1;31mFileNotFoundError\u001b[0m                         Traceback (most recent call last)",
      "\u001b[1;32m<ipython-input-1-1e1049a33073>\u001b[0m in \u001b[0;36m<module>\u001b[1;34m\u001b[0m\n\u001b[1;32m----> 1\u001b[1;33m \u001b[1;32mimport\u001b[0m \u001b[0mnapari\u001b[0m\u001b[1;33m\u001b[0m\u001b[1;33m\u001b[0m\u001b[0m\n\u001b[0m",
      "\u001b[1;32mc:\\users\\ajn16\\.conda\\envs\\scimap\\lib\\site-packages\\napari\\__init__.py\u001b[0m in \u001b[0;36m<module>\u001b[1;34m\u001b[0m\n\u001b[0;32m     58\u001b[0m \u001b[1;31m# decorated with keybindings during that process, but it is not directly needed\u001b[0m\u001b[1;33m\u001b[0m\u001b[1;33m\u001b[0m\u001b[1;33m\u001b[0m\u001b[0m\n\u001b[0;32m     59\u001b[0m \u001b[1;31m# by our users and so is deleted below\u001b[0m\u001b[1;33m\u001b[0m\u001b[1;33m\u001b[0m\u001b[1;33m\u001b[0m\u001b[0m\n\u001b[1;32m---> 60\u001b[1;33m \u001b[1;32mfrom\u001b[0m \u001b[1;33m.\u001b[0m \u001b[1;32mimport\u001b[0m \u001b[0m_viewer_key_bindings\u001b[0m  \u001b[1;31m# noqa: F401\u001b[0m\u001b[1;33m\u001b[0m\u001b[1;33m\u001b[0m\u001b[0m\n\u001b[0m\u001b[0;32m     61\u001b[0m \u001b[1;32mfrom\u001b[0m \u001b[1;33m.\u001b[0m\u001b[0m_qt\u001b[0m \u001b[1;32mimport\u001b[0m \u001b[0mgui_qt\u001b[0m\u001b[1;33m\u001b[0m\u001b[1;33m\u001b[0m\u001b[0m\n\u001b[0;32m     62\u001b[0m \u001b[1;32mfrom\u001b[0m \u001b[1;33m.\u001b[0m\u001b[0mplugins\u001b[0m\u001b[1;33m.\u001b[0m\u001b[0mio\u001b[0m \u001b[1;32mimport\u001b[0m \u001b[0msave_layers\u001b[0m\u001b[1;33m\u001b[0m\u001b[1;33m\u001b[0m\u001b[0m\n",
      "\u001b[1;32mc:\\users\\ajn16\\.conda\\envs\\scimap\\lib\\site-packages\\napari\\_viewer_key_bindings.py\u001b[0m in \u001b[0;36m<module>\u001b[1;34m\u001b[0m\n\u001b[0;32m      1\u001b[0m \u001b[1;32mimport\u001b[0m \u001b[0mnumpy\u001b[0m \u001b[1;32mas\u001b[0m \u001b[0mnp\u001b[0m\u001b[1;33m\u001b[0m\u001b[1;33m\u001b[0m\u001b[0m\n\u001b[0;32m      2\u001b[0m \u001b[1;33m\u001b[0m\u001b[0m\n\u001b[1;32m----> 3\u001b[1;33m \u001b[1;32mfrom\u001b[0m \u001b[1;33m.\u001b[0m\u001b[0mviewer\u001b[0m \u001b[1;32mimport\u001b[0m \u001b[0mViewer\u001b[0m\u001b[1;33m\u001b[0m\u001b[1;33m\u001b[0m\u001b[0m\n\u001b[0m\u001b[0;32m      4\u001b[0m \u001b[1;33m\u001b[0m\u001b[0m\n\u001b[0;32m      5\u001b[0m \u001b[1;33m\u001b[0m\u001b[0m\n",
      "\u001b[1;32mc:\\users\\ajn16\\.conda\\envs\\scimap\\lib\\site-packages\\napari\\viewer.py\u001b[0m in \u001b[0;36m<module>\u001b[1;34m\u001b[0m\n\u001b[0;32m      7\u001b[0m \u001b[1;33m\u001b[0m\u001b[0m\n\u001b[0;32m      8\u001b[0m \u001b[1;32mfrom\u001b[0m \u001b[1;33m.\u001b[0m \u001b[1;32mimport\u001b[0m \u001b[0m__version__\u001b[0m\u001b[1;33m\u001b[0m\u001b[1;33m\u001b[0m\u001b[0m\n\u001b[1;32m----> 9\u001b[1;33m \u001b[1;32mfrom\u001b[0m \u001b[1;33m.\u001b[0m\u001b[0m_qt\u001b[0m\u001b[1;33m.\u001b[0m\u001b[0mqt_main_window\u001b[0m \u001b[1;32mimport\u001b[0m \u001b[0mWindow\u001b[0m\u001b[1;33m\u001b[0m\u001b[1;33m\u001b[0m\u001b[0m\n\u001b[0m\u001b[0;32m     10\u001b[0m \u001b[1;32mfrom\u001b[0m \u001b[1;33m.\u001b[0m\u001b[0m_qt\u001b[0m\u001b[1;33m.\u001b[0m\u001b[0mqt_viewer\u001b[0m \u001b[1;32mimport\u001b[0m \u001b[0mQtViewer\u001b[0m\u001b[1;33m\u001b[0m\u001b[1;33m\u001b[0m\u001b[0m\n\u001b[0;32m     11\u001b[0m \u001b[1;32mfrom\u001b[0m \u001b[1;33m.\u001b[0m\u001b[0m_qt\u001b[0m\u001b[1;33m.\u001b[0m\u001b[0mqthreading\u001b[0m \u001b[1;32mimport\u001b[0m \u001b[0mcreate_worker\u001b[0m\u001b[1;33m,\u001b[0m \u001b[0mwait_for_workers_to_quit\u001b[0m\u001b[1;33m\u001b[0m\u001b[1;33m\u001b[0m\u001b[0m\n",
      "\u001b[1;32mc:\\users\\ajn16\\.conda\\envs\\scimap\\lib\\site-packages\\napari\\_qt\\__init__.py\u001b[0m in \u001b[0;36m<module>\u001b[1;34m\u001b[0m\n\u001b[0;32m      3\u001b[0m \u001b[1;32mfrom\u001b[0m \u001b[1;33m.\u001b[0m\u001b[0mwidgets\u001b[0m\u001b[1;33m.\u001b[0m\u001b[0mqt_range_slider\u001b[0m \u001b[1;32mimport\u001b[0m \u001b[0mQHRangeSlider\u001b[0m\u001b[1;33m,\u001b[0m \u001b[0mQVRangeSlider\u001b[0m\u001b[1;33m\u001b[0m\u001b[1;33m\u001b[0m\u001b[0m\n\u001b[0;32m      4\u001b[0m \u001b[1;33m\u001b[0m\u001b[0m\n\u001b[1;32m----> 5\u001b[1;33m \u001b[0mimport_resources\u001b[0m\u001b[1;33m(\u001b[0m\u001b[1;33m)\u001b[0m\u001b[1;33m\u001b[0m\u001b[1;33m\u001b[0m\u001b[0m\n\u001b[0m",
      "\u001b[1;32mc:\\users\\ajn16\\.conda\\envs\\scimap\\lib\\site-packages\\napari\\resources\\__init__.py\u001b[0m in \u001b[0;36mimport_resources\u001b[1;34m(version, overwrite)\u001b[0m\n\u001b[0;32m    117\u001b[0m     \u001b[1;31m# regenerated.\u001b[0m\u001b[1;33m\u001b[0m\u001b[1;33m\u001b[0m\u001b[1;33m\u001b[0m\u001b[0m\n\u001b[0;32m    118\u001b[0m     \u001b[0moverwrite\u001b[0m \u001b[1;33m=\u001b[0m \u001b[0moverwrite\u001b[0m \u001b[1;32mor\u001b[0m \u001b[0mbool\u001b[0m\u001b[1;33m(\u001b[0m\u001b[0menviron\u001b[0m\u001b[1;33m.\u001b[0m\u001b[0mget\u001b[0m\u001b[1;33m(\u001b[0m\u001b[1;34m'NAPARI_REBUILD_RESOURCES'\u001b[0m\u001b[1;33m)\u001b[0m\u001b[1;33m)\u001b[0m\u001b[1;33m\u001b[0m\u001b[1;33m\u001b[0m\u001b[0m\n\u001b[1;32m--> 119\u001b[1;33m     \u001b[0mrespath\u001b[0m \u001b[1;33m=\u001b[0m \u001b[0mbuild_pyqt_resources\u001b[0m\u001b[1;33m(\u001b[0m\u001b[0mfspath\u001b[0m\u001b[1;33m(\u001b[0m\u001b[0mtarget_file\u001b[0m\u001b[1;33m)\u001b[0m\u001b[1;33m,\u001b[0m \u001b[0moverwrite\u001b[0m\u001b[1;33m=\u001b[0m\u001b[0moverwrite\u001b[0m\u001b[1;33m)\u001b[0m\u001b[1;33m\u001b[0m\u001b[1;33m\u001b[0m\u001b[0m\n\u001b[0m\u001b[0;32m    120\u001b[0m \u001b[1;33m\u001b[0m\u001b[0m\n\u001b[0;32m    121\u001b[0m     \u001b[1;31m# import the python resources file and add to sys.modules\u001b[0m\u001b[1;33m\u001b[0m\u001b[1;33m\u001b[0m\u001b[1;33m\u001b[0m\u001b[0m\n",
      "\u001b[1;32mc:\\users\\ajn16\\.conda\\envs\\scimap\\lib\\site-packages\\napari\\resources\\build_icons.py\u001b[0m in \u001b[0;36mbuild_pyqt_resources\u001b[1;34m(out_path, overwrite)\u001b[0m\n\u001b[0;32m    216\u001b[0m     \u001b[1;31m#     3.7.4/envs/napari-pyqt5\u001b[0m\u001b[1;33m\u001b[0m\u001b[1;33m\u001b[0m\u001b[1;33m\u001b[0m\u001b[0m\n\u001b[0;32m    217\u001b[0m     \u001b[1;31m#     napari-pyqt5\u001b[0m\u001b[1;33m\u001b[0m\u001b[1;33m\u001b[0m\u001b[1;33m\u001b[0m\u001b[0m\n\u001b[1;32m--> 218\u001b[1;33m     \u001b[1;32mfor\u001b[0m \u001b[0mname\u001b[0m \u001b[1;32min\u001b[0m \u001b[0m_find_rcc_or_raise\u001b[0m\u001b[1;33m(\u001b[0m\u001b[1;33m)\u001b[0m\u001b[1;33m:\u001b[0m\u001b[1;33m\u001b[0m\u001b[1;33m\u001b[0m\u001b[0m\n\u001b[0m\u001b[0;32m    219\u001b[0m         \u001b[1;32mtry\u001b[0m\u001b[1;33m:\u001b[0m\u001b[1;33m\u001b[0m\u001b[1;33m\u001b[0m\u001b[0m\n\u001b[0;32m    220\u001b[0m             \u001b[0mcheck_call\u001b[0m\u001b[1;33m(\u001b[0m\u001b[1;33m[\u001b[0m\u001b[0mname\u001b[0m\u001b[1;33m,\u001b[0m \u001b[1;34m'-o'\u001b[0m\u001b[1;33m,\u001b[0m \u001b[0mout_path\u001b[0m\u001b[1;33m,\u001b[0m \u001b[0mqrc_path\u001b[0m\u001b[1;33m]\u001b[0m\u001b[1;33m)\u001b[0m\u001b[1;33m\u001b[0m\u001b[1;33m\u001b[0m\u001b[0m\n",
      "\u001b[1;32mc:\\users\\ajn16\\.conda\\envs\\scimap\\lib\\site-packages\\napari\\resources\\build_icons.py\u001b[0m in \u001b[0;36m_find_rcc_or_raise\u001b[1;34m()\u001b[0m\n\u001b[0;32m    168\u001b[0m             \u001b[1;32myield\u001b[0m \u001b[0mrcc_binary\u001b[0m\u001b[1;33m\u001b[0m\u001b[1;33m\u001b[0m\u001b[0m\n\u001b[0;32m    169\u001b[0m     raise FileNotFoundError(\n\u001b[1;32m--> 170\u001b[1;33m         \u001b[1;34m\"Unable to find an executable to build Qt resources (icons).\\n\"\u001b[0m\u001b[1;33m\u001b[0m\u001b[1;33m\u001b[0m\u001b[0m\n\u001b[0m\u001b[0;32m    171\u001b[0m         \u001b[1;34m\"Tried: 'pyrcc5.bat', 'pyrcc5', 'pyside2-rcc'.\\n\"\u001b[0m\u001b[1;33m\u001b[0m\u001b[1;33m\u001b[0m\u001b[0m\n\u001b[0;32m    172\u001b[0m         \u001b[1;34m\"Please open issue at https://github.com/napari/napari/issues/.\"\u001b[0m\u001b[1;33m\u001b[0m\u001b[1;33m\u001b[0m\u001b[0m\n",
      "\u001b[1;31mFileNotFoundError\u001b[0m: Unable to find an executable to build Qt resources (icons).\nTried: 'pyrcc5.bat', 'pyrcc5', 'pyside2-rcc'.\nPlease open issue at https://github.com/napari/napari/issues/."
     ]
    }
   ],
   "source": [
    "import napari"
   ]
  },
  {
   "cell_type": "code",
   "execution_count": 10,
   "metadata": {},
   "outputs": [
    {
     "data": {
      "text/plain": [
       "AnnData object with n_obs × n_vars = 1110585 × 30\n",
       "    obs: 'X_centroid', 'Y_centroid', 'column_centroid', 'row_centroid', 'Area', 'MajorAxisLength', 'MinorAxisLength', 'Eccentricity', 'Solidity', 'Extent', 'Orientation', 'imageid', 'phenotype', 'kmeans', 'kmeans_renamed', 'pickseq_roi', 'pickseq_roi_minimal', 'dermis_roi', 'epidermis_roi', 'general_roi', 'Kmeans_r', 'der_epider_roi', 'phenotype_proliferation', 'phenograph', 'spatial_expression_phenograph', 'spatial_expression_kmeans', 'phenograph_raw'\n",
       "    uns: 'all_markers', \"dendrogram_['kmeans']\", \"dendrogram_['phenograph']\", \"dendrogram_['phenograph_raw']\", \"dendrogram_['phenotype']\", \"dendrogram_['spatial_expression_kmeans']\", \"dendrogram_['spatial_expression_phenograph']\", 'rank_genes_groups', 'spatial_count_radius', 'spatial_distance', 'spatial_expression_radius', 'spatial_interaction'"
      ]
     },
     "execution_count": 10,
     "metadata": {},
     "output_type": "execute_result"
    }
   ],
   "source": [
    "adata"
   ]
  },
  {
   "cell_type": "code",
   "execution_count": null,
   "metadata": {},
   "outputs": [],
   "source": []
  }
 ],
 "metadata": {
  "kernelspec": {
   "display_name": "Python 3",
   "language": "python",
   "name": "python3"
  },
  "language_info": {
   "codemirror_mode": {
    "name": "ipython",
    "version": 3
   },
   "file_extension": ".py",
   "mimetype": "text/x-python",
   "name": "python",
   "nbconvert_exporter": "python",
   "pygments_lexer": "ipython3",
   "version": "3.7.8"
  }
 },
 "nbformat": 4,
 "nbformat_minor": 4
}
