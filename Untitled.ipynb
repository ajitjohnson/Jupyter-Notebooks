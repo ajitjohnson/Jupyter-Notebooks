{
 "cells": [
  {
   "cell_type": "code",
   "execution_count": 1,
   "metadata": {},
   "outputs": [],
   "source": [
    "import numpy as np\n",
    "import plotly.graph_objs as go\n",
    "import ipywidgets as widgets\n",
    "from plotly.colors import DEFAULT_PLOTLY_COLORS"
   ]
  },
  {
   "cell_type": "code",
   "execution_count": 2,
   "metadata": {},
   "outputs": [],
   "source": [
    "x = np.linspace(0,6,100)\n",
    "y = np.sin(x)"
   ]
  },
  {
   "cell_type": "code",
   "execution_count": 3,
   "metadata": {},
   "outputs": [],
   "source": [
    "data = [go.Scattergl(x=x, y=y, mode='markers', name = 'All nodes',\n",
    "                     selected=dict(marker=dict(color=DEFAULT_PLOTLY_COLORS[1])))]\n",
    "\n",
    "layout = dict(title=dict(text = 'plot1'), dragmode='lasso')\n",
    "fig = go.FigureWidget(data=data, layout= layout)"
   ]
  },
  {
   "cell_type": "code",
   "execution_count": 80,
   "metadata": {},
   "outputs": [],
   "source": [
    "def selection_fn(trace, points, selector):\n",
    "    fig.data[0].selectedpoints = None\n",
    "    fig.data[0].selectedpoints = []\n",
    "    print(points)"
   ]
  },
  {
   "cell_type": "code",
   "execution_count": 81,
   "metadata": {},
   "outputs": [
    {
     "data": {
      "application/vnd.jupyter.widget-view+json": {
       "model_id": "ed59c7e3a41c44b6b3331a5af42d9afe",
       "version_major": 2,
       "version_minor": 0
      },
      "text/plain": [
       "HBox(children=(FigureWidget({\n",
       "    'data': [{'mode': 'markers',\n",
       "              'name': 'All nodes',\n",
       "            …"
      ]
     },
     "metadata": {},
     "output_type": "display_data"
    },
    {
     "name": "stdout",
     "output_type": "stream",
     "text": [
      "Points(point_inds=[44, 45, 46, 47, 48, 49, 50],\n",
      "       xs=[2.666666666666667, 2.7272727272727275, 2.787878787878788,\n",
      "           2.8484848484848486, 2.909090909090909, 2.9696969696969697,\n",
      "           3.0303030303030303],\n",
      "       ys=[0.4572726266358116, 0.40256749066949615, 0.34638413878625507,\n",
      "           0.2889288745921792, 0.2304126721177387, 0.1710504011273846,\n",
      "           0.11106003812412972],\n",
      "       trace_name='All nodes',\n",
      "       trace_index=0)\n"
     ]
    }
   ],
   "source": [
    "fig.data[0].on_selection(selection_fn)\n",
    "display(widgets.HBox([fig]))"
   ]
  },
  {
   "cell_type": "code",
   "execution_count": null,
   "metadata": {},
   "outputs": [],
   "source": []
  },
  {
   "cell_type": "code",
   "execution_count": 76,
   "metadata": {},
   "outputs": [],
   "source": [
    "# Import necesaary packages\n",
    "import sys\n",
    "import os\n",
    "import pandas as pd\n",
    "import scanpy as sc\n",
    "import seaborn as sns; sns.set(color_codes=True)\n",
    "import scanpy.external as sce\n",
    "import matplotlib.pyplot as plt"
   ]
  },
  {
   "cell_type": "code",
   "execution_count": 78,
   "metadata": {},
   "outputs": [
    {
     "ename": "AttributeError",
     "evalue": "'dict' object has no attribute 'dtype'",
     "output_type": "error",
     "traceback": [
      "\u001b[0;31m---------------------------------------------------------------------------\u001b[0m",
      "\u001b[0;31mAttributeError\u001b[0m                            Traceback (most recent call last)",
      "\u001b[0;32m<ipython-input-78-6067edbf7c10>\u001b[0m in \u001b[0;36m<module>\u001b[0;34m\u001b[0m\n\u001b[1;32m      1\u001b[0m \u001b[0;31m# Import data\u001b[0m\u001b[0;34m\u001b[0m\u001b[0;34m\u001b[0m\u001b[0;34m\u001b[0m\u001b[0m\n\u001b[0;32m----> 2\u001b[0;31m \u001b[0madata\u001b[0m \u001b[0;34m=\u001b[0m \u001b[0msc\u001b[0m\u001b[0;34m.\u001b[0m\u001b[0mread\u001b[0m\u001b[0;34m(\u001b[0m\u001b[0;34m'/Users/aj/Dropbox (Partners HealthCare)/Data/Vignesh_Lymphoma_tma/re_staining_tma/4-celltype_calling/PTCL1/PTCL1.h5ad'\u001b[0m\u001b[0;34m)\u001b[0m\u001b[0;34m\u001b[0m\u001b[0;34m\u001b[0m\u001b[0m\n\u001b[0m",
      "\u001b[0;32m~/anaconda3/lib/python3.7/site-packages/scanpy/readwrite.py\u001b[0m in \u001b[0;36mread\u001b[0;34m(filename, backed, sheet, ext, delimiter, first_column_names, backup_url, cache, **kwargs)\u001b[0m\n",
      "\u001b[0;32m~/anaconda3/lib/python3.7/site-packages/scanpy/readwrite.py\u001b[0m in \u001b[0;36m_read\u001b[0;34m(filename, backed, sheet, ext, delimiter, first_column_names, backup_url, cache, suppress_cache_warning, **kwargs)\u001b[0m\n",
      "\u001b[0;32m~/anaconda3/lib/python3.7/site-packages/anndata/readwrite/read.py\u001b[0m in \u001b[0;36mread_h5ad\u001b[0;34m(filename, backed, chunk_size)\u001b[0m\n",
      "\u001b[0;32m~/anaconda3/lib/python3.7/site-packages/anndata/readwrite/read.py\u001b[0m in \u001b[0;36m_read_args_from_h5ad\u001b[0;34m(adata, filename, mode, chunk_size)\u001b[0m\n",
      "\u001b[0;32m~/anaconda3/lib/python3.7/site-packages/anndata/base.py\u001b[0m in \u001b[0;36m_args_from_dict\u001b[0;34m(ddata)\u001b[0m\n",
      "\u001b[0;31mAttributeError\u001b[0m: 'dict' object has no attribute 'dtype'"
     ]
    }
   ],
   "source": [
    "# Import data\n",
    "adata = sc.read('/Users/aj/Dropbox (Partners HealthCare)/Data/Vignesh_Lymphoma_tma/re_staining_tma/4-celltype_calling/PTCL1/PTCL1.h5ad')"
   ]
  },
  {
   "cell_type": "code",
   "execution_count": 75,
   "metadata": {},
   "outputs": [
    {
     "name": "stdout",
     "output_type": "stream",
     "text": [
      "Name: scanpy\n",
      "Version: 1.4.5.1\n",
      "Summary: Single-Cell Analysis in Python.\n",
      "Home-page: http://github.com/theislab/scanpy\n",
      "Author: Alex Wolf, Philipp Angerer, Fidel Ramirez, Isaac Virshup, Sergei Rybakov, Gokcen Eraslan, Tom White, Malte Luecken, Davide Cittaro, Tobias Callies, Marius Lange, Andrés R. Muñoz-Rojas\n",
      "Author-email: f.alex.wolf@gmx.de, philipp.angerer@helmholtz-muenchen.de\n",
      "License: BSD\n",
      "Location: /opt/anaconda3/lib/python3.7/site-packages\n",
      "Requires: scikit-learn, natsort, legacy-api-wrap, matplotlib, tables, pandas, packaging, numba, h5py, tqdm, anndata, importlib-metadata, statsmodels, joblib, setuptools-scm, seaborn, patsy, networkx, umap-learn, scipy\n",
      "Required-by: bbknn\n",
      "Note: you may need to restart the kernel to use updated packages.\n"
     ]
    }
   ],
   "source": [
    "pip show scanpy"
   ]
  },
  {
   "cell_type": "code",
   "execution_count": null,
   "metadata": {},
   "outputs": [],
   "source": []
  }
 ],
 "metadata": {
  "kernelspec": {
   "display_name": "Python 3",
   "language": "python",
   "name": "python3"
  },
  "language_info": {
   "codemirror_mode": {
    "name": "ipython",
    "version": 3
   },
   "file_extension": ".py",
   "mimetype": "text/x-python",
   "name": "python",
   "nbconvert_exporter": "python",
   "pygments_lexer": "ipython3",
   "version": "3.7.6"
  }
 },
 "nbformat": 4,
 "nbformat_minor": 4
}
