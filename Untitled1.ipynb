{
 "cells": [
  {
   "cell_type": "code",
   "execution_count": 8,
   "metadata": {},
   "outputs": [],
   "source": [
    "import scanpy as sc\n",
    "import pandas as pd\n",
    "import numpy as np\n",
    "import plotly.graph_objs as go\n",
    "import ipywidgets as widgets\n",
    "from plotly.colors import DEFAULT_PLOTLY_COLORS"
   ]
  },
  {
   "cell_type": "code",
   "execution_count": 5,
   "metadata": {},
   "outputs": [],
   "source": [
    "# Import data\n",
    "adata = sc.read('/Users/aj/Dropbox (Partners HealthCare)/Data/Vignesh_Lymphoma_tma/re_staining_tma/4-celltype_calling/PTCL1/PTCL1.h5ad')"
   ]
  },
  {
   "cell_type": "code",
   "execution_count": 9,
   "metadata": {},
   "outputs": [],
   "source": [
    "d = {'cell':adata.obs.index, 'x' : adata.obs['X_position'].values, 'y': adata.obs['Y_position'].values, \n",
    "     'col': adata.obs['phenotype']}\n",
    "dd = pd.DataFrame(d)"
   ]
  },
  {
   "cell_type": "code",
   "execution_count": 10,
   "metadata": {},
   "outputs": [
    {
     "data": {
      "text/html": [
       "<div>\n",
       "<style scoped>\n",
       "    .dataframe tbody tr th:only-of-type {\n",
       "        vertical-align: middle;\n",
       "    }\n",
       "\n",
       "    .dataframe tbody tr th {\n",
       "        vertical-align: top;\n",
       "    }\n",
       "\n",
       "    .dataframe thead th {\n",
       "        text-align: right;\n",
       "    }\n",
       "</style>\n",
       "<table border=\"1\" class=\"dataframe\">\n",
       "  <thead>\n",
       "    <tr style=\"text-align: right;\">\n",
       "      <th></th>\n",
       "      <th>cell</th>\n",
       "      <th>x</th>\n",
       "      <th>y</th>\n",
       "      <th>col</th>\n",
       "    </tr>\n",
       "  </thead>\n",
       "  <tbody>\n",
       "    <tr>\n",
       "      <th>629148_1</th>\n",
       "      <td>629148_1</td>\n",
       "      <td>231.722222</td>\n",
       "      <td>4207.111111</td>\n",
       "      <td>Non-immune cells</td>\n",
       "    </tr>\n",
       "    <tr>\n",
       "      <th>629148_2</th>\n",
       "      <td>629148_2</td>\n",
       "      <td>261.664706</td>\n",
       "      <td>10531.100000</td>\n",
       "      <td>Non-immune cells</td>\n",
       "    </tr>\n",
       "    <tr>\n",
       "      <th>629148_3</th>\n",
       "      <td>629148_3</td>\n",
       "      <td>263.931507</td>\n",
       "      <td>10554.232877</td>\n",
       "      <td>Non-immune cells</td>\n",
       "    </tr>\n",
       "    <tr>\n",
       "      <th>629148_4</th>\n",
       "      <td>629148_4</td>\n",
       "      <td>263.473684</td>\n",
       "      <td>12409.736842</td>\n",
       "      <td>Non-immune cells</td>\n",
       "    </tr>\n",
       "    <tr>\n",
       "      <th>629148_5</th>\n",
       "      <td>629148_5</td>\n",
       "      <td>267.694915</td>\n",
       "      <td>12414.762712</td>\n",
       "      <td>Non-immune cells</td>\n",
       "    </tr>\n",
       "    <tr>\n",
       "      <th>...</th>\n",
       "      <td>...</td>\n",
       "      <td>...</td>\n",
       "      <td>...</td>\n",
       "      <td>...</td>\n",
       "    </tr>\n",
       "    <tr>\n",
       "      <th>629148_1368060</th>\n",
       "      <td>629148_1368060</td>\n",
       "      <td>30133.642458</td>\n",
       "      <td>9608.871508</td>\n",
       "      <td>Non-immune cells</td>\n",
       "    </tr>\n",
       "    <tr>\n",
       "      <th>629148_1368061</th>\n",
       "      <td>629148_1368061</td>\n",
       "      <td>30131.000000</td>\n",
       "      <td>10461.000000</td>\n",
       "      <td>Non-immune cells</td>\n",
       "    </tr>\n",
       "    <tr>\n",
       "      <th>629148_1368062</th>\n",
       "      <td>629148_1368062</td>\n",
       "      <td>30324.534884</td>\n",
       "      <td>11390.953488</td>\n",
       "      <td>Non-immune cells</td>\n",
       "    </tr>\n",
       "    <tr>\n",
       "      <th>629148_1368063</th>\n",
       "      <td>629148_1368063</td>\n",
       "      <td>30501.250000</td>\n",
       "      <td>10361.750000</td>\n",
       "      <td>Non-immune cells</td>\n",
       "    </tr>\n",
       "    <tr>\n",
       "      <th>629148_1368064</th>\n",
       "      <td>629148_1368064</td>\n",
       "      <td>30615.388889</td>\n",
       "      <td>9284.777778</td>\n",
       "      <td>Non-immune cells</td>\n",
       "    </tr>\n",
       "  </tbody>\n",
       "</table>\n",
       "<p>1368064 rows × 4 columns</p>\n",
       "</div>"
      ],
      "text/plain": [
       "                          cell             x             y               col\n",
       "629148_1              629148_1    231.722222   4207.111111  Non-immune cells\n",
       "629148_2              629148_2    261.664706  10531.100000  Non-immune cells\n",
       "629148_3              629148_3    263.931507  10554.232877  Non-immune cells\n",
       "629148_4              629148_4    263.473684  12409.736842  Non-immune cells\n",
       "629148_5              629148_5    267.694915  12414.762712  Non-immune cells\n",
       "...                        ...           ...           ...               ...\n",
       "629148_1368060  629148_1368060  30133.642458   9608.871508  Non-immune cells\n",
       "629148_1368061  629148_1368061  30131.000000  10461.000000  Non-immune cells\n",
       "629148_1368062  629148_1368062  30324.534884  11390.953488  Non-immune cells\n",
       "629148_1368063  629148_1368063  30501.250000  10361.750000  Non-immune cells\n",
       "629148_1368064  629148_1368064  30615.388889   9284.777778  Non-immune cells\n",
       "\n",
       "[1368064 rows x 4 columns]"
      ]
     },
     "execution_count": 10,
     "metadata": {},
     "output_type": "execute_result"
    }
   ],
   "source": [
    "dd"
   ]
  },
  {
   "cell_type": "code",
   "execution_count": 81,
   "metadata": {
    "scrolled": true
   },
   "outputs": [],
   "source": [
    "import seaborn as sns\n",
    "color_labels = dd['col'].unique()\n",
    "rgb_values = sns.color_palette(\"husl\", len(color_labels))\n",
    "color_map = dict(zip(color_labels, rgb_values))\n",
    "c = pd.DataFrame(list(dd['col']))[0].map(color_map)"
   ]
  },
  {
   "cell_type": "code",
   "execution_count": 98,
   "metadata": {},
   "outputs": [],
   "source": []
  },
  {
   "cell_type": "code",
   "execution_count": null,
   "metadata": {},
   "outputs": [],
   "source": []
  },
  {
   "cell_type": "code",
   "execution_count": null,
   "metadata": {},
   "outputs": [],
   "source": [
    "subset = adata[]"
   ]
  },
  {
   "cell_type": "code",
   "execution_count": null,
   "metadata": {},
   "outputs": [],
   "source": []
  },
  {
   "cell_type": "code",
   "execution_count": 99,
   "metadata": {},
   "outputs": [],
   "source": [
    "data = [go.Scattergl(x=dd['x'], y=dd['y'],\n",
    "                     hovertext=dd['cell'],mode='markers',name = 'All nodes',\n",
    "                     marker = dict(color = c),\n",
    "                     selected=dict(marker=dict(color=DEFAULT_PLOTLY_COLORS[1])))]\n",
    "\n",
    "layout = dict(title=dict(text = 'PTCL1'), dragmode='lasso')\n",
    "fig = go.FigureWidget(data=data, layout= layout)"
   ]
  },
  {
   "cell_type": "code",
   "execution_count": 37,
   "metadata": {},
   "outputs": [],
   "source": [
    "def selection_fn(trace, points, selector):\n",
    "    fig.data[0].selectedpoints = None\n",
    "    fig.data[0].selectedpoints = []\n",
    "    ind = points.point_inds\n",
    "    idx = trace.hovertext[ind]\n",
    "    print(len(adata[idx,:]))"
   ]
  },
  {
   "cell_type": "code",
   "execution_count": 100,
   "metadata": {
    "scrolled": false
   },
   "outputs": [
    {
     "data": {
      "application/vnd.jupyter.widget-view+json": {
       "model_id": "0f95309429ed4204affdb69f1bcd9707",
       "version_major": 2,
       "version_minor": 0
      },
      "text/plain": [
       "HBox(children=(FigureWidget({\n",
       "    'data': [{'hovertext': array(['629148_1', '629148_2', '629148_3', ..., '6291…"
      ]
     },
     "metadata": {},
     "output_type": "display_data"
    },
    {
     "name": "stdout",
     "output_type": "stream",
     "text": [
      "['629148_689302' '629148_689334' '629148_689337']\n"
     ]
    }
   ],
   "source": [
    "#fig  = go.FigureWidget(p)\n",
    "fig.data[0].on_selection(selection_fn)\n",
    "display(widgets.HBox([fig]))"
   ]
  },
  {
   "cell_type": "code",
   "execution_count": 103,
   "metadata": {},
   "outputs": [],
   "source": [
    "ind = ['629148_689302', '629148_689334', '629148_689337']"
   ]
  },
  {
   "cell_type": "code",
   "execution_count": 104,
   "metadata": {},
   "outputs": [
    {
     "data": {
      "text/plain": [
       "['629148_689302', '629148_689334', '629148_689337']"
      ]
     },
     "execution_count": 104,
     "metadata": {},
     "output_type": "execute_result"
    }
   ],
   "source": [
    "ind"
   ]
  },
  {
   "cell_type": "code",
   "execution_count": 106,
   "metadata": {},
   "outputs": [
    {
     "data": {
      "text/plain": [
       "3"
      ]
     },
     "execution_count": 106,
     "metadata": {},
     "output_type": "execute_result"
    }
   ],
   "source": [
    "len(adata[ind,:])"
   ]
  },
  {
   "cell_type": "code",
   "execution_count": null,
   "metadata": {},
   "outputs": [],
   "source": []
  }
 ],
 "metadata": {
  "kernelspec": {
   "display_name": "Python 3",
   "language": "python",
   "name": "python3"
  },
  "language_info": {
   "codemirror_mode": {
    "name": "ipython",
    "version": 3
   },
   "file_extension": ".py",
   "mimetype": "text/x-python",
   "name": "python",
   "nbconvert_exporter": "python",
   "pygments_lexer": "ipython3",
   "version": "3.7.6"
  }
 },
 "nbformat": 4,
 "nbformat_minor": 4
}
