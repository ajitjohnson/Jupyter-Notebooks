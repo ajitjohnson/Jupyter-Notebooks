{
 "cells": [
  {
   "cell_type": "code",
   "execution_count": 1,
   "metadata": {},
   "outputs": [],
   "source": [
    "# Import librarires\n",
    "import pandas as pd\n",
    "import numpy as np\n",
    "import os\n",
    "import seaborn as sns; sns.set(style=\"white\", color_codes=True, rc={'figure.figsize':(11.7,8.27)})\n",
    "import matplotlib.pyplot as plt\n",
    "import re\n",
    "\n",
    "# Create anndata and scanpy\n",
    "import anndata as ad\n",
    "import scanpy as sc\n",
    "import scanpy.external as sce\n",
    "import bbknn\n",
    "\n",
    "# Import custom functions\n",
    "import wget"
   ]
  },
  {
   "cell_type": "code",
   "execution_count": 3,
   "metadata": {},
   "outputs": [],
   "source": [
    "# Set working directory\n",
    "# Laptop\n",
    "WD = \"/Users/aj/Dropbox (Partners HealthCare)/Data/Vignesh_Lymphoma_tma/20190214_Datadump/\"\n",
    "# HMS\n",
    "#WD = \"C:/Users/ajn16/Dropbox (Partners HealthCare)/Data/Vignesh_Lymphoma_tma/20190214_Datadump/\"\n",
    "os.chdir(WD)"
   ]
  },
  {
   "cell_type": "code",
   "execution_count": 23,
   "metadata": {},
   "outputs": [],
   "source": [
    "# Load Data\n",
    "adata = sc.read(\"atcl.h5ad\")"
   ]
  },
  {
   "cell_type": "code",
   "execution_count": 4,
   "metadata": {},
   "outputs": [],
   "source": [
    "# Create Dataset\n",
    "data = pd.read_csv('PTCLCycle1to9_CytMedian_nonorm.csv', delimiter=',', index_col=0)\n",
    "meta = pd.read_csv('meta_new.csv', delimiter=',',index_col=0)\n",
    "# Drop DAPI\n",
    "data = data.drop(list(data.filter(regex='DAPI|BACK', axis=1)), axis=1)\n",
    "# Convert to AnnData \n",
    "adata = sc.AnnData(data)\n",
    "adata.obs = meta\n",
    "# Subset Angioimmunoblatic T cell lymphoma\n",
    "adata = adata[adata.obs['Disease'].isin(['Angioimmunoblastic Cell Lymphoma'])]\n",
    "# Covert patient column into string \n",
    "adata.obs['patient'] = adata.obs['patient'].astype(str)\n",
    "adata.obs['core'] = adata.obs['core'].astype(str)\n",
    "# Remove markers after cycle 10\n",
    "adata = adata[:,0:29]\n",
    "# Remove other identified bad markers\n",
    "columns = ['CD10', 'CD11B', 'CD57', 'FOXP3']\n",
    "remove = np.in1d(adata.var_names, columns)\n",
    "adata = adata[:, ~remove]\n",
    "# Basic Filtering\n",
    "sc.pp.filter_cells(adata, min_genes=25)\n",
    "# add the total counts per cell as observations-annotation to adata\n",
    "adata.obs['n_counts'] = adata.X.sum(axis=1)"
   ]
  },
  {
   "cell_type": "code",
   "execution_count": 34,
   "metadata": {},
   "outputs": [
    {
     "data": {
      "text/plain": [
       "array([[2.017e+03, 5.371e+03, 9.670e+02, ..., 1.620e+02, 6.100e+01,\n",
       "        5.700e+01],\n",
       "       [5.110e+02, 2.751e+03, 3.700e+02, ..., 8.600e+01, 1.900e+01,\n",
       "        3.100e+01],\n",
       "       [8.700e+01, 8.980e+02, 3.600e+01, ..., 1.530e+02, 5.000e+00,\n",
       "        1.800e+01],\n",
       "       ...,\n",
       "       [1.580e+02, 4.410e+02, 5.190e+02, ..., 6.180e+02, 1.900e+01,\n",
       "        7.000e+00],\n",
       "       [1.300e+01, 1.030e+02, 1.800e+01, ..., 2.000e+00, 2.000e+00,\n",
       "        6.000e+00],\n",
       "       [6.900e+01, 5.310e+02, 2.180e+02, ..., 7.900e+02, 2.000e+01,\n",
       "        8.000e+00]], dtype=float32)"
      ]
     },
     "execution_count": 34,
     "metadata": {},
     "output_type": "execute_result"
    }
   ],
   "source": [
    "adata.X"
   ]
  },
  {
   "cell_type": "code",
   "execution_count": 29,
   "metadata": {},
   "outputs": [
    {
     "data": {
      "text/plain": [
       "AnnData object with n_obs × n_vars = 55924 × 25 \n",
       "    obs: 'core', 'Disease', 'StudyID', 'patient', 'n_genes'"
      ]
     },
     "execution_count": 29,
     "metadata": {},
     "output_type": "execute_result"
    }
   ],
   "source": [
    "adata"
   ]
  },
  {
   "cell_type": "code",
   "execution_count": 33,
   "metadata": {},
   "outputs": [],
   "source": [
    "# Write Data\n",
    "adata.write(\"atcl.h5ad\")"
   ]
  },
  {
   "cell_type": "code",
   "execution_count": null,
   "metadata": {},
   "outputs": [],
   "source": []
  }
 ],
 "metadata": {
  "kernelspec": {
   "display_name": "Python 3",
   "language": "python",
   "name": "python3"
  },
  "language_info": {
   "codemirror_mode": {
    "name": "ipython",
    "version": 3
   },
   "file_extension": ".py",
   "mimetype": "text/x-python",
   "name": "python",
   "nbconvert_exporter": "python",
   "pygments_lexer": "ipython3",
   "version": "3.7.1"
  }
 },
 "nbformat": 4,
 "nbformat_minor": 2
}
