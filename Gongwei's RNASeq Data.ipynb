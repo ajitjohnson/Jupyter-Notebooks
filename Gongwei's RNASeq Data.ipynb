{
 "cells": [
  {
   "cell_type": "markdown",
   "metadata": {},
   "source": [
    "### Gongwei's RNASeq Data Analysis"
   ]
  },
  {
   "cell_type": "markdown",
   "metadata": {},
   "source": [
    "○ A folder was created in the **o2 server** for this analysis (mkdir /n/scratch2/ajit) <br>\n",
    "○ bcbio pipeline was cloned into ajit directory git clone https://github.com/datarail/rnaseq.git <br>\n",
    "○ The data was downloaded into *allsamples* folder (cd /n/scratch2/ajit/rnaseq/allsamples/) <br>\n",
    "○ Metadata copied into the same folder (available in runs/gw_rnaseq_metadata-github) using following command <br>\n",
    "○ scp -r \"/mnt/c/Users/ajn16/Dropbox (Partners HealthCare)/Jupyter Notebooks/runs/gw_rnaseq_metadata/\" ajn16@transfer.rc.hms.harvard.edu:/n/scratch2/ajit/rnaseq/allsamples/ <br>\n",
    "○ Files moved from *gw_rnaseq_metadata* to *allsamples* folder in the server <br>\n",
    "○ Run ./doMerge.sh <br>\n",
    "○ Move merged files to the rnaseq folder using the following command<br>\n",
    "○ mv -v ./* /n/scratch2/ajit/rnaseq/ <br>\n",
    "○ mkdir reference <br>\n",
    "○ Downloaded all refrence genome files in /reference folder<br>\n",
    "wget ftp://ftp.ensembl.org/pub/release-95/fasta/homo_sapiens/cdna/Homo_sapiens.GRCh38.cdna.all.fa.gz\n",
    "wget ftp://ftp.ensembl.org/pub/release-95/gtf/homo_sapiens/Homo_sapiens.GRCh38.95.gtf.gz\n",
    "wget ftp://ftp.ensembl.org/pub/release-95/fasta/homo_sapiens/ncrna/Homo_sapiens.GRCh38.ncrna.fa.gz\n",
    "○ UnZiped all files- gunzip *.gz*<br>\n",
    "○ Concatenate cdna and ncrna -> Homo_sapiens.GRCh38.95.fa <br>\n",
    "○ cat Homo_sapiens.GRCh38.cdna.all.fa Homo_sapiens.GRCh38.ncrna.fa > ./Homo_sapiens.GRCh38.95.fa <br>\n",
    "○ Edited ymal file based on this: https://github.com/datarail/rnaseq/blob/master/runs/mariya-2019-01/yaml_O2.yaml <br>\n",
    "○ Move the merge_config-merged.csv file to rnaseq folder <br>\n",
    "○ mv /n/scratch2/ajit/rnaseq/allsamples/merge_config-merged.csv /n/scratch2/ajit/rnaseq/ <br>\n",
    "○ Rename merge_config-merged.csv to alignment.csv<br>\n",
    "○ mv merge_config-merged.csv alignment.csv <br>\n",
    "○ Edit aligment file to remove Forward and reverse strands <br>\n",
    "○ Instantiate the bcbio workspace:\n",
    "bcbio_nextgen.py -w template yaml_O2.yaml alignment.csv merged/<br>\n",
    "○ Decend into cd /n/scratch2/ajit/rnaseq/alignment/work <br>\n",
    "○ Run: sbatch ../../submit_bcbio.sh <br>\n",
    "\n"
   ]
  },
  {
   "cell_type": "markdown",
   "metadata": {},
   "source": [
    "#### Step 1:\n",
    "Create working directory in O2 server. <br>\n",
    "``` mkdir /n/scratch2/ajit ```\n",
    "#### Step 2:\n",
    "Clone BcBio pipeline into the directory. <br>\n",
    "This clones the data into a new directory named *rnaseq* <br>\n",
    "``` git clone https://github.com/datarail/rnaseq.git  ```\n",
    "#### Step 3:\n",
    "Create directory to download fastq files and copy the data into it. <br>\n",
    "``` mkdir /n/scratch2/ajit/rnaseq/allsamples  ``` <br>\n",
    "``` scp -r \"/mnt/c/Users/ajn16/Downloads/gw/\" ajn16@transfer.rc.hms.harvard.edu:/n/scratch2/ajit/rnaseq/allsamples/ ```\n",
    "#### Step 4:\n",
    "Create a sample description file and copy it into the *allsamples* folder. This will serve as the template for merging the same samples from different lanes into one *fastq* file. <br>\n",
    "```scp -r \"/mnt/c/Users/ajn16/Dropbox (Partners HealthCare)/Jupyter Notebooks/runs/gw_rnaseq_metadata/\" ajn16@transfer.rc.hms.harvard.edu:/n/scratch2/ajit/rnaseq/allsamples/ ```<br>\n",
    "In-order to merge the files we also need a *doMerge.sh* script. Copy this also into the same folder as above. <br>\n"
   ]
  },
  {
   "cell_type": "code",
   "execution_count": null,
   "metadata": {},
   "outputs": [],
   "source": []
  }
 ],
 "metadata": {
  "kernelspec": {
   "display_name": "R",
   "language": "R",
   "name": "ir"
  },
  "language_info": {
   "codemirror_mode": "r",
   "file_extension": ".r",
   "mimetype": "text/x-r-source",
   "name": "R",
   "pygments_lexer": "r",
   "version": "3.5.2"
  }
 },
 "nbformat": 4,
 "nbformat_minor": 2
}
