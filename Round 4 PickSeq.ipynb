{
 "cells": [
  {
   "cell_type": "markdown",
   "metadata": {},
   "source": [
    "**Rename Files by removing the first 23 characters**\n",
    "\n",
    "```\n",
    "for file in *; do mv $file `echo $file | cut -c23-`; done\n",
    "```\n",
    "\n",
    "**Unzip all the files**\n",
    "\n",
    "```\n",
    "bunzip2 *.bz2\n",
    "```\n",
    "\n",
    "**Create the alignment.csv file**\n",
    "\n",
    "```\n",
    "(echo 'samplename,description'; for f in raw_files/*fastq; do readlink -f $f | perl -pe 's/(.*?_(S[0-9]+)_.*)/\\1,\\2/'; done) > alignment.csv\n",
    "```\n",
    "\n",
    "**Merge multiple files into a single file**\n",
    "\n",
    "```\n",
    "\n",
    "\n",
    "```"
   ]
  }
 ],
 "metadata": {
  "kernelspec": {
   "display_name": "Python 3",
   "language": "python",
   "name": "python3"
  },
  "language_info": {
   "codemirror_mode": {
    "name": "ipython",
    "version": 3
   },
   "file_extension": ".py",
   "mimetype": "text/x-python",
   "name": "python",
   "nbconvert_exporter": "python",
   "pygments_lexer": "ipython3",
   "version": "3.7.1"
  }
 },
 "nbformat": 4,
 "nbformat_minor": 2
}
