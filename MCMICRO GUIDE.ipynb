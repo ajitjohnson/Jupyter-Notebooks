{
 "cells": [
  {
   "cell_type": "markdown",
   "metadata": {},
   "source": [
    "## Stepwise guide for running mcmicro on O2"
   ]
  },
  {
   "cell_type": "markdown",
   "metadata": {},
   "source": [
    "### Step: 1\n",
    "Upload the raw data to O2 and make sure the data is organized in the following format. Raw data from each slide/image needs to be in its own folder named `raw`. All the images need to be placed under a higher level folder (Dataset). \n",
    "\n",
    "<br></br>\n",
    "```\n",
    "-- Main_Folder (Dataset)  \n",
    "    -- Image1/  \n",
    "        -- raw/  \n",
    "    -- Image2/  \n",
    "        -- raw/ \n",
    "```"
   ]
  },
  {
   "cell_type": "markdown",
   "metadata": {},
   "source": [
    "## Step: 2\n",
    "Create a new file called `submission.sh` and copy paste the following code block into it (This can be anywhere you like). \n",
    "\n",
    "<br></br>\n",
    "New file can be created by using any text editor. I use `vim`.  Just type `vim submission.sh` press `I` to insert or start typing. Paste the following code block and save by pressing `esc` and then `:x` + `enter`"
   ]
  },
  {
   "cell_type": "markdown",
   "metadata": {},
   "source": [
    "```\n",
    "#!/bin/sh\n",
    "\n",
    "# Using getopts for passing in arguments via basg\n",
    "while getopts \":p:t:\" opt; do\n",
    "  case $opt in\n",
    "    p) p=\"$OPTARG\"\n",
    "    ;;\n",
    "    t) t=\"$OPTARG\"\n",
    "    ;;\n",
    "  esac\n",
    "done\n",
    "\n",
    "# store sub dirs\n",
    "SLIDEDIRS=($p/*/)\n",
    "\n",
    "# loop and submit all jobs\n",
    "for dir in ${SLIDEDIRS[@]}; do\n",
    "    cd $dir\n",
    "    echo $(basename $dir) $dir\n",
    "    sbatch --job-name $(basename $dir) \\\n",
    "        $t $dir \n",
    "    sleep 10\n",
    "done\n",
    "```"
   ]
  },
  {
   "cell_type": "markdown",
   "metadata": {},
   "source": [
    "## Step: 3\n",
    "\n",
    "Create a template to run mcmicro on all images. This contains all the information of the various settings to be used when running mcmicro.\n",
    "\n",
    "#### Some fields need to be replaced based on your situation\n",
    "1. Your email at `#SBATCH --mail-user= ajitj_nirmal@dfci.harvard.edu`\n",
    "2. `#SBATCH -t 0-12:00` This depends on the size of your dataset. Note if you change this, you might need to change `#SBATCH -p short` as well.\n",
    "```\n",
    "Maximum time in each partition\n",
    "short: 12 hours  \n",
    "medium: 5 days  \n",
    "long: 30 days  \n",
    "```\n",
    "\n",
    "As before create a new file called `submit_mcmicro.sh` and copy paste the following code block into it.\n",
    "\n",
    "Just type `vim submit_mcmicro.sh` press `I` to insert or start typing. Paste the following code block and save by pressing `esc` and then `:x` + `enter`"
   ]
  },
  {
   "cell_type": "markdown",
   "metadata": {},
   "source": [
    "```\n",
    "#!/bin/bash\n",
    "#SBATCH -p short\n",
    "#SBATCH -J nextflow_O2\n",
    "#SBATCH -o run.o\n",
    "#SBATCH -e run.e\n",
    "#SBATCH -t 0-12:00\n",
    "#SBATCH --mem=8G\n",
    "#SBATCH --mail-type=END\n",
    "#SBATCH --mail-user=ajitj_nirmal@dfci.harvard.edu\n",
    "\n",
    "# get the values\n",
    "SAMPLEDIR=$1\n",
    "SAMPLEID=$(basename $SAMPLEDIR)\n",
    "\n",
    "# load packages\n",
    "module purge\n",
    "module load java\n",
    "\n",
    "# Run\n",
    "nextflow run labsyspharm/mcmicro \\\n",
    "    -profile        O2 \\\n",
    "    --in            $SAMPLEDIR \\\n",
    "    -w              /n/scratch3/users/${USER:0:1}/$USER/work \\\n",
    "    -with-report    $USER-$(date -Is)-$SAMPLEID.html \\\n",
    "    --start-at      illumination \\\n",
    "    --unmicst-opts  '--channel 1' \\\n",
    "    --s3seg-opts    '--cytoMethod ring --cytoDilation 3 --segmentCytoplasm segmentCytoplasm --nucleiRegion localThreshold' \\\n",
    "    --mcquant-opts  '--masks cellRing.ome.tif' \\\n",
    "    --stop-at       quantification\n",
    "\n",
    "```"
   ]
  },
  {
   "cell_type": "markdown",
   "metadata": {},
   "source": [
    "## Step: 4\n",
    "\n",
    "Create a `markers.csv` file in the following format and save a copy within each `image folder`\n",
    "\n",
    "```\n",
    "cycle,marker_name\n",
    "1,DNA_1\n",
    "1,secondary_488\n",
    "1,secondary_555\n",
    "1,secondary_647\n",
    "2,DNA_2\n",
    "2,CCR4/7\n",
    "2,background_555\n",
    "2,background_647\n",
    "3,DNA_3\n",
    "3,CD163\n",
    "3,CD19\n",
    "3,CD3d\n",
    "```"
   ]
  },
  {
   "cell_type": "markdown",
   "metadata": {},
   "source": [
    "## Step: 5\n",
    "\n",
    "Submit the job !!!\n",
    "\n",
    "Type the following from the directory where you had saved the `submission.sh` script.\n",
    "\n",
    "```\n",
    "bash submission.sh -p '/n/scratch3/users/a/ajn16/abval' -t '/n/scratch3/users/a/ajn16/test/batch.sh'\n",
    "```\n",
    "\n",
    "where,  \n",
    "`p` is path to the main/dataset folder.  \n",
    "`t` is path to the template file that you just created.\n",
    "\n",
    "\n",
    "##### type `sacct` into the terminal to see the jobs submitted."
   ]
  },
  {
   "cell_type": "code",
   "execution_count": null,
   "metadata": {},
   "outputs": [],
   "source": []
  }
 ],
 "metadata": {
  "kernelspec": {
   "display_name": "Python 3",
   "language": "python",
   "name": "python3"
  },
  "language_info": {
   "codemirror_mode": {
    "name": "ipython",
    "version": 3
   },
   "file_extension": ".py",
   "mimetype": "text/x-python",
   "name": "python",
   "nbconvert_exporter": "python",
   "pygments_lexer": "ipython3",
   "version": "3.7.6"
  }
 },
 "nbformat": 4,
 "nbformat_minor": 4
}
