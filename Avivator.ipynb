{
 "cells": [
  {
   "cell_type": "markdown",
   "metadata": {},
   "source": [
    "My main reference - https://harvardmed.atlassian.net/wiki/spaces/O2/pages/1594262530/Jupyter+on+O2\n",
    "Step 1. On your computer, use a terminal or the terminal in O2Portal (https://harvardmed.atlassian.net/wiki/spaces/O2/pages/2230583317/O2Portal)\n"
   ]
  },
  {
   "cell_type": "markdown",
   "metadata": {},
   "source": [
    "```\n",
    "# login to O2 using ssl -L with specified port, e.g. 9139 here\n",
    "# https://explainshell.com/explain?cmd=ssh+-L\n",
    "ssh -L 9139:127.0.0.1:9139 yc296@o2.hms.harvard.edu\n",
    "\n",
    "# on O2, request an interactive session with tunneling with the same port (9139\n",
    "# here)\n",
    "srun -p interactive --pty --mem 2G -c 1 -t 0-01:00 --tunnel 9139:9139 bash\n",
    "\n",
    "# install node, one way to start http server supports HTTP range requests\n",
    "# which is required by viv http://viv.gehlenborglab.org/\n",
    "module load conda2\n",
    "conda create -n nodejs -c conda-forge nodejs=16\n",
    "conda activate nodejs\n",
    "npm install --global http-server \n",
    "\n",
    "# download the static build from viv github repo\n",
    "wget https://github.com/hms-dbmi/viv/archive/refs/heads/gh-pages.zip\n",
    "unzip gh-pages.zip\n",
    "cd viv-gh-pages/\n",
    "\n",
    "# soft symlink scratch drive\n",
    "ln -s /n/scratch3/users/s/skk19/ skk19\n",
    "\n",
    "# start the http server in viv-gh-pages dir \n",
    "http-server --port 9139 --silent\n",
    "\n",
    "```"
   ]
  },
  {
   "cell_type": "markdown",
   "metadata": {},
   "source": [
    "Step 2. On your computer, use a supported browser (http://viv.gehlenborglab.org/), the cycif image and segmentation mask can be viewed in the following urls (localhost with the port that was forwarded, 9139 here)"
   ]
  },
  {
   "cell_type": "markdown",
   "metadata": {},
   "source": [
    "```\n",
    "http://localhost:9139/?image_url=skk19/mcmicro/SK2201/SK2201_1/registration/SK2201_1.ome.tif\n",
    "http://localhost:9139/?image_url=skk19/mcmicro/SK2201/SK2201_1/segmentation/unmicst-SK2201_1/nuclei.ome.tif\n",
    "\n",
    "```"
   ]
  },
  {
   "cell_type": "markdown",
   "metadata": {},
   "source": [
    "### Intermediate steps to ease the process"
   ]
  },
  {
   "cell_type": "markdown",
   "metadata": {},
   "source": [
    "### Reloading after first installation\n",
    " \n",
    "```\n",
    "# In home computer Add to .bashrc\n",
    "alias 'viv=ssh -L 9139:127.0.0.1:9139 ajn16@o2.hms.harvard.edu'\n",
    "\n",
    "# In O2 Add to .bashrc\n",
    "alias 'viv=srun -p interactive --pty --mem 2G -c 1 -t 0-01:00 --tunnel 9139:9139 bash'\n",
    "alias 'vivrun=bash ~/softwares/viewImage.sh'\n",
    "\n",
    "\n",
    "```"
   ]
  },
  {
   "cell_type": "markdown",
   "metadata": {},
   "source": [
    "```\n",
    "vim viewImage.sh\n",
    "```\n",
    "\n",
    "```\n",
    "#!/bin/sh\n",
    "\n",
    "module load conda2\n",
    "source activate nodejs\n",
    "\n",
    "cd ~/softwares/viv-gh-pages/\n",
    "\n",
    "echo \"http://localhost:9139/?image_url=<image_path>\"\n",
    "\n",
    "http-server --port 9139 --silent\n",
    "\n",
    "```"
   ]
  },
  {
   "cell_type": "markdown",
   "metadata": {},
   "source": []
  },
  {
   "cell_type": "markdown",
   "metadata": {},
   "source": []
  }
 ],
 "metadata": {
  "kernelspec": {
   "display_name": "Python 3.9.12 ('scimap')",
   "language": "python",
   "name": "python3"
  },
  "language_info": {
   "codemirror_mode": {
    "name": "ipython",
    "version": 3
   },
   "file_extension": ".py",
   "mimetype": "text/x-python",
   "name": "python",
   "nbconvert_exporter": "python",
   "pygments_lexer": "ipython3",
   "version": "3.9.12"
  },
  "orig_nbformat": 4,
  "vscode": {
   "interpreter": {
    "hash": "2ac2307bf5a349bc378ff727e6ce599862db0a6afe8f8f2289e6a002e94f47a0"
   }
  }
 },
 "nbformat": 4,
 "nbformat_minor": 2
}
