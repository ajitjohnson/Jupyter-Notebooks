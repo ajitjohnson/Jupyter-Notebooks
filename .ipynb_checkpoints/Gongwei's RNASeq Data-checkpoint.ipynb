{
 "cells": [
  {
   "cell_type": "markdown",
   "metadata": {},
   "source": [
    "### Gongwei's RNASeq Data Analysis"
   ]
  },
  {
   "cell_type": "markdown",
   "metadata": {},
   "source": [
    "#### Step 1:\n",
    "Create working directory in O2 server. <br>\n",
    "``` mkdir /n/scratch2/ajit ```\n",
    "#### Step 2:\n",
    "Clone BcBio pipeline into the directory. <br>\n",
    "This clones the data into a new directory named *rnaseq* <br>\n",
    "``` git clone https://github.com/datarail/rnaseq.git  ```\n",
    "``` cd rnaseq   ```\n",
    "#### Step 3:\n",
    "Create directory to download fastq files and copy the data into it. <br>\n",
    "``` mkdir /n/scratch2/ajit/rnaseq/allsamples  ``` <br>\n",
    "``` scp -r \"/mnt/c/Users/ajn16/Downloads/gw/\" ajn16@transfer.rc.hms.harvard.edu:/n/scratch2/ajit/rnaseq/allsamples/ ```<br>\n",
    "``` cd allsamples   ```\n",
    "#### Step 4:\n",
    "Create a sample description file and copy it into the *allsamples* folder. This will serve as the template for merging the same samples from different lanes into one *fastq* file. <br>\n",
    "```scp -r \"/mnt/c/Users/ajn16/Dropbox (Partners HealthCare)/Jupyter Notebooks/runs/gw_rnaseq_metadata/merge_config.csv\" ajn16@transfer.rc.hms.harvard.edu:/n/scratch2/ajit/rnaseq/allsamples/ ```<br>\n",
    "<br>\n",
    "```scp -r \"/mnt/c/Users/ajn16/Dropbox (Partners HealthCare)/Jupyter Notebooks/runs/gw_rnaseq_metadata/doMerge.sh\" ajn16@transfer.rc.hms.harvard.edu:/n/scratch2/ajit/rnaseq/allsamples/``` <br>\n",
    "<br>\n",
    "In-order to merge the files we also need a *doMerge.sh* script. Copy this also into the same folder as above. <br>\n",
    "**Sample description file**: https://github.com/ajitjohnson/Jupyter-Notebooks/blob/master/runs/gw_rnaseq_metadata/merge_config.csv <br>\n",
    "**doMerge.sh file**: https://github.com/ajitjohnson/Jupyter-Notebooks/blob/master/runs/gw_rnaseq_metadata/doMerge.sh <br>\n",
    "#### Step 5:\n",
    "Run doMerge.sh to combine the four lanes into a single fastq file (for each sample) <br>\n",
    "``` ./doMerge.sh  ```\n",
    "#### Step 6:\n",
    "Move the merged files to the *rnaseq* directory <br>\n",
    "``` mv -v /n/scratch2/ajit/rnaseq/allsamples/merged /n/scratch2/ajit/rnaseq/   ```\n",
    "<br>\n",
    "Move the **merge_config-merged.csv** file to *rnaseq* directory and rename it **alignment.csv**<br>\n",
    "``` mv /n/scratch2/ajit/rnaseq/allsamples/merge_config-merged.csv /n/scratch2/ajit/rnaseq/  ```<br>\n",
    "```cd .. ``` <br>\n",
    "```mv merge_config-merged.csv alignment.csv ```\n",
    "#### Step 7:\n",
    "Create a directory for downloading the reference genome <br>\n",
    "``` mkdir reference ```<br>\n",
    "``` cd reference/ ``` <br>\n",
    "Download reference genome <br>\n",
    "```\n",
    "wget ftp://ftp.ensembl.org/pub/release-95/fasta/homo_sapiens/cdna/Homo_sapiens.GRCh38.cdna.all.fa.gz\n",
    "wget ftp://ftp.ensembl.org/pub/release-95/gtf/homo_sapiens/Homo_sapiens.GRCh38.95.gtf.gz\n",
    "wget ftp://ftp.ensembl.org/pub/release-95/fasta/homo_sapiens/ncrna/Homo_sapiens.GRCh38.ncrna.fa.gz\n",
    "```\n",
    "#### Step 8:\n",
    "UnZip all files \n",
    "```gunzip *.gz```\n",
    "#### Step 9:\n",
    "Concatenate cdna and ncrna -> Homo_sapiens.GRCh38.95.fa <br>\n",
    "```cat Homo_sapiens.GRCh38.cdna.all.fa Homo_sapiens.GRCh38.ncrna.fa > ./Homo_sapiens.GRCh38.95.fa ```\n",
    "#### Step 10:\n",
    "Edit **alignment.csv** if necessary: Remove unwanted commas ,'s <br>\n",
    "``` vim /n/scratch2/ajit/rnaseq/alignment.csv```\n",
    "#### Step 11:\n",
    "Edit **yaml_O2.yaml** if necessary <br>\n",
    "``` vim /n/scratch2/ajit/rnaseq/yaml_O2.yaml```\n",
    "Example yamal file: https://github.com/ajitjohnson/Jupyter-Notebooks/blob/master/runs/gw_rnaseq_metadata/yaml_O2.yaml <br>\n",
    "#### Step 12:\n",
    "Initiate the bcbio workspace <br>\n",
    "``` bcbio_nextgen.py -w template yaml_O2.yaml alignment.csv merged/```\n",
    "#### Step 13:\n",
    "Descend into the work subdirectory of your project <br>\n",
    "``` cd /n/scratch2/ajit/rnaseq/alignment/work ```\n",
    "#### Step 14:\n",
    "Edit *submit_bcbio.sh* if necessary <br>\n",
    "```vim /n/scratch2/ajit/rnaseq/submit_bcbio.sh```<br>\n",
    "and add <br>\n",
    "```\n",
    "#SBATCH --mail-type=ALL\n",
    "#SBATCH --mail-user=ajit_nirmal@hms.harvard.edu\n",
    "change `../config/sample_description.yaml` to `../config/alignment.yaml`\n",
    "```\n",
    "From the work directory, submit the job to O2 using the following command: <br>\n",
    "``` sbatch ../../submit_bcbio.sh ```\n",
    "#### Step 15:\n",
    "Check job progress <br>\n",
    "```sacct```\n",
    "#### Step 16:\n",
    "The counts file will be located in ../final/2017-10-19_sample_description/combined.counts, but depending on the current date and the contents of your sample_description.csv, the actual path may vary. <br>\n",
    "```cd /n/scratch2/ajit/rnaseq/alignment/finals/2019-01-23_alignment/```\n",
    "#### Step 17:\n",
    "Download combined.counts to local drive from terminal.  <br>\n",
    "```scp ajn16@transfer.rc.hms.harvard.edu:/n/scratch2/ajit/rnaseq/alignment/finals/2019-01-23_alignment/combined.counts /Users/aj/Downloads/temp```\n",
    "#### Step 18:\n",
    "alignment-independent quantification. To get a count table from salmon you need quant.sf files that are scattered across individual-sample directories. Running the following on the command line will pull all the .sf files together and output a counts table and a TPM (transcripts-per-million) table:  <br>\n",
    "```Rscript merge-sf.R```\n",
    "#### Step 19:\n",
    "Download combined.counts to local drive from terminal.  <br>\n",
    "```scp ajn16@transfer.rc.hms.harvard.edu:/n/scratch2/ajit/rnaseq/alignment/finals/combined.sf /Users/aj/Downloads/temp```"
   ]
  },
  {
   "cell_type": "markdown",
   "metadata": {},
   "source": [
    "----"
   ]
  },
  {
   "cell_type": "markdown",
   "metadata": {},
   "source": [
    "### Analysis"
   ]
  },
  {
   "cell_type": "markdown",
   "metadata": {},
   "source": [
    "#### Import Library\n"
   ]
  },
  {
   "cell_type": "code",
   "execution_count": 28,
   "metadata": {},
   "outputs": [],
   "source": [
    "# Project specific libraries\n",
    "library(limma)\n",
    "library(DESeq2)\n",
    "library(reshape2)\n",
    "library(ggplot2)\n",
    "library(cowplot)\n",
    "library(\"pheatmap\")\n",
    "library(\"RColorBrewer\")\n",
    "library(biomaRt)"
   ]
  },
  {
   "cell_type": "code",
   "execution_count": 3,
   "metadata": {},
   "outputs": [],
   "source": [
    "# Import Lib for exixting scripts\n",
    "library(devtools)\n",
    "library(roxygen2)"
   ]
  },
  {
   "cell_type": "markdown",
   "metadata": {},
   "source": [
    "#### Working directory"
   ]
  },
  {
   "cell_type": "code",
   "execution_count": 4,
   "metadata": {},
   "outputs": [],
   "source": [
    "# MAC\n",
    "#setwd (\"/Users/aj/Dropbox (Partners HealthCare)/Data/gongwei\")\n",
    "# HMS\n",
    "setwd (\"C:/Users/ajn16/Dropbox (Partners HealthCare)/Data/gongwei\")"
   ]
  },
  {
   "cell_type": "markdown",
   "metadata": {},
   "source": [
    "#### Import data"
   ]
  },
  {
   "cell_type": "code",
   "execution_count": 16,
   "metadata": {},
   "outputs": [
    {
     "data": {
      "text/html": [
       "<ol class=list-inline>\n",
       "\t<li>58735</li>\n",
       "\t<li>10</li>\n",
       "</ol>\n"
      ],
      "text/latex": [
       "\\begin{enumerate*}\n",
       "\\item 58735\n",
       "\\item 10\n",
       "\\end{enumerate*}\n"
      ],
      "text/markdown": [
       "1. 58735\n",
       "2. 10\n",
       "\n",
       "\n"
      ],
      "text/plain": [
       "[1] 58735    10"
      ]
     },
     "metadata": {},
     "output_type": "display_data"
    }
   ],
   "source": [
    "data <- read.csv(\"combined.counts\", header=T, sep=\"\", row.names = 1)\n",
    "pdata <- read.table(\"pdata.txt\", header=T, sep=\"\\t\",row.names = 1)\n",
    "dim(data)"
   ]
  },
  {
   "cell_type": "code",
   "execution_count": 17,
   "metadata": {},
   "outputs": [
    {
     "data": {
      "text/html": [
       "<table>\n",
       "<thead><tr><th></th><th scope=col>A</th><th scope=col>B</th><th scope=col>C</th><th scope=col>D</th><th scope=col>E</th><th scope=col>F</th><th scope=col>G</th><th scope=col>H</th><th scope=col>I</th><th scope=col>J</th></tr></thead>\n",
       "<tbody>\n",
       "\t<tr><th scope=row>ENSG00000223972</th><td>0 </td><td>1 </td><td> 0</td><td> 0</td><td>0 </td><td>0 </td><td>0 </td><td>0 </td><td>1 </td><td>0 </td></tr>\n",
       "\t<tr><th scope=row>ENSG00000227232</th><td>4 </td><td>8 </td><td>10</td><td>11</td><td>5 </td><td>6 </td><td>5 </td><td>5 </td><td>3 </td><td>7 </td></tr>\n",
       "\t<tr><th scope=row>ENSG00000278267</th><td>1 </td><td>0 </td><td> 2</td><td> 2</td><td>0 </td><td>0 </td><td>0 </td><td>1 </td><td>1 </td><td>2 </td></tr>\n",
       "\t<tr><th scope=row>ENSG00000243485</th><td>0 </td><td>0 </td><td> 0</td><td> 0</td><td>0 </td><td>0 </td><td>0 </td><td>0 </td><td>0 </td><td>0 </td></tr>\n",
       "\t<tr><th scope=row>ENSG00000284332</th><td>0 </td><td>0 </td><td> 0</td><td> 0</td><td>0 </td><td>0 </td><td>0 </td><td>0 </td><td>0 </td><td>0 </td></tr>\n",
       "\t<tr><th scope=row>ENSG00000237613</th><td>0 </td><td>0 </td><td> 0</td><td> 0</td><td>0 </td><td>0 </td><td>0 </td><td>0 </td><td>0 </td><td>0 </td></tr>\n",
       "</tbody>\n",
       "</table>\n"
      ],
      "text/latex": [
       "\\begin{tabular}{r|llllllllll}\n",
       "  & A & B & C & D & E & F & G & H & I & J\\\\\n",
       "\\hline\n",
       "\tENSG00000223972 & 0  & 1  &  0 &  0 & 0  & 0  & 0  & 0  & 1  & 0 \\\\\n",
       "\tENSG00000227232 & 4  & 8  & 10 & 11 & 5  & 6  & 5  & 5  & 3  & 7 \\\\\n",
       "\tENSG00000278267 & 1  & 0  &  2 &  2 & 0  & 0  & 0  & 1  & 1  & 2 \\\\\n",
       "\tENSG00000243485 & 0  & 0  &  0 &  0 & 0  & 0  & 0  & 0  & 0  & 0 \\\\\n",
       "\tENSG00000284332 & 0  & 0  &  0 &  0 & 0  & 0  & 0  & 0  & 0  & 0 \\\\\n",
       "\tENSG00000237613 & 0  & 0  &  0 &  0 & 0  & 0  & 0  & 0  & 0  & 0 \\\\\n",
       "\\end{tabular}\n"
      ],
      "text/markdown": [
       "\n",
       "| <!--/--> | A | B | C | D | E | F | G | H | I | J |\n",
       "|---|---|---|---|---|---|---|---|---|---|---|\n",
       "| ENSG00000223972 | 0  | 1  |  0 |  0 | 0  | 0  | 0  | 0  | 1  | 0  |\n",
       "| ENSG00000227232 | 4  | 8  | 10 | 11 | 5  | 6  | 5  | 5  | 3  | 7  |\n",
       "| ENSG00000278267 | 1  | 0  |  2 |  2 | 0  | 0  | 0  | 1  | 1  | 2  |\n",
       "| ENSG00000243485 | 0  | 0  |  0 |  0 | 0  | 0  | 0  | 0  | 0  | 0  |\n",
       "| ENSG00000284332 | 0  | 0  |  0 |  0 | 0  | 0  | 0  | 0  | 0  | 0  |\n",
       "| ENSG00000237613 | 0  | 0  |  0 |  0 | 0  | 0  | 0  | 0  | 0  | 0  |\n",
       "\n"
      ],
      "text/plain": [
       "                A B C  D  E F G H I J\n",
       "ENSG00000223972 0 1  0  0 0 0 0 0 1 0\n",
       "ENSG00000227232 4 8 10 11 5 6 5 5 3 7\n",
       "ENSG00000278267 1 0  2  2 0 0 0 1 1 2\n",
       "ENSG00000243485 0 0  0  0 0 0 0 0 0 0\n",
       "ENSG00000284332 0 0  0  0 0 0 0 0 0 0\n",
       "ENSG00000237613 0 0  0  0 0 0 0 0 0 0"
      ]
     },
     "metadata": {},
     "output_type": "display_data"
    }
   ],
   "source": [
    "head(data)"
   ]
  },
  {
   "cell_type": "markdown",
   "metadata": {},
   "source": [
    "#### Pre-processing"
   ]
  },
  {
   "cell_type": "code",
   "execution_count": 18,
   "metadata": {},
   "outputs": [
    {
     "data": {
      "text/html": [
       "<ol class=list-inline>\n",
       "\t<li>18572</li>\n",
       "\t<li>10</li>\n",
       "</ol>\n"
      ],
      "text/latex": [
       "\\begin{enumerate*}\n",
       "\\item 18572\n",
       "\\item 10\n",
       "\\end{enumerate*}\n"
      ],
      "text/markdown": [
       "1. 18572\n",
       "2. 10\n",
       "\n",
       "\n"
      ],
      "text/plain": [
       "[1] 18572    10"
      ]
     },
     "metadata": {},
     "output_type": "display_data"
    }
   ],
   "source": [
    "# Remove transcripts that are not expressed in 2 or more samples\n",
    "data <- data[apply(data[2:ncol(data)] == 0, 1, sum) <= 2, ]\n",
    "dim (data)"
   ]
  },
  {
   "cell_type": "markdown",
   "metadata": {},
   "source": [
    "#### Map ENSEMBL names to Gene Symbols"
   ]
  },
  {
   "cell_type": "code",
   "execution_count": 67,
   "metadata": {},
   "outputs": [
    {
     "data": {
      "text/html": [
       "<table>\n",
       "<thead><tr><th scope=col>Row.names</th><th scope=col>A</th><th scope=col>B</th><th scope=col>C</th><th scope=col>D</th><th scope=col>E</th><th scope=col>F</th><th scope=col>G</th><th scope=col>H</th><th scope=col>I</th><th scope=col>J</th><th scope=col>hgnc_symbol</th></tr></thead>\n",
       "<tbody>\n",
       "\t<tr><td>ENSG00000000003</td><td>  4            </td><td>   0           </td><td>   2           </td><td>   0           </td><td>   4           </td><td>  2            </td><td>  21           </td><td>  16           </td><td>   8           </td><td>   4           </td><td>TSPAN6         </td></tr>\n",
       "\t<tr><td>ENSG00000000419</td><td>903            </td><td>1021           </td><td> 706           </td><td> 657           </td><td> 961           </td><td>410            </td><td> 510           </td><td> 445           </td><td> 740           </td><td> 673           </td><td>DPM1           </td></tr>\n",
       "\t<tr><td>ENSG00000000457</td><td>433            </td><td> 464           </td><td> 489           </td><td> 504           </td><td> 453           </td><td>222            </td><td> 477           </td><td> 588           </td><td> 638           </td><td> 583           </td><td>SCYL3          </td></tr>\n",
       "\t<tr><td>ENSG00000000460</td><td>600            </td><td> 690           </td><td> 618           </td><td> 563           </td><td> 704           </td><td>302            </td><td> 372           </td><td> 203           </td><td> 613           </td><td> 687           </td><td>C1orf112       </td></tr>\n",
       "\t<tr><td>ENSG00000000938</td><td>873            </td><td>1136           </td><td>1404           </td><td>2327           </td><td>1347           </td><td>760            </td><td>1287           </td><td>2620           </td><td>2418           </td><td>1596           </td><td>FGR            </td></tr>\n",
       "\t<tr><td>ENSG00000000971</td><td>  9            </td><td>   8           </td><td>  20           </td><td>  31           </td><td>   0           </td><td>  0            </td><td>  13           </td><td>  30           </td><td>  21           </td><td>   2           </td><td>CFH            </td></tr>\n",
       "</tbody>\n",
       "</table>\n"
      ],
      "text/latex": [
       "\\begin{tabular}{r|llllllllllll}\n",
       " Row.names & A & B & C & D & E & F & G & H & I & J & hgnc\\_symbol\\\\\n",
       "\\hline\n",
       "\t ENSG00000000003 &   4             &    0            &    2            &    0            &    4            &   2             &   21            &   16            &    8            &    4            & TSPAN6         \\\\\n",
       "\t ENSG00000000419 & 903             & 1021            &  706            &  657            &  961            & 410             &  510            &  445            &  740            &  673            & DPM1           \\\\\n",
       "\t ENSG00000000457 & 433             &  464            &  489            &  504            &  453            & 222             &  477            &  588            &  638            &  583            & SCYL3          \\\\\n",
       "\t ENSG00000000460 & 600             &  690            &  618            &  563            &  704            & 302             &  372            &  203            &  613            &  687            & C1orf112       \\\\\n",
       "\t ENSG00000000938 & 873             & 1136            & 1404            & 2327            & 1347            & 760             & 1287            & 2620            & 2418            & 1596            & FGR            \\\\\n",
       "\t ENSG00000000971 &   9             &    8            &   20            &   31            &    0            &   0             &   13            &   30            &   21            &    2            & CFH            \\\\\n",
       "\\end{tabular}\n"
      ],
      "text/markdown": [
       "\n",
       "| Row.names | A | B | C | D | E | F | G | H | I | J | hgnc_symbol |\n",
       "|---|---|---|---|---|---|---|---|---|---|---|---|\n",
       "| ENSG00000000003 |   4             |    0            |    2            |    0            |    4            |   2             |   21            |   16            |    8            |    4            | TSPAN6          |\n",
       "| ENSG00000000419 | 903             | 1021            |  706            |  657            |  961            | 410             |  510            |  445            |  740            |  673            | DPM1            |\n",
       "| ENSG00000000457 | 433             |  464            |  489            |  504            |  453            | 222             |  477            |  588            |  638            |  583            | SCYL3           |\n",
       "| ENSG00000000460 | 600             |  690            |  618            |  563            |  704            | 302             |  372            |  203            |  613            |  687            | C1orf112        |\n",
       "| ENSG00000000938 | 873             | 1136            | 1404            | 2327            | 1347            | 760             | 1287            | 2620            | 2418            | 1596            | FGR             |\n",
       "| ENSG00000000971 |   9             |    8            |   20            |   31            |    0            |   0             |   13            |   30            |   21            |    2            | CFH             |\n",
       "\n"
      ],
      "text/plain": [
       "  Row.names       A   B    C    D    E    F   G    H    I    J    hgnc_symbol\n",
       "1 ENSG00000000003   4    0    2    0    4   2   21   16    8    4 TSPAN6     \n",
       "2 ENSG00000000419 903 1021  706  657  961 410  510  445  740  673 DPM1       \n",
       "3 ENSG00000000457 433  464  489  504  453 222  477  588  638  583 SCYL3      \n",
       "4 ENSG00000000460 600  690  618  563  704 302  372  203  613  687 C1orf112   \n",
       "5 ENSG00000000938 873 1136 1404 2327 1347 760 1287 2620 2418 1596 FGR        \n",
       "6 ENSG00000000971   9    8   20   31    0   0   13   30   21    2 CFH        "
      ]
     },
     "metadata": {},
     "output_type": "display_data"
    }
   ],
   "source": [
    "# Download ENSEMBL-GENE mapping\n",
    "ensembl = useEnsembl(biomart=\"ensembl\", dataset=\"hsapiens_gene_ensembl\")\n",
    "genes <- getBM(attributes=c('ensembl_gene_id','hgnc_symbol'), mart = ensembl)\n",
    "# Merge data\n",
    "data_m = merge(data, genes, by.x=\"row.names\", by.y= \"ensembl_gene_id\")\n",
    "head(data_m)"
   ]
  },
  {
   "cell_type": "markdown",
   "metadata": {},
   "source": [
    "#### Prepare data for collating multiple transcripts into one gene"
   ]
  },
  {
   "cell_type": "code",
   "execution_count": 68,
   "metadata": {},
   "outputs": [
    {
     "data": {
      "text/html": [
       "<table>\n",
       "<thead><tr><th scope=col>A</th><th scope=col>B</th><th scope=col>C</th><th scope=col>D</th><th scope=col>E</th><th scope=col>F</th><th scope=col>G</th><th scope=col>H</th><th scope=col>I</th><th scope=col>J</th><th scope=col>gene</th></tr></thead>\n",
       "<tbody>\n",
       "\t<tr><td>  4     </td><td>   0    </td><td>   2    </td><td>   0    </td><td>   4    </td><td>  2     </td><td>  21    </td><td>  16    </td><td>   8    </td><td>   4    </td><td>TSPAN6  </td></tr>\n",
       "\t<tr><td>903     </td><td>1021    </td><td> 706    </td><td> 657    </td><td> 961    </td><td>410     </td><td> 510    </td><td> 445    </td><td> 740    </td><td> 673    </td><td>DPM1    </td></tr>\n",
       "\t<tr><td>433     </td><td> 464    </td><td> 489    </td><td> 504    </td><td> 453    </td><td>222     </td><td> 477    </td><td> 588    </td><td> 638    </td><td> 583    </td><td>SCYL3   </td></tr>\n",
       "\t<tr><td>600     </td><td> 690    </td><td> 618    </td><td> 563    </td><td> 704    </td><td>302     </td><td> 372    </td><td> 203    </td><td> 613    </td><td> 687    </td><td>C1orf112</td></tr>\n",
       "\t<tr><td>873     </td><td>1136    </td><td>1404    </td><td>2327    </td><td>1347    </td><td>760     </td><td>1287    </td><td>2620    </td><td>2418    </td><td>1596    </td><td>FGR     </td></tr>\n",
       "\t<tr><td>  9     </td><td>   8    </td><td>  20    </td><td>  31    </td><td>   0    </td><td>  0     </td><td>  13    </td><td>  30    </td><td>  21    </td><td>   2    </td><td>CFH     </td></tr>\n",
       "</tbody>\n",
       "</table>\n"
      ],
      "text/latex": [
       "\\begin{tabular}{r|lllllllllll}\n",
       " A & B & C & D & E & F & G & H & I & J & gene\\\\\n",
       "\\hline\n",
       "\t   4      &    0     &    2     &    0     &    4     &   2      &   21     &   16     &    8     &    4     & TSPAN6  \\\\\n",
       "\t 903      & 1021     &  706     &  657     &  961     & 410      &  510     &  445     &  740     &  673     & DPM1    \\\\\n",
       "\t 433      &  464     &  489     &  504     &  453     & 222      &  477     &  588     &  638     &  583     & SCYL3   \\\\\n",
       "\t 600      &  690     &  618     &  563     &  704     & 302      &  372     &  203     &  613     &  687     & C1orf112\\\\\n",
       "\t 873      & 1136     & 1404     & 2327     & 1347     & 760      & 1287     & 2620     & 2418     & 1596     & FGR     \\\\\n",
       "\t   9      &    8     &   20     &   31     &    0     &   0      &   13     &   30     &   21     &    2     & CFH     \\\\\n",
       "\\end{tabular}\n"
      ],
      "text/markdown": [
       "\n",
       "| A | B | C | D | E | F | G | H | I | J | gene |\n",
       "|---|---|---|---|---|---|---|---|---|---|---|\n",
       "|   4      |    0     |    2     |    0     |    4     |   2      |   21     |   16     |    8     |    4     | TSPAN6   |\n",
       "| 903      | 1021     |  706     |  657     |  961     | 410      |  510     |  445     |  740     |  673     | DPM1     |\n",
       "| 433      |  464     |  489     |  504     |  453     | 222      |  477     |  588     |  638     |  583     | SCYL3    |\n",
       "| 600      |  690     |  618     |  563     |  704     | 302      |  372     |  203     |  613     |  687     | C1orf112 |\n",
       "| 873      | 1136     | 1404     | 2327     | 1347     | 760      | 1287     | 2620     | 2418     | 1596     | FGR      |\n",
       "|   9      |    8     |   20     |   31     |    0     |   0      |   13     |   30     |   21     |    2     | CFH      |\n",
       "\n"
      ],
      "text/plain": [
       "  A   B    C    D    E    F   G    H    I    J    gene    \n",
       "1   4    0    2    0    4   2   21   16    8    4 TSPAN6  \n",
       "2 903 1021  706  657  961 410  510  445  740  673 DPM1    \n",
       "3 433  464  489  504  453 222  477  588  638  583 SCYL3   \n",
       "4 600  690  618  563  704 302  372  203  613  687 C1orf112\n",
       "5 873 1136 1404 2327 1347 760 1287 2620 2418 1596 FGR     \n",
       "6   9    8   20   31    0   0   13   30   21    2 CFH     "
      ]
     },
     "metadata": {},
     "output_type": "display_data"
    }
   ],
   "source": [
    "data_merged <- data_m[,-1]\n",
    "names(data_merged)[names(data_merged) == 'hgnc_symbol'] <- 'gene'\n",
    "head(data_merged)"
   ]
  },
  {
   "cell_type": "markdown",
   "metadata": {},
   "source": [
    "#### Merge multiple transcripts into one gene"
   ]
  },
  {
   "cell_type": "code",
   "execution_count": 69,
   "metadata": {},
   "outputs": [
    {
     "name": "stderr",
     "output_type": "stream",
     "text": [
      "SHA-1 hash of file is a0c6a4622daa5b3775f335059a29d6224d9f4032\n"
     ]
    },
    {
     "data": {
      "text/html": [
       "<ol class=list-inline>\n",
       "\t<li>15395</li>\n",
       "\t<li>10</li>\n",
       "</ol>\n"
      ],
      "text/latex": [
       "\\begin{enumerate*}\n",
       "\\item 15395\n",
       "\\item 10\n",
       "\\end{enumerate*}\n"
      ],
      "text/markdown": [
       "1. 15395\n",
       "2. 10\n",
       "\n",
       "\n"
      ],
      "text/plain": [
       "[1] 15395    10"
      ]
     },
     "metadata": {},
     "output_type": "display_data"
    },
    {
     "data": {
      "text/html": [
       "<table>\n",
       "<thead><tr><th></th><th scope=col>A</th><th scope=col>B</th><th scope=col>C</th><th scope=col>D</th><th scope=col>E</th><th scope=col>F</th><th scope=col>G</th><th scope=col>H</th><th scope=col>I</th><th scope=col>J</th></tr></thead>\n",
       "<tbody>\n",
       "\t<tr><th scope=row></th><td>897 </td><td>932 </td><td>2137</td><td>2708</td><td>937 </td><td>504 </td><td>848 </td><td>1577</td><td>1078</td><td>897 </td></tr>\n",
       "\t<tr><th scope=row>A1BG-AS1</th><td> 20 </td><td> 10 </td><td>  17</td><td>  30</td><td>  9 </td><td>  6 </td><td> 14 </td><td>  48</td><td>  23</td><td> 14 </td></tr>\n",
       "\t<tr><th scope=row>AAAS</th><td>658 </td><td>842 </td><td> 648</td><td> 604</td><td>625 </td><td>363 </td><td>682 </td><td> 579</td><td> 775</td><td>792 </td></tr>\n",
       "\t<tr><th scope=row>AACS</th><td>362 </td><td>394 </td><td> 388</td><td> 439</td><td>314 </td><td>156 </td><td>697 </td><td> 756</td><td> 559</td><td>548 </td></tr>\n",
       "\t<tr><th scope=row>AACSP1</th><td>  1 </td><td>  3 </td><td>   0</td><td>   2</td><td>  1 </td><td>  1 </td><td>  5 </td><td>   7</td><td>   5</td><td>  4 </td></tr>\n",
       "\t<tr><th scope=row>AAGAB</th><td>809 </td><td>842 </td><td> 962</td><td> 863</td><td>760 </td><td>333 </td><td>706 </td><td> 684</td><td> 824</td><td>812 </td></tr>\n",
       "</tbody>\n",
       "</table>\n"
      ],
      "text/latex": [
       "\\begin{tabular}{r|llllllllll}\n",
       "  & A & B & C & D & E & F & G & H & I & J\\\\\n",
       "\\hline\n",
       "\t & 897  & 932  & 2137 & 2708 & 937  & 504  & 848  & 1577 & 1078 & 897 \\\\\n",
       "\tA1BG-AS1 &  20  &  10  &   17 &   30 &   9  &   6  &  14  &   48 &   23 &  14 \\\\\n",
       "\tAAAS & 658  & 842  &  648 &  604 & 625  & 363  & 682  &  579 &  775 & 792 \\\\\n",
       "\tAACS & 362  & 394  &  388 &  439 & 314  & 156  & 697  &  756 &  559 & 548 \\\\\n",
       "\tAACSP1 &   1  &   3  &    0 &    2 &   1  &   1  &   5  &    7 &    5 &   4 \\\\\n",
       "\tAAGAB & 809  & 842  &  962 &  863 & 760  & 333  & 706  &  684 &  824 & 812 \\\\\n",
       "\\end{tabular}\n"
      ],
      "text/markdown": [
       "\n",
       "| <!--/--> | A | B | C | D | E | F | G | H | I | J |\n",
       "|---|---|---|---|---|---|---|---|---|---|---|\n",
       "|  | 897  | 932  | 2137 | 2708 | 937  | 504  | 848  | 1577 | 1078 | 897  |\n",
       "| A1BG-AS1 |  20  |  10  |   17 |   30 |   9  |   6  |  14  |   48 |   23 |  14  |\n",
       "| AAAS | 658  | 842  |  648 |  604 | 625  | 363  | 682  |  579 |  775 | 792  |\n",
       "| AACS | 362  | 394  |  388 |  439 | 314  | 156  | 697  |  756 |  559 | 548  |\n",
       "| AACSP1 |   1  |   3  |    0 |    2 |   1  |   1  |   5  |    7 |    5 |   4  |\n",
       "| AAGAB | 809  | 842  |  962 |  863 | 760  | 333  | 706  |  684 |  824 | 812  |\n",
       "\n"
      ],
      "text/plain": [
       "         A   B   C    D    E   F   G   H    I    J  \n",
       "         897 932 2137 2708 937 504 848 1577 1078 897\n",
       "A1BG-AS1  20  10   17   30   9   6  14   48   23  14\n",
       "AAAS     658 842  648  604 625 363 682  579  775 792\n",
       "AACS     362 394  388  439 314 156 697  756  559 548\n",
       "AACSP1     1   3    0    2   1   1   5    7    5   4\n",
       "AAGAB    809 842  962  863 760 333 706  684  824 812"
      ]
     },
     "metadata": {},
     "output_type": "display_data"
    }
   ],
   "source": [
    "# Import function\n",
    "source_url(\"https://raw.githubusercontent.com/ajitjohnson/Jupyter-Notebooks/master/r_scripts/collapse_to_one_gene.R\")\n",
    "# Merge\n",
    "data_merged <- genesummary (data_merged)\n",
    "dim(data_merged)\n",
    "head(data_merged)"
   ]
  },
  {
   "cell_type": "code",
   "execution_count": 19,
   "metadata": {},
   "outputs": [
    {
     "data": {
      "text/html": [
       "<table>\n",
       "<thead><tr><th></th><th scope=col>Treatment</th><th scope=col>Note</th><th scope=col>other_name</th></tr></thead>\n",
       "<tbody>\n",
       "\t<tr><th scope=row>A</th><td>no_dox           </td><td>TP63_kd_ctrl_rep1</td><td>shTP63-dox       </td></tr>\n",
       "\t<tr><th scope=row>B</th><td>no_dox           </td><td>TP63_kd_ctrl_rep2</td><td>shTP63-dox-2     </td></tr>\n",
       "\t<tr><th scope=row>C</th><td>dox              </td><td>TP63_kd_rep1     </td><td>shTP63+dox-1     </td></tr>\n",
       "\t<tr><th scope=row>D</th><td>dox              </td><td>TP63_kd_rep2     </td><td>shTP63+dox-2     </td></tr>\n",
       "\t<tr><th scope=row>E</th><td>DMSO             </td><td>DS3201b_ctrl_rep1</td><td>DS0-1            </td></tr>\n",
       "\t<tr><th scope=row>F</th><td>DMSO             </td><td>DS3201b_ctrl_rep2</td><td>DS0-2            </td></tr>\n",
       "\t<tr><th scope=row>G</th><td>DS3201b          </td><td>DS3201b_1uM_rep1 </td><td>DS1-1            </td></tr>\n",
       "\t<tr><th scope=row>H</th><td>DS3201b          </td><td>DS3201b_1uM_rep2 </td><td>DS1-2            </td></tr>\n",
       "\t<tr><th scope=row>I</th><td>DS3201b          </td><td>DS3201b_30nM_rep1</td><td>DS30-1           </td></tr>\n",
       "\t<tr><th scope=row>J</th><td>DS3201b          </td><td>DS3201b_30nM_rep2</td><td>DS30-2           </td></tr>\n",
       "</tbody>\n",
       "</table>\n"
      ],
      "text/latex": [
       "\\begin{tabular}{r|lll}\n",
       "  & Treatment & Note & other\\_name\\\\\n",
       "\\hline\n",
       "\tA & no\\_dox                & TP63\\_kd\\_ctrl\\_rep1 & shTP63-dox             \\\\\n",
       "\tB & no\\_dox                & TP63\\_kd\\_ctrl\\_rep2 & shTP63-dox-2           \\\\\n",
       "\tC & dox                   & TP63\\_kd\\_rep1      & shTP63+dox-1         \\\\\n",
       "\tD & dox                   & TP63\\_kd\\_rep2      & shTP63+dox-2         \\\\\n",
       "\tE & DMSO                  & DS3201b\\_ctrl\\_rep1 & DS0-1                \\\\\n",
       "\tF & DMSO                  & DS3201b\\_ctrl\\_rep2 & DS0-2                \\\\\n",
       "\tG & DS3201b               & DS3201b\\_1uM\\_rep1  & DS1-1                \\\\\n",
       "\tH & DS3201b               & DS3201b\\_1uM\\_rep2  & DS1-2                \\\\\n",
       "\tI & DS3201b               & DS3201b\\_30nM\\_rep1 & DS30-1               \\\\\n",
       "\tJ & DS3201b               & DS3201b\\_30nM\\_rep2 & DS30-2               \\\\\n",
       "\\end{tabular}\n"
      ],
      "text/markdown": [
       "\n",
       "| <!--/--> | Treatment | Note | other_name |\n",
       "|---|---|---|---|\n",
       "| A | no_dox            | TP63_kd_ctrl_rep1 | shTP63-dox        |\n",
       "| B | no_dox            | TP63_kd_ctrl_rep2 | shTP63-dox-2      |\n",
       "| C | dox               | TP63_kd_rep1      | shTP63+dox-1      |\n",
       "| D | dox               | TP63_kd_rep2      | shTP63+dox-2      |\n",
       "| E | DMSO              | DS3201b_ctrl_rep1 | DS0-1             |\n",
       "| F | DMSO              | DS3201b_ctrl_rep2 | DS0-2             |\n",
       "| G | DS3201b           | DS3201b_1uM_rep1  | DS1-1             |\n",
       "| H | DS3201b           | DS3201b_1uM_rep2  | DS1-2             |\n",
       "| I | DS3201b           | DS3201b_30nM_rep1 | DS30-1            |\n",
       "| J | DS3201b           | DS3201b_30nM_rep2 | DS30-2            |\n",
       "\n"
      ],
      "text/plain": [
       "  Treatment Note              other_name  \n",
       "A no_dox    TP63_kd_ctrl_rep1 shTP63-dox  \n",
       "B no_dox    TP63_kd_ctrl_rep2 shTP63-dox-2\n",
       "C dox       TP63_kd_rep1      shTP63+dox-1\n",
       "D dox       TP63_kd_rep2      shTP63+dox-2\n",
       "E DMSO      DS3201b_ctrl_rep1 DS0-1       \n",
       "F DMSO      DS3201b_ctrl_rep2 DS0-2       \n",
       "G DS3201b   DS3201b_1uM_rep1  DS1-1       \n",
       "H DS3201b   DS3201b_1uM_rep2  DS1-2       \n",
       "I DS3201b   DS3201b_30nM_rep1 DS30-1      \n",
       "J DS3201b   DS3201b_30nM_rep2 DS30-2      "
      ]
     },
     "metadata": {},
     "output_type": "display_data"
    }
   ],
   "source": [
    "pdata"
   ]
  },
  {
   "cell_type": "markdown",
   "metadata": {},
   "source": [
    "## Analysis"
   ]
  },
  {
   "cell_type": "markdown",
   "metadata": {},
   "source": [
    "### Effect of knocking down *TP63*"
   ]
  },
  {
   "cell_type": "code",
   "execution_count": 72,
   "metadata": {},
   "outputs": [],
   "source": [
    "# Subset the TP63 data\n",
    "data_tp63 <- data_merged[,c(\"A\",\"B\",\"C\",\"D\")]\n",
    "pdata_tp63 <- pdata[c(\"A\",\"B\",\"C\",\"D\"),]"
   ]
  },
  {
   "cell_type": "code",
   "execution_count": 75,
   "metadata": {},
   "outputs": [
    {
     "name": "stderr",
     "output_type": "stream",
     "text": [
      "factor levels were dropped which had no samples\n",
      "estimating size factors\n",
      "estimating dispersions\n",
      "gene-wise dispersion estimates\n",
      "mean-dispersion relationship\n",
      "final dispersion estimates\n",
      "fitting model and testing\n"
     ]
    },
    {
     "data": {
      "text/html": [
       "<table>\n",
       "<thead><tr><th></th><th scope=col>A</th><th scope=col>B</th><th scope=col>C</th><th scope=col>D</th></tr></thead>\n",
       "<tbody>\n",
       "\t<tr><th scope=row></th><td>9.9801502 </td><td>9.9162740 </td><td>11.0038384</td><td>11.2441347</td></tr>\n",
       "\t<tr><th scope=row>A1BG-AS1</th><td>4.2638691 </td><td>4.0915874 </td><td> 4.2156466</td><td> 4.3782131</td></tr>\n",
       "\t<tr><th scope=row>AAAS</th><td>9.4140464 </td><td>9.5916464 </td><td> 9.3777978</td><td> 9.2513340</td></tr>\n",
       "\t<tr><th scope=row>AACS</th><td>8.5705584 </td><td>8.5627236 </td><td> 8.6268138</td><td> 8.7151002</td></tr>\n",
       "\t<tr><th scope=row>AACSP1</th><td>0.5359286 </td><td>0.5674314 </td><td> 0.5175317</td><td> 0.5520051</td></tr>\n",
       "\t<tr><th scope=row>AAGAB</th><td>9.7213752 </td><td>9.6610199 </td><td> 9.9043843</td><td> 9.7291353</td></tr>\n",
       "</tbody>\n",
       "</table>\n"
      ],
      "text/latex": [
       "\\begin{tabular}{r|llll}\n",
       "  & A & B & C & D\\\\\n",
       "\\hline\n",
       "\t & 9.9801502  & 9.9162740  & 11.0038384 & 11.2441347\\\\\n",
       "\tA1BG-AS1 & 4.2638691  & 4.0915874  &  4.2156466 &  4.3782131\\\\\n",
       "\tAAAS & 9.4140464  & 9.5916464  &  9.3777978 &  9.2513340\\\\\n",
       "\tAACS & 8.5705584  & 8.5627236  &  8.6268138 &  8.7151002\\\\\n",
       "\tAACSP1 & 0.5359286  & 0.5674314  &  0.5175317 &  0.5520051\\\\\n",
       "\tAAGAB & 9.7213752  & 9.6610199  &  9.9043843 &  9.7291353\\\\\n",
       "\\end{tabular}\n"
      ],
      "text/markdown": [
       "\n",
       "| <!--/--> | A | B | C | D |\n",
       "|---|---|---|---|---|\n",
       "|  | 9.9801502  | 9.9162740  | 11.0038384 | 11.2441347 |\n",
       "| A1BG-AS1 | 4.2638691  | 4.0915874  |  4.2156466 |  4.3782131 |\n",
       "| AAAS | 9.4140464  | 9.5916464  |  9.3777978 |  9.2513340 |\n",
       "| AACS | 8.5705584  | 8.5627236  |  8.6268138 |  8.7151002 |\n",
       "| AACSP1 | 0.5359286  | 0.5674314  |  0.5175317 |  0.5520051 |\n",
       "| AAGAB | 9.7213752  | 9.6610199  |  9.9043843 |  9.7291353 |\n",
       "\n"
      ],
      "text/plain": [
       "         A         B         C          D         \n",
       "         9.9801502 9.9162740 11.0038384 11.2441347\n",
       "A1BG-AS1 4.2638691 4.0915874  4.2156466  4.3782131\n",
       "AAAS     9.4140464 9.5916464  9.3777978  9.2513340\n",
       "AACS     8.5705584 8.5627236  8.6268138  8.7151002\n",
       "AACSP1   0.5359286 0.5674314  0.5175317  0.5520051\n",
       "AAGAB    9.7213752 9.6610199  9.9043843  9.7291353"
      ]
     },
     "metadata": {},
     "output_type": "display_data"
    }
   ],
   "source": [
    "# DESeq analaysis\n",
    "dds_tp63 <- DESeqDataSetFromMatrix(countData = data_tp63, colData = pdata_tp63, design = ~ Treatment)\n",
    "dds_tp63 <- DESeq(dds_tp63)\n",
    "# Normalize the data by rlog method for other analysis\n",
    "rld_tp63 <- rlog(dds_tp63, blind=FALSE)\n",
    "# Extract the normalised data from the deseq file\n",
    "#n_data <- data.frame(counts(dds, normalized=TRUE))\n",
    "n_data_tp63 <- data.frame(assay(rld_tp63))\n",
    "head(n_data_tp63)"
   ]
  },
  {
   "cell_type": "markdown",
   "metadata": {},
   "source": [
    "#### Vizulaize expression profile before and after normalization"
   ]
  },
  {
   "cell_type": "code",
   "execution_count": 76,
   "metadata": {},
   "outputs": [
    {
     "name": "stderr",
     "output_type": "stream",
     "text": [
      "SHA-1 hash of file is ea705fcd7367ec2f0f16b7660c0ae5b75421a27c\n",
      "No id variables; using all as measure variables\n",
      "No id variables; using all as measure variables\n",
      "Warning message:\n",
      "\"Removed 917 rows containing non-finite values (stat_boxplot).\""
     ]
    },
    {
     "data": {
      "image/png": "[encoded data removed]",
      "text/plain": [
       "plot without title"
      ]
     },
     "metadata": {},
     "output_type": "display_data"
    }
   ],
   "source": [
    "source_url(\"https://raw.githubusercontent.com/ajitjohnson/Jupyter-Notebooks/master/r_scripts/plot_before_after_normalization.R\")\n",
    "plotba (data_tp63,n_data_tp63)"
   ]
  },
  {
   "cell_type": "markdown",
   "metadata": {},
   "source": [
    "#### Plot PCA"
   ]
  },
  {
   "cell_type": "code",
   "execution_count": 77,
   "metadata": {},
   "outputs": [
    {
     "data": {
      "image/png": "[encoded data removed]",
      "text/plain": [
       "plot without title"
      ]
     },
     "metadata": {},
     "output_type": "display_data"
    }
   ],
   "source": [
    "plotPCA(rld_tp63, intgroup=\"Treatment\")"
   ]
  },
  {
   "cell_type": "markdown",
   "metadata": {},
   "source": [
    "#### Differentially expressed genes"
   ]
  },
  {
   "cell_type": "code",
   "execution_count": 80,
   "metadata": {},
   "outputs": [
    {
     "name": "stdout",
     "output_type": "stream",
     "text": [
      "\n",
      "out of 15395 with nonzero total read count\n",
      "adjusted p-value < 0.1\n",
      "LFC > 0 (up)       : 2751, 18%\n",
      "LFC < 0 (down)     : 2655, 17%\n",
      "outliers [1]       : 0, 0%\n",
      "low counts [2]     : 2090, 14%\n",
      "(mean count < 6)\n",
      "[1] see 'cooksCutoff' argument of ?results\n",
      "[2] see 'independentFiltering' argument of ?results\n",
      "\n"
     ]
    }
   ],
   "source": [
    "res_tp63 <- results(dds_tp63)\n",
    "res_tp63 <- res[order(res_tp63$padj),]\n",
    "summary(res_tp63)"
   ]
  },
  {
   "cell_type": "code",
   "execution_count": 81,
   "metadata": {},
   "outputs": [
    {
     "data": {
      "text/plain": [
       "log2 fold change (MLE): Treatment no dox vs dox \n",
       "Wald test p-value: Treatment no dox vs dox \n",
       "DataFrame with 6 rows and 6 columns\n",
       "               baseMean      log2FoldChange             lfcSE\n",
       "              <numeric>           <numeric>         <numeric>\n",
       "CCSER2 471.245684585046  -0.562337679913557 0.167980059542897\n",
       "NXF1   1547.81716853488   0.099182072841405 0.150946856642946\n",
       "ZDHHC2 762.048660736359  -0.526653546933053  0.15425241483874\n",
       "ZNF318 717.039263379108  -0.515211788603358  0.14851346003258\n",
       "GMPR2  635.622395700147 -0.0909532183164543 0.153911171908999\n",
       "NPTXR  73.9878063756244  -0.793582073706512 0.349131730736034\n",
       "                     stat               pvalue                padj\n",
       "                <numeric>            <numeric>           <numeric>\n",
       "CCSER2   -3.3476454374631 0.000815012106483563 0.00377435992925994\n",
       "NXF1    0.657066169161859    0.511138370841935   0.661803817054491\n",
       "ZDHHC2  -3.41423210446095 0.000639620609724519 0.00307076316328306\n",
       "ZNF318  -3.46912521255874 0.000522156036331431 0.00257230731782449\n",
       "GMPR2  -0.590946174915951     0.55455648598507   0.695482519184783\n",
       "NPTXR   -2.27301618226878   0.0230252047839172   0.063597747488067"
      ]
     },
     "metadata": {},
     "output_type": "display_data"
    }
   ],
   "source": [
    "head(res_tp63)"
   ]
  },
  {
   "cell_type": "code",
   "execution_count": 84,
   "metadata": {},
   "outputs": [
    {
     "data": {
      "image/png": "[encoded data removed]",
      "text/plain": [
       "Plot with title \"\""
      ]
     },
     "metadata": {},
     "output_type": "display_data"
    }
   ],
   "source": [
    "plotMA(res_tp63, ylim=c(-5,5))"
   ]
  },
  {
   "cell_type": "markdown",
   "metadata": {},
   "source": [
    "#### Export Data"
   ]
  },
  {
   "cell_type": "code",
   "execution_count": 85,
   "metadata": {},
   "outputs": [],
   "source": [
    "# Export normalized matrix\n",
    "write.csv(n_data_tp63, file = \"results/tp63_normalized.csv\")\n",
    "# Export DEG matrix\n",
    "write.csv(res_tp63, file = \"results/DEG_tp63.csv\")"
   ]
  },
  {
   "cell_type": "markdown",
   "metadata": {},
   "source": [
    "### Differential genes by treatment of the drug DS3201b"
   ]
  },
  {
   "cell_type": "markdown",
   "metadata": {},
   "source": [
    "#### A. DS0 vs DS1"
   ]
  },
  {
   "cell_type": "code",
   "execution_count": 87,
   "metadata": {},
   "outputs": [],
   "source": [
    "# Subset the 0v1\n",
    "data_0v1 <- data_merged[,c(\"E\",\"F\",\"G\",\"H\")]\n",
    "pdata_0v1 <- pdata[c(\"E\",\"F\",\"G\",\"H\"),]"
   ]
  },
  {
   "cell_type": "code",
   "execution_count": 90,
   "metadata": {},
   "outputs": [
    {
     "name": "stderr",
     "output_type": "stream",
     "text": [
      "factor levels were dropped which had no samples\n",
      "estimating size factors\n",
      "estimating dispersions\n",
      "gene-wise dispersion estimates\n",
      "mean-dispersion relationship\n",
      "final dispersion estimates\n",
      "fitting model and testing\n"
     ]
    },
    {
     "data": {
      "text/html": [
       "<table>\n",
       "<thead><tr><th></th><th scope=col>E</th><th scope=col>F</th><th scope=col>G</th><th scope=col>H</th></tr></thead>\n",
       "<tbody>\n",
       "\t<tr><th scope=row></th><td>9.573823 </td><td>9.636052 </td><td>9.671403 </td><td>10.277181</td></tr>\n",
       "\t<tr><th scope=row>A1BG-AS1</th><td>3.710670 </td><td>3.805855 </td><td>3.908474 </td><td> 4.493152</td></tr>\n",
       "\t<tr><th scope=row>AAAS</th><td>8.965343 </td><td>9.110557 </td><td>9.269445 </td><td> 8.987177</td></tr>\n",
       "\t<tr><th scope=row>AACS</th><td>8.118838 </td><td>8.101814 </td><td>9.194162 </td><td> 9.184370</td></tr>\n",
       "\t<tr><th scope=row>AACSP1</th><td>1.590863 </td><td>1.625856 </td><td>1.726468 </td><td> 1.767889</td></tr>\n",
       "\t<tr><th scope=row>AAGAB</th><td>9.207939 </td><td>9.042254 </td><td>9.333891 </td><td> 9.197699</td></tr>\n",
       "</tbody>\n",
       "</table>\n"
      ],
      "text/latex": [
       "\\begin{tabular}{r|llll}\n",
       "  & E & F & G & H\\\\\n",
       "\\hline\n",
       "\t & 9.573823  & 9.636052  & 9.671403  & 10.277181\\\\\n",
       "\tA1BG-AS1 & 3.710670  & 3.805855  & 3.908474  &  4.493152\\\\\n",
       "\tAAAS & 8.965343  & 9.110557  & 9.269445  &  8.987177\\\\\n",
       "\tAACS & 8.118838  & 8.101814  & 9.194162  &  9.184370\\\\\n",
       "\tAACSP1 & 1.590863  & 1.625856  & 1.726468  &  1.767889\\\\\n",
       "\tAAGAB & 9.207939  & 9.042254  & 9.333891  &  9.197699\\\\\n",
       "\\end{tabular}\n"
      ],
      "text/markdown": [
       "\n",
       "| <!--/--> | E | F | G | H |\n",
       "|---|---|---|---|---|\n",
       "|  | 9.573823  | 9.636052  | 9.671403  | 10.277181 |\n",
       "| A1BG-AS1 | 3.710670  | 3.805855  | 3.908474  |  4.493152 |\n",
       "| AAAS | 8.965343  | 9.110557  | 9.269445  |  8.987177 |\n",
       "| AACS | 8.118838  | 8.101814  | 9.194162  |  9.184370 |\n",
       "| AACSP1 | 1.590863  | 1.625856  | 1.726468  |  1.767889 |\n",
       "| AAGAB | 9.207939  | 9.042254  | 9.333891  |  9.197699 |\n",
       "\n"
      ],
      "text/plain": [
       "         E        F        G        H        \n",
       "         9.573823 9.636052 9.671403 10.277181\n",
       "A1BG-AS1 3.710670 3.805855 3.908474  4.493152\n",
       "AAAS     8.965343 9.110557 9.269445  8.987177\n",
       "AACS     8.118838 8.101814 9.194162  9.184370\n",
       "AACSP1   1.590863 1.625856 1.726468  1.767889\n",
       "AAGAB    9.207939 9.042254 9.333891  9.197699"
      ]
     },
     "metadata": {},
     "output_type": "display_data"
    }
   ],
   "source": [
    "# DESeq analaysis\n",
    "dds_0v1 <- DESeqDataSetFromMatrix(countData = data_0v1, colData = pdata_0v1, design = ~ Treatment)\n",
    "dds_0v1 <- DESeq(dds_0v1)\n",
    "# Normalize the data by rlog method for other analysis\n",
    "rld_0v1 <- rlog(dds_0v1, blind=FALSE)\n",
    "# Extract the normalised data from the deseq file\n",
    "n_data_0v1 <- data.frame(assay(rld_0v1))\n",
    "head(n_data_0v1)"
   ]
  },
  {
   "cell_type": "markdown",
   "metadata": {},
   "source": [
    "#### Vizulaize expression profile before and after normalization"
   ]
  },
  {
   "cell_type": "code",
   "execution_count": 91,
   "metadata": {},
   "outputs": [
    {
     "name": "stderr",
     "output_type": "stream",
     "text": [
      "SHA-1 hash of file is ea705fcd7367ec2f0f16b7660c0ae5b75421a27c\n",
      "No id variables; using all as measure variables\n",
      "No id variables; using all as measure variables\n",
      "Warning message:\n",
      "\"Removed 1521 rows containing non-finite values (stat_boxplot).\""
     ]
    },
    {
     "data": {
      "image/png": "[encoded data removed]",
      "text/plain": [
       "plot without title"
      ]
     },
     "metadata": {},
     "output_type": "display_data"
    }
   ],
   "source": [
    "source_url(\"https://raw.githubusercontent.com/ajitjohnson/Jupyter-Notebooks/master/r_scripts/plot_before_after_normalization.R\")\n",
    "plotba (data_0v1,n_data_0v1)"
   ]
  },
  {
   "cell_type": "markdown",
   "metadata": {},
   "source": [
    "#### Plot PCA"
   ]
  },
  {
   "cell_type": "code",
   "execution_count": 92,
   "metadata": {},
   "outputs": [
    {
     "data": {
      "image/png": "[encoded data removed]",
      "text/plain": [
       "plot without title"
      ]
     },
     "metadata": {},
     "output_type": "display_data"
    }
   ],
   "source": [
    "plotPCA(rld_0v1, intgroup=\"Treatment\")"
   ]
  },
  {
   "cell_type": "markdown",
   "metadata": {},
   "source": [
    "#### Differentially expressed genes"
   ]
  },
  {
   "cell_type": "code",
   "execution_count": 93,
   "metadata": {},
   "outputs": [
    {
     "name": "stdout",
     "output_type": "stream",
     "text": [
      "\n",
      "out of 15395 with nonzero total read count\n",
      "adjusted p-value < 0.1\n",
      "LFC > 0 (up)       : 2751, 18%\n",
      "LFC < 0 (down)     : 2655, 17%\n",
      "outliers [1]       : 0, 0%\n",
      "low counts [2]     : 2090, 14%\n",
      "(mean count < 6)\n",
      "[1] see 'cooksCutoff' argument of ?results\n",
      "[2] see 'independentFiltering' argument of ?results\n",
      "\n"
     ]
    }
   ],
   "source": [
    "res_0v1 <- results(dds_0v1)\n",
    "res_0v1 <- res[order(res_0v1$padj),]\n",
    "summary(res_0v1)"
   ]
  },
  {
   "cell_type": "code",
   "execution_count": 94,
   "metadata": {},
   "outputs": [
    {
     "data": {
      "image/png": "[encoded data removed]",
      "text/plain": [
       "Plot with title \"\""
      ]
     },
     "metadata": {},
     "output_type": "display_data"
    }
   ],
   "source": [
    "plotMA(res_0v1, ylim=c(-5,5))"
   ]
  },
  {
   "cell_type": "markdown",
   "metadata": {},
   "source": [
    "#### Export Data"
   ]
  },
  {
   "cell_type": "code",
   "execution_count": 95,
   "metadata": {},
   "outputs": [],
   "source": [
    "# Export normalized matrix\n",
    "write.csv(n_data_0v1, file = \"results/0v1_normalized.csv\")\n",
    "# Export DEG matrix\n",
    "write.csv(res_0v1, file = \"results/DEG_0v1.csv\")"
   ]
  },
  {
   "cell_type": "markdown",
   "metadata": {},
   "source": [
    "#### B. DS0 vs DS30"
   ]
  },
  {
   "cell_type": "code",
   "execution_count": 96,
   "metadata": {},
   "outputs": [],
   "source": [
    "# Subset the 0v30\n",
    "data_0v30 <- data_merged[,c(\"E\",\"F\",\"I\",\"J\")]\n",
    "pdata_0v30 <- pdata[c(\"E\",\"F\",\"I\",\"J\"),]"
   ]
  },
  {
   "cell_type": "code",
   "execution_count": 98,
   "metadata": {},
   "outputs": [
    {
     "name": "stderr",
     "output_type": "stream",
     "text": [
      "factor levels were dropped which had no samples\n",
      "estimating size factors\n",
      "estimating dispersions\n",
      "gene-wise dispersion estimates\n",
      "mean-dispersion relationship\n",
      "final dispersion estimates\n",
      "fitting model and testing\n"
     ]
    },
    {
     "data": {
      "text/html": [
       "<table>\n",
       "<thead><tr><th></th><th scope=col>E</th><th scope=col>F</th><th scope=col>I</th><th scope=col>J</th></tr></thead>\n",
       "<tbody>\n",
       "\t<tr><th scope=row></th><td>9.695640</td><td>9.754992</td><td>9.727157</td><td>9.540644</td></tr>\n",
       "\t<tr><th scope=row>A1BG-AS1</th><td>3.555583</td><td>3.578694</td><td>3.639790</td><td>3.581692</td></tr>\n",
       "\t<tr><th scope=row>AAAS</th><td>9.161955</td><td>9.292984</td><td>9.264171</td><td>9.286327</td></tr>\n",
       "\t<tr><th scope=row>AACS</th><td>8.266674</td><td>8.265109</td><td>8.671123</td><td>8.653785</td></tr>\n",
       "\t<tr><th scope=row>AACSP1</th><td>1.303508</td><td>1.312139</td><td>1.330395</td><td>1.323491</td></tr>\n",
       "\t<tr><th scope=row>AAGAB</th><td>9.376029</td><td>9.237196</td><td>9.347681</td><td>9.334009</td></tr>\n",
       "</tbody>\n",
       "</table>\n"
      ],
      "text/latex": [
       "\\begin{tabular}{r|llll}\n",
       "  & E & F & I & J\\\\\n",
       "\\hline\n",
       "\t & 9.695640 & 9.754992 & 9.727157 & 9.540644\\\\\n",
       "\tA1BG-AS1 & 3.555583 & 3.578694 & 3.639790 & 3.581692\\\\\n",
       "\tAAAS & 9.161955 & 9.292984 & 9.264171 & 9.286327\\\\\n",
       "\tAACS & 8.266674 & 8.265109 & 8.671123 & 8.653785\\\\\n",
       "\tAACSP1 & 1.303508 & 1.312139 & 1.330395 & 1.323491\\\\\n",
       "\tAAGAB & 9.376029 & 9.237196 & 9.347681 & 9.334009\\\\\n",
       "\\end{tabular}\n"
      ],
      "text/markdown": [
       "\n",
       "| <!--/--> | E | F | I | J |\n",
       "|---|---|---|---|---|\n",
       "|  | 9.695640 | 9.754992 | 9.727157 | 9.540644 |\n",
       "| A1BG-AS1 | 3.555583 | 3.578694 | 3.639790 | 3.581692 |\n",
       "| AAAS | 9.161955 | 9.292984 | 9.264171 | 9.286327 |\n",
       "| AACS | 8.266674 | 8.265109 | 8.671123 | 8.653785 |\n",
       "| AACSP1 | 1.303508 | 1.312139 | 1.330395 | 1.323491 |\n",
       "| AAGAB | 9.376029 | 9.237196 | 9.347681 | 9.334009 |\n",
       "\n"
      ],
      "text/plain": [
       "         E        F        I        J       \n",
       "         9.695640 9.754992 9.727157 9.540644\n",
       "A1BG-AS1 3.555583 3.578694 3.639790 3.581692\n",
       "AAAS     9.161955 9.292984 9.264171 9.286327\n",
       "AACS     8.266674 8.265109 8.671123 8.653785\n",
       "AACSP1   1.303508 1.312139 1.330395 1.323491\n",
       "AAGAB    9.376029 9.237196 9.347681 9.334009"
      ]
     },
     "metadata": {},
     "output_type": "display_data"
    }
   ],
   "source": [
    "# DESeq analaysis\n",
    "dds_0v30 <- DESeqDataSetFromMatrix(countData = data_0v30, colData = pdata_0v30, design = ~ Treatment)\n",
    "dds_0v30 <- DESeq(dds_0v30)\n",
    "# Normalize the data by rlog method for other analysis\n",
    "rld_0v30 <- rlog(dds_0v30, blind=FALSE)\n",
    "# Extract the normalised data from the deseq file\n",
    "n_data_0v30 <- data.frame(assay(rld_0v30))\n",
    "head(n_data_0v30)"
   ]
  },
  {
   "cell_type": "markdown",
   "metadata": {},
   "source": [
    "#### Vizulaize expression profile before and after normalization"
   ]
  },
  {
   "cell_type": "code",
   "execution_count": 99,
   "metadata": {},
   "outputs": [
    {
     "name": "stderr",
     "output_type": "stream",
     "text": [
      "SHA-1 hash of file is ea705fcd7367ec2f0f16b7660c0ae5b75421a27c\n",
      "No id variables; using all as measure variables\n",
      "No id variables; using all as measure variables\n",
      "Warning message:\n",
      "\"Removed 1245 rows containing non-finite values (stat_boxplot).\""
     ]
    },
    {
     "data": {
      "image/png": "[encoded data removed]",
      "text/plain": [
       "plot without title"
      ]
     },
     "metadata": {},
     "output_type": "display_data"
    }
   ],
   "source": [
    "source_url(\"https://raw.githubusercontent.com/ajitjohnson/Jupyter-Notebooks/master/r_scripts/plot_before_after_normalization.R\")\n",
    "plotba (data_0v30,n_data_0v30)"
   ]
  },
  {
   "cell_type": "markdown",
   "metadata": {},
   "source": [
    "#### Plot PCA"
   ]
  },
  {
   "cell_type": "code",
   "execution_count": 100,
   "metadata": {},
   "outputs": [
    {
     "data": {
      "image/png": "[encoded data removed]",
      "text/plain": [
       "plot without title"
      ]
     },
     "metadata": {},
     "output_type": "display_data"
    }
   ],
   "source": [
    "plotPCA(rld_0v30, intgroup=\"Treatment\")"
   ]
  },
  {
   "cell_type": "markdown",
   "metadata": {},
   "source": [
    "#### Differentially expressed genes"
   ]
  },
  {
   "cell_type": "code",
   "execution_count": 101,
   "metadata": {},
   "outputs": [
    {
     "name": "stdout",
     "output_type": "stream",
     "text": [
      "\n",
      "out of 15395 with nonzero total read count\n",
      "adjusted p-value < 0.1\n",
      "LFC > 0 (up)       : 2751, 18%\n",
      "LFC < 0 (down)     : 2655, 17%\n",
      "outliers [1]       : 0, 0%\n",
      "low counts [2]     : 2090, 14%\n",
      "(mean count < 6)\n",
      "[1] see 'cooksCutoff' argument of ?results\n",
      "[2] see 'independentFiltering' argument of ?results\n",
      "\n"
     ]
    }
   ],
   "source": [
    "res_0v30 <- results(dds_0v30)\n",
    "res_0v30 <- res[order(res_0v30$padj),]\n",
    "summary(res_0v30)"
   ]
  },
  {
   "cell_type": "code",
   "execution_count": 102,
   "metadata": {},
   "outputs": [
    {
     "data": {
      "image/png": "[encoded data removed]",
      "text/plain": [
       "Plot with title \"\""
      ]
     },
     "metadata": {},
     "output_type": "display_data"
    }
   ],
   "source": [
    "plotMA(res_0v30, ylim=c(-5,5))"
   ]
  },
  {
   "cell_type": "markdown",
   "metadata": {},
   "source": [
    "#### Export Data"
   ]
  },
  {
   "cell_type": "code",
   "execution_count": 103,
   "metadata": {},
   "outputs": [],
   "source": [
    "# Export normalized matrix\n",
    "write.csv(n_data_0v30, file = \"results/0v30_normalized.csv\")\n",
    "# Export DEG matrix\n",
    "write.csv(res_0v30, file = \"results/DEG_0v30.csv\")"
   ]
  },
  {
   "cell_type": "code",
   "execution_count": null,
   "metadata": {},
   "outputs": [],
   "source": []
  }
 ],
 "metadata": {
  "kernelspec": {
   "display_name": "R",
   "language": "R",
   "name": "ir"
  },
  "language_info": {
   "codemirror_mode": "r",
   "file_extension": ".r",
   "mimetype": "text/x-r-source",
   "name": "R",
   "pygments_lexer": "r",
   "version": "3.5.2"
  }
 },
 "nbformat": 4,
 "nbformat_minor": 2
}
