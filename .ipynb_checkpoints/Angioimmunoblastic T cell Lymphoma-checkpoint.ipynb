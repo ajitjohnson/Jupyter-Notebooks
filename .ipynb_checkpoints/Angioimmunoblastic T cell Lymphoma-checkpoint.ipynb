{
 "cells": [
  {
   "cell_type": "code",
   "execution_count": 1,
   "metadata": {},
   "outputs": [],
   "source": [
    "# Import librarires\n",
    "import pandas as pd\n",
    "import numpy as np\n",
    "import os\n",
    "import seaborn as sns; sns.set(style=\"white\", color_codes=True, rc={'figure.figsize':(11.7,8.27)})\n",
    "import matplotlib.pyplot as plt\n",
    "import re\n",
    "\n",
    "# Create anndata and scanpy\n",
    "import anndata as ad\n",
    "import scanpy as sc\n",
    "import scanpy.external as sce\n",
    "import bbknn\n",
    "\n",
    "# Import custom functions\n",
    "import wget"
   ]
  },
  {
   "cell_type": "code",
   "execution_count": 3,
   "metadata": {},
   "outputs": [],
   "source": [
    "# Set working directory\n",
    "# Laptop\n",
    "WD = \"/Users/aj/Dropbox (Partners HealthCare)/Data/Vignesh_Lymphoma_tma/20190214_Datadump/\"\n",
    "# HMS\n",
    "#WD = \"C:/Users/ajn16/Dropbox (Partners HealthCare)/Data/Vignesh_Lymphoma_tma/20190214_Datadump/\"\n",
    "os.chdir(WD)"
   ]
  },
  {
   "cell_type": "code",
   "execution_count": null,
   "metadata": {},
   "outputs": [],
   "source": [
    "# Load Data\n",
    "adata = sc.read(\"atcl.h5ad\")"
   ]
  },
  {
   "cell_type": "code",
   "execution_count": 4,
   "metadata": {},
   "outputs": [],
   "source": [
    "# Create Dataset\n",
    "data = pd.read_csv('PTCLCycle1to9_CytMedian_nonorm.csv', delimiter=',', index_col=0)\n",
    "meta = pd.read_csv('meta_new.csv', delimiter=',',index_col=0)\n",
    "# Drop DAPI\n",
    "data = data.drop(list(data.filter(regex='DAPI|BACK', axis=1)), axis=1)\n",
    "# Convert to AnnData \n",
    "adata = sc.AnnData(data)\n",
    "adata.obs = meta\n",
    "# Subset Angioimmunoblatic T cell lymphoma\n",
    "adata = adata[adata.obs['Disease'].isin(['Angioimmunoblastic Cell Lymphoma'])]\n",
    "# Covert patient column into string \n",
    "adata.obs['patient'] = adata.obs['patient'].astype(str)\n",
    "adata.obs['core'] = adata.obs['core'].astype(str)"
   ]
  },
  {
   "cell_type": "code",
   "execution_count": 7,
   "metadata": {},
   "outputs": [],
   "source": []
  },
  {
   "cell_type": "code",
   "execution_count": 10,
   "metadata": {},
   "outputs": [],
   "source": []
  },
  {
   "cell_type": "code",
   "execution_count": 11,
   "metadata": {},
   "outputs": [
    {
     "data": {
      "text/plain": [
       "View of AnnData object with n_obs × n_vars = 86954 × 35 \n",
       "    obs: 'core', 'Disease', 'StudyID', 'patient'"
      ]
     },
     "execution_count": 11,
     "metadata": {},
     "output_type": "execute_result"
    }
   ],
   "source": [
    "adata"
   ]
  },
  {
   "cell_type": "code",
   "execution_count": 14,
   "metadata": {},
   "outputs": [
    {
     "name": "stderr",
     "output_type": "stream",
     "text": [
      "... storing 'core' as categorical\n",
      "... storing 'patient' as categorical\n"
     ]
    }
   ],
   "source": [
    "# Write Data\n",
    "adata.write(\"atcl.h5ad\")"
   ]
  },
  {
   "cell_type": "code",
   "execution_count": null,
   "metadata": {},
   "outputs": [],
   "source": []
  }
 ],
 "metadata": {
  "kernelspec": {
   "display_name": "Python 3",
   "language": "python",
   "name": "python3"
  },
  "language_info": {
   "codemirror_mode": {
    "name": "ipython",
    "version": 3
   },
   "file_extension": ".py",
   "mimetype": "text/x-python",
   "name": "python",
   "nbconvert_exporter": "python",
   "pygments_lexer": "ipython3",
   "version": "3.7.1"
  }
 },
 "nbformat": 4,
 "nbformat_minor": 2
}
